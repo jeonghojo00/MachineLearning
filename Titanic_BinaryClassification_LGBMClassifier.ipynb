{
 "cells": [
  {
   "cell_type": "code",
   "execution_count": 1,
   "id": "2644da04",
   "metadata": {
    "_cell_guid": "b1076dfc-b9ad-4769-8c92-a6c4dae69d19",
    "_uuid": "8f2839f25d086af736a60e9eeb907d3b93b6e0e5",
    "execution": {
     "iopub.execute_input": "2022-10-21T20:38:02.921230Z",
     "iopub.status.busy": "2022-10-21T20:38:02.920706Z",
     "iopub.status.idle": "2022-10-21T20:38:02.936741Z",
     "shell.execute_reply": "2022-10-21T20:38:02.935759Z"
    },
    "papermill": {
     "duration": 0.032663,
     "end_time": "2022-10-21T20:38:02.939894",
     "exception": false,
     "start_time": "2022-10-21T20:38:02.907231",
     "status": "completed"
    },
    "tags": []
   },
   "outputs": [
    {
     "name": "stdout",
     "output_type": "stream",
     "text": [
      "/kaggle/input/titanic/train.csv\n",
      "/kaggle/input/titanic/test.csv\n",
      "/kaggle/input/titanic/gender_submission.csv\n"
     ]
    }
   ],
   "source": [
    "# This Python 3 environment comes with many helpful analytics libraries installed\n",
    "# It is defined by the kaggle/python Docker image: https://github.com/kaggle/docker-python\n",
    "# For example, here's several helpful packages to load\n",
    "\n",
    "import numpy as np # linear algebra\n",
    "import pandas as pd # data processing, CSV file I/O (e.g. pd.read_csv)\n",
    "\n",
    "# Input data files are available in the read-only \"../input/\" directory\n",
    "# For example, running this (by clicking run or pressing Shift+Enter) will list all files under the input directory\n",
    "\n",
    "import os\n",
    "for dirname, _, filenames in os.walk('/kaggle/input'):\n",
    "    for filename in filenames:\n",
    "        print(os.path.join(dirname, filename))\n",
    "\n",
    "# You can write up to 20GB to the current directory (/kaggle/working/) that gets preserved as output when you create a version using \"Save & Run All\" \n",
    "# You can also write temporary files to /kaggle/temp/, but they won't be saved outside of the current session"
   ]
  },
  {
   "cell_type": "code",
   "execution_count": 2,
   "id": "902f4153",
   "metadata": {
    "execution": {
     "iopub.execute_input": "2022-10-21T20:38:02.965451Z",
     "iopub.status.busy": "2022-10-21T20:38:02.964630Z",
     "iopub.status.idle": "2022-10-21T20:38:03.047514Z",
     "shell.execute_reply": "2022-10-21T20:38:03.046043Z"
    },
    "papermill": {
     "duration": 0.098124,
     "end_time": "2022-10-21T20:38:03.050234",
     "exception": false,
     "start_time": "2022-10-21T20:38:02.952110",
     "status": "completed"
    },
    "tags": []
   },
   "outputs": [
    {
     "name": "stdout",
     "output_type": "stream",
     "text": [
      "Index(['PassengerId', 'Survived', 'Pclass', 'Name', 'Sex', 'Age', 'SibSp',\n",
      "       'Parch', 'Ticket', 'Fare', 'Cabin', 'Embarked'],\n",
      "      dtype='object')\n"
     ]
    },
    {
     "data": {
      "text/html": [
       "<div>\n",
       "<style scoped>\n",
       "    .dataframe tbody tr th:only-of-type {\n",
       "        vertical-align: middle;\n",
       "    }\n",
       "\n",
       "    .dataframe tbody tr th {\n",
       "        vertical-align: top;\n",
       "    }\n",
       "\n",
       "    .dataframe thead th {\n",
       "        text-align: right;\n",
       "    }\n",
       "</style>\n",
       "<table border=\"1\" class=\"dataframe\">\n",
       "  <thead>\n",
       "    <tr style=\"text-align: right;\">\n",
       "      <th></th>\n",
       "      <th>PassengerId</th>\n",
       "      <th>Survived</th>\n",
       "      <th>Pclass</th>\n",
       "      <th>Name</th>\n",
       "      <th>Sex</th>\n",
       "      <th>Age</th>\n",
       "      <th>SibSp</th>\n",
       "      <th>Parch</th>\n",
       "      <th>Ticket</th>\n",
       "      <th>Fare</th>\n",
       "      <th>Cabin</th>\n",
       "      <th>Embarked</th>\n",
       "    </tr>\n",
       "  </thead>\n",
       "  <tbody>\n",
       "    <tr>\n",
       "      <th>0</th>\n",
       "      <td>1</td>\n",
       "      <td>0</td>\n",
       "      <td>3</td>\n",
       "      <td>Braund, Mr. Owen Harris</td>\n",
       "      <td>male</td>\n",
       "      <td>22.0</td>\n",
       "      <td>1</td>\n",
       "      <td>0</td>\n",
       "      <td>A/5 21171</td>\n",
       "      <td>7.2500</td>\n",
       "      <td>NaN</td>\n",
       "      <td>S</td>\n",
       "    </tr>\n",
       "    <tr>\n",
       "      <th>1</th>\n",
       "      <td>2</td>\n",
       "      <td>1</td>\n",
       "      <td>1</td>\n",
       "      <td>Cumings, Mrs. John Bradley (Florence Briggs Th...</td>\n",
       "      <td>female</td>\n",
       "      <td>38.0</td>\n",
       "      <td>1</td>\n",
       "      <td>0</td>\n",
       "      <td>PC 17599</td>\n",
       "      <td>71.2833</td>\n",
       "      <td>C85</td>\n",
       "      <td>C</td>\n",
       "    </tr>\n",
       "    <tr>\n",
       "      <th>2</th>\n",
       "      <td>3</td>\n",
       "      <td>1</td>\n",
       "      <td>3</td>\n",
       "      <td>Heikkinen, Miss. Laina</td>\n",
       "      <td>female</td>\n",
       "      <td>26.0</td>\n",
       "      <td>0</td>\n",
       "      <td>0</td>\n",
       "      <td>STON/O2. 3101282</td>\n",
       "      <td>7.9250</td>\n",
       "      <td>NaN</td>\n",
       "      <td>S</td>\n",
       "    </tr>\n",
       "    <tr>\n",
       "      <th>3</th>\n",
       "      <td>4</td>\n",
       "      <td>1</td>\n",
       "      <td>1</td>\n",
       "      <td>Futrelle, Mrs. Jacques Heath (Lily May Peel)</td>\n",
       "      <td>female</td>\n",
       "      <td>35.0</td>\n",
       "      <td>1</td>\n",
       "      <td>0</td>\n",
       "      <td>113803</td>\n",
       "      <td>53.1000</td>\n",
       "      <td>C123</td>\n",
       "      <td>S</td>\n",
       "    </tr>\n",
       "    <tr>\n",
       "      <th>4</th>\n",
       "      <td>5</td>\n",
       "      <td>0</td>\n",
       "      <td>3</td>\n",
       "      <td>Allen, Mr. William Henry</td>\n",
       "      <td>male</td>\n",
       "      <td>35.0</td>\n",
       "      <td>0</td>\n",
       "      <td>0</td>\n",
       "      <td>373450</td>\n",
       "      <td>8.0500</td>\n",
       "      <td>NaN</td>\n",
       "      <td>S</td>\n",
       "    </tr>\n",
       "  </tbody>\n",
       "</table>\n",
       "</div>"
      ],
      "text/plain": [
       "   PassengerId  Survived  Pclass  \\\n",
       "0            1         0       3   \n",
       "1            2         1       1   \n",
       "2            3         1       3   \n",
       "3            4         1       1   \n",
       "4            5         0       3   \n",
       "\n",
       "                                                Name     Sex   Age  SibSp  \\\n",
       "0                            Braund, Mr. Owen Harris    male  22.0      1   \n",
       "1  Cumings, Mrs. John Bradley (Florence Briggs Th...  female  38.0      1   \n",
       "2                             Heikkinen, Miss. Laina  female  26.0      0   \n",
       "3       Futrelle, Mrs. Jacques Heath (Lily May Peel)  female  35.0      1   \n",
       "4                           Allen, Mr. William Henry    male  35.0      0   \n",
       "\n",
       "   Parch            Ticket     Fare Cabin Embarked  \n",
       "0      0         A/5 21171   7.2500   NaN        S  \n",
       "1      0          PC 17599  71.2833   C85        C  \n",
       "2      0  STON/O2. 3101282   7.9250   NaN        S  \n",
       "3      0            113803  53.1000  C123        S  \n",
       "4      0            373450   8.0500   NaN        S  "
      ]
     },
     "metadata": {},
     "output_type": "display_data"
    },
    {
     "data": {
      "text/html": [
       "<div>\n",
       "<style scoped>\n",
       "    .dataframe tbody tr th:only-of-type {\n",
       "        vertical-align: middle;\n",
       "    }\n",
       "\n",
       "    .dataframe tbody tr th {\n",
       "        vertical-align: top;\n",
       "    }\n",
       "\n",
       "    .dataframe thead th {\n",
       "        text-align: right;\n",
       "    }\n",
       "</style>\n",
       "<table border=\"1\" class=\"dataframe\">\n",
       "  <thead>\n",
       "    <tr style=\"text-align: right;\">\n",
       "      <th></th>\n",
       "      <th>PassengerId</th>\n",
       "      <th>Survived</th>\n",
       "    </tr>\n",
       "  </thead>\n",
       "  <tbody>\n",
       "    <tr>\n",
       "      <th>0</th>\n",
       "      <td>892</td>\n",
       "      <td>0</td>\n",
       "    </tr>\n",
       "    <tr>\n",
       "      <th>1</th>\n",
       "      <td>893</td>\n",
       "      <td>1</td>\n",
       "    </tr>\n",
       "    <tr>\n",
       "      <th>2</th>\n",
       "      <td>894</td>\n",
       "      <td>0</td>\n",
       "    </tr>\n",
       "    <tr>\n",
       "      <th>3</th>\n",
       "      <td>895</td>\n",
       "      <td>0</td>\n",
       "    </tr>\n",
       "    <tr>\n",
       "      <th>4</th>\n",
       "      <td>896</td>\n",
       "      <td>1</td>\n",
       "    </tr>\n",
       "  </tbody>\n",
       "</table>\n",
       "</div>"
      ],
      "text/plain": [
       "   PassengerId  Survived\n",
       "0          892         0\n",
       "1          893         1\n",
       "2          894         0\n",
       "3          895         0\n",
       "4          896         1"
      ]
     },
     "metadata": {},
     "output_type": "display_data"
    }
   ],
   "source": [
    "train_path = '../input/titanic/train.csv'\n",
    "test_path = '../input/titanic/test.csv'\n",
    "submission_path = '../input/titanic/gender_submission.csv'\n",
    "\n",
    "train_df = pd.read_csv(train_path)\n",
    "test_df = pd.read_csv(test_path)\n",
    "submission_df = pd.read_csv(submission_path)\n",
    "\n",
    "print(train_df.columns)\n",
    "display(train_df.head())\n",
    "display(submission_df.head())"
   ]
  },
  {
   "cell_type": "markdown",
   "id": "7d8d64ab",
   "metadata": {
    "papermill": {
     "duration": 0.011125,
     "end_time": "2022-10-21T20:38:03.072721",
     "exception": false,
     "start_time": "2022-10-21T20:38:03.061596",
     "status": "completed"
    },
    "tags": []
   },
   "source": [
    "Problem: Binary Classification </br>\n",
    "Methodology: Impelment classification model to predict whether 'Survived' or not based </br>\n",
    "    1. ticket class(Pclass)</br>\n",
    "    2. sex (Sex)</br>\n",
    "    3. # of siblings (SibSp)</br>\n",
    "    4. # of parents (Parch)</br>\n",
    "    5. Fare</br>\n",
    "    6. Cabin #</br>\n",
    "    7. Port of Embarkation (Embarked)</br>\n",
    "    \n",
    "'Survived' column will be used as target value (0=No, 1=Yes)\n",
    "\n"
   ]
  },
  {
   "cell_type": "markdown",
   "id": "8fde8d6e",
   "metadata": {
    "papermill": {
     "duration": 0.01122,
     "end_time": "2022-10-21T20:38:03.096542",
     "exception": false,
     "start_time": "2022-10-21T20:38:03.085322",
     "status": "completed"
    },
    "tags": []
   },
   "source": [
    "# Data Exploration"
   ]
  },
  {
   "cell_type": "code",
   "execution_count": 3,
   "id": "a445e757",
   "metadata": {
    "execution": {
     "iopub.execute_input": "2022-10-21T20:38:03.120003Z",
     "iopub.status.busy": "2022-10-21T20:38:03.119580Z",
     "iopub.status.idle": "2022-10-21T20:38:04.789273Z",
     "shell.execute_reply": "2022-10-21T20:38:04.787930Z"
    },
    "papermill": {
     "duration": 1.684475,
     "end_time": "2022-10-21T20:38:04.792129",
     "exception": false,
     "start_time": "2022-10-21T20:38:03.107654",
     "status": "completed"
    },
    "tags": []
   },
   "outputs": [],
   "source": [
    "import plotly.express as px\n",
    "import matplotlib.pyplot as plt"
   ]
  },
  {
   "cell_type": "code",
   "execution_count": 4,
   "id": "e03caf5f",
   "metadata": {
    "execution": {
     "iopub.execute_input": "2022-10-21T20:38:04.818290Z",
     "iopub.status.busy": "2022-10-21T20:38:04.816979Z",
     "iopub.status.idle": "2022-10-21T20:38:06.021877Z",
     "shell.execute_reply": "2022-10-21T20:38:06.020445Z"
    },
    "papermill": {
     "duration": 1.220435,
     "end_time": "2022-10-21T20:38:06.025026",
     "exception": false,
     "start_time": "2022-10-21T20:38:04.804591",
     "status": "completed"
    },
    "tags": []
   },
   "outputs": [
    {
     "data": {
      "text/html": [
       "        <script type=\"text/javascript\">\n",
       "        window.PlotlyConfig = {MathJaxConfig: 'local'};\n",
       "        if (window.MathJax && window.MathJax.Hub && window.MathJax.Hub.Config) {window.MathJax.Hub.Config({SVG: {font: \"STIX-Web\"}});}\n",
       "        if (typeof require !== 'undefined') {\n",
       "        require.undef(\"plotly\");\n",
       "        requirejs.config({\n",
       "            paths: {\n",
       "                'plotly': ['https://cdn.plot.ly/plotly-2.14.0.min']\n",
       "            }\n",
       "        });\n",
       "        require(['plotly'], function(Plotly) {\n",
       "            window._Plotly = Plotly;\n",
       "        });\n",
       "        }\n",
       "        </script>\n",
       "        "
      ]
     },
     "metadata": {},
     "output_type": "display_data"
    },
    {
     "data": {
      "text/html": [
       "<div>                            <div id=\"992341a3-ef6e-4ac4-8ccc-1dcda6704a6a\" class=\"plotly-graph-div\" style=\"height:400px; width:400px;\"></div>            <script type=\"text/javascript\">                require([\"plotly\"], function(Plotly) {                    window.PLOTLYENV=window.PLOTLYENV || {};                                    if (document.getElementById(\"992341a3-ef6e-4ac4-8ccc-1dcda6704a6a\")) {                    Plotly.newPlot(                        \"992341a3-ef6e-4ac4-8ccc-1dcda6704a6a\",                        [{\"domain\":{\"x\":[0.0,1.0],\"y\":[0.0,1.0]},\"hovertemplate\":\"label=%{label}<br>value=%{value}<extra></extra>\",\"labels\":[0,1],\"legendgroup\":\"\",\"name\":\"\",\"showlegend\":true,\"values\":[549,342],\"type\":\"pie\"}],                        {\"template\":{\"data\":{\"histogram2dcontour\":[{\"type\":\"histogram2dcontour\",\"colorbar\":{\"outlinewidth\":0,\"ticks\":\"\"},\"colorscale\":[[0.0,\"#0d0887\"],[0.1111111111111111,\"#46039f\"],[0.2222222222222222,\"#7201a8\"],[0.3333333333333333,\"#9c179e\"],[0.4444444444444444,\"#bd3786\"],[0.5555555555555556,\"#d8576b\"],[0.6666666666666666,\"#ed7953\"],[0.7777777777777778,\"#fb9f3a\"],[0.8888888888888888,\"#fdca26\"],[1.0,\"#f0f921\"]]}],\"choropleth\":[{\"type\":\"choropleth\",\"colorbar\":{\"outlinewidth\":0,\"ticks\":\"\"}}],\"histogram2d\":[{\"type\":\"histogram2d\",\"colorbar\":{\"outlinewidth\":0,\"ticks\":\"\"},\"colorscale\":[[0.0,\"#0d0887\"],[0.1111111111111111,\"#46039f\"],[0.2222222222222222,\"#7201a8\"],[0.3333333333333333,\"#9c179e\"],[0.4444444444444444,\"#bd3786\"],[0.5555555555555556,\"#d8576b\"],[0.6666666666666666,\"#ed7953\"],[0.7777777777777778,\"#fb9f3a\"],[0.8888888888888888,\"#fdca26\"],[1.0,\"#f0f921\"]]}],\"heatmap\":[{\"type\":\"heatmap\",\"colorbar\":{\"outlinewidth\":0,\"ticks\":\"\"},\"colorscale\":[[0.0,\"#0d0887\"],[0.1111111111111111,\"#46039f\"],[0.2222222222222222,\"#7201a8\"],[0.3333333333333333,\"#9c179e\"],[0.4444444444444444,\"#bd3786\"],[0.5555555555555556,\"#d8576b\"],[0.6666666666666666,\"#ed7953\"],[0.7777777777777778,\"#fb9f3a\"],[0.8888888888888888,\"#fdca26\"],[1.0,\"#f0f921\"]]}],\"heatmapgl\":[{\"type\":\"heatmapgl\",\"colorbar\":{\"outlinewidth\":0,\"ticks\":\"\"},\"colorscale\":[[0.0,\"#0d0887\"],[0.1111111111111111,\"#46039f\"],[0.2222222222222222,\"#7201a8\"],[0.3333333333333333,\"#9c179e\"],[0.4444444444444444,\"#bd3786\"],[0.5555555555555556,\"#d8576b\"],[0.6666666666666666,\"#ed7953\"],[0.7777777777777778,\"#fb9f3a\"],[0.8888888888888888,\"#fdca26\"],[1.0,\"#f0f921\"]]}],\"contourcarpet\":[{\"type\":\"contourcarpet\",\"colorbar\":{\"outlinewidth\":0,\"ticks\":\"\"}}],\"contour\":[{\"type\":\"contour\",\"colorbar\":{\"outlinewidth\":0,\"ticks\":\"\"},\"colorscale\":[[0.0,\"#0d0887\"],[0.1111111111111111,\"#46039f\"],[0.2222222222222222,\"#7201a8\"],[0.3333333333333333,\"#9c179e\"],[0.4444444444444444,\"#bd3786\"],[0.5555555555555556,\"#d8576b\"],[0.6666666666666666,\"#ed7953\"],[0.7777777777777778,\"#fb9f3a\"],[0.8888888888888888,\"#fdca26\"],[1.0,\"#f0f921\"]]}],\"surface\":[{\"type\":\"surface\",\"colorbar\":{\"outlinewidth\":0,\"ticks\":\"\"},\"colorscale\":[[0.0,\"#0d0887\"],[0.1111111111111111,\"#46039f\"],[0.2222222222222222,\"#7201a8\"],[0.3333333333333333,\"#9c179e\"],[0.4444444444444444,\"#bd3786\"],[0.5555555555555556,\"#d8576b\"],[0.6666666666666666,\"#ed7953\"],[0.7777777777777778,\"#fb9f3a\"],[0.8888888888888888,\"#fdca26\"],[1.0,\"#f0f921\"]]}],\"mesh3d\":[{\"type\":\"mesh3d\",\"colorbar\":{\"outlinewidth\":0,\"ticks\":\"\"}}],\"scatter\":[{\"fillpattern\":{\"fillmode\":\"overlay\",\"size\":10,\"solidity\":0.2},\"type\":\"scatter\"}],\"parcoords\":[{\"type\":\"parcoords\",\"line\":{\"colorbar\":{\"outlinewidth\":0,\"ticks\":\"\"}}}],\"scatterpolargl\":[{\"type\":\"scatterpolargl\",\"marker\":{\"colorbar\":{\"outlinewidth\":0,\"ticks\":\"\"}}}],\"bar\":[{\"error_x\":{\"color\":\"#2a3f5f\"},\"error_y\":{\"color\":\"#2a3f5f\"},\"marker\":{\"line\":{\"color\":\"#E5ECF6\",\"width\":0.5},\"pattern\":{\"fillmode\":\"overlay\",\"size\":10,\"solidity\":0.2}},\"type\":\"bar\"}],\"scattergeo\":[{\"type\":\"scattergeo\",\"marker\":{\"colorbar\":{\"outlinewidth\":0,\"ticks\":\"\"}}}],\"scatterpolar\":[{\"type\":\"scatterpolar\",\"marker\":{\"colorbar\":{\"outlinewidth\":0,\"ticks\":\"\"}}}],\"histogram\":[{\"marker\":{\"pattern\":{\"fillmode\":\"overlay\",\"size\":10,\"solidity\":0.2}},\"type\":\"histogram\"}],\"scattergl\":[{\"type\":\"scattergl\",\"marker\":{\"colorbar\":{\"outlinewidth\":0,\"ticks\":\"\"}}}],\"scatter3d\":[{\"type\":\"scatter3d\",\"line\":{\"colorbar\":{\"outlinewidth\":0,\"ticks\":\"\"}},\"marker\":{\"colorbar\":{\"outlinewidth\":0,\"ticks\":\"\"}}}],\"scattermapbox\":[{\"type\":\"scattermapbox\",\"marker\":{\"colorbar\":{\"outlinewidth\":0,\"ticks\":\"\"}}}],\"scatterternary\":[{\"type\":\"scatterternary\",\"marker\":{\"colorbar\":{\"outlinewidth\":0,\"ticks\":\"\"}}}],\"scattercarpet\":[{\"type\":\"scattercarpet\",\"marker\":{\"colorbar\":{\"outlinewidth\":0,\"ticks\":\"\"}}}],\"carpet\":[{\"aaxis\":{\"endlinecolor\":\"#2a3f5f\",\"gridcolor\":\"white\",\"linecolor\":\"white\",\"minorgridcolor\":\"white\",\"startlinecolor\":\"#2a3f5f\"},\"baxis\":{\"endlinecolor\":\"#2a3f5f\",\"gridcolor\":\"white\",\"linecolor\":\"white\",\"minorgridcolor\":\"white\",\"startlinecolor\":\"#2a3f5f\"},\"type\":\"carpet\"}],\"table\":[{\"cells\":{\"fill\":{\"color\":\"#EBF0F8\"},\"line\":{\"color\":\"white\"}},\"header\":{\"fill\":{\"color\":\"#C8D4E3\"},\"line\":{\"color\":\"white\"}},\"type\":\"table\"}],\"barpolar\":[{\"marker\":{\"line\":{\"color\":\"#E5ECF6\",\"width\":0.5},\"pattern\":{\"fillmode\":\"overlay\",\"size\":10,\"solidity\":0.2}},\"type\":\"barpolar\"}],\"pie\":[{\"automargin\":true,\"type\":\"pie\"}]},\"layout\":{\"autotypenumbers\":\"strict\",\"colorway\":[\"#636efa\",\"#EF553B\",\"#00cc96\",\"#ab63fa\",\"#FFA15A\",\"#19d3f3\",\"#FF6692\",\"#B6E880\",\"#FF97FF\",\"#FECB52\"],\"font\":{\"color\":\"#2a3f5f\"},\"hovermode\":\"closest\",\"hoverlabel\":{\"align\":\"left\"},\"paper_bgcolor\":\"white\",\"plot_bgcolor\":\"#E5ECF6\",\"polar\":{\"bgcolor\":\"#E5ECF6\",\"angularaxis\":{\"gridcolor\":\"white\",\"linecolor\":\"white\",\"ticks\":\"\"},\"radialaxis\":{\"gridcolor\":\"white\",\"linecolor\":\"white\",\"ticks\":\"\"}},\"ternary\":{\"bgcolor\":\"#E5ECF6\",\"aaxis\":{\"gridcolor\":\"white\",\"linecolor\":\"white\",\"ticks\":\"\"},\"baxis\":{\"gridcolor\":\"white\",\"linecolor\":\"white\",\"ticks\":\"\"},\"caxis\":{\"gridcolor\":\"white\",\"linecolor\":\"white\",\"ticks\":\"\"}},\"coloraxis\":{\"colorbar\":{\"outlinewidth\":0,\"ticks\":\"\"}},\"colorscale\":{\"sequential\":[[0.0,\"#0d0887\"],[0.1111111111111111,\"#46039f\"],[0.2222222222222222,\"#7201a8\"],[0.3333333333333333,\"#9c179e\"],[0.4444444444444444,\"#bd3786\"],[0.5555555555555556,\"#d8576b\"],[0.6666666666666666,\"#ed7953\"],[0.7777777777777778,\"#fb9f3a\"],[0.8888888888888888,\"#fdca26\"],[1.0,\"#f0f921\"]],\"sequentialminus\":[[0.0,\"#0d0887\"],[0.1111111111111111,\"#46039f\"],[0.2222222222222222,\"#7201a8\"],[0.3333333333333333,\"#9c179e\"],[0.4444444444444444,\"#bd3786\"],[0.5555555555555556,\"#d8576b\"],[0.6666666666666666,\"#ed7953\"],[0.7777777777777778,\"#fb9f3a\"],[0.8888888888888888,\"#fdca26\"],[1.0,\"#f0f921\"]],\"diverging\":[[0,\"#8e0152\"],[0.1,\"#c51b7d\"],[0.2,\"#de77ae\"],[0.3,\"#f1b6da\"],[0.4,\"#fde0ef\"],[0.5,\"#f7f7f7\"],[0.6,\"#e6f5d0\"],[0.7,\"#b8e186\"],[0.8,\"#7fbc41\"],[0.9,\"#4d9221\"],[1,\"#276419\"]]},\"xaxis\":{\"gridcolor\":\"white\",\"linecolor\":\"white\",\"ticks\":\"\",\"title\":{\"standoff\":15},\"zerolinecolor\":\"white\",\"automargin\":true,\"zerolinewidth\":2},\"yaxis\":{\"gridcolor\":\"white\",\"linecolor\":\"white\",\"ticks\":\"\",\"title\":{\"standoff\":15},\"zerolinecolor\":\"white\",\"automargin\":true,\"zerolinewidth\":2},\"scene\":{\"xaxis\":{\"backgroundcolor\":\"#E5ECF6\",\"gridcolor\":\"white\",\"linecolor\":\"white\",\"showbackground\":true,\"ticks\":\"\",\"zerolinecolor\":\"white\",\"gridwidth\":2},\"yaxis\":{\"backgroundcolor\":\"#E5ECF6\",\"gridcolor\":\"white\",\"linecolor\":\"white\",\"showbackground\":true,\"ticks\":\"\",\"zerolinecolor\":\"white\",\"gridwidth\":2},\"zaxis\":{\"backgroundcolor\":\"#E5ECF6\",\"gridcolor\":\"white\",\"linecolor\":\"white\",\"showbackground\":true,\"ticks\":\"\",\"zerolinecolor\":\"white\",\"gridwidth\":2}},\"shapedefaults\":{\"line\":{\"color\":\"#2a3f5f\"}},\"annotationdefaults\":{\"arrowcolor\":\"#2a3f5f\",\"arrowhead\":0,\"arrowwidth\":1},\"geo\":{\"bgcolor\":\"white\",\"landcolor\":\"#E5ECF6\",\"subunitcolor\":\"white\",\"showland\":true,\"showlakes\":true,\"lakecolor\":\"white\"},\"title\":{\"x\":0.05},\"mapbox\":{\"style\":\"light\"}}},\"legend\":{\"tracegroupgap\":0},\"title\":{\"text\":\"Survived\"},\"height\":400,\"width\":400},                        {\"responsive\": true}                    ).then(function(){\n",
       "                            \n",
       "var gd = document.getElementById('992341a3-ef6e-4ac4-8ccc-1dcda6704a6a');\n",
       "var x = new MutationObserver(function (mutations, observer) {{\n",
       "        var display = window.getComputedStyle(gd).display;\n",
       "        if (!display || display === 'none') {{\n",
       "            console.log([gd, 'removed!']);\n",
       "            Plotly.purge(gd);\n",
       "            observer.disconnect();\n",
       "        }}\n",
       "}});\n",
       "\n",
       "// Listen for the removal of the full notebook cells\n",
       "var notebookContainer = gd.closest('#notebook-container');\n",
       "if (notebookContainer) {{\n",
       "    x.observe(notebookContainer, {childList: true});\n",
       "}}\n",
       "\n",
       "// Listen for the clearing of the current output cell\n",
       "var outputEl = gd.closest('.output');\n",
       "if (outputEl) {{\n",
       "    x.observe(outputEl, {childList: true});\n",
       "}}\n",
       "\n",
       "                        })                };                });            </script>        </div>"
      ]
     },
     "metadata": {},
     "output_type": "display_data"
    }
   ],
   "source": [
    "#Checking the Survived Distribution\n",
    "fig_Sex = px.pie(train_df, \n",
    "                 names = train_df['Survived'].value_counts().reset_index().index,\n",
    "                 values = train_df['Survived'].value_counts().reset_index().Survived, \n",
    "                 title = 'Survived', width=400, height=400) \n",
    "fig_Sex.show()"
   ]
  },
  {
   "cell_type": "markdown",
   "id": "6ee55452",
   "metadata": {
    "papermill": {
     "duration": 0.010974,
     "end_time": "2022-10-21T20:38:06.048248",
     "exception": false,
     "start_time": "2022-10-21T20:38:06.037274",
     "status": "completed"
    },
    "tags": []
   },
   "source": [
    "It is about 60:40 ratio and it is not strictly imbalanced dataset. </br>\n",
    "We may measure the classification with either F-1 score or ROC AUC"
   ]
  },
  {
   "cell_type": "code",
   "execution_count": 5,
   "id": "51559272",
   "metadata": {
    "execution": {
     "iopub.execute_input": "2022-10-21T20:38:06.072641Z",
     "iopub.status.busy": "2022-10-21T20:38:06.071808Z",
     "iopub.status.idle": "2022-10-21T20:38:06.233555Z",
     "shell.execute_reply": "2022-10-21T20:38:06.232297Z"
    },
    "papermill": {
     "duration": 0.177613,
     "end_time": "2022-10-21T20:38:06.236625",
     "exception": false,
     "start_time": "2022-10-21T20:38:06.059012",
     "status": "completed"
    },
    "tags": []
   },
   "outputs": [
    {
     "name": "stdout",
     "output_type": "stream",
     "text": [
      "---------Sex------------\n",
      "Sex       female  male\n",
      "Survived              \n",
      "0             81   468\n",
      "1            233   109\n"
     ]
    },
    {
     "data": {
      "text/html": [
       "<div>                            <div id=\"ab8f7d83-0194-4c48-b7c8-98ad00c8a3a4\" class=\"plotly-graph-div\" style=\"height:400px; width:400px;\"></div>            <script type=\"text/javascript\">                require([\"plotly\"], function(Plotly) {                    window.PLOTLYENV=window.PLOTLYENV || {};                                    if (document.getElementById(\"ab8f7d83-0194-4c48-b7c8-98ad00c8a3a4\")) {                    Plotly.newPlot(                        \"ab8f7d83-0194-4c48-b7c8-98ad00c8a3a4\",                        [{\"alignmentgroup\":\"True\",\"bingroup\":\"x\",\"hovertemplate\":\"Survived=0<br>Sex=%{x}<br>count=%{y}<extra></extra>\",\"legendgroup\":\"0\",\"marker\":{\"color\":\"#636efa\",\"pattern\":{\"shape\":\"\"}},\"name\":\"0\",\"offsetgroup\":\"0\",\"orientation\":\"v\",\"showlegend\":true,\"x\":[\"male\",\"male\",\"male\",\"male\",\"male\",\"male\",\"male\",\"female\",\"male\",\"female\",\"male\",\"female\",\"male\",\"male\",\"male\",\"male\",\"male\",\"male\",\"male\",\"male\",\"female\",\"female\",\"female\",\"male\",\"male\",\"male\",\"male\",\"female\",\"male\",\"male\",\"male\",\"male\",\"male\",\"male\",\"male\",\"male\",\"male\",\"male\",\"male\",\"male\",\"female\",\"male\",\"male\",\"male\",\"male\",\"male\",\"male\",\"male\",\"male\",\"male\",\"male\",\"male\",\"male\",\"male\",\"male\",\"male\",\"male\",\"male\",\"male\",\"female\",\"male\",\"male\",\"male\",\"male\",\"male\",\"male\",\"male\",\"female\",\"male\",\"female\",\"female\",\"male\",\"male\",\"male\",\"male\",\"female\",\"male\",\"male\",\"male\",\"male\",\"male\",\"male\",\"male\",\"male\",\"female\",\"male\",\"male\",\"male\",\"male\",\"male\",\"female\",\"male\",\"male\",\"male\",\"female\",\"male\",\"male\",\"male\",\"male\",\"male\",\"male\",\"male\",\"male\",\"male\",\"male\",\"male\",\"male\",\"male\",\"male\",\"female\",\"male\",\"male\",\"male\",\"male\",\"male\",\"male\",\"male\",\"male\",\"female\",\"male\",\"male\",\"female\",\"male\",\"male\",\"male\",\"male\",\"male\",\"male\",\"male\",\"male\",\"female\",\"male\",\"male\",\"male\",\"male\",\"female\",\"male\",\"male\",\"male\",\"male\",\"male\",\"male\",\"male\",\"male\",\"male\",\"male\",\"male\",\"male\",\"male\",\"female\",\"male\",\"male\",\"male\",\"female\",\"male\",\"male\",\"male\",\"female\",\"male\",\"male\",\"male\",\"male\",\"female\",\"male\",\"male\",\"female\",\"male\",\"male\",\"female\",\"male\",\"male\",\"male\",\"female\",\"male\",\"male\",\"male\",\"male\",\"female\",\"male\",\"male\",\"male\",\"male\",\"male\",\"male\",\"male\",\"male\",\"male\",\"female\",\"male\",\"male\",\"male\",\"female\",\"male\",\"male\",\"male\",\"female\",\"male\",\"male\",\"male\",\"male\",\"male\",\"male\",\"male\",\"male\",\"male\",\"male\",\"male\",\"male\",\"male\",\"male\",\"male\",\"male\",\"male\",\"male\",\"male\",\"male\",\"male\",\"male\",\"male\",\"female\",\"male\",\"male\",\"female\",\"male\",\"male\",\"male\",\"male\",\"male\",\"male\",\"female\",\"male\",\"male\",\"male\",\"male\",\"male\",\"male\",\"male\",\"male\",\"male\",\"male\",\"female\",\"male\",\"male\",\"male\",\"female\",\"male\",\"female\",\"male\",\"male\",\"male\",\"female\",\"male\",\"male\",\"male\",\"female\",\"male\",\"female\",\"male\",\"male\",\"male\",\"female\",\"male\",\"male\",\"male\",\"male\",\"male\",\"female\",\"male\",\"male\",\"male\",\"male\",\"male\",\"male\",\"male\",\"male\",\"male\",\"male\",\"male\",\"male\",\"male\",\"male\",\"male\",\"male\",\"male\",\"male\",\"male\",\"male\",\"female\",\"male\",\"male\",\"male\",\"male\",\"male\",\"male\",\"male\",\"female\",\"male\",\"male\",\"male\",\"male\",\"male\",\"male\",\"male\",\"male\",\"male\",\"female\",\"male\",\"male\",\"female\",\"female\",\"female\",\"male\",\"male\",\"male\",\"male\",\"male\",\"male\",\"male\",\"male\",\"male\",\"male\",\"male\",\"male\",\"male\",\"male\",\"male\",\"male\",\"female\",\"male\",\"male\",\"female\",\"female\",\"male\",\"male\",\"male\",\"male\",\"male\",\"male\",\"male\",\"male\",\"male\",\"male\",\"male\",\"female\",\"male\",\"male\",\"female\",\"male\",\"male\",\"male\",\"female\",\"male\",\"male\",\"male\",\"male\",\"male\",\"male\",\"male\",\"male\",\"female\",\"male\",\"male\",\"male\",\"male\",\"male\",\"male\",\"male\",\"male\",\"male\",\"female\",\"male\",\"male\",\"male\",\"male\",\"female\",\"male\",\"male\",\"male\",\"male\",\"male\",\"male\",\"male\",\"male\",\"male\",\"male\",\"female\",\"male\",\"male\",\"female\",\"male\",\"male\",\"female\",\"male\",\"male\",\"male\",\"male\",\"female\",\"male\",\"male\",\"female\",\"male\",\"male\",\"male\",\"male\",\"male\",\"male\",\"male\",\"male\",\"male\",\"male\",\"male\",\"male\",\"male\",\"male\",\"female\",\"female\",\"male\",\"male\",\"male\",\"male\",\"male\",\"male\",\"male\",\"male\",\"male\",\"male\",\"male\",\"male\",\"male\",\"female\",\"male\",\"male\",\"male\",\"male\",\"male\",\"male\",\"male\",\"male\",\"male\",\"male\",\"male\",\"male\",\"male\",\"male\",\"female\",\"male\",\"male\",\"male\",\"male\",\"male\",\"female\",\"male\",\"male\",\"male\",\"male\",\"male\",\"male\",\"male\",\"male\",\"male\",\"male\",\"male\",\"male\",\"male\",\"male\",\"male\",\"male\",\"male\",\"female\",\"male\",\"male\",\"male\",\"male\",\"female\",\"male\",\"male\",\"male\",\"male\",\"male\",\"male\",\"male\",\"male\",\"male\",\"male\",\"male\",\"male\",\"female\",\"male\",\"male\",\"male\",\"male\",\"female\",\"male\",\"male\",\"male\",\"female\",\"male\",\"male\",\"male\",\"male\",\"female\",\"male\",\"male\",\"female\",\"male\",\"male\",\"male\",\"male\",\"male\",\"male\",\"male\",\"male\",\"male\",\"male\",\"male\",\"male\",\"male\",\"male\",\"male\",\"male\",\"male\",\"male\",\"male\",\"male\",\"male\",\"male\",\"female\",\"female\",\"male\",\"male\",\"male\",\"female\",\"male\",\"male\",\"male\",\"male\",\"male\",\"male\",\"male\",\"male\",\"male\",\"male\",\"female\",\"male\",\"male\",\"female\",\"male\",\"female\",\"male\"],\"xaxis\":\"x\",\"yaxis\":\"y\",\"type\":\"histogram\"},{\"alignmentgroup\":\"True\",\"bingroup\":\"x\",\"hovertemplate\":\"Survived=1<br>Sex=%{x}<br>count=%{y}<extra></extra>\",\"legendgroup\":\"1\",\"marker\":{\"color\":\"#EF553B\",\"pattern\":{\"shape\":\"\"}},\"name\":\"1\",\"offsetgroup\":\"1\",\"orientation\":\"v\",\"showlegend\":true,\"x\":[\"female\",\"female\",\"female\",\"female\",\"female\",\"female\",\"female\",\"female\",\"male\",\"female\",\"male\",\"female\",\"male\",\"female\",\"female\",\"female\",\"female\",\"male\",\"female\",\"female\",\"female\",\"female\",\"female\",\"female\",\"male\",\"female\",\"female\",\"female\",\"male\",\"female\",\"female\",\"male\",\"male\",\"female\",\"male\",\"female\",\"female\",\"female\",\"female\",\"male\",\"female\",\"female\",\"male\",\"female\",\"female\",\"male\",\"male\",\"female\",\"female\",\"female\",\"female\",\"female\",\"male\",\"female\",\"female\",\"female\",\"male\",\"female\",\"female\",\"male\",\"female\",\"female\",\"male\",\"female\",\"female\",\"male\",\"female\",\"female\",\"female\",\"male\",\"male\",\"female\",\"male\",\"female\",\"female\",\"female\",\"female\",\"male\",\"male\",\"male\",\"female\",\"female\",\"female\",\"female\",\"female\",\"male\",\"female\",\"female\",\"female\",\"female\",\"female\",\"male\",\"male\",\"female\",\"female\",\"male\",\"female\",\"female\",\"female\",\"female\",\"male\",\"male\",\"male\",\"female\",\"female\",\"female\",\"male\",\"female\",\"female\",\"male\",\"female\",\"male\",\"female\",\"female\",\"female\",\"female\",\"female\",\"female\",\"female\",\"female\",\"female\",\"female\",\"female\",\"female\",\"female\",\"female\",\"female\",\"female\",\"female\",\"female\",\"male\",\"male\",\"female\",\"female\",\"female\",\"female\",\"male\",\"female\",\"female\",\"female\",\"female\",\"female\",\"female\",\"female\",\"male\",\"female\",\"female\",\"female\",\"female\",\"female\",\"female\",\"female\",\"male\",\"male\",\"female\",\"female\",\"female\",\"male\",\"male\",\"female\",\"male\",\"female\",\"female\",\"female\",\"female\",\"male\",\"male\",\"female\",\"female\",\"female\",\"female\",\"female\",\"female\",\"male\",\"male\",\"female\",\"male\",\"female\",\"male\",\"male\",\"male\",\"female\",\"female\",\"male\",\"female\",\"female\",\"female\",\"female\",\"female\",\"male\",\"female\",\"male\",\"female\",\"female\",\"female\",\"male\",\"male\",\"male\",\"male\",\"female\",\"female\",\"female\",\"female\",\"female\",\"female\",\"female\",\"female\",\"female\",\"female\",\"female\",\"female\",\"male\",\"female\",\"male\",\"male\",\"male\",\"male\",\"female\",\"female\",\"female\",\"female\",\"male\",\"male\",\"female\",\"male\",\"female\",\"female\",\"female\",\"male\",\"female\",\"female\",\"female\",\"male\",\"female\",\"female\",\"male\",\"female\",\"male\",\"male\",\"female\",\"female\",\"female\",\"female\",\"female\",\"male\",\"male\",\"female\",\"male\",\"male\",\"female\",\"female\",\"male\",\"female\",\"male\",\"male\",\"female\",\"female\",\"female\",\"male\",\"male\",\"female\",\"female\",\"male\",\"female\",\"male\",\"male\",\"female\",\"male\",\"female\",\"male\",\"female\",\"female\",\"male\",\"female\",\"male\",\"female\",\"male\",\"female\",\"male\",\"female\",\"female\",\"female\",\"male\",\"female\",\"female\",\"female\",\"male\",\"male\",\"female\",\"male\",\"female\",\"female\",\"male\",\"female\",\"male\",\"female\",\"male\",\"female\",\"female\",\"female\",\"female\",\"female\",\"female\",\"female\",\"female\",\"male\",\"female\",\"female\",\"female\",\"male\",\"male\",\"male\",\"female\",\"female\",\"male\",\"female\",\"male\",\"male\",\"female\",\"female\",\"male\",\"female\",\"male\",\"male\",\"female\",\"female\",\"female\",\"female\",\"female\",\"male\",\"female\",\"female\",\"female\",\"female\",\"male\",\"female\",\"female\",\"female\",\"female\",\"female\",\"female\",\"male\"],\"xaxis\":\"x\",\"yaxis\":\"y\",\"type\":\"histogram\"}],                        {\"template\":{\"data\":{\"histogram2dcontour\":[{\"type\":\"histogram2dcontour\",\"colorbar\":{\"outlinewidth\":0,\"ticks\":\"\"},\"colorscale\":[[0.0,\"#0d0887\"],[0.1111111111111111,\"#46039f\"],[0.2222222222222222,\"#7201a8\"],[0.3333333333333333,\"#9c179e\"],[0.4444444444444444,\"#bd3786\"],[0.5555555555555556,\"#d8576b\"],[0.6666666666666666,\"#ed7953\"],[0.7777777777777778,\"#fb9f3a\"],[0.8888888888888888,\"#fdca26\"],[1.0,\"#f0f921\"]]}],\"choropleth\":[{\"type\":\"choropleth\",\"colorbar\":{\"outlinewidth\":0,\"ticks\":\"\"}}],\"histogram2d\":[{\"type\":\"histogram2d\",\"colorbar\":{\"outlinewidth\":0,\"ticks\":\"\"},\"colorscale\":[[0.0,\"#0d0887\"],[0.1111111111111111,\"#46039f\"],[0.2222222222222222,\"#7201a8\"],[0.3333333333333333,\"#9c179e\"],[0.4444444444444444,\"#bd3786\"],[0.5555555555555556,\"#d8576b\"],[0.6666666666666666,\"#ed7953\"],[0.7777777777777778,\"#fb9f3a\"],[0.8888888888888888,\"#fdca26\"],[1.0,\"#f0f921\"]]}],\"heatmap\":[{\"type\":\"heatmap\",\"colorbar\":{\"outlinewidth\":0,\"ticks\":\"\"},\"colorscale\":[[0.0,\"#0d0887\"],[0.1111111111111111,\"#46039f\"],[0.2222222222222222,\"#7201a8\"],[0.3333333333333333,\"#9c179e\"],[0.4444444444444444,\"#bd3786\"],[0.5555555555555556,\"#d8576b\"],[0.6666666666666666,\"#ed7953\"],[0.7777777777777778,\"#fb9f3a\"],[0.8888888888888888,\"#fdca26\"],[1.0,\"#f0f921\"]]}],\"heatmapgl\":[{\"type\":\"heatmapgl\",\"colorbar\":{\"outlinewidth\":0,\"ticks\":\"\"},\"colorscale\":[[0.0,\"#0d0887\"],[0.1111111111111111,\"#46039f\"],[0.2222222222222222,\"#7201a8\"],[0.3333333333333333,\"#9c179e\"],[0.4444444444444444,\"#bd3786\"],[0.5555555555555556,\"#d8576b\"],[0.6666666666666666,\"#ed7953\"],[0.7777777777777778,\"#fb9f3a\"],[0.8888888888888888,\"#fdca26\"],[1.0,\"#f0f921\"]]}],\"contourcarpet\":[{\"type\":\"contourcarpet\",\"colorbar\":{\"outlinewidth\":0,\"ticks\":\"\"}}],\"contour\":[{\"type\":\"contour\",\"colorbar\":{\"outlinewidth\":0,\"ticks\":\"\"},\"colorscale\":[[0.0,\"#0d0887\"],[0.1111111111111111,\"#46039f\"],[0.2222222222222222,\"#7201a8\"],[0.3333333333333333,\"#9c179e\"],[0.4444444444444444,\"#bd3786\"],[0.5555555555555556,\"#d8576b\"],[0.6666666666666666,\"#ed7953\"],[0.7777777777777778,\"#fb9f3a\"],[0.8888888888888888,\"#fdca26\"],[1.0,\"#f0f921\"]]}],\"surface\":[{\"type\":\"surface\",\"colorbar\":{\"outlinewidth\":0,\"ticks\":\"\"},\"colorscale\":[[0.0,\"#0d0887\"],[0.1111111111111111,\"#46039f\"],[0.2222222222222222,\"#7201a8\"],[0.3333333333333333,\"#9c179e\"],[0.4444444444444444,\"#bd3786\"],[0.5555555555555556,\"#d8576b\"],[0.6666666666666666,\"#ed7953\"],[0.7777777777777778,\"#fb9f3a\"],[0.8888888888888888,\"#fdca26\"],[1.0,\"#f0f921\"]]}],\"mesh3d\":[{\"type\":\"mesh3d\",\"colorbar\":{\"outlinewidth\":0,\"ticks\":\"\"}}],\"scatter\":[{\"fillpattern\":{\"fillmode\":\"overlay\",\"size\":10,\"solidity\":0.2},\"type\":\"scatter\"}],\"parcoords\":[{\"type\":\"parcoords\",\"line\":{\"colorbar\":{\"outlinewidth\":0,\"ticks\":\"\"}}}],\"scatterpolargl\":[{\"type\":\"scatterpolargl\",\"marker\":{\"colorbar\":{\"outlinewidth\":0,\"ticks\":\"\"}}}],\"bar\":[{\"error_x\":{\"color\":\"#2a3f5f\"},\"error_y\":{\"color\":\"#2a3f5f\"},\"marker\":{\"line\":{\"color\":\"#E5ECF6\",\"width\":0.5},\"pattern\":{\"fillmode\":\"overlay\",\"size\":10,\"solidity\":0.2}},\"type\":\"bar\"}],\"scattergeo\":[{\"type\":\"scattergeo\",\"marker\":{\"colorbar\":{\"outlinewidth\":0,\"ticks\":\"\"}}}],\"scatterpolar\":[{\"type\":\"scatterpolar\",\"marker\":{\"colorbar\":{\"outlinewidth\":0,\"ticks\":\"\"}}}],\"histogram\":[{\"marker\":{\"pattern\":{\"fillmode\":\"overlay\",\"size\":10,\"solidity\":0.2}},\"type\":\"histogram\"}],\"scattergl\":[{\"type\":\"scattergl\",\"marker\":{\"colorbar\":{\"outlinewidth\":0,\"ticks\":\"\"}}}],\"scatter3d\":[{\"type\":\"scatter3d\",\"line\":{\"colorbar\":{\"outlinewidth\":0,\"ticks\":\"\"}},\"marker\":{\"colorbar\":{\"outlinewidth\":0,\"ticks\":\"\"}}}],\"scattermapbox\":[{\"type\":\"scattermapbox\",\"marker\":{\"colorbar\":{\"outlinewidth\":0,\"ticks\":\"\"}}}],\"scatterternary\":[{\"type\":\"scatterternary\",\"marker\":{\"colorbar\":{\"outlinewidth\":0,\"ticks\":\"\"}}}],\"scattercarpet\":[{\"type\":\"scattercarpet\",\"marker\":{\"colorbar\":{\"outlinewidth\":0,\"ticks\":\"\"}}}],\"carpet\":[{\"aaxis\":{\"endlinecolor\":\"#2a3f5f\",\"gridcolor\":\"white\",\"linecolor\":\"white\",\"minorgridcolor\":\"white\",\"startlinecolor\":\"#2a3f5f\"},\"baxis\":{\"endlinecolor\":\"#2a3f5f\",\"gridcolor\":\"white\",\"linecolor\":\"white\",\"minorgridcolor\":\"white\",\"startlinecolor\":\"#2a3f5f\"},\"type\":\"carpet\"}],\"table\":[{\"cells\":{\"fill\":{\"color\":\"#EBF0F8\"},\"line\":{\"color\":\"white\"}},\"header\":{\"fill\":{\"color\":\"#C8D4E3\"},\"line\":{\"color\":\"white\"}},\"type\":\"table\"}],\"barpolar\":[{\"marker\":{\"line\":{\"color\":\"#E5ECF6\",\"width\":0.5},\"pattern\":{\"fillmode\":\"overlay\",\"size\":10,\"solidity\":0.2}},\"type\":\"barpolar\"}],\"pie\":[{\"automargin\":true,\"type\":\"pie\"}]},\"layout\":{\"autotypenumbers\":\"strict\",\"colorway\":[\"#636efa\",\"#EF553B\",\"#00cc96\",\"#ab63fa\",\"#FFA15A\",\"#19d3f3\",\"#FF6692\",\"#B6E880\",\"#FF97FF\",\"#FECB52\"],\"font\":{\"color\":\"#2a3f5f\"},\"hovermode\":\"closest\",\"hoverlabel\":{\"align\":\"left\"},\"paper_bgcolor\":\"white\",\"plot_bgcolor\":\"#E5ECF6\",\"polar\":{\"bgcolor\":\"#E5ECF6\",\"angularaxis\":{\"gridcolor\":\"white\",\"linecolor\":\"white\",\"ticks\":\"\"},\"radialaxis\":{\"gridcolor\":\"white\",\"linecolor\":\"white\",\"ticks\":\"\"}},\"ternary\":{\"bgcolor\":\"#E5ECF6\",\"aaxis\":{\"gridcolor\":\"white\",\"linecolor\":\"white\",\"ticks\":\"\"},\"baxis\":{\"gridcolor\":\"white\",\"linecolor\":\"white\",\"ticks\":\"\"},\"caxis\":{\"gridcolor\":\"white\",\"linecolor\":\"white\",\"ticks\":\"\"}},\"coloraxis\":{\"colorbar\":{\"outlinewidth\":0,\"ticks\":\"\"}},\"colorscale\":{\"sequential\":[[0.0,\"#0d0887\"],[0.1111111111111111,\"#46039f\"],[0.2222222222222222,\"#7201a8\"],[0.3333333333333333,\"#9c179e\"],[0.4444444444444444,\"#bd3786\"],[0.5555555555555556,\"#d8576b\"],[0.6666666666666666,\"#ed7953\"],[0.7777777777777778,\"#fb9f3a\"],[0.8888888888888888,\"#fdca26\"],[1.0,\"#f0f921\"]],\"sequentialminus\":[[0.0,\"#0d0887\"],[0.1111111111111111,\"#46039f\"],[0.2222222222222222,\"#7201a8\"],[0.3333333333333333,\"#9c179e\"],[0.4444444444444444,\"#bd3786\"],[0.5555555555555556,\"#d8576b\"],[0.6666666666666666,\"#ed7953\"],[0.7777777777777778,\"#fb9f3a\"],[0.8888888888888888,\"#fdca26\"],[1.0,\"#f0f921\"]],\"diverging\":[[0,\"#8e0152\"],[0.1,\"#c51b7d\"],[0.2,\"#de77ae\"],[0.3,\"#f1b6da\"],[0.4,\"#fde0ef\"],[0.5,\"#f7f7f7\"],[0.6,\"#e6f5d0\"],[0.7,\"#b8e186\"],[0.8,\"#7fbc41\"],[0.9,\"#4d9221\"],[1,\"#276419\"]]},\"xaxis\":{\"gridcolor\":\"white\",\"linecolor\":\"white\",\"ticks\":\"\",\"title\":{\"standoff\":15},\"zerolinecolor\":\"white\",\"automargin\":true,\"zerolinewidth\":2},\"yaxis\":{\"gridcolor\":\"white\",\"linecolor\":\"white\",\"ticks\":\"\",\"title\":{\"standoff\":15},\"zerolinecolor\":\"white\",\"automargin\":true,\"zerolinewidth\":2},\"scene\":{\"xaxis\":{\"backgroundcolor\":\"#E5ECF6\",\"gridcolor\":\"white\",\"linecolor\":\"white\",\"showbackground\":true,\"ticks\":\"\",\"zerolinecolor\":\"white\",\"gridwidth\":2},\"yaxis\":{\"backgroundcolor\":\"#E5ECF6\",\"gridcolor\":\"white\",\"linecolor\":\"white\",\"showbackground\":true,\"ticks\":\"\",\"zerolinecolor\":\"white\",\"gridwidth\":2},\"zaxis\":{\"backgroundcolor\":\"#E5ECF6\",\"gridcolor\":\"white\",\"linecolor\":\"white\",\"showbackground\":true,\"ticks\":\"\",\"zerolinecolor\":\"white\",\"gridwidth\":2}},\"shapedefaults\":{\"line\":{\"color\":\"#2a3f5f\"}},\"annotationdefaults\":{\"arrowcolor\":\"#2a3f5f\",\"arrowhead\":0,\"arrowwidth\":1},\"geo\":{\"bgcolor\":\"white\",\"landcolor\":\"#E5ECF6\",\"subunitcolor\":\"white\",\"showland\":true,\"showlakes\":true,\"lakecolor\":\"white\"},\"title\":{\"x\":0.05},\"mapbox\":{\"style\":\"light\"}}},\"xaxis\":{\"anchor\":\"y\",\"domain\":[0.0,1.0],\"title\":{\"text\":\"Sex\"}},\"yaxis\":{\"anchor\":\"x\",\"domain\":[0.0,1.0],\"title\":{\"text\":\"count\"}},\"legend\":{\"title\":{\"text\":\"Survived\"},\"tracegroupgap\":0},\"title\":{\"text\":\"Sex\"},\"barmode\":\"group\",\"height\":400,\"width\":400},                        {\"responsive\": true}                    ).then(function(){\n",
       "                            \n",
       "var gd = document.getElementById('ab8f7d83-0194-4c48-b7c8-98ad00c8a3a4');\n",
       "var x = new MutationObserver(function (mutations, observer) {{\n",
       "        var display = window.getComputedStyle(gd).display;\n",
       "        if (!display || display === 'none') {{\n",
       "            console.log([gd, 'removed!']);\n",
       "            Plotly.purge(gd);\n",
       "            observer.disconnect();\n",
       "        }}\n",
       "}});\n",
       "\n",
       "// Listen for the removal of the full notebook cells\n",
       "var notebookContainer = gd.closest('#notebook-container');\n",
       "if (notebookContainer) {{\n",
       "    x.observe(notebookContainer, {childList: true});\n",
       "}}\n",
       "\n",
       "// Listen for the clearing of the current output cell\n",
       "var outputEl = gd.closest('.output');\n",
       "if (outputEl) {{\n",
       "    x.observe(outputEl, {childList: true});\n",
       "}}\n",
       "\n",
       "                        })                };                });            </script>        </div>"
      ]
     },
     "metadata": {},
     "output_type": "display_data"
    }
   ],
   "source": [
    "print(\"---------Sex------------\")\n",
    "print(pd.pivot_table(train_df, index='Survived', columns='Sex', values='PassengerId', aggfunc='count'))\n",
    "#Checking the Age of the population\n",
    "fig_Sex = px.histogram(train_df, x=\"Sex\", color=\"Survived\",\n",
    "                       title = 'Sex', width=400, height=400, barmode='group') \n",
    "fig_Sex.show()"
   ]
  },
  {
   "cell_type": "code",
   "execution_count": 6,
   "id": "d77b86f7",
   "metadata": {
    "execution": {
     "iopub.execute_input": "2022-10-21T20:38:06.261806Z",
     "iopub.status.busy": "2022-10-21T20:38:06.260711Z",
     "iopub.status.idle": "2022-10-21T20:38:06.341940Z",
     "shell.execute_reply": "2022-10-21T20:38:06.340579Z"
    },
    "papermill": {
     "duration": 0.0966,
     "end_time": "2022-10-21T20:38:06.344601",
     "exception": false,
     "start_time": "2022-10-21T20:38:06.248001",
     "status": "completed"
    },
    "tags": []
   },
   "outputs": [
    {
     "name": "stdout",
     "output_type": "stream",
     "text": [
      "Total number of counts    : 714\n",
      "Missing ages              : 177\n",
      "Total number of passengers: 891\n"
     ]
    },
    {
     "data": {
      "text/html": [
       "<div>                            <div id=\"f010e641-55cf-49a9-ada1-5fd7b6c209b0\" class=\"plotly-graph-div\" style=\"height:400px; width:800px;\"></div>            <script type=\"text/javascript\">                require([\"plotly\"], function(Plotly) {                    window.PLOTLYENV=window.PLOTLYENV || {};                                    if (document.getElementById(\"f010e641-55cf-49a9-ada1-5fd7b6c209b0\")) {                    Plotly.newPlot(                        \"f010e641-55cf-49a9-ada1-5fd7b6c209b0\",                        [{\"alignmentgroup\":\"True\",\"hovertemplate\":\"Age=%{x}<br>count=%{y}<extra></extra>\",\"legendgroup\":\"\",\"marker\":{\"color\":\"#636efa\",\"pattern\":{\"shape\":\"\"}},\"name\":\"\",\"offsetgroup\":\"\",\"orientation\":\"v\",\"showlegend\":false,\"textposition\":\"auto\",\"x\":[5.0,15.0,25.0,35.0,45.0,55.0,65.0,75.0],\"xaxis\":\"x\",\"y\":[62,102,220,167,89,48,19,7],\"yaxis\":\"y\",\"type\":\"bar\"}],                        {\"template\":{\"data\":{\"histogram2dcontour\":[{\"type\":\"histogram2dcontour\",\"colorbar\":{\"outlinewidth\":0,\"ticks\":\"\"},\"colorscale\":[[0.0,\"#0d0887\"],[0.1111111111111111,\"#46039f\"],[0.2222222222222222,\"#7201a8\"],[0.3333333333333333,\"#9c179e\"],[0.4444444444444444,\"#bd3786\"],[0.5555555555555556,\"#d8576b\"],[0.6666666666666666,\"#ed7953\"],[0.7777777777777778,\"#fb9f3a\"],[0.8888888888888888,\"#fdca26\"],[1.0,\"#f0f921\"]]}],\"choropleth\":[{\"type\":\"choropleth\",\"colorbar\":{\"outlinewidth\":0,\"ticks\":\"\"}}],\"histogram2d\":[{\"type\":\"histogram2d\",\"colorbar\":{\"outlinewidth\":0,\"ticks\":\"\"},\"colorscale\":[[0.0,\"#0d0887\"],[0.1111111111111111,\"#46039f\"],[0.2222222222222222,\"#7201a8\"],[0.3333333333333333,\"#9c179e\"],[0.4444444444444444,\"#bd3786\"],[0.5555555555555556,\"#d8576b\"],[0.6666666666666666,\"#ed7953\"],[0.7777777777777778,\"#fb9f3a\"],[0.8888888888888888,\"#fdca26\"],[1.0,\"#f0f921\"]]}],\"heatmap\":[{\"type\":\"heatmap\",\"colorbar\":{\"outlinewidth\":0,\"ticks\":\"\"},\"colorscale\":[[0.0,\"#0d0887\"],[0.1111111111111111,\"#46039f\"],[0.2222222222222222,\"#7201a8\"],[0.3333333333333333,\"#9c179e\"],[0.4444444444444444,\"#bd3786\"],[0.5555555555555556,\"#d8576b\"],[0.6666666666666666,\"#ed7953\"],[0.7777777777777778,\"#fb9f3a\"],[0.8888888888888888,\"#fdca26\"],[1.0,\"#f0f921\"]]}],\"heatmapgl\":[{\"type\":\"heatmapgl\",\"colorbar\":{\"outlinewidth\":0,\"ticks\":\"\"},\"colorscale\":[[0.0,\"#0d0887\"],[0.1111111111111111,\"#46039f\"],[0.2222222222222222,\"#7201a8\"],[0.3333333333333333,\"#9c179e\"],[0.4444444444444444,\"#bd3786\"],[0.5555555555555556,\"#d8576b\"],[0.6666666666666666,\"#ed7953\"],[0.7777777777777778,\"#fb9f3a\"],[0.8888888888888888,\"#fdca26\"],[1.0,\"#f0f921\"]]}],\"contourcarpet\":[{\"type\":\"contourcarpet\",\"colorbar\":{\"outlinewidth\":0,\"ticks\":\"\"}}],\"contour\":[{\"type\":\"contour\",\"colorbar\":{\"outlinewidth\":0,\"ticks\":\"\"},\"colorscale\":[[0.0,\"#0d0887\"],[0.1111111111111111,\"#46039f\"],[0.2222222222222222,\"#7201a8\"],[0.3333333333333333,\"#9c179e\"],[0.4444444444444444,\"#bd3786\"],[0.5555555555555556,\"#d8576b\"],[0.6666666666666666,\"#ed7953\"],[0.7777777777777778,\"#fb9f3a\"],[0.8888888888888888,\"#fdca26\"],[1.0,\"#f0f921\"]]}],\"surface\":[{\"type\":\"surface\",\"colorbar\":{\"outlinewidth\":0,\"ticks\":\"\"},\"colorscale\":[[0.0,\"#0d0887\"],[0.1111111111111111,\"#46039f\"],[0.2222222222222222,\"#7201a8\"],[0.3333333333333333,\"#9c179e\"],[0.4444444444444444,\"#bd3786\"],[0.5555555555555556,\"#d8576b\"],[0.6666666666666666,\"#ed7953\"],[0.7777777777777778,\"#fb9f3a\"],[0.8888888888888888,\"#fdca26\"],[1.0,\"#f0f921\"]]}],\"mesh3d\":[{\"type\":\"mesh3d\",\"colorbar\":{\"outlinewidth\":0,\"ticks\":\"\"}}],\"scatter\":[{\"fillpattern\":{\"fillmode\":\"overlay\",\"size\":10,\"solidity\":0.2},\"type\":\"scatter\"}],\"parcoords\":[{\"type\":\"parcoords\",\"line\":{\"colorbar\":{\"outlinewidth\":0,\"ticks\":\"\"}}}],\"scatterpolargl\":[{\"type\":\"scatterpolargl\",\"marker\":{\"colorbar\":{\"outlinewidth\":0,\"ticks\":\"\"}}}],\"bar\":[{\"error_x\":{\"color\":\"#2a3f5f\"},\"error_y\":{\"color\":\"#2a3f5f\"},\"marker\":{\"line\":{\"color\":\"#E5ECF6\",\"width\":0.5},\"pattern\":{\"fillmode\":\"overlay\",\"size\":10,\"solidity\":0.2}},\"type\":\"bar\"}],\"scattergeo\":[{\"type\":\"scattergeo\",\"marker\":{\"colorbar\":{\"outlinewidth\":0,\"ticks\":\"\"}}}],\"scatterpolar\":[{\"type\":\"scatterpolar\",\"marker\":{\"colorbar\":{\"outlinewidth\":0,\"ticks\":\"\"}}}],\"histogram\":[{\"marker\":{\"pattern\":{\"fillmode\":\"overlay\",\"size\":10,\"solidity\":0.2}},\"type\":\"histogram\"}],\"scattergl\":[{\"type\":\"scattergl\",\"marker\":{\"colorbar\":{\"outlinewidth\":0,\"ticks\":\"\"}}}],\"scatter3d\":[{\"type\":\"scatter3d\",\"line\":{\"colorbar\":{\"outlinewidth\":0,\"ticks\":\"\"}},\"marker\":{\"colorbar\":{\"outlinewidth\":0,\"ticks\":\"\"}}}],\"scattermapbox\":[{\"type\":\"scattermapbox\",\"marker\":{\"colorbar\":{\"outlinewidth\":0,\"ticks\":\"\"}}}],\"scatterternary\":[{\"type\":\"scatterternary\",\"marker\":{\"colorbar\":{\"outlinewidth\":0,\"ticks\":\"\"}}}],\"scattercarpet\":[{\"type\":\"scattercarpet\",\"marker\":{\"colorbar\":{\"outlinewidth\":0,\"ticks\":\"\"}}}],\"carpet\":[{\"aaxis\":{\"endlinecolor\":\"#2a3f5f\",\"gridcolor\":\"white\",\"linecolor\":\"white\",\"minorgridcolor\":\"white\",\"startlinecolor\":\"#2a3f5f\"},\"baxis\":{\"endlinecolor\":\"#2a3f5f\",\"gridcolor\":\"white\",\"linecolor\":\"white\",\"minorgridcolor\":\"white\",\"startlinecolor\":\"#2a3f5f\"},\"type\":\"carpet\"}],\"table\":[{\"cells\":{\"fill\":{\"color\":\"#EBF0F8\"},\"line\":{\"color\":\"white\"}},\"header\":{\"fill\":{\"color\":\"#C8D4E3\"},\"line\":{\"color\":\"white\"}},\"type\":\"table\"}],\"barpolar\":[{\"marker\":{\"line\":{\"color\":\"#E5ECF6\",\"width\":0.5},\"pattern\":{\"fillmode\":\"overlay\",\"size\":10,\"solidity\":0.2}},\"type\":\"barpolar\"}],\"pie\":[{\"automargin\":true,\"type\":\"pie\"}]},\"layout\":{\"autotypenumbers\":\"strict\",\"colorway\":[\"#636efa\",\"#EF553B\",\"#00cc96\",\"#ab63fa\",\"#FFA15A\",\"#19d3f3\",\"#FF6692\",\"#B6E880\",\"#FF97FF\",\"#FECB52\"],\"font\":{\"color\":\"#2a3f5f\"},\"hovermode\":\"closest\",\"hoverlabel\":{\"align\":\"left\"},\"paper_bgcolor\":\"white\",\"plot_bgcolor\":\"#E5ECF6\",\"polar\":{\"bgcolor\":\"#E5ECF6\",\"angularaxis\":{\"gridcolor\":\"white\",\"linecolor\":\"white\",\"ticks\":\"\"},\"radialaxis\":{\"gridcolor\":\"white\",\"linecolor\":\"white\",\"ticks\":\"\"}},\"ternary\":{\"bgcolor\":\"#E5ECF6\",\"aaxis\":{\"gridcolor\":\"white\",\"linecolor\":\"white\",\"ticks\":\"\"},\"baxis\":{\"gridcolor\":\"white\",\"linecolor\":\"white\",\"ticks\":\"\"},\"caxis\":{\"gridcolor\":\"white\",\"linecolor\":\"white\",\"ticks\":\"\"}},\"coloraxis\":{\"colorbar\":{\"outlinewidth\":0,\"ticks\":\"\"}},\"colorscale\":{\"sequential\":[[0.0,\"#0d0887\"],[0.1111111111111111,\"#46039f\"],[0.2222222222222222,\"#7201a8\"],[0.3333333333333333,\"#9c179e\"],[0.4444444444444444,\"#bd3786\"],[0.5555555555555556,\"#d8576b\"],[0.6666666666666666,\"#ed7953\"],[0.7777777777777778,\"#fb9f3a\"],[0.8888888888888888,\"#fdca26\"],[1.0,\"#f0f921\"]],\"sequentialminus\":[[0.0,\"#0d0887\"],[0.1111111111111111,\"#46039f\"],[0.2222222222222222,\"#7201a8\"],[0.3333333333333333,\"#9c179e\"],[0.4444444444444444,\"#bd3786\"],[0.5555555555555556,\"#d8576b\"],[0.6666666666666666,\"#ed7953\"],[0.7777777777777778,\"#fb9f3a\"],[0.8888888888888888,\"#fdca26\"],[1.0,\"#f0f921\"]],\"diverging\":[[0,\"#8e0152\"],[0.1,\"#c51b7d\"],[0.2,\"#de77ae\"],[0.3,\"#f1b6da\"],[0.4,\"#fde0ef\"],[0.5,\"#f7f7f7\"],[0.6,\"#e6f5d0\"],[0.7,\"#b8e186\"],[0.8,\"#7fbc41\"],[0.9,\"#4d9221\"],[1,\"#276419\"]]},\"xaxis\":{\"gridcolor\":\"white\",\"linecolor\":\"white\",\"ticks\":\"\",\"title\":{\"standoff\":15},\"zerolinecolor\":\"white\",\"automargin\":true,\"zerolinewidth\":2},\"yaxis\":{\"gridcolor\":\"white\",\"linecolor\":\"white\",\"ticks\":\"\",\"title\":{\"standoff\":15},\"zerolinecolor\":\"white\",\"automargin\":true,\"zerolinewidth\":2},\"scene\":{\"xaxis\":{\"backgroundcolor\":\"#E5ECF6\",\"gridcolor\":\"white\",\"linecolor\":\"white\",\"showbackground\":true,\"ticks\":\"\",\"zerolinecolor\":\"white\",\"gridwidth\":2},\"yaxis\":{\"backgroundcolor\":\"#E5ECF6\",\"gridcolor\":\"white\",\"linecolor\":\"white\",\"showbackground\":true,\"ticks\":\"\",\"zerolinecolor\":\"white\",\"gridwidth\":2},\"zaxis\":{\"backgroundcolor\":\"#E5ECF6\",\"gridcolor\":\"white\",\"linecolor\":\"white\",\"showbackground\":true,\"ticks\":\"\",\"zerolinecolor\":\"white\",\"gridwidth\":2}},\"shapedefaults\":{\"line\":{\"color\":\"#2a3f5f\"}},\"annotationdefaults\":{\"arrowcolor\":\"#2a3f5f\",\"arrowhead\":0,\"arrowwidth\":1},\"geo\":{\"bgcolor\":\"white\",\"landcolor\":\"#E5ECF6\",\"subunitcolor\":\"white\",\"showland\":true,\"showlakes\":true,\"lakecolor\":\"white\"},\"title\":{\"x\":0.05},\"mapbox\":{\"style\":\"light\"}}},\"xaxis\":{\"anchor\":\"y\",\"domain\":[0.0,1.0],\"title\":{\"text\":\"Age\"}},\"yaxis\":{\"anchor\":\"x\",\"domain\":[0.0,1.0],\"title\":{\"text\":\"count\"}},\"legend\":{\"tracegroupgap\":0},\"title\":{\"text\":\"Age\"},\"barmode\":\"relative\",\"height\":400,\"width\":800},                        {\"responsive\": true}                    ).then(function(){\n",
       "                            \n",
       "var gd = document.getElementById('f010e641-55cf-49a9-ada1-5fd7b6c209b0');\n",
       "var x = new MutationObserver(function (mutations, observer) {{\n",
       "        var display = window.getComputedStyle(gd).display;\n",
       "        if (!display || display === 'none') {{\n",
       "            console.log([gd, 'removed!']);\n",
       "            Plotly.purge(gd);\n",
       "            observer.disconnect();\n",
       "        }}\n",
       "}});\n",
       "\n",
       "// Listen for the removal of the full notebook cells\n",
       "var notebookContainer = gd.closest('#notebook-container');\n",
       "if (notebookContainer) {{\n",
       "    x.observe(notebookContainer, {childList: true});\n",
       "}}\n",
       "\n",
       "// Listen for the clearing of the current output cell\n",
       "var outputEl = gd.closest('.output');\n",
       "if (outputEl) {{\n",
       "    x.observe(outputEl, {childList: true});\n",
       "}}\n",
       "\n",
       "                        })                };                });            </script>        </div>"
      ]
     },
     "metadata": {},
     "output_type": "display_data"
    }
   ],
   "source": [
    "age_range = 10\n",
    "if max(train_df['Age'])%age_range == 0:\n",
    "    max_bin = int(max(train_df['Age']))+1\n",
    "else:\n",
    "    max_bin = int((max(train_df['Age'])//age_range+1)*age_range)+1\n",
    "\n",
    "counts, bins = np.histogram(train_df['Age'], bins=range(0, max_bin, age_range))\n",
    "print(f\"Total number of counts    : {sum(counts)}\")\n",
    "print(f\"Missing ages              : {len(train_df[train_df['Age'].isnull()])}\")\n",
    "print(f\"Total number of passengers: {len(train_df)}\")\n",
    "bins = 0.5 * (bins[:-1] + bins[1:])\n",
    "fig_Age = px.bar(x=bins, y=counts, labels={'x':'Age', 'y':'count'}, \n",
    "             title='Age', width=800, height=400)\n",
    "fig_Age.show()"
   ]
  },
  {
   "cell_type": "code",
   "execution_count": 7,
   "id": "c756d2ea",
   "metadata": {
    "execution": {
     "iopub.execute_input": "2022-10-21T20:38:06.370431Z",
     "iopub.status.busy": "2022-10-21T20:38:06.369973Z",
     "iopub.status.idle": "2022-10-21T20:38:06.526845Z",
     "shell.execute_reply": "2022-10-21T20:38:06.525433Z"
    },
    "papermill": {
     "duration": 0.173689,
     "end_time": "2022-10-21T20:38:06.530220",
     "exception": false,
     "start_time": "2022-10-21T20:38:06.356531",
     "status": "completed"
    },
    "tags": []
   },
   "outputs": [
    {
     "name": "stdout",
     "output_type": "stream",
     "text": [
      "---------PClass---------\n",
      "Pclass      1   2    3\n",
      "Survived              \n",
      "0          80  97  372\n",
      "1         136  87  119\n"
     ]
    },
    {
     "data": {
      "text/html": [
       "<div>                            <div id=\"ee16f1ff-f56d-4475-8d16-5f653a4a6feb\" class=\"plotly-graph-div\" style=\"height:300px; width:400px;\"></div>            <script type=\"text/javascript\">                require([\"plotly\"], function(Plotly) {                    window.PLOTLYENV=window.PLOTLYENV || {};                                    if (document.getElementById(\"ee16f1ff-f56d-4475-8d16-5f653a4a6feb\")) {                    Plotly.newPlot(                        \"ee16f1ff-f56d-4475-8d16-5f653a4a6feb\",                        [{\"alignmentgroup\":\"True\",\"bingroup\":\"x\",\"hovertemplate\":\"Survived=0<br>Pclass=%{x}<br>count=%{y}<extra></extra>\",\"legendgroup\":\"0\",\"marker\":{\"color\":\"#636efa\",\"pattern\":{\"shape\":\"\"}},\"name\":\"0\",\"offsetgroup\":\"0\",\"orientation\":\"v\",\"showlegend\":true,\"x\":[3,3,3,1,3,3,3,3,3,3,2,3,3,1,3,1,2,1,1,3,3,3,2,3,3,3,3,3,3,3,1,3,3,3,1,3,1,3,3,2,3,2,3,3,3,3,3,1,3,3,3,3,3,1,3,3,3,1,2,3,3,1,3,3,3,3,1,3,3,3,3,3,3,2,1,3,2,3,2,1,3,3,3,3,3,2,2,1,3,1,3,3,2,2,3,2,2,2,3,3,3,1,3,3,3,3,3,3,3,3,1,3,1,3,3,1,3,3,1,2,3,3,2,3,1,3,3,2,3,3,2,3,3,3,3,3,3,3,3,2,3,2,2,2,3,3,3,3,2,3,3,2,2,3,2,2,2,3,2,3,3,1,3,2,3,3,1,3,3,3,1,1,3,2,3,1,1,3,2,3,3,3,3,1,3,3,2,3,3,1,3,1,3,3,2,2,3,2,2,3,3,3,3,1,1,3,3,1,1,2,2,2,3,3,1,3,3,3,3,2,3,2,3,3,3,3,3,3,1,3,1,3,3,3,3,2,3,3,3,3,3,2,2,3,3,3,3,2,3,3,3,3,3,2,3,2,3,3,3,3,3,3,3,3,3,1,3,1,2,3,3,2,3,1,3,1,3,3,1,2,3,3,2,1,3,3,3,3,1,2,3,3,3,2,3,3,1,3,3,3,1,1,3,3,3,1,3,3,3,3,3,1,3,3,3,1,3,3,3,3,3,3,1,3,2,3,3,3,1,3,3,3,1,1,3,2,3,1,1,3,3,2,3,3,3,3,3,3,3,3,3,2,1,3,2,3,3,3,3,3,2,3,3,3,3,1,3,3,3,3,3,3,3,3,3,2,3,3,3,1,2,3,3,3,1,3,3,2,3,3,3,3,3,3,3,3,3,2,3,3,2,1,3,1,3,2,2,3,3,1,2,2,3,3,3,3,3,3,2,2,3,3,3,3,1,2,3,1,3,3,3,3,2,1,3,2,3,3,3,3,2,2,3,2,3,3,2,2,2,3,3,3,3,1,3,1,3,1,3,3,3,3,2,3,3,3,3,1,3,3,3,3,3,2,3,3,3,3,1,3,3,3,3,1,3,2,3,1,3,2,3,3,2,3,1,3,2,3,3,2,3,3,1,3,2,3,3,1,3,3,3,3,3,3,3,3,3,2,3,3,3,3,3,2,3,3,3,2,3,3,2,3,2,1,3,3,1,3,3,3,3,3,3,2,3,3,2,3,3],\"xaxis\":\"x\",\"yaxis\":\"y\",\"type\":\"histogram\"},{\"alignmentgroup\":\"True\",\"bingroup\":\"x\",\"hovertemplate\":\"Survived=1<br>Pclass=%{x}<br>count=%{y}<extra></extra>\",\"legendgroup\":\"1\",\"marker\":{\"color\":\"#EF553B\",\"pattern\":{\"shape\":\"\"}},\"name\":\"1\",\"offsetgroup\":\"1\",\"orientation\":\"v\",\"showlegend\":true,\"x\":[1,3,1,3,2,3,1,2,2,3,2,3,1,3,3,1,3,3,3,2,3,3,1,2,1,2,2,1,3,2,3,3,2,3,3,3,2,3,1,1,2,3,3,3,2,3,3,3,2,1,3,3,3,1,3,2,3,1,3,2,3,3,1,2,3,2,1,1,3,3,3,3,1,2,1,3,1,3,1,2,1,3,2,3,2,1,3,1,1,1,2,3,3,1,1,3,2,3,1,3,3,3,2,3,1,1,1,1,3,3,2,1,1,1,1,1,1,3,2,1,1,2,2,1,2,3,1,3,1,1,3,2,1,2,2,3,3,1,3,3,1,3,3,1,1,1,3,1,3,1,2,2,1,3,1,3,2,3,2,1,3,2,2,2,2,3,1,3,2,1,2,2,2,3,1,2,1,3,1,1,3,1,2,1,3,2,2,3,3,1,1,3,1,1,2,1,3,3,1,1,2,2,1,1,2,2,3,2,1,1,1,2,2,2,2,1,3,3,1,1,3,3,2,1,1,3,2,1,3,2,1,1,1,1,2,1,2,1,1,2,1,3,2,2,1,3,1,1,1,2,1,3,3,1,1,3,2,3,1,3,1,2,2,3,1,1,1,1,3,3,3,1,1,2,1,1,3,1,1,1,2,2,1,2,3,1,1,1,1,3,2,2,3,2,2,1,3,1,1,2,3,1,3,1,3,3,1,3,2,1,3,3,1,1,3,3,2,3,1,3,2,1,3,1,1,1,1,3,1,1,3,1,2,2,3,1,2,3,1,2,1,1],\"xaxis\":\"x\",\"yaxis\":\"y\",\"type\":\"histogram\"}],                        {\"template\":{\"data\":{\"histogram2dcontour\":[{\"type\":\"histogram2dcontour\",\"colorbar\":{\"outlinewidth\":0,\"ticks\":\"\"},\"colorscale\":[[0.0,\"#0d0887\"],[0.1111111111111111,\"#46039f\"],[0.2222222222222222,\"#7201a8\"],[0.3333333333333333,\"#9c179e\"],[0.4444444444444444,\"#bd3786\"],[0.5555555555555556,\"#d8576b\"],[0.6666666666666666,\"#ed7953\"],[0.7777777777777778,\"#fb9f3a\"],[0.8888888888888888,\"#fdca26\"],[1.0,\"#f0f921\"]]}],\"choropleth\":[{\"type\":\"choropleth\",\"colorbar\":{\"outlinewidth\":0,\"ticks\":\"\"}}],\"histogram2d\":[{\"type\":\"histogram2d\",\"colorbar\":{\"outlinewidth\":0,\"ticks\":\"\"},\"colorscale\":[[0.0,\"#0d0887\"],[0.1111111111111111,\"#46039f\"],[0.2222222222222222,\"#7201a8\"],[0.3333333333333333,\"#9c179e\"],[0.4444444444444444,\"#bd3786\"],[0.5555555555555556,\"#d8576b\"],[0.6666666666666666,\"#ed7953\"],[0.7777777777777778,\"#fb9f3a\"],[0.8888888888888888,\"#fdca26\"],[1.0,\"#f0f921\"]]}],\"heatmap\":[{\"type\":\"heatmap\",\"colorbar\":{\"outlinewidth\":0,\"ticks\":\"\"},\"colorscale\":[[0.0,\"#0d0887\"],[0.1111111111111111,\"#46039f\"],[0.2222222222222222,\"#7201a8\"],[0.3333333333333333,\"#9c179e\"],[0.4444444444444444,\"#bd3786\"],[0.5555555555555556,\"#d8576b\"],[0.6666666666666666,\"#ed7953\"],[0.7777777777777778,\"#fb9f3a\"],[0.8888888888888888,\"#fdca26\"],[1.0,\"#f0f921\"]]}],\"heatmapgl\":[{\"type\":\"heatmapgl\",\"colorbar\":{\"outlinewidth\":0,\"ticks\":\"\"},\"colorscale\":[[0.0,\"#0d0887\"],[0.1111111111111111,\"#46039f\"],[0.2222222222222222,\"#7201a8\"],[0.3333333333333333,\"#9c179e\"],[0.4444444444444444,\"#bd3786\"],[0.5555555555555556,\"#d8576b\"],[0.6666666666666666,\"#ed7953\"],[0.7777777777777778,\"#fb9f3a\"],[0.8888888888888888,\"#fdca26\"],[1.0,\"#f0f921\"]]}],\"contourcarpet\":[{\"type\":\"contourcarpet\",\"colorbar\":{\"outlinewidth\":0,\"ticks\":\"\"}}],\"contour\":[{\"type\":\"contour\",\"colorbar\":{\"outlinewidth\":0,\"ticks\":\"\"},\"colorscale\":[[0.0,\"#0d0887\"],[0.1111111111111111,\"#46039f\"],[0.2222222222222222,\"#7201a8\"],[0.3333333333333333,\"#9c179e\"],[0.4444444444444444,\"#bd3786\"],[0.5555555555555556,\"#d8576b\"],[0.6666666666666666,\"#ed7953\"],[0.7777777777777778,\"#fb9f3a\"],[0.8888888888888888,\"#fdca26\"],[1.0,\"#f0f921\"]]}],\"surface\":[{\"type\":\"surface\",\"colorbar\":{\"outlinewidth\":0,\"ticks\":\"\"},\"colorscale\":[[0.0,\"#0d0887\"],[0.1111111111111111,\"#46039f\"],[0.2222222222222222,\"#7201a8\"],[0.3333333333333333,\"#9c179e\"],[0.4444444444444444,\"#bd3786\"],[0.5555555555555556,\"#d8576b\"],[0.6666666666666666,\"#ed7953\"],[0.7777777777777778,\"#fb9f3a\"],[0.8888888888888888,\"#fdca26\"],[1.0,\"#f0f921\"]]}],\"mesh3d\":[{\"type\":\"mesh3d\",\"colorbar\":{\"outlinewidth\":0,\"ticks\":\"\"}}],\"scatter\":[{\"fillpattern\":{\"fillmode\":\"overlay\",\"size\":10,\"solidity\":0.2},\"type\":\"scatter\"}],\"parcoords\":[{\"type\":\"parcoords\",\"line\":{\"colorbar\":{\"outlinewidth\":0,\"ticks\":\"\"}}}],\"scatterpolargl\":[{\"type\":\"scatterpolargl\",\"marker\":{\"colorbar\":{\"outlinewidth\":0,\"ticks\":\"\"}}}],\"bar\":[{\"error_x\":{\"color\":\"#2a3f5f\"},\"error_y\":{\"color\":\"#2a3f5f\"},\"marker\":{\"line\":{\"color\":\"#E5ECF6\",\"width\":0.5},\"pattern\":{\"fillmode\":\"overlay\",\"size\":10,\"solidity\":0.2}},\"type\":\"bar\"}],\"scattergeo\":[{\"type\":\"scattergeo\",\"marker\":{\"colorbar\":{\"outlinewidth\":0,\"ticks\":\"\"}}}],\"scatterpolar\":[{\"type\":\"scatterpolar\",\"marker\":{\"colorbar\":{\"outlinewidth\":0,\"ticks\":\"\"}}}],\"histogram\":[{\"marker\":{\"pattern\":{\"fillmode\":\"overlay\",\"size\":10,\"solidity\":0.2}},\"type\":\"histogram\"}],\"scattergl\":[{\"type\":\"scattergl\",\"marker\":{\"colorbar\":{\"outlinewidth\":0,\"ticks\":\"\"}}}],\"scatter3d\":[{\"type\":\"scatter3d\",\"line\":{\"colorbar\":{\"outlinewidth\":0,\"ticks\":\"\"}},\"marker\":{\"colorbar\":{\"outlinewidth\":0,\"ticks\":\"\"}}}],\"scattermapbox\":[{\"type\":\"scattermapbox\",\"marker\":{\"colorbar\":{\"outlinewidth\":0,\"ticks\":\"\"}}}],\"scatterternary\":[{\"type\":\"scatterternary\",\"marker\":{\"colorbar\":{\"outlinewidth\":0,\"ticks\":\"\"}}}],\"scattercarpet\":[{\"type\":\"scattercarpet\",\"marker\":{\"colorbar\":{\"outlinewidth\":0,\"ticks\":\"\"}}}],\"carpet\":[{\"aaxis\":{\"endlinecolor\":\"#2a3f5f\",\"gridcolor\":\"white\",\"linecolor\":\"white\",\"minorgridcolor\":\"white\",\"startlinecolor\":\"#2a3f5f\"},\"baxis\":{\"endlinecolor\":\"#2a3f5f\",\"gridcolor\":\"white\",\"linecolor\":\"white\",\"minorgridcolor\":\"white\",\"startlinecolor\":\"#2a3f5f\"},\"type\":\"carpet\"}],\"table\":[{\"cells\":{\"fill\":{\"color\":\"#EBF0F8\"},\"line\":{\"color\":\"white\"}},\"header\":{\"fill\":{\"color\":\"#C8D4E3\"},\"line\":{\"color\":\"white\"}},\"type\":\"table\"}],\"barpolar\":[{\"marker\":{\"line\":{\"color\":\"#E5ECF6\",\"width\":0.5},\"pattern\":{\"fillmode\":\"overlay\",\"size\":10,\"solidity\":0.2}},\"type\":\"barpolar\"}],\"pie\":[{\"automargin\":true,\"type\":\"pie\"}]},\"layout\":{\"autotypenumbers\":\"strict\",\"colorway\":[\"#636efa\",\"#EF553B\",\"#00cc96\",\"#ab63fa\",\"#FFA15A\",\"#19d3f3\",\"#FF6692\",\"#B6E880\",\"#FF97FF\",\"#FECB52\"],\"font\":{\"color\":\"#2a3f5f\"},\"hovermode\":\"closest\",\"hoverlabel\":{\"align\":\"left\"},\"paper_bgcolor\":\"white\",\"plot_bgcolor\":\"#E5ECF6\",\"polar\":{\"bgcolor\":\"#E5ECF6\",\"angularaxis\":{\"gridcolor\":\"white\",\"linecolor\":\"white\",\"ticks\":\"\"},\"radialaxis\":{\"gridcolor\":\"white\",\"linecolor\":\"white\",\"ticks\":\"\"}},\"ternary\":{\"bgcolor\":\"#E5ECF6\",\"aaxis\":{\"gridcolor\":\"white\",\"linecolor\":\"white\",\"ticks\":\"\"},\"baxis\":{\"gridcolor\":\"white\",\"linecolor\":\"white\",\"ticks\":\"\"},\"caxis\":{\"gridcolor\":\"white\",\"linecolor\":\"white\",\"ticks\":\"\"}},\"coloraxis\":{\"colorbar\":{\"outlinewidth\":0,\"ticks\":\"\"}},\"colorscale\":{\"sequential\":[[0.0,\"#0d0887\"],[0.1111111111111111,\"#46039f\"],[0.2222222222222222,\"#7201a8\"],[0.3333333333333333,\"#9c179e\"],[0.4444444444444444,\"#bd3786\"],[0.5555555555555556,\"#d8576b\"],[0.6666666666666666,\"#ed7953\"],[0.7777777777777778,\"#fb9f3a\"],[0.8888888888888888,\"#fdca26\"],[1.0,\"#f0f921\"]],\"sequentialminus\":[[0.0,\"#0d0887\"],[0.1111111111111111,\"#46039f\"],[0.2222222222222222,\"#7201a8\"],[0.3333333333333333,\"#9c179e\"],[0.4444444444444444,\"#bd3786\"],[0.5555555555555556,\"#d8576b\"],[0.6666666666666666,\"#ed7953\"],[0.7777777777777778,\"#fb9f3a\"],[0.8888888888888888,\"#fdca26\"],[1.0,\"#f0f921\"]],\"diverging\":[[0,\"#8e0152\"],[0.1,\"#c51b7d\"],[0.2,\"#de77ae\"],[0.3,\"#f1b6da\"],[0.4,\"#fde0ef\"],[0.5,\"#f7f7f7\"],[0.6,\"#e6f5d0\"],[0.7,\"#b8e186\"],[0.8,\"#7fbc41\"],[0.9,\"#4d9221\"],[1,\"#276419\"]]},\"xaxis\":{\"gridcolor\":\"white\",\"linecolor\":\"white\",\"ticks\":\"\",\"title\":{\"standoff\":15},\"zerolinecolor\":\"white\",\"automargin\":true,\"zerolinewidth\":2},\"yaxis\":{\"gridcolor\":\"white\",\"linecolor\":\"white\",\"ticks\":\"\",\"title\":{\"standoff\":15},\"zerolinecolor\":\"white\",\"automargin\":true,\"zerolinewidth\":2},\"scene\":{\"xaxis\":{\"backgroundcolor\":\"#E5ECF6\",\"gridcolor\":\"white\",\"linecolor\":\"white\",\"showbackground\":true,\"ticks\":\"\",\"zerolinecolor\":\"white\",\"gridwidth\":2},\"yaxis\":{\"backgroundcolor\":\"#E5ECF6\",\"gridcolor\":\"white\",\"linecolor\":\"white\",\"showbackground\":true,\"ticks\":\"\",\"zerolinecolor\":\"white\",\"gridwidth\":2},\"zaxis\":{\"backgroundcolor\":\"#E5ECF6\",\"gridcolor\":\"white\",\"linecolor\":\"white\",\"showbackground\":true,\"ticks\":\"\",\"zerolinecolor\":\"white\",\"gridwidth\":2}},\"shapedefaults\":{\"line\":{\"color\":\"#2a3f5f\"}},\"annotationdefaults\":{\"arrowcolor\":\"#2a3f5f\",\"arrowhead\":0,\"arrowwidth\":1},\"geo\":{\"bgcolor\":\"white\",\"landcolor\":\"#E5ECF6\",\"subunitcolor\":\"white\",\"showland\":true,\"showlakes\":true,\"lakecolor\":\"white\"},\"title\":{\"x\":0.05},\"mapbox\":{\"style\":\"light\"}}},\"xaxis\":{\"anchor\":\"y\",\"domain\":[0.0,1.0],\"title\":{\"text\":\"Pclass\"}},\"yaxis\":{\"anchor\":\"x\",\"domain\":[0.0,1.0],\"title\":{\"text\":\"count\"}},\"legend\":{\"title\":{\"text\":\"Survived\"},\"tracegroupgap\":0},\"title\":{\"text\":\"Pclass (Ticket Class)\"},\"barmode\":\"group\",\"height\":300,\"width\":400},                        {\"responsive\": true}                    ).then(function(){\n",
       "                            \n",
       "var gd = document.getElementById('ee16f1ff-f56d-4475-8d16-5f653a4a6feb');\n",
       "var x = new MutationObserver(function (mutations, observer) {{\n",
       "        var display = window.getComputedStyle(gd).display;\n",
       "        if (!display || display === 'none') {{\n",
       "            console.log([gd, 'removed!']);\n",
       "            Plotly.purge(gd);\n",
       "            observer.disconnect();\n",
       "        }}\n",
       "}});\n",
       "\n",
       "// Listen for the removal of the full notebook cells\n",
       "var notebookContainer = gd.closest('#notebook-container');\n",
       "if (notebookContainer) {{\n",
       "    x.observe(notebookContainer, {childList: true});\n",
       "}}\n",
       "\n",
       "// Listen for the clearing of the current output cell\n",
       "var outputEl = gd.closest('.output');\n",
       "if (outputEl) {{\n",
       "    x.observe(outputEl, {childList: true});\n",
       "}}\n",
       "\n",
       "                        })                };                });            </script>        </div>"
      ]
     },
     "metadata": {},
     "output_type": "display_data"
    },
    {
     "data": {
      "text/html": [
       "<div>                            <div id=\"2114baab-2f39-4246-b646-bedc679d882d\" class=\"plotly-graph-div\" style=\"height:300px; width:800px;\"></div>            <script type=\"text/javascript\">                require([\"plotly\"], function(Plotly) {                    window.PLOTLYENV=window.PLOTLYENV || {};                                    if (document.getElementById(\"2114baab-2f39-4246-b646-bedc679d882d\")) {                    Plotly.newPlot(                        \"2114baab-2f39-4246-b646-bedc679d882d\",                        [{\"alignmentgroup\":\"True\",\"bingroup\":\"x\",\"hovertemplate\":\"Pclass=3<br>Fare=%{x}<br>count=%{y}<extra></extra>\",\"legendgroup\":\"3\",\"marker\":{\"color\":\"#636efa\",\"pattern\":{\"shape\":\"\"}},\"name\":\"3\",\"nbinsx\":20,\"offsetgroup\":\"3\",\"orientation\":\"v\",\"showlegend\":true,\"x\":[7.25,7.925,8.05,8.4583,21.075,11.1333,16.7,8.05,31.275,7.8542,29.125,18.0,7.225,8.0292,21.075,31.3875,7.225,7.8792,7.8958,7.75,7.2292,8.05,18.0,11.2417,9.475,7.8958,7.8792,8.05,15.5,7.75,21.6792,17.8,39.6875,7.8,7.2292,46.9,7.2292,27.9,15.2458,8.1583,7.925,8.6625,46.9,14.4542,56.4958,7.65,7.8958,8.05,12.475,9.0,9.5,7.7875,15.85,34.375,8.05,8.05,8.05,7.8542,20.575,7.25,8.05,7.8958,7.8958,8.6542,7.925,7.8958,7.65,7.775,7.8958,24.15,14.4542,8.05,9.825,14.4583,7.925,7.75,31.275,8.05,11.2417,7.75,7.1417,22.3583,6.975,7.8958,7.05,14.5,9.2167,15.2458,7.75,15.85,6.75,7.7958,34.375,8.05,14.5,7.3125,7.7333,8.05,8.6625,69.55,16.1,7.775,8.6625,39.6875,20.525,27.9,56.4958,29.125,11.1333,7.925,7.8542,25.4667,0.0,69.55,31.3875,22.025,15.5,15.5,7.8958,7.8542,7.75,8.4042,7.75,9.5,69.55,6.4958,7.225,8.05,10.4625,15.85,18.7875,7.75,7.05,7.25,7.75,7.925,8.05,8.05,7.8958,9.35,7.25,25.4667,7.775,31.3875,7.55,14.4542,15.5,7.125,7.225,7.775,7.25,10.4625,16.1,20.2125,15.2458,7.75,31.3875,7.75,39.6875,7.775,0.0,7.75,7.75,29.125,20.25,7.75,7.8542,9.5,8.05,8.6625,9.5,7.8958,7.75,8.85,7.8958,7.2292,7.75,23.25,0.0,8.05,7.8958,7.8542,7.25,7.8958,69.55,6.2375,20.525,23.25,18.0,7.8958,8.05,16.1,15.9,8.6625,9.225,7.2292,17.8,7.225,9.5,7.8792,7.8792,27.9,14.4542,7.05,15.5,7.25,7.2292,7.75,6.4958,8.05,21.075,7.25,4.0125,7.775,15.7417,7.925,7.8958,46.9,7.7292,7.7958,7.925,16.7,7.7958,7.8542,7.925,8.05,9.825,15.85,8.6625,7.75,7.775,25.4667,7.8958,6.8583,7.925,8.05,24.15,7.8958,7.7333,7.875,14.4,20.2125,7.25,7.75,8.05,16.1,7.125,34.375,9.5,7.775,8.1125,19.2583,19.9667,8.05,7.8958,7.75,8.05,8.05,7.05,7.725,19.2583,7.25,8.6625,9.8375,7.0458,7.5208,12.2875,46.9,8.05,9.5875,25.4667,8.05,15.9,19.9667,7.25,8.05,14.4583,15.1,7.7958,8.6625,7.75,7.6292,9.5875,22.525,56.4958,7.75,8.05,7.4958,24.15,7.8958,7.8958,7.225,7.2292,7.75,7.925,7.2292,7.2292,22.3583,8.6625,14.5,31.275,31.275,20.525,7.8292,7.225,7.775,17.4,7.75,7.8958,8.05,8.05,24.15,7.8958,21.075,7.2292,7.8542,7.75,8.05,14.5,14.4583,7.925,8.7125,8.05,8.05,7.125,7.25,7.75,24.15,0.0,7.225,7.8958,8.05,15.55,7.8958,31.275,7.05,15.5,7.75,8.05,14.4,16.1,14.4542,15.7417,7.8542,16.1,7.8958,7.7333,7.0542,27.9,7.925,39.6875,16.1,7.8542,27.9,56.4958,19.2583,7.8958,7.55,7.55,7.8958,8.4333,7.8292,6.75,7.8958,15.5,7.225,7.4958,7.925,7.775,8.05,7.775,8.05,9.8417,46.9,8.1375,9.225,46.9,39.6875,10.1708,7.7958,13.4167,56.4958,7.225,8.05,7.7333,7.65,14.4542,7.7417,7.8542,15.2458,9.4833,7.65,15.5,7.775,7.0542,8.6625,7.7375,7.925,18.7875,16.1,34.375,7.8958,7.8958,16.1,7.925,20.25,7.75,12.475,9.5,7.8958,7.7958,8.05,14.5,7.125,7.2292,7.775,7.75,24.15,8.3625,9.5,7.8542,7.225,7.75,7.75,12.475,7.7375,7.2292,23.45,7.05,7.25,7.4958,29.125,20.575,7.75,69.55,7.8958,8.6833,7.2292,24.15,8.5167,6.975,7.775,7.775,7.8875,24.15,31.275,8.05,7.925,6.45,27.9,8.6625,12.475,39.6875,6.95,56.4958,7.75,14.4542,7.2292,7.8542,8.3,8.6625,8.05,56.4958,7.925,6.4375,8.6625,7.55,69.55,7.8958,31.275,7.775,15.2458,9.35,19.2583,7.2292,14.1083,69.55,9.5,11.1333,7.8958,9.0,7.225,9.8458,7.8958,7.8958,7.8958,10.5167,7.05,29.125,23.45,7.75],\"xaxis\":\"x\",\"yaxis\":\"y\",\"type\":\"histogram\"},{\"alignmentgroup\":\"True\",\"bingroup\":\"x\",\"hovertemplate\":\"Pclass=1<br>Fare=%{x}<br>count=%{y}<extra></extra>\",\"legendgroup\":\"1\",\"marker\":{\"color\":\"#EF553B\",\"pattern\":{\"shape\":\"\"}},\"name\":\"1\",\"nbinsx\":20,\"offsetgroup\":\"1\",\"orientation\":\"v\",\"showlegend\":true,\"x\":[71.2833,53.1,51.8625,26.55,35.5,263.0,27.7208,146.5208,82.1708,52.0,76.7292,61.9792,35.5,80.0,83.475,27.7208,47.1,263.0,61.175,34.6542,63.3583,77.2875,52.0,247.5208,77.2875,26.2833,53.1,79.2,66.6,61.3792,55.0,25.925,33.5,30.6958,28.7125,50.0,26.55,27.7208,146.5208,31.0,113.275,76.2917,90.0,83.475,90.0,52.5542,26.55,79.2,86.5,512.3292,79.65,0.0,153.4625,135.6333,31.0,29.7,77.9583,26.0,78.85,91.0792,27.7208,151.55,30.5,247.5208,151.55,110.8833,108.9,56.9292,83.1583,262.375,164.8667,134.5,135.6333,57.9792,28.5,153.4625,133.65,66.6,134.5,35.5,263.0,35.0,55.0,75.25,69.3,55.4417,135.6333,82.1708,211.5,227.525,52.0,120.0,113.275,90.0,26.55,55.9,120.0,263.0,81.8583,26.55,30.5,27.75,89.1042,26.55,51.8625,26.55,38.5,26.55,52.0,91.0792,90.0,29.7,30.5,49.5042,78.2667,151.55,86.5,108.9,26.55,26.2875,59.4,34.0208,93.5,57.9792,221.7792,26.55,106.425,49.5,71.0,106.425,26.0,110.8833,26.55,39.6,227.525,79.65,51.4792,26.3875,55.9,110.8833,40.125,79.65,79.2,78.2667,56.9292,42.4,26.55,30.5,153.4625,52.5542,32.3208,77.9583,30.0,30.5,0.0,69.3,76.7292,35.5,113.275,133.65,25.5875,52.0,52.0,512.3292,76.7292,211.3375,57.0,26.55,110.8833,227.525,26.2875,26.2875,151.55,49.5042,26.55,52.0,227.525,53.1,211.3375,512.3292,30.0,78.85,262.375,71.0,53.1,86.5,120.0,77.9583,39.6,211.3375,57.0,30.0,79.2,30.6958,25.9292,120.0,0.0,53.1,0.0,93.5,0.0,80.0,83.1583,29.7,31.0,89.1042,39.4,164.8667,26.55,25.9292,50.4958,52.5542,5.0,83.1583,30.0,30.0],\"xaxis\":\"x\",\"yaxis\":\"y\",\"type\":\"histogram\"},{\"alignmentgroup\":\"True\",\"bingroup\":\"x\",\"hovertemplate\":\"Pclass=2<br>Fare=%{x}<br>count=%{y}<extra></extra>\",\"legendgroup\":\"2\",\"marker\":{\"color\":\"#00cc96\",\"pattern\":{\"shape\":\"\"}},\"name\":\"2\",\"nbinsx\":20,\"offsetgroup\":\"2\",\"orientation\":\"v\",\"showlegend\":true,\"x\":[30.0708,16.0,13.0,26.0,13.0,10.5,21.0,41.5792,26.0,10.5,27.75,10.5,10.5,73.5,29.0,10.5,23.0,26.0,21.0,73.5,30.0708,13.0,26.0,13.0,15.0458,11.5,36.75,26.0,13.0,12.525,15.75,13.0,15.05,39.0,13.0,13.0,26.0,13.0,21.0,13.0,27.0,10.5,13.0,10.5,13.0,13.5,10.5,26.0,26.25,10.5,12.275,10.5,14.5,26.0,26.0,10.5,19.5,0.0,13.0,12.875,12.35,24.0,26.0,26.25,26.0,14.0,12.35,29.0,13.0,26.0,13.0,13.0,13.0,13.0,13.0,13.0,27.7208,73.5,13.0,12.0,26.0,10.5,12.65,21.0,18.75,0.0,32.5,13.0,13.0,26.0,26.0,26.0,18.75,10.5,26.25,13.0,19.5,27.75,10.5,13.0,0.0,27.75,13.7917,21.0,0.0,26.0,10.5,26.0,10.5,11.5,26.0,26.25,26.0,26.0,13.8625,36.75,26.0,13.5,10.5,13.0,30.0,26.0,15.0,26.0,33.0,27.0,41.5792,65.0,39.0,10.5,12.35,13.0,26.25,23.0,73.5,13.0,73.5,13.0,39.0,10.5,13.0,0.0,39.0,41.5792,13.5,26.0,13.5,13.0,10.5,33.0,13.0,13.0,21.0,26.0,0.0,13.0,13.0,13.0,23.0,65.0,14.5,11.5,10.5,23.0,26.0,13.0,13.0,26.25,13.0,10.5,37.0042,37.0042,18.75,10.5,33.0,26.0,11.5,13.0,13.0,13.8583,24.0,26.0,10.5,13.0],\"xaxis\":\"x\",\"yaxis\":\"y\",\"type\":\"histogram\"}],                        {\"template\":{\"data\":{\"histogram2dcontour\":[{\"type\":\"histogram2dcontour\",\"colorbar\":{\"outlinewidth\":0,\"ticks\":\"\"},\"colorscale\":[[0.0,\"#0d0887\"],[0.1111111111111111,\"#46039f\"],[0.2222222222222222,\"#7201a8\"],[0.3333333333333333,\"#9c179e\"],[0.4444444444444444,\"#bd3786\"],[0.5555555555555556,\"#d8576b\"],[0.6666666666666666,\"#ed7953\"],[0.7777777777777778,\"#fb9f3a\"],[0.8888888888888888,\"#fdca26\"],[1.0,\"#f0f921\"]]}],\"choropleth\":[{\"type\":\"choropleth\",\"colorbar\":{\"outlinewidth\":0,\"ticks\":\"\"}}],\"histogram2d\":[{\"type\":\"histogram2d\",\"colorbar\":{\"outlinewidth\":0,\"ticks\":\"\"},\"colorscale\":[[0.0,\"#0d0887\"],[0.1111111111111111,\"#46039f\"],[0.2222222222222222,\"#7201a8\"],[0.3333333333333333,\"#9c179e\"],[0.4444444444444444,\"#bd3786\"],[0.5555555555555556,\"#d8576b\"],[0.6666666666666666,\"#ed7953\"],[0.7777777777777778,\"#fb9f3a\"],[0.8888888888888888,\"#fdca26\"],[1.0,\"#f0f921\"]]}],\"heatmap\":[{\"type\":\"heatmap\",\"colorbar\":{\"outlinewidth\":0,\"ticks\":\"\"},\"colorscale\":[[0.0,\"#0d0887\"],[0.1111111111111111,\"#46039f\"],[0.2222222222222222,\"#7201a8\"],[0.3333333333333333,\"#9c179e\"],[0.4444444444444444,\"#bd3786\"],[0.5555555555555556,\"#d8576b\"],[0.6666666666666666,\"#ed7953\"],[0.7777777777777778,\"#fb9f3a\"],[0.8888888888888888,\"#fdca26\"],[1.0,\"#f0f921\"]]}],\"heatmapgl\":[{\"type\":\"heatmapgl\",\"colorbar\":{\"outlinewidth\":0,\"ticks\":\"\"},\"colorscale\":[[0.0,\"#0d0887\"],[0.1111111111111111,\"#46039f\"],[0.2222222222222222,\"#7201a8\"],[0.3333333333333333,\"#9c179e\"],[0.4444444444444444,\"#bd3786\"],[0.5555555555555556,\"#d8576b\"],[0.6666666666666666,\"#ed7953\"],[0.7777777777777778,\"#fb9f3a\"],[0.8888888888888888,\"#fdca26\"],[1.0,\"#f0f921\"]]}],\"contourcarpet\":[{\"type\":\"contourcarpet\",\"colorbar\":{\"outlinewidth\":0,\"ticks\":\"\"}}],\"contour\":[{\"type\":\"contour\",\"colorbar\":{\"outlinewidth\":0,\"ticks\":\"\"},\"colorscale\":[[0.0,\"#0d0887\"],[0.1111111111111111,\"#46039f\"],[0.2222222222222222,\"#7201a8\"],[0.3333333333333333,\"#9c179e\"],[0.4444444444444444,\"#bd3786\"],[0.5555555555555556,\"#d8576b\"],[0.6666666666666666,\"#ed7953\"],[0.7777777777777778,\"#fb9f3a\"],[0.8888888888888888,\"#fdca26\"],[1.0,\"#f0f921\"]]}],\"surface\":[{\"type\":\"surface\",\"colorbar\":{\"outlinewidth\":0,\"ticks\":\"\"},\"colorscale\":[[0.0,\"#0d0887\"],[0.1111111111111111,\"#46039f\"],[0.2222222222222222,\"#7201a8\"],[0.3333333333333333,\"#9c179e\"],[0.4444444444444444,\"#bd3786\"],[0.5555555555555556,\"#d8576b\"],[0.6666666666666666,\"#ed7953\"],[0.7777777777777778,\"#fb9f3a\"],[0.8888888888888888,\"#fdca26\"],[1.0,\"#f0f921\"]]}],\"mesh3d\":[{\"type\":\"mesh3d\",\"colorbar\":{\"outlinewidth\":0,\"ticks\":\"\"}}],\"scatter\":[{\"fillpattern\":{\"fillmode\":\"overlay\",\"size\":10,\"solidity\":0.2},\"type\":\"scatter\"}],\"parcoords\":[{\"type\":\"parcoords\",\"line\":{\"colorbar\":{\"outlinewidth\":0,\"ticks\":\"\"}}}],\"scatterpolargl\":[{\"type\":\"scatterpolargl\",\"marker\":{\"colorbar\":{\"outlinewidth\":0,\"ticks\":\"\"}}}],\"bar\":[{\"error_x\":{\"color\":\"#2a3f5f\"},\"error_y\":{\"color\":\"#2a3f5f\"},\"marker\":{\"line\":{\"color\":\"#E5ECF6\",\"width\":0.5},\"pattern\":{\"fillmode\":\"overlay\",\"size\":10,\"solidity\":0.2}},\"type\":\"bar\"}],\"scattergeo\":[{\"type\":\"scattergeo\",\"marker\":{\"colorbar\":{\"outlinewidth\":0,\"ticks\":\"\"}}}],\"scatterpolar\":[{\"type\":\"scatterpolar\",\"marker\":{\"colorbar\":{\"outlinewidth\":0,\"ticks\":\"\"}}}],\"histogram\":[{\"marker\":{\"pattern\":{\"fillmode\":\"overlay\",\"size\":10,\"solidity\":0.2}},\"type\":\"histogram\"}],\"scattergl\":[{\"type\":\"scattergl\",\"marker\":{\"colorbar\":{\"outlinewidth\":0,\"ticks\":\"\"}}}],\"scatter3d\":[{\"type\":\"scatter3d\",\"line\":{\"colorbar\":{\"outlinewidth\":0,\"ticks\":\"\"}},\"marker\":{\"colorbar\":{\"outlinewidth\":0,\"ticks\":\"\"}}}],\"scattermapbox\":[{\"type\":\"scattermapbox\",\"marker\":{\"colorbar\":{\"outlinewidth\":0,\"ticks\":\"\"}}}],\"scatterternary\":[{\"type\":\"scatterternary\",\"marker\":{\"colorbar\":{\"outlinewidth\":0,\"ticks\":\"\"}}}],\"scattercarpet\":[{\"type\":\"scattercarpet\",\"marker\":{\"colorbar\":{\"outlinewidth\":0,\"ticks\":\"\"}}}],\"carpet\":[{\"aaxis\":{\"endlinecolor\":\"#2a3f5f\",\"gridcolor\":\"white\",\"linecolor\":\"white\",\"minorgridcolor\":\"white\",\"startlinecolor\":\"#2a3f5f\"},\"baxis\":{\"endlinecolor\":\"#2a3f5f\",\"gridcolor\":\"white\",\"linecolor\":\"white\",\"minorgridcolor\":\"white\",\"startlinecolor\":\"#2a3f5f\"},\"type\":\"carpet\"}],\"table\":[{\"cells\":{\"fill\":{\"color\":\"#EBF0F8\"},\"line\":{\"color\":\"white\"}},\"header\":{\"fill\":{\"color\":\"#C8D4E3\"},\"line\":{\"color\":\"white\"}},\"type\":\"table\"}],\"barpolar\":[{\"marker\":{\"line\":{\"color\":\"#E5ECF6\",\"width\":0.5},\"pattern\":{\"fillmode\":\"overlay\",\"size\":10,\"solidity\":0.2}},\"type\":\"barpolar\"}],\"pie\":[{\"automargin\":true,\"type\":\"pie\"}]},\"layout\":{\"autotypenumbers\":\"strict\",\"colorway\":[\"#636efa\",\"#EF553B\",\"#00cc96\",\"#ab63fa\",\"#FFA15A\",\"#19d3f3\",\"#FF6692\",\"#B6E880\",\"#FF97FF\",\"#FECB52\"],\"font\":{\"color\":\"#2a3f5f\"},\"hovermode\":\"closest\",\"hoverlabel\":{\"align\":\"left\"},\"paper_bgcolor\":\"white\",\"plot_bgcolor\":\"#E5ECF6\",\"polar\":{\"bgcolor\":\"#E5ECF6\",\"angularaxis\":{\"gridcolor\":\"white\",\"linecolor\":\"white\",\"ticks\":\"\"},\"radialaxis\":{\"gridcolor\":\"white\",\"linecolor\":\"white\",\"ticks\":\"\"}},\"ternary\":{\"bgcolor\":\"#E5ECF6\",\"aaxis\":{\"gridcolor\":\"white\",\"linecolor\":\"white\",\"ticks\":\"\"},\"baxis\":{\"gridcolor\":\"white\",\"linecolor\":\"white\",\"ticks\":\"\"},\"caxis\":{\"gridcolor\":\"white\",\"linecolor\":\"white\",\"ticks\":\"\"}},\"coloraxis\":{\"colorbar\":{\"outlinewidth\":0,\"ticks\":\"\"}},\"colorscale\":{\"sequential\":[[0.0,\"#0d0887\"],[0.1111111111111111,\"#46039f\"],[0.2222222222222222,\"#7201a8\"],[0.3333333333333333,\"#9c179e\"],[0.4444444444444444,\"#bd3786\"],[0.5555555555555556,\"#d8576b\"],[0.6666666666666666,\"#ed7953\"],[0.7777777777777778,\"#fb9f3a\"],[0.8888888888888888,\"#fdca26\"],[1.0,\"#f0f921\"]],\"sequentialminus\":[[0.0,\"#0d0887\"],[0.1111111111111111,\"#46039f\"],[0.2222222222222222,\"#7201a8\"],[0.3333333333333333,\"#9c179e\"],[0.4444444444444444,\"#bd3786\"],[0.5555555555555556,\"#d8576b\"],[0.6666666666666666,\"#ed7953\"],[0.7777777777777778,\"#fb9f3a\"],[0.8888888888888888,\"#fdca26\"],[1.0,\"#f0f921\"]],\"diverging\":[[0,\"#8e0152\"],[0.1,\"#c51b7d\"],[0.2,\"#de77ae\"],[0.3,\"#f1b6da\"],[0.4,\"#fde0ef\"],[0.5,\"#f7f7f7\"],[0.6,\"#e6f5d0\"],[0.7,\"#b8e186\"],[0.8,\"#7fbc41\"],[0.9,\"#4d9221\"],[1,\"#276419\"]]},\"xaxis\":{\"gridcolor\":\"white\",\"linecolor\":\"white\",\"ticks\":\"\",\"title\":{\"standoff\":15},\"zerolinecolor\":\"white\",\"automargin\":true,\"zerolinewidth\":2},\"yaxis\":{\"gridcolor\":\"white\",\"linecolor\":\"white\",\"ticks\":\"\",\"title\":{\"standoff\":15},\"zerolinecolor\":\"white\",\"automargin\":true,\"zerolinewidth\":2},\"scene\":{\"xaxis\":{\"backgroundcolor\":\"#E5ECF6\",\"gridcolor\":\"white\",\"linecolor\":\"white\",\"showbackground\":true,\"ticks\":\"\",\"zerolinecolor\":\"white\",\"gridwidth\":2},\"yaxis\":{\"backgroundcolor\":\"#E5ECF6\",\"gridcolor\":\"white\",\"linecolor\":\"white\",\"showbackground\":true,\"ticks\":\"\",\"zerolinecolor\":\"white\",\"gridwidth\":2},\"zaxis\":{\"backgroundcolor\":\"#E5ECF6\",\"gridcolor\":\"white\",\"linecolor\":\"white\",\"showbackground\":true,\"ticks\":\"\",\"zerolinecolor\":\"white\",\"gridwidth\":2}},\"shapedefaults\":{\"line\":{\"color\":\"#2a3f5f\"}},\"annotationdefaults\":{\"arrowcolor\":\"#2a3f5f\",\"arrowhead\":0,\"arrowwidth\":1},\"geo\":{\"bgcolor\":\"white\",\"landcolor\":\"#E5ECF6\",\"subunitcolor\":\"white\",\"showland\":true,\"showlakes\":true,\"lakecolor\":\"white\"},\"title\":{\"x\":0.05},\"mapbox\":{\"style\":\"light\"}}},\"xaxis\":{\"anchor\":\"y\",\"domain\":[0.0,1.0],\"title\":{\"text\":\"Fare\"}},\"yaxis\":{\"anchor\":\"x\",\"domain\":[0.0,1.0],\"title\":{\"text\":\"count\"}},\"legend\":{\"title\":{\"text\":\"Pclass\"},\"tracegroupgap\":0},\"title\":{\"text\":\"Fare by ticket class\"},\"barmode\":\"relative\",\"height\":300,\"width\":800},                        {\"responsive\": true}                    ).then(function(){\n",
       "                            \n",
       "var gd = document.getElementById('2114baab-2f39-4246-b646-bedc679d882d');\n",
       "var x = new MutationObserver(function (mutations, observer) {{\n",
       "        var display = window.getComputedStyle(gd).display;\n",
       "        if (!display || display === 'none') {{\n",
       "            console.log([gd, 'removed!']);\n",
       "            Plotly.purge(gd);\n",
       "            observer.disconnect();\n",
       "        }}\n",
       "}});\n",
       "\n",
       "// Listen for the removal of the full notebook cells\n",
       "var notebookContainer = gd.closest('#notebook-container');\n",
       "if (notebookContainer) {{\n",
       "    x.observe(notebookContainer, {childList: true});\n",
       "}}\n",
       "\n",
       "// Listen for the clearing of the current output cell\n",
       "var outputEl = gd.closest('.output');\n",
       "if (outputEl) {{\n",
       "    x.observe(outputEl, {childList: true});\n",
       "}}\n",
       "\n",
       "                        })                };                });            </script>        </div>"
      ]
     },
     "metadata": {},
     "output_type": "display_data"
    }
   ],
   "source": [
    "print(\"---------PClass---------\")\n",
    "print(pd.pivot_table(train_df, index='Survived', columns='Pclass', values='PassengerId', aggfunc='count'))\n",
    "#Checking the Age of the population\n",
    "fig_Pclass = px.histogram(train_df, x=\"Pclass\", color=\"Survived\",\n",
    "                       title = 'Pclass (Ticket Class)', width=400, height=300, barmode='group') \n",
    "fig_Pclass.show()\n",
    "fig_Fare = px.histogram(train_df, x='Fare', color=\"Pclass\", nbins=20, \n",
    "             title=\"Fare by ticket class\", width=800, height=300)\n",
    "fig_Fare.show()"
   ]
  },
  {
   "cell_type": "code",
   "execution_count": 8,
   "id": "0d92c1c6",
   "metadata": {
    "execution": {
     "iopub.execute_input": "2022-10-21T20:38:06.556248Z",
     "iopub.status.busy": "2022-10-21T20:38:06.555811Z",
     "iopub.status.idle": "2022-10-21T20:38:06.643736Z",
     "shell.execute_reply": "2022-10-21T20:38:06.642329Z"
    },
    "papermill": {
     "duration": 0.104358,
     "end_time": "2022-10-21T20:38:06.646618",
     "exception": false,
     "start_time": "2022-10-21T20:38:06.542260",
     "status": "completed"
    },
    "tags": []
   },
   "outputs": [
    {
     "name": "stdout",
     "output_type": "stream",
     "text": [
      "---------Embarked-------\n",
      "Embarked   C   Q    S\n",
      "Survived             \n",
      "0         75  47  427\n",
      "1         93  30  217\n"
     ]
    },
    {
     "data": {
      "text/html": [
       "<div>                            <div id=\"6b74c910-8771-4a28-a30d-71d48c7cb16e\" class=\"plotly-graph-div\" style=\"height:300px; width:400px;\"></div>            <script type=\"text/javascript\">                require([\"plotly\"], function(Plotly) {                    window.PLOTLYENV=window.PLOTLYENV || {};                                    if (document.getElementById(\"6b74c910-8771-4a28-a30d-71d48c7cb16e\")) {                    Plotly.newPlot(                        \"6b74c910-8771-4a28-a30d-71d48c7cb16e\",                        [{\"alignmentgroup\":\"True\",\"bingroup\":\"x\",\"hovertemplate\":\"Survived=0<br>Embarked=%{x}<br>count=%{y}<extra></extra>\",\"legendgroup\":\"0\",\"marker\":{\"color\":\"#636efa\",\"pattern\":{\"shape\":\"\"}},\"name\":\"0\",\"offsetgroup\":\"0\",\"orientation\":\"v\",\"showlegend\":true,\"x\":[\"S\",\"S\",\"Q\",\"S\",\"S\",\"S\",\"S\",\"S\",\"Q\",\"S\",\"S\",\"S\",\"C\",\"S\",\"S\",\"C\",\"S\",\"C\",\"S\",\"S\",\"S\",\"S\",\"S\",\"C\",\"S\",\"Q\",\"C\",\"S\",\"S\",\"S\",\"C\",\"C\",\"S\",\"C\",\"S\",\"S\",\"C\",\"S\",\"S\",\"S\",\"S\",\"S\",\"C\",\"S\",\"S\",\"S\",\"S\",\"S\",\"S\",\"S\",\"S\",\"S\",\"S\",\"S\",\"S\",\"S\",\"S\",\"C\",\"S\",\"S\",\"S\",\"S\",\"S\",\"S\",\"S\",\"S\",\"S\",\"C\",\"S\",\"S\",\"C\",\"S\",\"Q\",\"S\",\"C\",\"S\",\"S\",\"S\",\"C\",\"S\",\"Q\",\"S\",\"C\",\"S\",\"S\",\"S\",\"C\",\"S\",\"S\",\"C\",\"C\",\"Q\",\"S\",\"S\",\"S\",\"S\",\"S\",\"S\",\"S\",\"S\",\"S\",\"C\",\"S\",\"S\",\"S\",\"S\",\"S\",\"S\",\"S\",\"S\",\"S\",\"S\",\"S\",\"Q\",\"S\",\"C\",\"S\",\"S\",\"C\",\"S\",\"S\",\"S\",\"C\",\"S\",\"S\",\"Q\",\"S\",\"S\",\"Q\",\"S\",\"S\",\"S\",\"S\",\"S\",\"C\",\"S\",\"S\",\"S\",\"S\",\"S\",\"Q\",\"S\",\"S\",\"S\",\"S\",\"S\",\"S\",\"S\",\"S\",\"S\",\"S\",\"S\",\"S\",\"S\",\"S\",\"S\",\"S\",\"C\",\"S\",\"S\",\"C\",\"Q\",\"S\",\"S\",\"S\",\"S\",\"S\",\"S\",\"S\",\"Q\",\"S\",\"S\",\"Q\",\"S\",\"S\",\"S\",\"C\",\"S\",\"S\",\"Q\",\"Q\",\"S\",\"S\",\"S\",\"C\",\"S\",\"C\",\"S\",\"S\",\"C\",\"C\",\"S\",\"S\",\"S\",\"C\",\"S\",\"S\",\"S\",\"S\",\"S\",\"S\",\"S\",\"S\",\"S\",\"S\",\"S\",\"S\",\"S\",\"S\",\"S\",\"S\",\"S\",\"S\",\"S\",\"S\",\"C\",\"S\",\"C\",\"S\",\"S\",\"S\",\"C\",\"C\",\"S\",\"Q\",\"S\",\"S\",\"S\",\"C\",\"S\",\"C\",\"C\",\"S\",\"S\",\"S\",\"S\",\"S\",\"Q\",\"S\",\"S\",\"S\",\"S\",\"S\",\"S\",\"S\",\"S\",\"S\",\"S\",\"S\",\"S\",\"S\",\"S\",\"Q\",\"S\",\"S\",\"S\",\"S\",\"C\",\"Q\",\"S\",\"S\",\"S\",\"S\",\"Q\",\"S\",\"S\",\"S\",\"S\",\"S\",\"S\",\"S\",\"S\",\"S\",\"C\",\"S\",\"S\",\"Q\",\"S\",\"S\",\"S\",\"S\",\"S\",\"S\",\"S\",\"Q\",\"S\",\"S\",\"S\",\"S\",\"S\",\"S\",\"S\",\"S\",\"S\",\"S\",\"S\",\"C\",\"S\",\"S\",\"S\",\"S\",\"C\",\"S\",\"C\",\"S\",\"S\",\"S\",\"S\",\"Q\",\"Q\",\"S\",\"C\",\"S\",\"S\",\"S\",\"S\",\"Q\",\"S\",\"S\",\"C\",\"C\",\"Q\",\"S\",\"S\",\"S\",\"C\",\"C\",\"S\",\"S\",\"S\",\"S\",\"S\",\"C\",\"S\",\"S\",\"S\",\"Q\",\"S\",\"C\",\"Q\",\"S\",\"S\",\"S\",\"S\",\"S\",\"S\",\"S\",\"C\",\"S\",\"S\",\"C\",\"S\",\"C\",\"C\",\"S\",\"S\",\"S\",\"S\",\"S\",\"Q\",\"S\",\"S\",\"S\",\"C\",\"S\",\"S\",\"S\",\"S\",\"S\",\"S\",\"S\",\"Q\",\"S\",\"S\",\"S\",\"S\",\"C\",\"S\",\"S\",\"S\",\"Q\",\"S\",\"Q\",\"S\",\"S\",\"S\",\"S\",\"S\",\"S\",\"S\",\"S\",\"S\",\"S\",\"S\",\"S\",\"S\",\"Q\",\"S\",\"S\",\"Q\",\"S\",\"C\",\"C\",\"S\",\"S\",\"S\",\"S\",\"S\",\"S\",\"S\",\"S\",\"S\",\"S\",\"S\",\"S\",\"Q\",\"S\",\"S\",\"S\",\"C\",\"S\",\"S\",\"S\",\"C\",\"S\",\"S\",\"S\",\"C\",\"S\",\"C\",\"Q\",\"S\",\"S\",\"S\",\"S\",\"S\",\"S\",\"Q\",\"S\",\"S\",\"S\",\"S\",\"S\",\"S\",\"S\",\"C\",\"S\",\"S\",\"S\",\"S\",\"S\",\"S\",\"S\",\"S\",\"S\",\"S\",\"S\",\"S\",\"Q\",\"S\",\"S\",\"S\",\"S\",\"S\",\"S\",\"S\",\"S\",\"C\",\"Q\",\"Q\",\"S\",\"S\",\"S\",\"S\",\"C\",\"S\",\"Q\",\"Q\",\"S\",\"S\",\"S\",\"S\",\"Q\",\"C\",\"Q\",\"S\",\"S\",\"C\",\"S\",\"S\",\"C\",\"S\",\"S\",\"S\",\"S\",\"S\",\"S\",\"S\",\"S\",\"S\",\"S\",\"S\",\"S\",\"S\",\"C\",\"S\",\"S\",\"S\",\"S\",\"Q\",\"S\",\"C\",\"S\",\"S\",\"S\",\"S\",\"S\",\"S\",\"C\",\"S\",\"S\",\"S\",\"C\",\"S\",\"S\",\"S\",\"C\",\"S\",\"C\",\"S\",\"S\",\"S\",\"S\",\"S\",\"S\",\"S\",\"S\",\"S\",\"S\",\"S\",\"S\",\"S\",\"S\",\"S\",\"S\",\"Q\",\"S\",\"S\",\"Q\"],\"xaxis\":\"x\",\"yaxis\":\"y\",\"type\":\"histogram\"},{\"alignmentgroup\":\"True\",\"bingroup\":\"x\",\"hovertemplate\":\"Survived=1<br>Embarked=%{x}<br>count=%{y}<extra></extra>\",\"legendgroup\":\"1\",\"marker\":{\"color\":\"#EF553B\",\"pattern\":{\"shape\":\"\"}},\"name\":\"1\",\"offsetgroup\":\"1\",\"orientation\":\"v\",\"showlegend\":true,\"x\":[\"C\",\"S\",\"S\",\"S\",\"C\",\"S\",\"S\",\"S\",\"S\",\"C\",\"S\",\"Q\",\"S\",\"S\",\"Q\",\"C\",\"Q\",\"C\",\"C\",\"C\",\"Q\",\"Q\",\"C\",\"S\",\"S\",\"S\",\"S\",null,\"C\",\"S\",\"S\",\"S\",\"S\",\"S\",\"S\",\"Q\",\"S\",\"S\",\"S\",\"C\",\"S\",\"S\",\"S\",\"Q\",\"S\",\"C\",\"S\",\"C\",\"S\",\"S\",\"S\",\"S\",\"S\",\"S\",\"Q\",\"S\",\"S\",\"S\",\"S\",\"S\",\"S\",\"Q\",\"S\",\"S\",\"S\",\"S\",\"C\",\"C\",\"Q\",\"S\",\"C\",\"Q\",\"C\",\"S\",\"C\",\"S\",\"C\",\"S\",\"S\",\"S\",\"S\",\"S\",\"S\",\"Q\",\"S\",\"S\",\"C\",\"C\",\"S\",\"C\",\"S\",\"S\",\"S\",\"S\",\"S\",\"S\",\"S\",\"Q\",\"S\",\"S\",\"S\",\"S\",\"S\",\"Q\",\"S\",\"C\",\"S\",\"C\",\"Q\",\"Q\",\"Q\",\"S\",\"C\",\"C\",\"C\",\"C\",\"C\",\"S\",\"S\",\"S\",\"C\",\"Q\",\"S\",\"C\",\"S\",\"S\",\"C\",\"Q\",\"S\",\"C\",\"S\",\"S\",\"S\",\"S\",\"S\",\"S\",\"S\",\"S\",\"Q\",\"Q\",\"C\",\"C\",\"Q\",\"C\",\"C\",\"C\",\"S\",\"C\",\"C\",\"S\",\"S\",\"C\",\"S\",\"S\",\"C\",\"S\",\"S\",\"S\",\"S\",\"Q\",\"S\",\"S\",\"S\",\"S\",\"S\",\"S\",\"S\",\"S\",\"S\",\"S\",\"S\",\"S\",\"S\",\"S\",\"S\",\"S\",\"S\",\"C\",\"S\",\"C\",\"C\",\"S\",\"S\",\"S\",\"C\",\"S\",\"C\",\"S\",\"S\",\"C\",\"S\",\"S\",\"C\",\"S\",\"S\",\"S\",\"S\",\"Q\",\"S\",\"C\",\"S\",\"S\",\"S\",\"C\",\"S\",\"S\",\"C\",\"S\",\"C\",\"C\",\"S\",\"S\",\"S\",\"C\",\"S\",\"C\",\"C\",\"S\",\"C\",\"S\",\"S\",\"S\",\"S\",\"S\",\"S\",\"Q\",\"S\",\"S\",\"S\",\"S\",\"C\",\"S\",\"C\",\"C\",\"S\",\"C\",\"S\",\"C\",\"S\",\"C\",\"S\",\"Q\",\"S\",\"S\",\"S\",\"C\",\"S\",\"S\",\"C\",\"S\",\"C\",\"S\",\"C\",\"C\",\"C\",\"S\",\"S\",\"Q\",\"S\",\"S\",\"S\",\"S\",\"S\",\"S\",\"C\",\"C\",\"S\",\"S\",\"C\",\"S\",\"Q\",\"C\",\"S\",\"S\",\"S\",\"S\",\"C\",\"C\",\"S\",\"C\",\"S\",\"S\",\"S\",\"S\",\"Q\",\"S\",\"C\",\"S\",\"C\",\"S\",\"S\",\"S\",\"S\",\"S\",\"S\",\"S\",\"C\",\"S\",\"S\",\"S\",\"S\",\"S\",\"C\",\"S\",\"S\",\"S\",\"S\",\"S\",\"S\",\"S\",\"C\",\"S\",\"S\",\"S\",\"S\",\"S\",\"C\",\"Q\",null,\"C\",\"S\",\"C\",\"S\",\"C\",\"C\",\"C\",\"S\",\"S\",\"S\",\"S\",\"C\",\"S\",\"S\",\"C\",\"S\",\"S\",\"C\",\"C\",\"C\",\"S\",\"S\",\"C\"],\"xaxis\":\"x\",\"yaxis\":\"y\",\"type\":\"histogram\"}],                        {\"template\":{\"data\":{\"histogram2dcontour\":[{\"type\":\"histogram2dcontour\",\"colorbar\":{\"outlinewidth\":0,\"ticks\":\"\"},\"colorscale\":[[0.0,\"#0d0887\"],[0.1111111111111111,\"#46039f\"],[0.2222222222222222,\"#7201a8\"],[0.3333333333333333,\"#9c179e\"],[0.4444444444444444,\"#bd3786\"],[0.5555555555555556,\"#d8576b\"],[0.6666666666666666,\"#ed7953\"],[0.7777777777777778,\"#fb9f3a\"],[0.8888888888888888,\"#fdca26\"],[1.0,\"#f0f921\"]]}],\"choropleth\":[{\"type\":\"choropleth\",\"colorbar\":{\"outlinewidth\":0,\"ticks\":\"\"}}],\"histogram2d\":[{\"type\":\"histogram2d\",\"colorbar\":{\"outlinewidth\":0,\"ticks\":\"\"},\"colorscale\":[[0.0,\"#0d0887\"],[0.1111111111111111,\"#46039f\"],[0.2222222222222222,\"#7201a8\"],[0.3333333333333333,\"#9c179e\"],[0.4444444444444444,\"#bd3786\"],[0.5555555555555556,\"#d8576b\"],[0.6666666666666666,\"#ed7953\"],[0.7777777777777778,\"#fb9f3a\"],[0.8888888888888888,\"#fdca26\"],[1.0,\"#f0f921\"]]}],\"heatmap\":[{\"type\":\"heatmap\",\"colorbar\":{\"outlinewidth\":0,\"ticks\":\"\"},\"colorscale\":[[0.0,\"#0d0887\"],[0.1111111111111111,\"#46039f\"],[0.2222222222222222,\"#7201a8\"],[0.3333333333333333,\"#9c179e\"],[0.4444444444444444,\"#bd3786\"],[0.5555555555555556,\"#d8576b\"],[0.6666666666666666,\"#ed7953\"],[0.7777777777777778,\"#fb9f3a\"],[0.8888888888888888,\"#fdca26\"],[1.0,\"#f0f921\"]]}],\"heatmapgl\":[{\"type\":\"heatmapgl\",\"colorbar\":{\"outlinewidth\":0,\"ticks\":\"\"},\"colorscale\":[[0.0,\"#0d0887\"],[0.1111111111111111,\"#46039f\"],[0.2222222222222222,\"#7201a8\"],[0.3333333333333333,\"#9c179e\"],[0.4444444444444444,\"#bd3786\"],[0.5555555555555556,\"#d8576b\"],[0.6666666666666666,\"#ed7953\"],[0.7777777777777778,\"#fb9f3a\"],[0.8888888888888888,\"#fdca26\"],[1.0,\"#f0f921\"]]}],\"contourcarpet\":[{\"type\":\"contourcarpet\",\"colorbar\":{\"outlinewidth\":0,\"ticks\":\"\"}}],\"contour\":[{\"type\":\"contour\",\"colorbar\":{\"outlinewidth\":0,\"ticks\":\"\"},\"colorscale\":[[0.0,\"#0d0887\"],[0.1111111111111111,\"#46039f\"],[0.2222222222222222,\"#7201a8\"],[0.3333333333333333,\"#9c179e\"],[0.4444444444444444,\"#bd3786\"],[0.5555555555555556,\"#d8576b\"],[0.6666666666666666,\"#ed7953\"],[0.7777777777777778,\"#fb9f3a\"],[0.8888888888888888,\"#fdca26\"],[1.0,\"#f0f921\"]]}],\"surface\":[{\"type\":\"surface\",\"colorbar\":{\"outlinewidth\":0,\"ticks\":\"\"},\"colorscale\":[[0.0,\"#0d0887\"],[0.1111111111111111,\"#46039f\"],[0.2222222222222222,\"#7201a8\"],[0.3333333333333333,\"#9c179e\"],[0.4444444444444444,\"#bd3786\"],[0.5555555555555556,\"#d8576b\"],[0.6666666666666666,\"#ed7953\"],[0.7777777777777778,\"#fb9f3a\"],[0.8888888888888888,\"#fdca26\"],[1.0,\"#f0f921\"]]}],\"mesh3d\":[{\"type\":\"mesh3d\",\"colorbar\":{\"outlinewidth\":0,\"ticks\":\"\"}}],\"scatter\":[{\"fillpattern\":{\"fillmode\":\"overlay\",\"size\":10,\"solidity\":0.2},\"type\":\"scatter\"}],\"parcoords\":[{\"type\":\"parcoords\",\"line\":{\"colorbar\":{\"outlinewidth\":0,\"ticks\":\"\"}}}],\"scatterpolargl\":[{\"type\":\"scatterpolargl\",\"marker\":{\"colorbar\":{\"outlinewidth\":0,\"ticks\":\"\"}}}],\"bar\":[{\"error_x\":{\"color\":\"#2a3f5f\"},\"error_y\":{\"color\":\"#2a3f5f\"},\"marker\":{\"line\":{\"color\":\"#E5ECF6\",\"width\":0.5},\"pattern\":{\"fillmode\":\"overlay\",\"size\":10,\"solidity\":0.2}},\"type\":\"bar\"}],\"scattergeo\":[{\"type\":\"scattergeo\",\"marker\":{\"colorbar\":{\"outlinewidth\":0,\"ticks\":\"\"}}}],\"scatterpolar\":[{\"type\":\"scatterpolar\",\"marker\":{\"colorbar\":{\"outlinewidth\":0,\"ticks\":\"\"}}}],\"histogram\":[{\"marker\":{\"pattern\":{\"fillmode\":\"overlay\",\"size\":10,\"solidity\":0.2}},\"type\":\"histogram\"}],\"scattergl\":[{\"type\":\"scattergl\",\"marker\":{\"colorbar\":{\"outlinewidth\":0,\"ticks\":\"\"}}}],\"scatter3d\":[{\"type\":\"scatter3d\",\"line\":{\"colorbar\":{\"outlinewidth\":0,\"ticks\":\"\"}},\"marker\":{\"colorbar\":{\"outlinewidth\":0,\"ticks\":\"\"}}}],\"scattermapbox\":[{\"type\":\"scattermapbox\",\"marker\":{\"colorbar\":{\"outlinewidth\":0,\"ticks\":\"\"}}}],\"scatterternary\":[{\"type\":\"scatterternary\",\"marker\":{\"colorbar\":{\"outlinewidth\":0,\"ticks\":\"\"}}}],\"scattercarpet\":[{\"type\":\"scattercarpet\",\"marker\":{\"colorbar\":{\"outlinewidth\":0,\"ticks\":\"\"}}}],\"carpet\":[{\"aaxis\":{\"endlinecolor\":\"#2a3f5f\",\"gridcolor\":\"white\",\"linecolor\":\"white\",\"minorgridcolor\":\"white\",\"startlinecolor\":\"#2a3f5f\"},\"baxis\":{\"endlinecolor\":\"#2a3f5f\",\"gridcolor\":\"white\",\"linecolor\":\"white\",\"minorgridcolor\":\"white\",\"startlinecolor\":\"#2a3f5f\"},\"type\":\"carpet\"}],\"table\":[{\"cells\":{\"fill\":{\"color\":\"#EBF0F8\"},\"line\":{\"color\":\"white\"}},\"header\":{\"fill\":{\"color\":\"#C8D4E3\"},\"line\":{\"color\":\"white\"}},\"type\":\"table\"}],\"barpolar\":[{\"marker\":{\"line\":{\"color\":\"#E5ECF6\",\"width\":0.5},\"pattern\":{\"fillmode\":\"overlay\",\"size\":10,\"solidity\":0.2}},\"type\":\"barpolar\"}],\"pie\":[{\"automargin\":true,\"type\":\"pie\"}]},\"layout\":{\"autotypenumbers\":\"strict\",\"colorway\":[\"#636efa\",\"#EF553B\",\"#00cc96\",\"#ab63fa\",\"#FFA15A\",\"#19d3f3\",\"#FF6692\",\"#B6E880\",\"#FF97FF\",\"#FECB52\"],\"font\":{\"color\":\"#2a3f5f\"},\"hovermode\":\"closest\",\"hoverlabel\":{\"align\":\"left\"},\"paper_bgcolor\":\"white\",\"plot_bgcolor\":\"#E5ECF6\",\"polar\":{\"bgcolor\":\"#E5ECF6\",\"angularaxis\":{\"gridcolor\":\"white\",\"linecolor\":\"white\",\"ticks\":\"\"},\"radialaxis\":{\"gridcolor\":\"white\",\"linecolor\":\"white\",\"ticks\":\"\"}},\"ternary\":{\"bgcolor\":\"#E5ECF6\",\"aaxis\":{\"gridcolor\":\"white\",\"linecolor\":\"white\",\"ticks\":\"\"},\"baxis\":{\"gridcolor\":\"white\",\"linecolor\":\"white\",\"ticks\":\"\"},\"caxis\":{\"gridcolor\":\"white\",\"linecolor\":\"white\",\"ticks\":\"\"}},\"coloraxis\":{\"colorbar\":{\"outlinewidth\":0,\"ticks\":\"\"}},\"colorscale\":{\"sequential\":[[0.0,\"#0d0887\"],[0.1111111111111111,\"#46039f\"],[0.2222222222222222,\"#7201a8\"],[0.3333333333333333,\"#9c179e\"],[0.4444444444444444,\"#bd3786\"],[0.5555555555555556,\"#d8576b\"],[0.6666666666666666,\"#ed7953\"],[0.7777777777777778,\"#fb9f3a\"],[0.8888888888888888,\"#fdca26\"],[1.0,\"#f0f921\"]],\"sequentialminus\":[[0.0,\"#0d0887\"],[0.1111111111111111,\"#46039f\"],[0.2222222222222222,\"#7201a8\"],[0.3333333333333333,\"#9c179e\"],[0.4444444444444444,\"#bd3786\"],[0.5555555555555556,\"#d8576b\"],[0.6666666666666666,\"#ed7953\"],[0.7777777777777778,\"#fb9f3a\"],[0.8888888888888888,\"#fdca26\"],[1.0,\"#f0f921\"]],\"diverging\":[[0,\"#8e0152\"],[0.1,\"#c51b7d\"],[0.2,\"#de77ae\"],[0.3,\"#f1b6da\"],[0.4,\"#fde0ef\"],[0.5,\"#f7f7f7\"],[0.6,\"#e6f5d0\"],[0.7,\"#b8e186\"],[0.8,\"#7fbc41\"],[0.9,\"#4d9221\"],[1,\"#276419\"]]},\"xaxis\":{\"gridcolor\":\"white\",\"linecolor\":\"white\",\"ticks\":\"\",\"title\":{\"standoff\":15},\"zerolinecolor\":\"white\",\"automargin\":true,\"zerolinewidth\":2},\"yaxis\":{\"gridcolor\":\"white\",\"linecolor\":\"white\",\"ticks\":\"\",\"title\":{\"standoff\":15},\"zerolinecolor\":\"white\",\"automargin\":true,\"zerolinewidth\":2},\"scene\":{\"xaxis\":{\"backgroundcolor\":\"#E5ECF6\",\"gridcolor\":\"white\",\"linecolor\":\"white\",\"showbackground\":true,\"ticks\":\"\",\"zerolinecolor\":\"white\",\"gridwidth\":2},\"yaxis\":{\"backgroundcolor\":\"#E5ECF6\",\"gridcolor\":\"white\",\"linecolor\":\"white\",\"showbackground\":true,\"ticks\":\"\",\"zerolinecolor\":\"white\",\"gridwidth\":2},\"zaxis\":{\"backgroundcolor\":\"#E5ECF6\",\"gridcolor\":\"white\",\"linecolor\":\"white\",\"showbackground\":true,\"ticks\":\"\",\"zerolinecolor\":\"white\",\"gridwidth\":2}},\"shapedefaults\":{\"line\":{\"color\":\"#2a3f5f\"}},\"annotationdefaults\":{\"arrowcolor\":\"#2a3f5f\",\"arrowhead\":0,\"arrowwidth\":1},\"geo\":{\"bgcolor\":\"white\",\"landcolor\":\"#E5ECF6\",\"subunitcolor\":\"white\",\"showland\":true,\"showlakes\":true,\"lakecolor\":\"white\"},\"title\":{\"x\":0.05},\"mapbox\":{\"style\":\"light\"}}},\"xaxis\":{\"anchor\":\"y\",\"domain\":[0.0,1.0],\"title\":{\"text\":\"Embarked\"}},\"yaxis\":{\"anchor\":\"x\",\"domain\":[0.0,1.0],\"title\":{\"text\":\"count\"}},\"legend\":{\"title\":{\"text\":\"Survived\"},\"tracegroupgap\":0},\"title\":{\"text\":\"Embarked\"},\"barmode\":\"group\",\"height\":300,\"width\":400},                        {\"responsive\": true}                    ).then(function(){\n",
       "                            \n",
       "var gd = document.getElementById('6b74c910-8771-4a28-a30d-71d48c7cb16e');\n",
       "var x = new MutationObserver(function (mutations, observer) {{\n",
       "        var display = window.getComputedStyle(gd).display;\n",
       "        if (!display || display === 'none') {{\n",
       "            console.log([gd, 'removed!']);\n",
       "            Plotly.purge(gd);\n",
       "            observer.disconnect();\n",
       "        }}\n",
       "}});\n",
       "\n",
       "// Listen for the removal of the full notebook cells\n",
       "var notebookContainer = gd.closest('#notebook-container');\n",
       "if (notebookContainer) {{\n",
       "    x.observe(notebookContainer, {childList: true});\n",
       "}}\n",
       "\n",
       "// Listen for the clearing of the current output cell\n",
       "var outputEl = gd.closest('.output');\n",
       "if (outputEl) {{\n",
       "    x.observe(outputEl, {childList: true});\n",
       "}}\n",
       "\n",
       "                        })                };                });            </script>        </div>"
      ]
     },
     "metadata": {},
     "output_type": "display_data"
    }
   ],
   "source": [
    "print(\"---------Embarked-------\")\n",
    "print(pd.pivot_table(train_df, index='Survived', columns='Embarked', values='PassengerId', aggfunc='count'))\n",
    "fig_Embarked = px.histogram(train_df, x=\"Embarked\", color=\"Survived\",\n",
    "                       title = 'Embarked', width=400, height=300, barmode='group') \n",
    "fig_Embarked.show()"
   ]
  },
  {
   "cell_type": "code",
   "execution_count": 9,
   "id": "848a1475",
   "metadata": {
    "execution": {
     "iopub.execute_input": "2022-10-21T20:38:06.675119Z",
     "iopub.status.busy": "2022-10-21T20:38:06.674687Z",
     "iopub.status.idle": "2022-10-21T20:38:06.827488Z",
     "shell.execute_reply": "2022-10-21T20:38:06.826480Z"
    },
    "papermill": {
     "duration": 0.170795,
     "end_time": "2022-10-21T20:38:06.830172",
     "exception": false,
     "start_time": "2022-10-21T20:38:06.659377",
     "status": "completed"
    },
    "tags": []
   },
   "outputs": [
    {
     "data": {
      "text/html": [
       "<div>                            <div id=\"2199f22e-7c38-4e1d-8192-f25d77258cc4\" class=\"plotly-graph-div\" style=\"height:300px; width:400px;\"></div>            <script type=\"text/javascript\">                require([\"plotly\"], function(Plotly) {                    window.PLOTLYENV=window.PLOTLYENV || {};                                    if (document.getElementById(\"2199f22e-7c38-4e1d-8192-f25d77258cc4\")) {                    Plotly.newPlot(                        \"2199f22e-7c38-4e1d-8192-f25d77258cc4\",                        [{\"alignmentgroup\":\"True\",\"box\":{\"visible\":true},\"customdata\":[[1,0,\"Braund, Mr. Owen Harris\",\"male\",22.0,1,0,\"A/5 21171\",7.25,null],[2,1,\"Cumings, Mrs. John Bradley (Florence Briggs Thayer)\",\"female\",38.0,1,0,\"PC 17599\",71.2833,\"C85\"],[3,1,\"Heikkinen, Miss. Laina\",\"female\",26.0,0,0,\"STON/O2. 3101282\",7.925,null],[4,1,\"Futrelle, Mrs. Jacques Heath (Lily May Peel)\",\"female\",35.0,1,0,\"113803\",53.1,\"C123\"],[5,0,\"Allen, Mr. William Henry\",\"male\",35.0,0,0,\"373450\",8.05,null],[6,0,\"Moran, Mr. James\",\"male\",null,0,0,\"330877\",8.4583,null],[7,0,\"McCarthy, Mr. Timothy J\",\"male\",54.0,0,0,\"17463\",51.8625,\"E46\"],[8,0,\"Palsson, Master. Gosta Leonard\",\"male\",2.0,3,1,\"349909\",21.075,null],[9,1,\"Johnson, Mrs. Oscar W (Elisabeth Vilhelmina Berg)\",\"female\",27.0,0,2,\"347742\",11.1333,null],[10,1,\"Nasser, Mrs. Nicholas (Adele Achem)\",\"female\",14.0,1,0,\"237736\",30.0708,null],[11,1,\"Sandstrom, Miss. Marguerite Rut\",\"female\",4.0,1,1,\"PP 9549\",16.7,\"G6\"],[12,1,\"Bonnell, Miss. Elizabeth\",\"female\",58.0,0,0,\"113783\",26.55,\"C103\"],[13,0,\"Saundercock, Mr. William Henry\",\"male\",20.0,0,0,\"A/5. 2151\",8.05,null],[14,0,\"Andersson, Mr. Anders Johan\",\"male\",39.0,1,5,\"347082\",31.275,null],[15,0,\"Vestrom, Miss. Hulda Amanda Adolfina\",\"female\",14.0,0,0,\"350406\",7.8542,null],[16,1,\"Hewlett, Mrs. (Mary D Kingcome) \",\"female\",55.0,0,0,\"248706\",16.0,null],[17,0,\"Rice, Master. Eugene\",\"male\",2.0,4,1,\"382652\",29.125,null],[18,1,\"Williams, Mr. Charles Eugene\",\"male\",null,0,0,\"244373\",13.0,null],[19,0,\"Vander Planke, Mrs. Julius (Emelia Maria Vandemoortele)\",\"female\",31.0,1,0,\"345763\",18.0,null],[20,1,\"Masselmani, Mrs. Fatima\",\"female\",null,0,0,\"2649\",7.225,null],[21,0,\"Fynney, Mr. Joseph J\",\"male\",35.0,0,0,\"239865\",26.0,null],[22,1,\"Beesley, Mr. Lawrence\",\"male\",34.0,0,0,\"248698\",13.0,\"D56\"],[23,1,\"McGowan, Miss. Anna \\\"Annie\\\"\",\"female\",15.0,0,0,\"330923\",8.0292,null],[24,1,\"Sloper, Mr. William Thompson\",\"male\",28.0,0,0,\"113788\",35.5,\"A6\"],[25,0,\"Palsson, Miss. Torborg Danira\",\"female\",8.0,3,1,\"349909\",21.075,null],[26,1,\"Asplund, Mrs. Carl Oscar (Selma Augusta Emilia Johansson)\",\"female\",38.0,1,5,\"347077\",31.3875,null],[27,0,\"Emir, Mr. Farred Chehab\",\"male\",null,0,0,\"2631\",7.225,null],[28,0,\"Fortune, Mr. Charles Alexander\",\"male\",19.0,3,2,\"19950\",263.0,\"C23 C25 C27\"],[29,1,\"O'Dwyer, Miss. Ellen \\\"Nellie\\\"\",\"female\",null,0,0,\"330959\",7.8792,null],[30,0,\"Todoroff, Mr. Lalio\",\"male\",null,0,0,\"349216\",7.8958,null],[31,0,\"Uruchurtu, Don. Manuel E\",\"male\",40.0,0,0,\"PC 17601\",27.7208,null],[32,1,\"Spencer, Mrs. William Augustus (Marie Eugenie)\",\"female\",null,1,0,\"PC 17569\",146.5208,\"B78\"],[33,1,\"Glynn, Miss. Mary Agatha\",\"female\",null,0,0,\"335677\",7.75,null],[34,0,\"Wheadon, Mr. Edward H\",\"male\",66.0,0,0,\"C.A. 24579\",10.5,null],[35,0,\"Meyer, Mr. Edgar Joseph\",\"male\",28.0,1,0,\"PC 17604\",82.1708,null],[36,0,\"Holverson, Mr. Alexander Oskar\",\"male\",42.0,1,0,\"113789\",52.0,null],[37,1,\"Mamee, Mr. Hanna\",\"male\",null,0,0,\"2677\",7.2292,null],[38,0,\"Cann, Mr. Ernest Charles\",\"male\",21.0,0,0,\"A./5. 2152\",8.05,null],[39,0,\"Vander Planke, Miss. Augusta Maria\",\"female\",18.0,2,0,\"345764\",18.0,null],[40,1,\"Nicola-Yarred, Miss. Jamila\",\"female\",14.0,1,0,\"2651\",11.2417,null],[41,0,\"Ahlin, Mrs. Johan (Johanna Persdotter Larsson)\",\"female\",40.0,1,0,\"7546\",9.475,null],[42,0,\"Turpin, Mrs. William John Robert (Dorothy Ann Wonnacott)\",\"female\",27.0,1,0,\"11668\",21.0,null],[43,0,\"Kraeff, Mr. Theodor\",\"male\",null,0,0,\"349253\",7.8958,null],[44,1,\"Laroche, Miss. Simonne Marie Anne Andree\",\"female\",3.0,1,2,\"SC/Paris 2123\",41.5792,null],[45,1,\"Devaney, Miss. Margaret Delia\",\"female\",19.0,0,0,\"330958\",7.8792,null],[46,0,\"Rogers, Mr. William John\",\"male\",null,0,0,\"S.C./A.4. 23567\",8.05,null],[47,0,\"Lennon, Mr. Denis\",\"male\",null,1,0,\"370371\",15.5,null],[48,1,\"O'Driscoll, Miss. Bridget\",\"female\",null,0,0,\"14311\",7.75,null],[49,0,\"Samaan, Mr. Youssef\",\"male\",null,2,0,\"2662\",21.6792,null],[50,0,\"Arnold-Franchi, Mrs. Josef (Josefine Franchi)\",\"female\",18.0,1,0,\"349237\",17.8,null],[51,0,\"Panula, Master. Juha Niilo\",\"male\",7.0,4,1,\"3101295\",39.6875,null],[52,0,\"Nosworthy, Mr. Richard Cater\",\"male\",21.0,0,0,\"A/4. 39886\",7.8,null],[53,1,\"Harper, Mrs. Henry Sleeper (Myna Haxtun)\",\"female\",49.0,1,0,\"PC 17572\",76.7292,\"D33\"],[54,1,\"Faunthorpe, Mrs. Lizzie (Elizabeth Anne Wilkinson)\",\"female\",29.0,1,0,\"2926\",26.0,null],[55,0,\"Ostby, Mr. Engelhart Cornelius\",\"male\",65.0,0,1,\"113509\",61.9792,\"B30\"],[56,1,\"Woolner, Mr. Hugh\",\"male\",null,0,0,\"19947\",35.5,\"C52\"],[57,1,\"Rugg, Miss. Emily\",\"female\",21.0,0,0,\"C.A. 31026\",10.5,null],[58,0,\"Novel, Mr. Mansouer\",\"male\",28.5,0,0,\"2697\",7.2292,null],[59,1,\"West, Miss. Constance Mirium\",\"female\",5.0,1,2,\"C.A. 34651\",27.75,null],[60,0,\"Goodwin, Master. William Frederick\",\"male\",11.0,5,2,\"CA 2144\",46.9,null],[61,0,\"Sirayanian, Mr. Orsen\",\"male\",22.0,0,0,\"2669\",7.2292,null],[62,1,\"Icard, Miss. Amelie\",\"female\",38.0,0,0,\"113572\",80.0,\"B28\"],[63,0,\"Harris, Mr. Henry Birkhardt\",\"male\",45.0,1,0,\"36973\",83.475,\"C83\"],[64,0,\"Skoog, Master. Harald\",\"male\",4.0,3,2,\"347088\",27.9,null],[65,0,\"Stewart, Mr. Albert A\",\"male\",null,0,0,\"PC 17605\",27.7208,null],[66,1,\"Moubarek, Master. Gerios\",\"male\",null,1,1,\"2661\",15.2458,null],[67,1,\"Nye, Mrs. (Elizabeth Ramell)\",\"female\",29.0,0,0,\"C.A. 29395\",10.5,\"F33\"],[68,0,\"Crease, Mr. Ernest James\",\"male\",19.0,0,0,\"S.P. 3464\",8.1583,null],[69,1,\"Andersson, Miss. Erna Alexandra\",\"female\",17.0,4,2,\"3101281\",7.925,null],[70,0,\"Kink, Mr. Vincenz\",\"male\",26.0,2,0,\"315151\",8.6625,null],[71,0,\"Jenkin, Mr. Stephen Curnow\",\"male\",32.0,0,0,\"C.A. 33111\",10.5,null],[72,0,\"Goodwin, Miss. Lillian Amy\",\"female\",16.0,5,2,\"CA 2144\",46.9,null],[73,0,\"Hood, Mr. Ambrose Jr\",\"male\",21.0,0,0,\"S.O.C. 14879\",73.5,null],[74,0,\"Chronopoulos, Mr. Apostolos\",\"male\",26.0,1,0,\"2680\",14.4542,null],[75,1,\"Bing, Mr. Lee\",\"male\",32.0,0,0,\"1601\",56.4958,null],[76,0,\"Moen, Mr. Sigurd Hansen\",\"male\",25.0,0,0,\"348123\",7.65,\"F G73\"],[77,0,\"Staneff, Mr. Ivan\",\"male\",null,0,0,\"349208\",7.8958,null],[78,0,\"Moutal, Mr. Rahamin Haim\",\"male\",null,0,0,\"374746\",8.05,null],[79,1,\"Caldwell, Master. Alden Gates\",\"male\",0.83,0,2,\"248738\",29.0,null],[80,1,\"Dowdell, Miss. Elizabeth\",\"female\",30.0,0,0,\"364516\",12.475,null],[81,0,\"Waelens, Mr. Achille\",\"male\",22.0,0,0,\"345767\",9.0,null],[82,1,\"Sheerlinck, Mr. Jan Baptist\",\"male\",29.0,0,0,\"345779\",9.5,null],[83,1,\"McDermott, Miss. Brigdet Delia\",\"female\",null,0,0,\"330932\",7.7875,null],[84,0,\"Carrau, Mr. Francisco M\",\"male\",28.0,0,0,\"113059\",47.1,null],[85,1,\"Ilett, Miss. Bertha\",\"female\",17.0,0,0,\"SO/C 14885\",10.5,null],[86,1,\"Backstrom, Mrs. Karl Alfred (Maria Mathilda Gustafsson)\",\"female\",33.0,3,0,\"3101278\",15.85,null],[87,0,\"Ford, Mr. William Neal\",\"male\",16.0,1,3,\"W./C. 6608\",34.375,null],[88,0,\"Slocovski, Mr. Selman Francis\",\"male\",null,0,0,\"SOTON/OQ 392086\",8.05,null],[89,1,\"Fortune, Miss. Mabel Helen\",\"female\",23.0,3,2,\"19950\",263.0,\"C23 C25 C27\"],[90,0,\"Celotti, Mr. Francesco\",\"male\",24.0,0,0,\"343275\",8.05,null],[91,0,\"Christmann, Mr. Emil\",\"male\",29.0,0,0,\"343276\",8.05,null],[92,0,\"Andreasson, Mr. Paul Edvin\",\"male\",20.0,0,0,\"347466\",7.8542,null],[93,0,\"Chaffee, Mr. Herbert Fuller\",\"male\",46.0,1,0,\"W.E.P. 5734\",61.175,\"E31\"],[94,0,\"Dean, Mr. Bertram Frank\",\"male\",26.0,1,2,\"C.A. 2315\",20.575,null],[95,0,\"Coxon, Mr. Daniel\",\"male\",59.0,0,0,\"364500\",7.25,null],[96,0,\"Shorney, Mr. Charles Joseph\",\"male\",null,0,0,\"374910\",8.05,null],[97,0,\"Goldschmidt, Mr. George B\",\"male\",71.0,0,0,\"PC 17754\",34.6542,\"A5\"],[98,1,\"Greenfield, Mr. William Bertram\",\"male\",23.0,0,1,\"PC 17759\",63.3583,\"D10 D12\"],[99,1,\"Doling, Mrs. John T (Ada Julia Bone)\",\"female\",34.0,0,1,\"231919\",23.0,null],[100,0,\"Kantor, Mr. Sinai\",\"male\",34.0,1,0,\"244367\",26.0,null],[101,0,\"Petranec, Miss. Matilda\",\"female\",28.0,0,0,\"349245\",7.8958,null],[102,0,\"Petroff, Mr. Pastcho (\\\"Pentcho\\\")\",\"male\",null,0,0,\"349215\",7.8958,null],[103,0,\"White, Mr. Richard Frasar\",\"male\",21.0,0,1,\"35281\",77.2875,\"D26\"],[104,0,\"Johansson, Mr. Gustaf Joel\",\"male\",33.0,0,0,\"7540\",8.6542,null],[105,0,\"Gustafsson, Mr. Anders Vilhelm\",\"male\",37.0,2,0,\"3101276\",7.925,null],[106,0,\"Mionoff, Mr. Stoytcho\",\"male\",28.0,0,0,\"349207\",7.8958,null],[107,1,\"Salkjelsvik, Miss. Anna Kristine\",\"female\",21.0,0,0,\"343120\",7.65,null],[108,1,\"Moss, Mr. Albert Johan\",\"male\",null,0,0,\"312991\",7.775,null],[109,0,\"Rekic, Mr. Tido\",\"male\",38.0,0,0,\"349249\",7.8958,null],[110,1,\"Moran, Miss. Bertha\",\"female\",null,1,0,\"371110\",24.15,null],[111,0,\"Porter, Mr. Walter Chamberlain\",\"male\",47.0,0,0,\"110465\",52.0,\"C110\"],[112,0,\"Zabour, Miss. Hileni\",\"female\",14.5,1,0,\"2665\",14.4542,null],[113,0,\"Barton, Mr. David John\",\"male\",22.0,0,0,\"324669\",8.05,null],[114,0,\"Jussila, Miss. Katriina\",\"female\",20.0,1,0,\"4136\",9.825,null],[115,0,\"Attalah, Miss. Malake\",\"female\",17.0,0,0,\"2627\",14.4583,null],[116,0,\"Pekoniemi, Mr. Edvard\",\"male\",21.0,0,0,\"STON/O 2. 3101294\",7.925,null],[117,0,\"Connors, Mr. Patrick\",\"male\",70.5,0,0,\"370369\",7.75,null],[118,0,\"Turpin, Mr. William John Robert\",\"male\",29.0,1,0,\"11668\",21.0,null],[119,0,\"Baxter, Mr. Quigg Edmond\",\"male\",24.0,0,1,\"PC 17558\",247.5208,\"B58 B60\"],[120,0,\"Andersson, Miss. Ellis Anna Maria\",\"female\",2.0,4,2,\"347082\",31.275,null],[121,0,\"Hickman, Mr. Stanley George\",\"male\",21.0,2,0,\"S.O.C. 14879\",73.5,null],[122,0,\"Moore, Mr. Leonard Charles\",\"male\",null,0,0,\"A4. 54510\",8.05,null],[123,0,\"Nasser, Mr. Nicholas\",\"male\",32.5,1,0,\"237736\",30.0708,null],[124,1,\"Webber, Miss. Susan\",\"female\",32.5,0,0,\"27267\",13.0,\"E101\"],[125,0,\"White, Mr. Percival Wayland\",\"male\",54.0,0,1,\"35281\",77.2875,\"D26\"],[126,1,\"Nicola-Yarred, Master. Elias\",\"male\",12.0,1,0,\"2651\",11.2417,null],[127,0,\"McMahon, Mr. Martin\",\"male\",null,0,0,\"370372\",7.75,null],[128,1,\"Madsen, Mr. Fridtjof Arne\",\"male\",24.0,0,0,\"C 17369\",7.1417,null],[129,1,\"Peter, Miss. Anna\",\"female\",null,1,1,\"2668\",22.3583,\"F E69\"],[130,0,\"Ekstrom, Mr. Johan\",\"male\",45.0,0,0,\"347061\",6.975,null],[131,0,\"Drazenoic, Mr. Jozef\",\"male\",33.0,0,0,\"349241\",7.8958,null],[132,0,\"Coelho, Mr. Domingos Fernandeo\",\"male\",20.0,0,0,\"SOTON/O.Q. 3101307\",7.05,null],[133,0,\"Robins, Mrs. Alexander A (Grace Charity Laury)\",\"female\",47.0,1,0,\"A/5. 3337\",14.5,null],[134,1,\"Weisz, Mrs. Leopold (Mathilde Francoise Pede)\",\"female\",29.0,1,0,\"228414\",26.0,null],[135,0,\"Sobey, Mr. Samuel James Hayden\",\"male\",25.0,0,0,\"C.A. 29178\",13.0,null],[136,0,\"Richard, Mr. Emile\",\"male\",23.0,0,0,\"SC/PARIS 2133\",15.0458,null],[137,1,\"Newsom, Miss. Helen Monypeny\",\"female\",19.0,0,2,\"11752\",26.2833,\"D47\"],[138,0,\"Futrelle, Mr. Jacques Heath\",\"male\",37.0,1,0,\"113803\",53.1,\"C123\"],[139,0,\"Osen, Mr. Olaf Elon\",\"male\",16.0,0,0,\"7534\",9.2167,null],[140,0,\"Giglio, Mr. Victor\",\"male\",24.0,0,0,\"PC 17593\",79.2,\"B86\"],[141,0,\"Boulos, Mrs. Joseph (Sultana)\",\"female\",null,0,2,\"2678\",15.2458,null],[142,1,\"Nysten, Miss. Anna Sofia\",\"female\",22.0,0,0,\"347081\",7.75,null],[143,1,\"Hakkarainen, Mrs. Pekka Pietari (Elin Matilda Dolck)\",\"female\",24.0,1,0,\"STON/O2. 3101279\",15.85,null],[144,0,\"Burke, Mr. Jeremiah\",\"male\",19.0,0,0,\"365222\",6.75,null],[145,0,\"Andrew, Mr. Edgardo Samuel\",\"male\",18.0,0,0,\"231945\",11.5,null],[146,0,\"Nicholls, Mr. Joseph Charles\",\"male\",19.0,1,1,\"C.A. 33112\",36.75,null],[147,1,\"Andersson, Mr. August Edvard (\\\"Wennerstrom\\\")\",\"male\",27.0,0,0,\"350043\",7.7958,null],[148,0,\"Ford, Miss. Robina Maggie \\\"Ruby\\\"\",\"female\",9.0,2,2,\"W./C. 6608\",34.375,null],[149,0,\"Navratil, Mr. Michel (\\\"Louis M Hoffman\\\")\",\"male\",36.5,0,2,\"230080\",26.0,\"F2\"],[150,0,\"Byles, Rev. Thomas Roussel Davids\",\"male\",42.0,0,0,\"244310\",13.0,null],[151,0,\"Bateman, Rev. Robert James\",\"male\",51.0,0,0,\"S.O.P. 1166\",12.525,null],[152,1,\"Pears, Mrs. Thomas (Edith Wearne)\",\"female\",22.0,1,0,\"113776\",66.6,\"C2\"],[153,0,\"Meo, Mr. Alfonzo\",\"male\",55.5,0,0,\"A.5. 11206\",8.05,null],[154,0,\"van Billiard, Mr. Austin Blyler\",\"male\",40.5,0,2,\"A/5. 851\",14.5,null],[155,0,\"Olsen, Mr. Ole Martin\",\"male\",null,0,0,\"Fa 265302\",7.3125,null],[156,0,\"Williams, Mr. Charles Duane\",\"male\",51.0,0,1,\"PC 17597\",61.3792,null],[157,1,\"Gilnagh, Miss. Katherine \\\"Katie\\\"\",\"female\",16.0,0,0,\"35851\",7.7333,null],[158,0,\"Corn, Mr. Harry\",\"male\",30.0,0,0,\"SOTON/OQ 392090\",8.05,null],[159,0,\"Smiljanic, Mr. Mile\",\"male\",null,0,0,\"315037\",8.6625,null],[160,0,\"Sage, Master. Thomas Henry\",\"male\",null,8,2,\"CA. 2343\",69.55,null],[161,0,\"Cribb, Mr. John Hatfield\",\"male\",44.0,0,1,\"371362\",16.1,null],[162,1,\"Watt, Mrs. James (Elizabeth \\\"Bessie\\\" Inglis Milne)\",\"female\",40.0,0,0,\"C.A. 33595\",15.75,null],[163,0,\"Bengtsson, Mr. John Viktor\",\"male\",26.0,0,0,\"347068\",7.775,null],[164,0,\"Calic, Mr. Jovo\",\"male\",17.0,0,0,\"315093\",8.6625,null],[165,0,\"Panula, Master. Eino Viljami\",\"male\",1.0,4,1,\"3101295\",39.6875,null],[166,1,\"Goldsmith, Master. Frank John William \\\"Frankie\\\"\",\"male\",9.0,0,2,\"363291\",20.525,null],[167,1,\"Chibnall, Mrs. (Edith Martha Bowerman)\",\"female\",null,0,1,\"113505\",55.0,\"E33\"],[168,0,\"Skoog, Mrs. William (Anna Bernhardina Karlsson)\",\"female\",45.0,1,4,\"347088\",27.9,null],[169,0,\"Baumann, Mr. John D\",\"male\",null,0,0,\"PC 17318\",25.925,null],[170,0,\"Ling, Mr. Lee\",\"male\",28.0,0,0,\"1601\",56.4958,null],[171,0,\"Van der hoef, Mr. Wyckoff\",\"male\",61.0,0,0,\"111240\",33.5,\"B19\"],[172,0,\"Rice, Master. Arthur\",\"male\",4.0,4,1,\"382652\",29.125,null],[173,1,\"Johnson, Miss. Eleanor Ileen\",\"female\",1.0,1,1,\"347742\",11.1333,null],[174,0,\"Sivola, Mr. Antti Wilhelm\",\"male\",21.0,0,0,\"STON/O 2. 3101280\",7.925,null],[175,0,\"Smith, Mr. James Clinch\",\"male\",56.0,0,0,\"17764\",30.6958,\"A7\"],[176,0,\"Klasen, Mr. Klas Albin\",\"male\",18.0,1,1,\"350404\",7.8542,null],[177,0,\"Lefebre, Master. Henry Forbes\",\"male\",null,3,1,\"4133\",25.4667,null],[178,0,\"Isham, Miss. Ann Elizabeth\",\"female\",50.0,0,0,\"PC 17595\",28.7125,\"C49\"],[179,0,\"Hale, Mr. Reginald\",\"male\",30.0,0,0,\"250653\",13.0,null],[180,0,\"Leonard, Mr. Lionel\",\"male\",36.0,0,0,\"LINE\",0.0,null],[181,0,\"Sage, Miss. Constance Gladys\",\"female\",null,8,2,\"CA. 2343\",69.55,null],[182,0,\"Pernot, Mr. Rene\",\"male\",null,0,0,\"SC/PARIS 2131\",15.05,null],[183,0,\"Asplund, Master. Clarence Gustaf Hugo\",\"male\",9.0,4,2,\"347077\",31.3875,null],[184,1,\"Becker, Master. Richard F\",\"male\",1.0,2,1,\"230136\",39.0,\"F4\"],[185,1,\"Kink-Heilmann, Miss. Luise Gretchen\",\"female\",4.0,0,2,\"315153\",22.025,null],[186,0,\"Rood, Mr. Hugh Roscoe\",\"male\",null,0,0,\"113767\",50.0,\"A32\"],[187,1,\"O'Brien, Mrs. Thomas (Johanna \\\"Hannah\\\" Godfrey)\",\"female\",null,1,0,\"370365\",15.5,null],[188,1,\"Romaine, Mr. Charles Hallace (\\\"Mr C Rolmane\\\")\",\"male\",45.0,0,0,\"111428\",26.55,null],[189,0,\"Bourke, Mr. John\",\"male\",40.0,1,1,\"364849\",15.5,null],[190,0,\"Turcin, Mr. Stjepan\",\"male\",36.0,0,0,\"349247\",7.8958,null],[191,1,\"Pinsky, Mrs. (Rosa)\",\"female\",32.0,0,0,\"234604\",13.0,null],[192,0,\"Carbines, Mr. William\",\"male\",19.0,0,0,\"28424\",13.0,null],[193,1,\"Andersen-Jensen, Miss. Carla Christine Nielsine\",\"female\",19.0,1,0,\"350046\",7.8542,null],[194,1,\"Navratil, Master. Michel M\",\"male\",3.0,1,1,\"230080\",26.0,\"F2\"],[195,1,\"Brown, Mrs. James Joseph (Margaret Tobin)\",\"female\",44.0,0,0,\"PC 17610\",27.7208,\"B4\"],[196,1,\"Lurette, Miss. Elise\",\"female\",58.0,0,0,\"PC 17569\",146.5208,\"B80\"],[197,0,\"Mernagh, Mr. Robert\",\"male\",null,0,0,\"368703\",7.75,null],[198,0,\"Olsen, Mr. Karl Siegwart Andreas\",\"male\",42.0,0,1,\"4579\",8.4042,null],[199,1,\"Madigan, Miss. Margaret \\\"Maggie\\\"\",\"female\",null,0,0,\"370370\",7.75,null],[200,0,\"Yrois, Miss. Henriette (\\\"Mrs Harbeck\\\")\",\"female\",24.0,0,0,\"248747\",13.0,null],[201,0,\"Vande Walle, Mr. Nestor Cyriel\",\"male\",28.0,0,0,\"345770\",9.5,null],[202,0,\"Sage, Mr. Frederick\",\"male\",null,8,2,\"CA. 2343\",69.55,null],[203,0,\"Johanson, Mr. Jakob Alfred\",\"male\",34.0,0,0,\"3101264\",6.4958,null],[204,0,\"Youseff, Mr. Gerious\",\"male\",45.5,0,0,\"2628\",7.225,null],[205,1,\"Cohen, Mr. Gurshon \\\"Gus\\\"\",\"male\",18.0,0,0,\"A/5 3540\",8.05,null],[206,0,\"Strom, Miss. Telma Matilda\",\"female\",2.0,0,1,\"347054\",10.4625,\"G6\"],[207,0,\"Backstrom, Mr. Karl Alfred\",\"male\",32.0,1,0,\"3101278\",15.85,null],[208,1,\"Albimona, Mr. Nassef Cassem\",\"male\",26.0,0,0,\"2699\",18.7875,null],[209,1,\"Carr, Miss. Helen \\\"Ellen\\\"\",\"female\",16.0,0,0,\"367231\",7.75,null],[210,1,\"Blank, Mr. Henry\",\"male\",40.0,0,0,\"112277\",31.0,\"A31\"],[211,0,\"Ali, Mr. Ahmed\",\"male\",24.0,0,0,\"SOTON/O.Q. 3101311\",7.05,null],[212,1,\"Cameron, Miss. Clear Annie\",\"female\",35.0,0,0,\"F.C.C. 13528\",21.0,null],[213,0,\"Perkin, Mr. John Henry\",\"male\",22.0,0,0,\"A/5 21174\",7.25,null],[214,0,\"Givard, Mr. Hans Kristensen\",\"male\",30.0,0,0,\"250646\",13.0,null],[215,0,\"Kiernan, Mr. Philip\",\"male\",null,1,0,\"367229\",7.75,null],[216,1,\"Newell, Miss. Madeleine\",\"female\",31.0,1,0,\"35273\",113.275,\"D36\"],[217,1,\"Honkanen, Miss. Eliina\",\"female\",27.0,0,0,\"STON/O2. 3101283\",7.925,null],[218,0,\"Jacobsohn, Mr. Sidney Samuel\",\"male\",42.0,1,0,\"243847\",27.0,null],[219,1,\"Bazzani, Miss. Albina\",\"female\",32.0,0,0,\"11813\",76.2917,\"D15\"],[220,0,\"Harris, Mr. Walter\",\"male\",30.0,0,0,\"W/C 14208\",10.5,null],[221,1,\"Sunderland, Mr. Victor Francis\",\"male\",16.0,0,0,\"SOTON/OQ 392089\",8.05,null],[222,0,\"Bracken, Mr. James H\",\"male\",27.0,0,0,\"220367\",13.0,null],[223,0,\"Green, Mr. George Henry\",\"male\",51.0,0,0,\"21440\",8.05,null],[224,0,\"Nenkoff, Mr. Christo\",\"male\",null,0,0,\"349234\",7.8958,null],[225,1,\"Hoyt, Mr. Frederick Maxfield\",\"male\",38.0,1,0,\"19943\",90.0,\"C93\"],[226,0,\"Berglund, Mr. Karl Ivar Sven\",\"male\",22.0,0,0,\"PP 4348\",9.35,null],[227,1,\"Mellors, Mr. William John\",\"male\",19.0,0,0,\"SW/PP 751\",10.5,null],[228,0,\"Lovell, Mr. John Hall (\\\"Henry\\\")\",\"male\",20.5,0,0,\"A/5 21173\",7.25,null],[229,0,\"Fahlstrom, Mr. Arne Jonas\",\"male\",18.0,0,0,\"236171\",13.0,null],[230,0,\"Lefebre, Miss. Mathilde\",\"female\",null,3,1,\"4133\",25.4667,null],[231,1,\"Harris, Mrs. Henry Birkhardt (Irene Wallach)\",\"female\",35.0,1,0,\"36973\",83.475,\"C83\"],[232,0,\"Larsson, Mr. Bengt Edvin\",\"male\",29.0,0,0,\"347067\",7.775,null],[233,0,\"Sjostedt, Mr. Ernst Adolf\",\"male\",59.0,0,0,\"237442\",13.5,null],[234,1,\"Asplund, Miss. Lillian Gertrud\",\"female\",5.0,4,2,\"347077\",31.3875,null],[235,0,\"Leyson, Mr. Robert William Norman\",\"male\",24.0,0,0,\"C.A. 29566\",10.5,null],[236,0,\"Harknett, Miss. Alice Phoebe\",\"female\",null,0,0,\"W./C. 6609\",7.55,null],[237,0,\"Hold, Mr. Stephen\",\"male\",44.0,1,0,\"26707\",26.0,null],[238,1,\"Collyer, Miss. Marjorie \\\"Lottie\\\"\",\"female\",8.0,0,2,\"C.A. 31921\",26.25,null],[239,0,\"Pengelly, Mr. Frederick William\",\"male\",19.0,0,0,\"28665\",10.5,null],[240,0,\"Hunt, Mr. George Henry\",\"male\",33.0,0,0,\"SCO/W 1585\",12.275,null],[241,0,\"Zabour, Miss. Thamine\",\"female\",null,1,0,\"2665\",14.4542,null],[242,1,\"Murphy, Miss. Katherine \\\"Kate\\\"\",\"female\",null,1,0,\"367230\",15.5,null],[243,0,\"Coleridge, Mr. Reginald Charles\",\"male\",29.0,0,0,\"W./C. 14263\",10.5,null],[244,0,\"Maenpaa, Mr. Matti Alexanteri\",\"male\",22.0,0,0,\"STON/O 2. 3101275\",7.125,null],[245,0,\"Attalah, Mr. Sleiman\",\"male\",30.0,0,0,\"2694\",7.225,null],[246,0,\"Minahan, Dr. William Edward\",\"male\",44.0,2,0,\"19928\",90.0,\"C78\"],[247,0,\"Lindahl, Miss. Agda Thorilda Viktoria\",\"female\",25.0,0,0,\"347071\",7.775,null],[248,1,\"Hamalainen, Mrs. William (Anna)\",\"female\",24.0,0,2,\"250649\",14.5,null],[249,1,\"Beckwith, Mr. Richard Leonard\",\"male\",37.0,1,1,\"11751\",52.5542,\"D35\"],[250,0,\"Carter, Rev. Ernest Courtenay\",\"male\",54.0,1,0,\"244252\",26.0,null],[251,0,\"Reed, Mr. James George\",\"male\",null,0,0,\"362316\",7.25,null],[252,0,\"Strom, Mrs. Wilhelm (Elna Matilda Persson)\",\"female\",29.0,1,1,\"347054\",10.4625,\"G6\"],[253,0,\"Stead, Mr. William Thomas\",\"male\",62.0,0,0,\"113514\",26.55,\"C87\"],[254,0,\"Lobb, Mr. William Arthur\",\"male\",30.0,1,0,\"A/5. 3336\",16.1,null],[255,0,\"Rosblom, Mrs. Viktor (Helena Wilhelmina)\",\"female\",41.0,0,2,\"370129\",20.2125,null],[256,1,\"Touma, Mrs. Darwis (Hanne Youssef Razi)\",\"female\",29.0,0,2,\"2650\",15.2458,null],[257,1,\"Thorne, Mrs. Gertrude Maybelle\",\"female\",null,0,0,\"PC 17585\",79.2,null],[258,1,\"Cherry, Miss. Gladys\",\"female\",30.0,0,0,\"110152\",86.5,\"B77\"],[259,1,\"Ward, Miss. Anna\",\"female\",35.0,0,0,\"PC 17755\",512.3292,null],[260,1,\"Parrish, Mrs. (Lutie Davis)\",\"female\",50.0,0,1,\"230433\",26.0,null],[261,0,\"Smith, Mr. Thomas\",\"male\",null,0,0,\"384461\",7.75,null],[262,1,\"Asplund, Master. Edvin Rojj Felix\",\"male\",3.0,4,2,\"347077\",31.3875,null],[263,0,\"Taussig, Mr. Emil\",\"male\",52.0,1,1,\"110413\",79.65,\"E67\"],[264,0,\"Harrison, Mr. William\",\"male\",40.0,0,0,\"112059\",0.0,\"B94\"],[265,0,\"Henry, Miss. Delia\",\"female\",null,0,0,\"382649\",7.75,null],[266,0,\"Reeves, Mr. David\",\"male\",36.0,0,0,\"C.A. 17248\",10.5,null],[267,0,\"Panula, Mr. Ernesti Arvid\",\"male\",16.0,4,1,\"3101295\",39.6875,null],[268,1,\"Persson, Mr. Ernst Ulrik\",\"male\",25.0,1,0,\"347083\",7.775,null],[269,1,\"Graham, Mrs. William Thompson (Edith Junkins)\",\"female\",58.0,0,1,\"PC 17582\",153.4625,\"C125\"],[270,1,\"Bissette, Miss. Amelia\",\"female\",35.0,0,0,\"PC 17760\",135.6333,\"C99\"],[271,0,\"Cairns, Mr. Alexander\",\"male\",null,0,0,\"113798\",31.0,null],[272,1,\"Tornquist, Mr. William Henry\",\"male\",25.0,0,0,\"LINE\",0.0,null],[273,1,\"Mellinger, Mrs. (Elizabeth Anne Maidment)\",\"female\",41.0,0,1,\"250644\",19.5,null],[274,0,\"Natsch, Mr. Charles H\",\"male\",37.0,0,1,\"PC 17596\",29.7,\"C118\"],[275,1,\"Healy, Miss. Hanora \\\"Nora\\\"\",\"female\",null,0,0,\"370375\",7.75,null],[276,1,\"Andrews, Miss. Kornelia Theodosia\",\"female\",63.0,1,0,\"13502\",77.9583,\"D7\"],[277,0,\"Lindblom, Miss. Augusta Charlotta\",\"female\",45.0,0,0,\"347073\",7.75,null],[278,0,\"Parkes, Mr. Francis \\\"Frank\\\"\",\"male\",null,0,0,\"239853\",0.0,null],[279,0,\"Rice, Master. Eric\",\"male\",7.0,4,1,\"382652\",29.125,null],[280,1,\"Abbott, Mrs. Stanton (Rosa Hunt)\",\"female\",35.0,1,1,\"C.A. 2673\",20.25,null],[281,0,\"Duane, Mr. Frank\",\"male\",65.0,0,0,\"336439\",7.75,null],[282,0,\"Olsson, Mr. Nils Johan Goransson\",\"male\",28.0,0,0,\"347464\",7.8542,null],[283,0,\"de Pelsmaeker, Mr. Alfons\",\"male\",16.0,0,0,\"345778\",9.5,null],[284,1,\"Dorking, Mr. Edward Arthur\",\"male\",19.0,0,0,\"A/5. 10482\",8.05,null],[285,0,\"Smith, Mr. Richard William\",\"male\",null,0,0,\"113056\",26.0,\"A19\"],[286,0,\"Stankovic, Mr. Ivan\",\"male\",33.0,0,0,\"349239\",8.6625,null],[287,1,\"de Mulder, Mr. Theodore\",\"male\",30.0,0,0,\"345774\",9.5,null],[288,0,\"Naidenoff, Mr. Penko\",\"male\",22.0,0,0,\"349206\",7.8958,null],[289,1,\"Hosono, Mr. Masabumi\",\"male\",42.0,0,0,\"237798\",13.0,null],[290,1,\"Connolly, Miss. Kate\",\"female\",22.0,0,0,\"370373\",7.75,null],[291,1,\"Barber, Miss. Ellen \\\"Nellie\\\"\",\"female\",26.0,0,0,\"19877\",78.85,null],[292,1,\"Bishop, Mrs. Dickinson H (Helen Walton)\",\"female\",19.0,1,0,\"11967\",91.0792,\"B49\"],[293,0,\"Levy, Mr. Rene Jacques\",\"male\",36.0,0,0,\"SC/Paris 2163\",12.875,\"D\"],[294,0,\"Haas, Miss. Aloisia\",\"female\",24.0,0,0,\"349236\",8.85,null],[295,0,\"Mineff, Mr. Ivan\",\"male\",24.0,0,0,\"349233\",7.8958,null],[296,0,\"Lewy, Mr. Ervin G\",\"male\",null,0,0,\"PC 17612\",27.7208,null],[297,0,\"Hanna, Mr. Mansour\",\"male\",23.5,0,0,\"2693\",7.2292,null],[298,0,\"Allison, Miss. Helen Loraine\",\"female\",2.0,1,2,\"113781\",151.55,\"C22 C26\"],[299,1,\"Saalfeld, Mr. Adolphe\",\"male\",null,0,0,\"19988\",30.5,\"C106\"],[300,1,\"Baxter, Mrs. James (Helene DeLaudeniere Chaput)\",\"female\",50.0,0,1,\"PC 17558\",247.5208,\"B58 B60\"],[301,1,\"Kelly, Miss. Anna Katherine \\\"Annie Kate\\\"\",\"female\",null,0,0,\"9234\",7.75,null],[302,1,\"McCoy, Mr. Bernard\",\"male\",null,2,0,\"367226\",23.25,null],[303,0,\"Johnson, Mr. William Cahoone Jr\",\"male\",19.0,0,0,\"LINE\",0.0,null],[304,1,\"Keane, Miss. Nora A\",\"female\",null,0,0,\"226593\",12.35,\"E101\"],[305,0,\"Williams, Mr. Howard Hugh \\\"Harry\\\"\",\"male\",null,0,0,\"A/5 2466\",8.05,null],[306,1,\"Allison, Master. Hudson Trevor\",\"male\",0.92,1,2,\"113781\",151.55,\"C22 C26\"],[307,1,\"Fleming, Miss. Margaret\",\"female\",null,0,0,\"17421\",110.8833,null],[308,1,\"Penasco y Castellana, Mrs. Victor de Satode (Maria Josefa Perez de Soto y Vallejo)\",\"female\",17.0,1,0,\"PC 17758\",108.9,\"C65\"],[309,0,\"Abelson, Mr. Samuel\",\"male\",30.0,1,0,\"P/PP 3381\",24.0,null],[310,1,\"Francatelli, Miss. Laura Mabel\",\"female\",30.0,0,0,\"PC 17485\",56.9292,\"E36\"],[311,1,\"Hays, Miss. Margaret Bechstein\",\"female\",24.0,0,0,\"11767\",83.1583,\"C54\"],[312,1,\"Ryerson, Miss. Emily Borie\",\"female\",18.0,2,2,\"PC 17608\",262.375,\"B57 B59 B63 B66\"],[313,0,\"Lahtinen, Mrs. William (Anna Sylfven)\",\"female\",26.0,1,1,\"250651\",26.0,null],[314,0,\"Hendekovic, Mr. Ignjac\",\"male\",28.0,0,0,\"349243\",7.8958,null],[315,0,\"Hart, Mr. Benjamin\",\"male\",43.0,1,1,\"F.C.C. 13529\",26.25,null],[316,1,\"Nilsson, Miss. Helmina Josefina\",\"female\",26.0,0,0,\"347470\",7.8542,null],[317,1,\"Kantor, Mrs. Sinai (Miriam Sternin)\",\"female\",24.0,1,0,\"244367\",26.0,null],[318,0,\"Moraweck, Dr. Ernest\",\"male\",54.0,0,0,\"29011\",14.0,null],[319,1,\"Wick, Miss. Mary Natalie\",\"female\",31.0,0,2,\"36928\",164.8667,\"C7\"],[320,1,\"Spedden, Mrs. Frederic Oakley (Margaretta Corning Stone)\",\"female\",40.0,1,1,\"16966\",134.5,\"E34\"],[321,0,\"Dennis, Mr. Samuel\",\"male\",22.0,0,0,\"A/5 21172\",7.25,null],[322,0,\"Danoff, Mr. Yoto\",\"male\",27.0,0,0,\"349219\",7.8958,null],[323,1,\"Slayter, Miss. Hilda Mary\",\"female\",30.0,0,0,\"234818\",12.35,null],[324,1,\"Caldwell, Mrs. Albert Francis (Sylvia Mae Harbaugh)\",\"female\",22.0,1,1,\"248738\",29.0,null],[325,0,\"Sage, Mr. George John Jr\",\"male\",null,8,2,\"CA. 2343\",69.55,null],[326,1,\"Young, Miss. Marie Grice\",\"female\",36.0,0,0,\"PC 17760\",135.6333,\"C32\"],[327,0,\"Nysveen, Mr. Johan Hansen\",\"male\",61.0,0,0,\"345364\",6.2375,null],[328,1,\"Ball, Mrs. (Ada E Hall)\",\"female\",36.0,0,0,\"28551\",13.0,\"D\"],[329,1,\"Goldsmith, Mrs. Frank John (Emily Alice Brown)\",\"female\",31.0,1,1,\"363291\",20.525,null],[330,1,\"Hippach, Miss. Jean Gertrude\",\"female\",16.0,0,1,\"111361\",57.9792,\"B18\"],[331,1,\"McCoy, Miss. Agnes\",\"female\",null,2,0,\"367226\",23.25,null],[332,0,\"Partner, Mr. Austen\",\"male\",45.5,0,0,\"113043\",28.5,\"C124\"],[333,0,\"Graham, Mr. George Edward\",\"male\",38.0,0,1,\"PC 17582\",153.4625,\"C91\"],[334,0,\"Vander Planke, Mr. Leo Edmondus\",\"male\",16.0,2,0,\"345764\",18.0,null],[335,1,\"Frauenthal, Mrs. Henry William (Clara Heinsheimer)\",\"female\",null,1,0,\"PC 17611\",133.65,null],[336,0,\"Denkoff, Mr. Mitto\",\"male\",null,0,0,\"349225\",7.8958,null],[337,0,\"Pears, Mr. Thomas Clinton\",\"male\",29.0,1,0,\"113776\",66.6,\"C2\"],[338,1,\"Burns, Miss. Elizabeth Margaret\",\"female\",41.0,0,0,\"16966\",134.5,\"E40\"],[339,1,\"Dahl, Mr. Karl Edwart\",\"male\",45.0,0,0,\"7598\",8.05,null],[340,0,\"Blackwell, Mr. Stephen Weart\",\"male\",45.0,0,0,\"113784\",35.5,\"T\"],[341,1,\"Navratil, Master. Edmond Roger\",\"male\",2.0,1,1,\"230080\",26.0,\"F2\"],[342,1,\"Fortune, Miss. Alice Elizabeth\",\"female\",24.0,3,2,\"19950\",263.0,\"C23 C25 C27\"],[343,0,\"Collander, Mr. Erik Gustaf\",\"male\",28.0,0,0,\"248740\",13.0,null],[344,0,\"Sedgwick, Mr. Charles Frederick Waddington\",\"male\",25.0,0,0,\"244361\",13.0,null],[345,0,\"Fox, Mr. Stanley Hubert\",\"male\",36.0,0,0,\"229236\",13.0,null],[346,1,\"Brown, Miss. Amelia \\\"Mildred\\\"\",\"female\",24.0,0,0,\"248733\",13.0,\"F33\"],[347,1,\"Smith, Miss. Marion Elsie\",\"female\",40.0,0,0,\"31418\",13.0,null],[348,1,\"Davison, Mrs. Thomas Henry (Mary E Finck)\",\"female\",null,1,0,\"386525\",16.1,null],[349,1,\"Coutts, Master. William Loch \\\"William\\\"\",\"male\",3.0,1,1,\"C.A. 37671\",15.9,null],[350,0,\"Dimic, Mr. Jovan\",\"male\",42.0,0,0,\"315088\",8.6625,null],[351,0,\"Odahl, Mr. Nils Martin\",\"male\",23.0,0,0,\"7267\",9.225,null],[352,0,\"Williams-Lambert, Mr. Fletcher Fellows\",\"male\",null,0,0,\"113510\",35.0,\"C128\"],[353,0,\"Elias, Mr. Tannous\",\"male\",15.0,1,1,\"2695\",7.2292,null],[354,0,\"Arnold-Franchi, Mr. Josef\",\"male\",25.0,1,0,\"349237\",17.8,null],[355,0,\"Yousif, Mr. Wazli\",\"male\",null,0,0,\"2647\",7.225,null],[356,0,\"Vanden Steen, Mr. Leo Peter\",\"male\",28.0,0,0,\"345783\",9.5,null],[357,1,\"Bowerman, Miss. Elsie Edith\",\"female\",22.0,0,1,\"113505\",55.0,\"E33\"],[358,0,\"Funk, Miss. Annie Clemmer\",\"female\",38.0,0,0,\"237671\",13.0,null],[359,1,\"McGovern, Miss. Mary\",\"female\",null,0,0,\"330931\",7.8792,null],[360,1,\"Mockler, Miss. Helen Mary \\\"Ellie\\\"\",\"female\",null,0,0,\"330980\",7.8792,null],[361,0,\"Skoog, Mr. Wilhelm\",\"male\",40.0,1,4,\"347088\",27.9,null],[362,0,\"del Carlo, Mr. Sebastiano\",\"male\",29.0,1,0,\"SC/PARIS 2167\",27.7208,null],[363,0,\"Barbara, Mrs. (Catherine David)\",\"female\",45.0,0,1,\"2691\",14.4542,null],[364,0,\"Asim, Mr. Adola\",\"male\",35.0,0,0,\"SOTON/O.Q. 3101310\",7.05,null],[365,0,\"O'Brien, Mr. Thomas\",\"male\",null,1,0,\"370365\",15.5,null],[366,0,\"Adahl, Mr. Mauritz Nils Martin\",\"male\",30.0,0,0,\"C 7076\",7.25,null],[367,1,\"Warren, Mrs. Frank Manley (Anna Sophia Atkinson)\",\"female\",60.0,1,0,\"110813\",75.25,\"D37\"],[368,1,\"Moussa, Mrs. (Mantoura Boulos)\",\"female\",null,0,0,\"2626\",7.2292,null],[369,1,\"Jermyn, Miss. Annie\",\"female\",null,0,0,\"14313\",7.75,null],[370,1,\"Aubart, Mme. Leontine Pauline\",\"female\",24.0,0,0,\"PC 17477\",69.3,\"B35\"],[371,1,\"Harder, Mr. George Achilles\",\"male\",25.0,1,0,\"11765\",55.4417,\"E50\"],[372,0,\"Wiklund, Mr. Jakob Alfred\",\"male\",18.0,1,0,\"3101267\",6.4958,null],[373,0,\"Beavan, Mr. William Thomas\",\"male\",19.0,0,0,\"323951\",8.05,null],[374,0,\"Ringhini, Mr. Sante\",\"male\",22.0,0,0,\"PC 17760\",135.6333,null],[375,0,\"Palsson, Miss. Stina Viola\",\"female\",3.0,3,1,\"349909\",21.075,null],[376,1,\"Meyer, Mrs. Edgar Joseph (Leila Saks)\",\"female\",null,1,0,\"PC 17604\",82.1708,null],[377,1,\"Landergren, Miss. Aurora Adelia\",\"female\",22.0,0,0,\"C 7077\",7.25,null],[378,0,\"Widener, Mr. Harry Elkins\",\"male\",27.0,0,2,\"113503\",211.5,\"C82\"],[379,0,\"Betros, Mr. Tannous\",\"male\",20.0,0,0,\"2648\",4.0125,null],[380,0,\"Gustafsson, Mr. Karl Gideon\",\"male\",19.0,0,0,\"347069\",7.775,null],[381,1,\"Bidois, Miss. Rosalie\",\"female\",42.0,0,0,\"PC 17757\",227.525,null],[382,1,\"Nakid, Miss. Maria (\\\"Mary\\\")\",\"female\",1.0,0,2,\"2653\",15.7417,null],[383,0,\"Tikkanen, Mr. Juho\",\"male\",32.0,0,0,\"STON/O 2. 3101293\",7.925,null],[384,1,\"Holverson, Mrs. Alexander Oskar (Mary Aline Towner)\",\"female\",35.0,1,0,\"113789\",52.0,null],[385,0,\"Plotcharsky, Mr. Vasil\",\"male\",null,0,0,\"349227\",7.8958,null],[386,0,\"Davies, Mr. Charles Henry\",\"male\",18.0,0,0,\"S.O.C. 14879\",73.5,null],[387,0,\"Goodwin, Master. Sidney Leonard\",\"male\",1.0,5,2,\"CA 2144\",46.9,null],[388,1,\"Buss, Miss. Kate\",\"female\",36.0,0,0,\"27849\",13.0,null],[389,0,\"Sadlier, Mr. Matthew\",\"male\",null,0,0,\"367655\",7.7292,null],[390,1,\"Lehmann, Miss. Bertha\",\"female\",17.0,0,0,\"SC 1748\",12.0,null],[391,1,\"Carter, Mr. William Ernest\",\"male\",36.0,1,2,\"113760\",120.0,\"B96 B98\"],[392,1,\"Jansson, Mr. Carl Olof\",\"male\",21.0,0,0,\"350034\",7.7958,null],[393,0,\"Gustafsson, Mr. Johan Birger\",\"male\",28.0,2,0,\"3101277\",7.925,null],[394,1,\"Newell, Miss. Marjorie\",\"female\",23.0,1,0,\"35273\",113.275,\"D36\"],[395,1,\"Sandstrom, Mrs. Hjalmar (Agnes Charlotta Bengtsson)\",\"female\",24.0,0,2,\"PP 9549\",16.7,\"G6\"],[396,0,\"Johansson, Mr. Erik\",\"male\",22.0,0,0,\"350052\",7.7958,null],[397,0,\"Olsson, Miss. Elina\",\"female\",31.0,0,0,\"350407\",7.8542,null],[398,0,\"McKane, Mr. Peter David\",\"male\",46.0,0,0,\"28403\",26.0,null],[399,0,\"Pain, Dr. Alfred\",\"male\",23.0,0,0,\"244278\",10.5,null],[400,1,\"Trout, Mrs. William H (Jessie L)\",\"female\",28.0,0,0,\"240929\",12.65,null],[401,1,\"Niskanen, Mr. Juha\",\"male\",39.0,0,0,\"STON/O 2. 3101289\",7.925,null],[402,0,\"Adams, Mr. John\",\"male\",26.0,0,0,\"341826\",8.05,null],[403,0,\"Jussila, Miss. Mari Aina\",\"female\",21.0,1,0,\"4137\",9.825,null],[404,0,\"Hakkarainen, Mr. Pekka Pietari\",\"male\",28.0,1,0,\"STON/O2. 3101279\",15.85,null],[405,0,\"Oreskovic, Miss. Marija\",\"female\",20.0,0,0,\"315096\",8.6625,null],[406,0,\"Gale, Mr. Shadrach\",\"male\",34.0,1,0,\"28664\",21.0,null],[407,0,\"Widegren, Mr. Carl/Charles Peter\",\"male\",51.0,0,0,\"347064\",7.75,null],[408,1,\"Richards, Master. William Rowe\",\"male\",3.0,1,1,\"29106\",18.75,null],[409,0,\"Birkeland, Mr. Hans Martin Monsen\",\"male\",21.0,0,0,\"312992\",7.775,null],[410,0,\"Lefebre, Miss. Ida\",\"female\",null,3,1,\"4133\",25.4667,null],[411,0,\"Sdycoff, Mr. Todor\",\"male\",null,0,0,\"349222\",7.8958,null],[412,0,\"Hart, Mr. Henry\",\"male\",null,0,0,\"394140\",6.8583,null],[413,1,\"Minahan, Miss. Daisy E\",\"female\",33.0,1,0,\"19928\",90.0,\"C78\"],[414,0,\"Cunningham, Mr. Alfred Fleming\",\"male\",null,0,0,\"239853\",0.0,null],[415,1,\"Sundman, Mr. Johan Julian\",\"male\",44.0,0,0,\"STON/O 2. 3101269\",7.925,null],[416,0,\"Meek, Mrs. Thomas (Annie Louise Rowley)\",\"female\",null,0,0,\"343095\",8.05,null],[417,1,\"Drew, Mrs. James Vivian (Lulu Thorne Christian)\",\"female\",34.0,1,1,\"28220\",32.5,null],[418,1,\"Silven, Miss. Lyyli Karoliina\",\"female\",18.0,0,2,\"250652\",13.0,null],[419,0,\"Matthews, Mr. William John\",\"male\",30.0,0,0,\"28228\",13.0,null],[420,0,\"Van Impe, Miss. Catharina\",\"female\",10.0,0,2,\"345773\",24.15,null],[421,0,\"Gheorgheff, Mr. Stanio\",\"male\",null,0,0,\"349254\",7.8958,null],[422,0,\"Charters, Mr. David\",\"male\",21.0,0,0,\"A/5. 13032\",7.7333,null],[423,0,\"Zimmerman, Mr. Leo\",\"male\",29.0,0,0,\"315082\",7.875,null],[424,0,\"Danbom, Mrs. Ernst Gilbert (Anna Sigrid Maria Brogren)\",\"female\",28.0,1,1,\"347080\",14.4,null],[425,0,\"Rosblom, Mr. Viktor Richard\",\"male\",18.0,1,1,\"370129\",20.2125,null],[426,0,\"Wiseman, Mr. Phillippe\",\"male\",null,0,0,\"A/4. 34244\",7.25,null],[427,1,\"Clarke, Mrs. Charles V (Ada Maria Winfield)\",\"female\",28.0,1,0,\"2003\",26.0,null],[428,1,\"Phillips, Miss. Kate Florence (\\\"Mrs Kate Louise Phillips Marshall\\\")\",\"female\",19.0,0,0,\"250655\",26.0,null],[429,0,\"Flynn, Mr. James\",\"male\",null,0,0,\"364851\",7.75,null],[430,1,\"Pickard, Mr. Berk (Berk Trembisky)\",\"male\",32.0,0,0,\"SOTON/O.Q. 392078\",8.05,\"E10\"],[431,1,\"Bjornstrom-Steffansson, Mr. Mauritz Hakan\",\"male\",28.0,0,0,\"110564\",26.55,\"C52\"],[432,1,\"Thorneycroft, Mrs. Percival (Florence Kate White)\",\"female\",null,1,0,\"376564\",16.1,null],[433,1,\"Louch, Mrs. Charles Alexander (Alice Adelaide Slow)\",\"female\",42.0,1,0,\"SC/AH 3085\",26.0,null],[434,0,\"Kallio, Mr. Nikolai Erland\",\"male\",17.0,0,0,\"STON/O 2. 3101274\",7.125,null],[435,0,\"Silvey, Mr. William Baird\",\"male\",50.0,1,0,\"13507\",55.9,\"E44\"],[436,1,\"Carter, Miss. Lucile Polk\",\"female\",14.0,1,2,\"113760\",120.0,\"B96 B98\"],[437,0,\"Ford, Miss. Doolina Margaret \\\"Daisy\\\"\",\"female\",21.0,2,2,\"W./C. 6608\",34.375,null],[438,1,\"Richards, Mrs. Sidney (Emily Hocking)\",\"female\",24.0,2,3,\"29106\",18.75,null],[439,0,\"Fortune, Mr. Mark\",\"male\",64.0,1,4,\"19950\",263.0,\"C23 C25 C27\"],[440,0,\"Kvillner, Mr. Johan Henrik Johannesson\",\"male\",31.0,0,0,\"C.A. 18723\",10.5,null],[441,1,\"Hart, Mrs. Benjamin (Esther Ada Bloomfield)\",\"female\",45.0,1,1,\"F.C.C. 13529\",26.25,null],[442,0,\"Hampe, Mr. Leon\",\"male\",20.0,0,0,\"345769\",9.5,null],[443,0,\"Petterson, Mr. Johan Emil\",\"male\",25.0,1,0,\"347076\",7.775,null],[444,1,\"Reynaldo, Ms. Encarnacion\",\"female\",28.0,0,0,\"230434\",13.0,null],[445,1,\"Johannesen-Bratthammer, Mr. Bernt\",\"male\",null,0,0,\"65306\",8.1125,null],[446,1,\"Dodge, Master. Washington\",\"male\",4.0,0,2,\"33638\",81.8583,\"A34\"],[447,1,\"Mellinger, Miss. Madeleine Violet\",\"female\",13.0,0,1,\"250644\",19.5,null],[448,1,\"Seward, Mr. Frederic Kimber\",\"male\",34.0,0,0,\"113794\",26.55,null],[449,1,\"Baclini, Miss. Marie Catherine\",\"female\",5.0,2,1,\"2666\",19.2583,null],[450,1,\"Peuchen, Major. Arthur Godfrey\",\"male\",52.0,0,0,\"113786\",30.5,\"C104\"],[451,0,\"West, Mr. Edwy Arthur\",\"male\",36.0,1,2,\"C.A. 34651\",27.75,null],[452,0,\"Hagland, Mr. Ingvald Olai Olsen\",\"male\",null,1,0,\"65303\",19.9667,null],[453,0,\"Foreman, Mr. Benjamin Laventall\",\"male\",30.0,0,0,\"113051\",27.75,\"C111\"],[454,1,\"Goldenberg, Mr. Samuel L\",\"male\",49.0,1,0,\"17453\",89.1042,\"C92\"],[455,0,\"Peduzzi, Mr. Joseph\",\"male\",null,0,0,\"A/5 2817\",8.05,null],[456,1,\"Jalsevac, Mr. Ivan\",\"male\",29.0,0,0,\"349240\",7.8958,null],[457,0,\"Millet, Mr. Francis Davis\",\"male\",65.0,0,0,\"13509\",26.55,\"E38\"],[458,1,\"Kenyon, Mrs. Frederick R (Marion)\",\"female\",null,1,0,\"17464\",51.8625,\"D21\"],[459,1,\"Toomey, Miss. Ellen\",\"female\",50.0,0,0,\"F.C.C. 13531\",10.5,null],[460,0,\"O'Connor, Mr. Maurice\",\"male\",null,0,0,\"371060\",7.75,null],[461,1,\"Anderson, Mr. Harry\",\"male\",48.0,0,0,\"19952\",26.55,\"E12\"],[462,0,\"Morley, Mr. William\",\"male\",34.0,0,0,\"364506\",8.05,null],[463,0,\"Gee, Mr. Arthur H\",\"male\",47.0,0,0,\"111320\",38.5,\"E63\"],[464,0,\"Milling, Mr. Jacob Christian\",\"male\",48.0,0,0,\"234360\",13.0,null],[465,0,\"Maisner, Mr. Simon\",\"male\",null,0,0,\"A/S 2816\",8.05,null],[466,0,\"Goncalves, Mr. Manuel Estanslas\",\"male\",38.0,0,0,\"SOTON/O.Q. 3101306\",7.05,null],[467,0,\"Campbell, Mr. William\",\"male\",null,0,0,\"239853\",0.0,null],[468,0,\"Smart, Mr. John Montgomery\",\"male\",56.0,0,0,\"113792\",26.55,null],[469,0,\"Scanlan, Mr. James\",\"male\",null,0,0,\"36209\",7.725,null],[470,1,\"Baclini, Miss. Helene Barbara\",\"female\",0.75,2,1,\"2666\",19.2583,null],[471,0,\"Keefe, Mr. Arthur\",\"male\",null,0,0,\"323592\",7.25,null],[472,0,\"Cacic, Mr. Luka\",\"male\",38.0,0,0,\"315089\",8.6625,null],[473,1,\"West, Mrs. Edwy Arthur (Ada Mary Worth)\",\"female\",33.0,1,2,\"C.A. 34651\",27.75,null],[474,1,\"Jerwan, Mrs. Amin S (Marie Marthe Thuillard)\",\"female\",23.0,0,0,\"SC/AH Basle 541\",13.7917,\"D\"],[475,0,\"Strandberg, Miss. Ida Sofia\",\"female\",22.0,0,0,\"7553\",9.8375,null],[476,0,\"Clifford, Mr. George Quincy\",\"male\",null,0,0,\"110465\",52.0,\"A14\"],[477,0,\"Renouf, Mr. Peter Henry\",\"male\",34.0,1,0,\"31027\",21.0,null],[478,0,\"Braund, Mr. Lewis Richard\",\"male\",29.0,1,0,\"3460\",7.0458,null],[479,0,\"Karlsson, Mr. Nils August\",\"male\",22.0,0,0,\"350060\",7.5208,null],[480,1,\"Hirvonen, Miss. Hildur E\",\"female\",2.0,0,1,\"3101298\",12.2875,null],[481,0,\"Goodwin, Master. Harold Victor\",\"male\",9.0,5,2,\"CA 2144\",46.9,null],[482,0,\"Frost, Mr. Anthony Wood \\\"Archie\\\"\",\"male\",null,0,0,\"239854\",0.0,null],[483,0,\"Rouse, Mr. Richard Henry\",\"male\",50.0,0,0,\"A/5 3594\",8.05,null],[484,1,\"Turkula, Mrs. (Hedwig)\",\"female\",63.0,0,0,\"4134\",9.5875,null],[485,1,\"Bishop, Mr. Dickinson H\",\"male\",25.0,1,0,\"11967\",91.0792,\"B49\"],[486,0,\"Lefebre, Miss. Jeannie\",\"female\",null,3,1,\"4133\",25.4667,null],[487,1,\"Hoyt, Mrs. Frederick Maxfield (Jane Anne Forby)\",\"female\",35.0,1,0,\"19943\",90.0,\"C93\"],[488,0,\"Kent, Mr. Edward Austin\",\"male\",58.0,0,0,\"11771\",29.7,\"B37\"],[489,0,\"Somerton, Mr. Francis William\",\"male\",30.0,0,0,\"A.5. 18509\",8.05,null],[490,1,\"Coutts, Master. Eden Leslie \\\"Neville\\\"\",\"male\",9.0,1,1,\"C.A. 37671\",15.9,null],[491,0,\"Hagland, Mr. Konrad Mathias Reiersen\",\"male\",null,1,0,\"65304\",19.9667,null],[492,0,\"Windelov, Mr. Einar\",\"male\",21.0,0,0,\"SOTON/OQ 3101317\",7.25,null],[493,0,\"Molson, Mr. Harry Markland\",\"male\",55.0,0,0,\"113787\",30.5,\"C30\"],[494,0,\"Artagaveytia, Mr. Ramon\",\"male\",71.0,0,0,\"PC 17609\",49.5042,null],[495,0,\"Stanley, Mr. Edward Roland\",\"male\",21.0,0,0,\"A/4 45380\",8.05,null],[496,0,\"Yousseff, Mr. Gerious\",\"male\",null,0,0,\"2627\",14.4583,null],[497,1,\"Eustis, Miss. Elizabeth Mussey\",\"female\",54.0,1,0,\"36947\",78.2667,\"D20\"],[498,0,\"Shellard, Mr. Frederick William\",\"male\",null,0,0,\"C.A. 6212\",15.1,null],[499,0,\"Allison, Mrs. Hudson J C (Bessie Waldo Daniels)\",\"female\",25.0,1,2,\"113781\",151.55,\"C22 C26\"],[500,0,\"Svensson, Mr. Olof\",\"male\",24.0,0,0,\"350035\",7.7958,null],[501,0,\"Calic, Mr. Petar\",\"male\",17.0,0,0,\"315086\",8.6625,null],[502,0,\"Canavan, Miss. Mary\",\"female\",21.0,0,0,\"364846\",7.75,null],[503,0,\"O'Sullivan, Miss. Bridget Mary\",\"female\",null,0,0,\"330909\",7.6292,null],[504,0,\"Laitinen, Miss. Kristina Sofia\",\"female\",37.0,0,0,\"4135\",9.5875,null],[505,1,\"Maioni, Miss. Roberta\",\"female\",16.0,0,0,\"110152\",86.5,\"B79\"],[506,0,\"Penasco y Castellana, Mr. Victor de Satode\",\"male\",18.0,1,0,\"PC 17758\",108.9,\"C65\"],[507,1,\"Quick, Mrs. Frederick Charles (Jane Richards)\",\"female\",33.0,0,2,\"26360\",26.0,null],[508,1,\"Bradley, Mr. George (\\\"George Arthur Brayton\\\")\",\"male\",null,0,0,\"111427\",26.55,null],[509,0,\"Olsen, Mr. Henry Margido\",\"male\",28.0,0,0,\"C 4001\",22.525,null],[510,1,\"Lang, Mr. Fang\",\"male\",26.0,0,0,\"1601\",56.4958,null],[511,1,\"Daly, Mr. Eugene Patrick\",\"male\",29.0,0,0,\"382651\",7.75,null],[512,0,\"Webber, Mr. James\",\"male\",null,0,0,\"SOTON/OQ 3101316\",8.05,null],[513,1,\"McGough, Mr. James Robert\",\"male\",36.0,0,0,\"PC 17473\",26.2875,\"E25\"],[514,1,\"Rothschild, Mrs. Martin (Elizabeth L. Barrett)\",\"female\",54.0,1,0,\"PC 17603\",59.4,null],[515,0,\"Coleff, Mr. Satio\",\"male\",24.0,0,0,\"349209\",7.4958,null],[516,0,\"Walker, Mr. William Anderson\",\"male\",47.0,0,0,\"36967\",34.0208,\"D46\"],[517,1,\"Lemore, Mrs. (Amelia Milley)\",\"female\",34.0,0,0,\"C.A. 34260\",10.5,\"F33\"],[518,0,\"Ryan, Mr. Patrick\",\"male\",null,0,0,\"371110\",24.15,null],[519,1,\"Angle, Mrs. William A (Florence \\\"Mary\\\" Agnes Hughes)\",\"female\",36.0,1,0,\"226875\",26.0,null],[520,0,\"Pavlovic, Mr. Stefo\",\"male\",32.0,0,0,\"349242\",7.8958,null],[521,1,\"Perreault, Miss. Anne\",\"female\",30.0,0,0,\"12749\",93.5,\"B73\"],[522,0,\"Vovk, Mr. Janko\",\"male\",22.0,0,0,\"349252\",7.8958,null],[523,0,\"Lahoud, Mr. Sarkis\",\"male\",null,0,0,\"2624\",7.225,null],[524,1,\"Hippach, Mrs. Louis Albert (Ida Sophia Fischer)\",\"female\",44.0,0,1,\"111361\",57.9792,\"B18\"],[525,0,\"Kassem, Mr. Fared\",\"male\",null,0,0,\"2700\",7.2292,null],[526,0,\"Farrell, Mr. James\",\"male\",40.5,0,0,\"367232\",7.75,null],[527,1,\"Ridsdale, Miss. Lucy\",\"female\",50.0,0,0,\"W./C. 14258\",10.5,null],[528,0,\"Farthing, Mr. John\",\"male\",null,0,0,\"PC 17483\",221.7792,\"C95\"],[529,0,\"Salonen, Mr. Johan Werner\",\"male\",39.0,0,0,\"3101296\",7.925,null],[530,0,\"Hocking, Mr. Richard George\",\"male\",23.0,2,1,\"29104\",11.5,null],[531,1,\"Quick, Miss. Phyllis May\",\"female\",2.0,1,1,\"26360\",26.0,null],[532,0,\"Toufik, Mr. Nakli\",\"male\",null,0,0,\"2641\",7.2292,null],[533,0,\"Elias, Mr. Joseph Jr\",\"male\",17.0,1,1,\"2690\",7.2292,null],[534,1,\"Peter, Mrs. Catherine (Catherine Rizk)\",\"female\",null,0,2,\"2668\",22.3583,null],[535,0,\"Cacic, Miss. Marija\",\"female\",30.0,0,0,\"315084\",8.6625,null],[536,1,\"Hart, Miss. Eva Miriam\",\"female\",7.0,0,2,\"F.C.C. 13529\",26.25,null],[537,0,\"Butt, Major. Archibald Willingham\",\"male\",45.0,0,0,\"113050\",26.55,\"B38\"],[538,1,\"LeRoy, Miss. Bertha\",\"female\",30.0,0,0,\"PC 17761\",106.425,null],[539,0,\"Risien, Mr. Samuel Beard\",\"male\",null,0,0,\"364498\",14.5,null],[540,1,\"Frolicher, Miss. Hedwig Margaritha\",\"female\",22.0,0,2,\"13568\",49.5,\"B39\"],[541,1,\"Crosby, Miss. Harriet R\",\"female\",36.0,0,2,\"WE/P 5735\",71.0,\"B22\"],[542,0,\"Andersson, Miss. Ingeborg Constanzia\",\"female\",9.0,4,2,\"347082\",31.275,null],[543,0,\"Andersson, Miss. Sigrid Elisabeth\",\"female\",11.0,4,2,\"347082\",31.275,null],[544,1,\"Beane, Mr. Edward\",\"male\",32.0,1,0,\"2908\",26.0,null],[545,0,\"Douglas, Mr. Walter Donald\",\"male\",50.0,1,0,\"PC 17761\",106.425,\"C86\"],[546,0,\"Nicholson, Mr. Arthur Ernest\",\"male\",64.0,0,0,\"693\",26.0,null],[547,1,\"Beane, Mrs. Edward (Ethel Clarke)\",\"female\",19.0,1,0,\"2908\",26.0,null],[548,1,\"Padro y Manent, Mr. Julian\",\"male\",null,0,0,\"SC/PARIS 2146\",13.8625,null],[549,0,\"Goldsmith, Mr. Frank John\",\"male\",33.0,1,1,\"363291\",20.525,null],[550,1,\"Davies, Master. John Morgan Jr\",\"male\",8.0,1,1,\"C.A. 33112\",36.75,null],[551,1,\"Thayer, Mr. John Borland Jr\",\"male\",17.0,0,2,\"17421\",110.8833,\"C70\"],[552,0,\"Sharp, Mr. Percival James R\",\"male\",27.0,0,0,\"244358\",26.0,null],[553,0,\"O'Brien, Mr. Timothy\",\"male\",null,0,0,\"330979\",7.8292,null],[554,1,\"Leeni, Mr. Fahim (\\\"Philip Zenni\\\")\",\"male\",22.0,0,0,\"2620\",7.225,null],[555,1,\"Ohman, Miss. Velin\",\"female\",22.0,0,0,\"347085\",7.775,null],[556,0,\"Wright, Mr. George\",\"male\",62.0,0,0,\"113807\",26.55,null],[557,1,\"Duff Gordon, Lady. (Lucille Christiana Sutherland) (\\\"Mrs Morgan\\\")\",\"female\",48.0,1,0,\"11755\",39.6,\"A16\"],[558,0,\"Robbins, Mr. Victor\",\"male\",null,0,0,\"PC 17757\",227.525,null],[559,1,\"Taussig, Mrs. Emil (Tillie Mandelbaum)\",\"female\",39.0,1,1,\"110413\",79.65,\"E67\"],[560,1,\"de Messemaeker, Mrs. Guillaume Joseph (Emma)\",\"female\",36.0,1,0,\"345572\",17.4,null],[561,0,\"Morrow, Mr. Thomas Rowan\",\"male\",null,0,0,\"372622\",7.75,null],[562,0,\"Sivic, Mr. Husein\",\"male\",40.0,0,0,\"349251\",7.8958,null],[563,0,\"Norman, Mr. Robert Douglas\",\"male\",28.0,0,0,\"218629\",13.5,null],[564,0,\"Simmons, Mr. John\",\"male\",null,0,0,\"SOTON/OQ 392082\",8.05,null],[565,0,\"Meanwell, Miss. (Marion Ogden)\",\"female\",null,0,0,\"SOTON/O.Q. 392087\",8.05,null],[566,0,\"Davies, Mr. Alfred J\",\"male\",24.0,2,0,\"A/4 48871\",24.15,null],[567,0,\"Stoytcheff, Mr. Ilia\",\"male\",19.0,0,0,\"349205\",7.8958,null],[568,0,\"Palsson, Mrs. Nils (Alma Cornelia Berglund)\",\"female\",29.0,0,4,\"349909\",21.075,null],[569,0,\"Doharr, Mr. Tannous\",\"male\",null,0,0,\"2686\",7.2292,null],[570,1,\"Jonsson, Mr. Carl\",\"male\",32.0,0,0,\"350417\",7.8542,null],[571,1,\"Harris, Mr. George\",\"male\",62.0,0,0,\"S.W./PP 752\",10.5,null],[572,1,\"Appleton, Mrs. Edward Dale (Charlotte Lamson)\",\"female\",53.0,2,0,\"11769\",51.4792,\"C101\"],[573,1,\"Flynn, Mr. John Irwin (\\\"Irving\\\")\",\"male\",36.0,0,0,\"PC 17474\",26.3875,\"E25\"],[574,1,\"Kelly, Miss. Mary\",\"female\",null,0,0,\"14312\",7.75,null],[575,0,\"Rush, Mr. Alfred George John\",\"male\",16.0,0,0,\"A/4. 20589\",8.05,null],[576,0,\"Patchett, Mr. George\",\"male\",19.0,0,0,\"358585\",14.5,null],[577,1,\"Garside, Miss. Ethel\",\"female\",34.0,0,0,\"243880\",13.0,null],[578,1,\"Silvey, Mrs. William Baird (Alice Munger)\",\"female\",39.0,1,0,\"13507\",55.9,\"E44\"],[579,0,\"Caram, Mrs. Joseph (Maria Elias)\",\"female\",null,1,0,\"2689\",14.4583,null],[580,1,\"Jussila, Mr. Eiriik\",\"male\",32.0,0,0,\"STON/O 2. 3101286\",7.925,null],[581,1,\"Christy, Miss. Julie Rachel\",\"female\",25.0,1,1,\"237789\",30.0,null],[582,1,\"Thayer, Mrs. John Borland (Marian Longstreth Morris)\",\"female\",39.0,1,1,\"17421\",110.8833,\"C68\"],[583,0,\"Downton, Mr. William James\",\"male\",54.0,0,0,\"28403\",26.0,null],[584,0,\"Ross, Mr. John Hugo\",\"male\",36.0,0,0,\"13049\",40.125,\"A10\"],[585,0,\"Paulner, Mr. Uscher\",\"male\",null,0,0,\"3411\",8.7125,null],[586,1,\"Taussig, Miss. Ruth\",\"female\",18.0,0,2,\"110413\",79.65,\"E68\"],[587,0,\"Jarvis, Mr. John Denzil\",\"male\",47.0,0,0,\"237565\",15.0,null],[588,1,\"Frolicher-Stehli, Mr. Maxmillian\",\"male\",60.0,1,1,\"13567\",79.2,\"B41\"],[589,0,\"Gilinski, Mr. Eliezer\",\"male\",22.0,0,0,\"14973\",8.05,null],[590,0,\"Murdlin, Mr. Joseph\",\"male\",null,0,0,\"A./5. 3235\",8.05,null],[591,0,\"Rintamaki, Mr. Matti\",\"male\",35.0,0,0,\"STON/O 2. 3101273\",7.125,null],[592,1,\"Stephenson, Mrs. Walter Bertram (Martha Eustis)\",\"female\",52.0,1,0,\"36947\",78.2667,\"D20\"],[593,0,\"Elsbury, Mr. William James\",\"male\",47.0,0,0,\"A/5 3902\",7.25,null],[594,0,\"Bourke, Miss. Mary\",\"female\",null,0,2,\"364848\",7.75,null],[595,0,\"Chapman, Mr. John Henry\",\"male\",37.0,1,0,\"SC/AH 29037\",26.0,null],[596,0,\"Van Impe, Mr. Jean Baptiste\",\"male\",36.0,1,1,\"345773\",24.15,null],[597,1,\"Leitch, Miss. Jessie Wills\",\"female\",null,0,0,\"248727\",33.0,null],[598,0,\"Johnson, Mr. Alfred\",\"male\",49.0,0,0,\"LINE\",0.0,null],[599,0,\"Boulos, Mr. Hanna\",\"male\",null,0,0,\"2664\",7.225,null],[600,1,\"Duff Gordon, Sir. Cosmo Edmund (\\\"Mr Morgan\\\")\",\"male\",49.0,1,0,\"PC 17485\",56.9292,\"A20\"],[601,1,\"Jacobsohn, Mrs. Sidney Samuel (Amy Frances Christy)\",\"female\",24.0,2,1,\"243847\",27.0,null],[602,0,\"Slabenoff, Mr. Petco\",\"male\",null,0,0,\"349214\",7.8958,null],[603,0,\"Harrington, Mr. Charles H\",\"male\",null,0,0,\"113796\",42.4,null],[604,0,\"Torber, Mr. Ernst William\",\"male\",44.0,0,0,\"364511\",8.05,null],[605,1,\"Homer, Mr. Harry (\\\"Mr E Haven\\\")\",\"male\",35.0,0,0,\"111426\",26.55,null],[606,0,\"Lindell, Mr. Edvard Bengtsson\",\"male\",36.0,1,0,\"349910\",15.55,null],[607,0,\"Karaic, Mr. Milan\",\"male\",30.0,0,0,\"349246\",7.8958,null],[608,1,\"Daniel, Mr. Robert Williams\",\"male\",27.0,0,0,\"113804\",30.5,null],[609,1,\"Laroche, Mrs. Joseph (Juliette Marie Louise Lafargue)\",\"female\",22.0,1,2,\"SC/Paris 2123\",41.5792,null],[610,1,\"Shutes, Miss. Elizabeth W\",\"female\",40.0,0,0,\"PC 17582\",153.4625,\"C125\"],[611,0,\"Andersson, Mrs. Anders Johan (Alfrida Konstantia Brogren)\",\"female\",39.0,1,5,\"347082\",31.275,null],[612,0,\"Jardin, Mr. Jose Neto\",\"male\",null,0,0,\"SOTON/O.Q. 3101305\",7.05,null],[613,1,\"Murphy, Miss. Margaret Jane\",\"female\",null,1,0,\"367230\",15.5,null],[614,0,\"Horgan, Mr. John\",\"male\",null,0,0,\"370377\",7.75,null],[615,0,\"Brocklebank, Mr. William Alfred\",\"male\",35.0,0,0,\"364512\",8.05,null],[616,1,\"Herman, Miss. Alice\",\"female\",24.0,1,2,\"220845\",65.0,null],[617,0,\"Danbom, Mr. Ernst Gilbert\",\"male\",34.0,1,1,\"347080\",14.4,null],[618,0,\"Lobb, Mrs. William Arthur (Cordelia K Stanlick)\",\"female\",26.0,1,0,\"A/5. 3336\",16.1,null],[619,1,\"Becker, Miss. Marion Louise\",\"female\",4.0,2,1,\"230136\",39.0,\"F4\"],[620,0,\"Gavey, Mr. Lawrence\",\"male\",26.0,0,0,\"31028\",10.5,null],[621,0,\"Yasbeck, Mr. Antoni\",\"male\",27.0,1,0,\"2659\",14.4542,null],[622,1,\"Kimball, Mr. Edwin Nelson Jr\",\"male\",42.0,1,0,\"11753\",52.5542,\"D19\"],[623,1,\"Nakid, Mr. Sahid\",\"male\",20.0,1,1,\"2653\",15.7417,null],[624,0,\"Hansen, Mr. Henry Damsgaard\",\"male\",21.0,0,0,\"350029\",7.8542,null],[625,0,\"Bowen, Mr. David John \\\"Dai\\\"\",\"male\",21.0,0,0,\"54636\",16.1,null],[626,0,\"Sutton, Mr. Frederick\",\"male\",61.0,0,0,\"36963\",32.3208,\"D50\"],[627,0,\"Kirkland, Rev. Charles Leonard\",\"male\",57.0,0,0,\"219533\",12.35,null],[628,1,\"Longley, Miss. Gretchen Fiske\",\"female\",21.0,0,0,\"13502\",77.9583,\"D9\"],[629,0,\"Bostandyeff, Mr. Guentcho\",\"male\",26.0,0,0,\"349224\",7.8958,null],[630,0,\"O'Connell, Mr. Patrick D\",\"male\",null,0,0,\"334912\",7.7333,null],[631,1,\"Barkworth, Mr. Algernon Henry Wilson\",\"male\",80.0,0,0,\"27042\",30.0,\"A23\"],[632,0,\"Lundahl, Mr. Johan Svensson\",\"male\",51.0,0,0,\"347743\",7.0542,null],[633,1,\"Stahelin-Maeglin, Dr. Max\",\"male\",32.0,0,0,\"13214\",30.5,\"B50\"],[634,0,\"Parr, Mr. William Henry Marsh\",\"male\",null,0,0,\"112052\",0.0,null],[635,0,\"Skoog, Miss. Mabel\",\"female\",9.0,3,2,\"347088\",27.9,null],[636,1,\"Davis, Miss. Mary\",\"female\",28.0,0,0,\"237668\",13.0,null],[637,0,\"Leinonen, Mr. Antti Gustaf\",\"male\",32.0,0,0,\"STON/O 2. 3101292\",7.925,null],[638,0,\"Collyer, Mr. Harvey\",\"male\",31.0,1,1,\"C.A. 31921\",26.25,null],[639,0,\"Panula, Mrs. Juha (Maria Emilia Ojala)\",\"female\",41.0,0,5,\"3101295\",39.6875,null],[640,0,\"Thorneycroft, Mr. Percival\",\"male\",null,1,0,\"376564\",16.1,null],[641,0,\"Jensen, Mr. Hans Peder\",\"male\",20.0,0,0,\"350050\",7.8542,null],[642,1,\"Sagesser, Mlle. Emma\",\"female\",24.0,0,0,\"PC 17477\",69.3,\"B35\"],[643,0,\"Skoog, Miss. Margit Elizabeth\",\"female\",2.0,3,2,\"347088\",27.9,null],[644,1,\"Foo, Mr. Choong\",\"male\",null,0,0,\"1601\",56.4958,null],[645,1,\"Baclini, Miss. Eugenie\",\"female\",0.75,2,1,\"2666\",19.2583,null],[646,1,\"Harper, Mr. Henry Sleeper\",\"male\",48.0,1,0,\"PC 17572\",76.7292,\"D33\"],[647,0,\"Cor, Mr. Liudevit\",\"male\",19.0,0,0,\"349231\",7.8958,null],[648,1,\"Simonius-Blumer, Col. Oberst Alfons\",\"male\",56.0,0,0,\"13213\",35.5,\"A26\"],[649,0,\"Willey, Mr. Edward\",\"male\",null,0,0,\"S.O./P.P. 751\",7.55,null],[650,1,\"Stanley, Miss. Amy Zillah Elsie\",\"female\",23.0,0,0,\"CA. 2314\",7.55,null],[651,0,\"Mitkoff, Mr. Mito\",\"male\",null,0,0,\"349221\",7.8958,null],[652,1,\"Doling, Miss. Elsie\",\"female\",18.0,0,1,\"231919\",23.0,null],[653,0,\"Kalvik, Mr. Johannes Halvorsen\",\"male\",21.0,0,0,\"8475\",8.4333,null],[654,1,\"O'Leary, Miss. Hanora \\\"Norah\\\"\",\"female\",null,0,0,\"330919\",7.8292,null],[655,0,\"Hegarty, Miss. Hanora \\\"Nora\\\"\",\"female\",18.0,0,0,\"365226\",6.75,null],[656,0,\"Hickman, Mr. Leonard Mark\",\"male\",24.0,2,0,\"S.O.C. 14879\",73.5,null],[657,0,\"Radeff, Mr. Alexander\",\"male\",null,0,0,\"349223\",7.8958,null],[658,0,\"Bourke, Mrs. John (Catherine)\",\"female\",32.0,1,1,\"364849\",15.5,null],[659,0,\"Eitemiller, Mr. George Floyd\",\"male\",23.0,0,0,\"29751\",13.0,null],[660,0,\"Newell, Mr. Arthur Webster\",\"male\",58.0,0,2,\"35273\",113.275,\"D48\"],[661,1,\"Frauenthal, Dr. Henry William\",\"male\",50.0,2,0,\"PC 17611\",133.65,null],[662,0,\"Badt, Mr. Mohamed\",\"male\",40.0,0,0,\"2623\",7.225,null],[663,0,\"Colley, Mr. Edward Pomeroy\",\"male\",47.0,0,0,\"5727\",25.5875,\"E58\"],[664,0,\"Coleff, Mr. Peju\",\"male\",36.0,0,0,\"349210\",7.4958,null],[665,1,\"Lindqvist, Mr. Eino William\",\"male\",20.0,1,0,\"STON/O 2. 3101285\",7.925,null],[666,0,\"Hickman, Mr. Lewis\",\"male\",32.0,2,0,\"S.O.C. 14879\",73.5,null],[667,0,\"Butler, Mr. Reginald Fenton\",\"male\",25.0,0,0,\"234686\",13.0,null],[668,0,\"Rommetvedt, Mr. Knud Paust\",\"male\",null,0,0,\"312993\",7.775,null],[669,0,\"Cook, Mr. Jacob\",\"male\",43.0,0,0,\"A/5 3536\",8.05,null],[670,1,\"Taylor, Mrs. Elmer Zebley (Juliet Cummins Wright)\",\"female\",null,1,0,\"19996\",52.0,\"C126\"],[671,1,\"Brown, Mrs. Thomas William Solomon (Elizabeth Catherine Ford)\",\"female\",40.0,1,1,\"29750\",39.0,null],[672,0,\"Davidson, Mr. Thornton\",\"male\",31.0,1,0,\"F.C. 12750\",52.0,\"B71\"],[673,0,\"Mitchell, Mr. Henry Michael\",\"male\",70.0,0,0,\"C.A. 24580\",10.5,null],[674,1,\"Wilhelms, Mr. Charles\",\"male\",31.0,0,0,\"244270\",13.0,null],[675,0,\"Watson, Mr. Ennis Hastings\",\"male\",null,0,0,\"239856\",0.0,null],[676,0,\"Edvardsson, Mr. Gustaf Hjalmar\",\"male\",18.0,0,0,\"349912\",7.775,null],[677,0,\"Sawyer, Mr. Frederick Charles\",\"male\",24.5,0,0,\"342826\",8.05,null],[678,1,\"Turja, Miss. Anna Sofia\",\"female\",18.0,0,0,\"4138\",9.8417,null],[679,0,\"Goodwin, Mrs. Frederick (Augusta Tyler)\",\"female\",43.0,1,6,\"CA 2144\",46.9,null],[680,1,\"Cardeza, Mr. Thomas Drake Martinez\",\"male\",36.0,0,1,\"PC 17755\",512.3292,\"B51 B53 B55\"],[681,0,\"Peters, Miss. Katie\",\"female\",null,0,0,\"330935\",8.1375,null],[682,1,\"Hassab, Mr. Hammad\",\"male\",27.0,0,0,\"PC 17572\",76.7292,\"D49\"],[683,0,\"Olsvigen, Mr. Thor Anderson\",\"male\",20.0,0,0,\"6563\",9.225,null],[684,0,\"Goodwin, Mr. Charles Edward\",\"male\",14.0,5,2,\"CA 2144\",46.9,null],[685,0,\"Brown, Mr. Thomas William Solomon\",\"male\",60.0,1,1,\"29750\",39.0,null],[686,0,\"Laroche, Mr. Joseph Philippe Lemercier\",\"male\",25.0,1,2,\"SC/Paris 2123\",41.5792,null],[687,0,\"Panula, Mr. Jaako Arnold\",\"male\",14.0,4,1,\"3101295\",39.6875,null],[688,0,\"Dakic, Mr. Branko\",\"male\",19.0,0,0,\"349228\",10.1708,null],[689,0,\"Fischer, Mr. Eberhard Thelander\",\"male\",18.0,0,0,\"350036\",7.7958,null],[690,1,\"Madill, Miss. Georgette Alexandra\",\"female\",15.0,0,1,\"24160\",211.3375,\"B5\"],[691,1,\"Dick, Mr. Albert Adrian\",\"male\",31.0,1,0,\"17474\",57.0,\"B20\"],[692,1,\"Karun, Miss. Manca\",\"female\",4.0,0,1,\"349256\",13.4167,null],[693,1,\"Lam, Mr. Ali\",\"male\",null,0,0,\"1601\",56.4958,null],[694,0,\"Saad, Mr. Khalil\",\"male\",25.0,0,0,\"2672\",7.225,null],[695,0,\"Weir, Col. John\",\"male\",60.0,0,0,\"113800\",26.55,null],[696,0,\"Chapman, Mr. Charles Henry\",\"male\",52.0,0,0,\"248731\",13.5,null],[697,0,\"Kelly, Mr. James\",\"male\",44.0,0,0,\"363592\",8.05,null],[698,1,\"Mullens, Miss. Katherine \\\"Katie\\\"\",\"female\",null,0,0,\"35852\",7.7333,null],[699,0,\"Thayer, Mr. John Borland\",\"male\",49.0,1,1,\"17421\",110.8833,\"C68\"],[700,0,\"Humblen, Mr. Adolf Mathias Nicolai Olsen\",\"male\",42.0,0,0,\"348121\",7.65,\"F G63\"],[701,1,\"Astor, Mrs. John Jacob (Madeleine Talmadge Force)\",\"female\",18.0,1,0,\"PC 17757\",227.525,\"C62 C64\"],[702,1,\"Silverthorne, Mr. Spencer Victor\",\"male\",35.0,0,0,\"PC 17475\",26.2875,\"E24\"],[703,0,\"Barbara, Miss. Saiide\",\"female\",18.0,0,1,\"2691\",14.4542,null],[704,0,\"Gallagher, Mr. Martin\",\"male\",25.0,0,0,\"36864\",7.7417,null],[705,0,\"Hansen, Mr. Henrik Juul\",\"male\",26.0,1,0,\"350025\",7.8542,null],[706,0,\"Morley, Mr. Henry Samuel (\\\"Mr Henry Marshall\\\")\",\"male\",39.0,0,0,\"250655\",26.0,null],[707,1,\"Kelly, Mrs. Florence \\\"Fannie\\\"\",\"female\",45.0,0,0,\"223596\",13.5,null],[708,1,\"Calderhead, Mr. Edward Pennington\",\"male\",42.0,0,0,\"PC 17476\",26.2875,\"E24\"],[709,1,\"Cleaver, Miss. Alice\",\"female\",22.0,0,0,\"113781\",151.55,null],[710,1,\"Moubarek, Master. Halim Gonios (\\\"William George\\\")\",\"male\",null,1,1,\"2661\",15.2458,null],[711,1,\"Mayne, Mlle. Berthe Antonine (\\\"Mrs de Villiers\\\")\",\"female\",24.0,0,0,\"PC 17482\",49.5042,\"C90\"],[712,0,\"Klaber, Mr. Herman\",\"male\",null,0,0,\"113028\",26.55,\"C124\"],[713,1,\"Taylor, Mr. Elmer Zebley\",\"male\",48.0,1,0,\"19996\",52.0,\"C126\"],[714,0,\"Larsson, Mr. August Viktor\",\"male\",29.0,0,0,\"7545\",9.4833,null],[715,0,\"Greenberg, Mr. Samuel\",\"male\",52.0,0,0,\"250647\",13.0,null],[716,0,\"Soholt, Mr. Peter Andreas Lauritz Andersen\",\"male\",19.0,0,0,\"348124\",7.65,\"F G73\"],[717,1,\"Endres, Miss. Caroline Louise\",\"female\",38.0,0,0,\"PC 17757\",227.525,\"C45\"],[718,1,\"Troutt, Miss. Edwina Celia \\\"Winnie\\\"\",\"female\",27.0,0,0,\"34218\",10.5,\"E101\"],[719,0,\"McEvoy, Mr. Michael\",\"male\",null,0,0,\"36568\",15.5,null],[720,0,\"Johnson, Mr. Malkolm Joackim\",\"male\",33.0,0,0,\"347062\",7.775,null],[721,1,\"Harper, Miss. Annie Jessie \\\"Nina\\\"\",\"female\",6.0,0,1,\"248727\",33.0,null],[722,0,\"Jensen, Mr. Svend Lauritz\",\"male\",17.0,1,0,\"350048\",7.0542,null],[723,0,\"Gillespie, Mr. William Henry\",\"male\",34.0,0,0,\"12233\",13.0,null],[724,0,\"Hodges, Mr. Henry Price\",\"male\",50.0,0,0,\"250643\",13.0,null],[725,1,\"Chambers, Mr. Norman Campbell\",\"male\",27.0,1,0,\"113806\",53.1,\"E8\"],[726,0,\"Oreskovic, Mr. Luka\",\"male\",20.0,0,0,\"315094\",8.6625,null],[727,1,\"Renouf, Mrs. Peter Henry (Lillian Jefferys)\",\"female\",30.0,3,0,\"31027\",21.0,null],[728,1,\"Mannion, Miss. Margareth\",\"female\",null,0,0,\"36866\",7.7375,null],[729,0,\"Bryhl, Mr. Kurt Arnold Gottfrid\",\"male\",25.0,1,0,\"236853\",26.0,null],[730,0,\"Ilmakangas, Miss. Pieta Sofia\",\"female\",25.0,1,0,\"STON/O2. 3101271\",7.925,null],[731,1,\"Allen, Miss. Elisabeth Walton\",\"female\",29.0,0,0,\"24160\",211.3375,\"B5\"],[732,0,\"Hassan, Mr. Houssein G N\",\"male\",11.0,0,0,\"2699\",18.7875,null],[733,0,\"Knight, Mr. Robert J\",\"male\",null,0,0,\"239855\",0.0,null],[734,0,\"Berriman, Mr. William John\",\"male\",23.0,0,0,\"28425\",13.0,null],[735,0,\"Troupiansky, Mr. Moses Aaron\",\"male\",23.0,0,0,\"233639\",13.0,null],[736,0,\"Williams, Mr. Leslie\",\"male\",28.5,0,0,\"54636\",16.1,null],[737,0,\"Ford, Mrs. Edward (Margaret Ann Watson)\",\"female\",48.0,1,3,\"W./C. 6608\",34.375,null],[738,1,\"Lesurer, Mr. Gustave J\",\"male\",35.0,0,0,\"PC 17755\",512.3292,\"B101\"],[739,0,\"Ivanoff, Mr. Kanio\",\"male\",null,0,0,\"349201\",7.8958,null],[740,0,\"Nankoff, Mr. Minko\",\"male\",null,0,0,\"349218\",7.8958,null],[741,1,\"Hawksford, Mr. Walter James\",\"male\",null,0,0,\"16988\",30.0,\"D45\"],[742,0,\"Cavendish, Mr. Tyrell William\",\"male\",36.0,1,0,\"19877\",78.85,\"C46\"],[743,1,\"Ryerson, Miss. Susan Parker \\\"Suzette\\\"\",\"female\",21.0,2,2,\"PC 17608\",262.375,\"B57 B59 B63 B66\"],[744,0,\"McNamee, Mr. Neal\",\"male\",24.0,1,0,\"376566\",16.1,null],[745,1,\"Stranden, Mr. Juho\",\"male\",31.0,0,0,\"STON/O 2. 3101288\",7.925,null],[746,0,\"Crosby, Capt. Edward Gifford\",\"male\",70.0,1,1,\"WE/P 5735\",71.0,\"B22\"],[747,0,\"Abbott, Mr. Rossmore Edward\",\"male\",16.0,1,1,\"C.A. 2673\",20.25,null],[748,1,\"Sinkkonen, Miss. Anna\",\"female\",30.0,0,0,\"250648\",13.0,null],[749,0,\"Marvin, Mr. Daniel Warner\",\"male\",19.0,1,0,\"113773\",53.1,\"D30\"],[750,0,\"Connaghton, Mr. Michael\",\"male\",31.0,0,0,\"335097\",7.75,null],[751,1,\"Wells, Miss. Joan\",\"female\",4.0,1,1,\"29103\",23.0,null],[752,1,\"Moor, Master. Meier\",\"male\",6.0,0,1,\"392096\",12.475,\"E121\"],[753,0,\"Vande Velde, Mr. Johannes Joseph\",\"male\",33.0,0,0,\"345780\",9.5,null],[754,0,\"Jonkoff, Mr. Lalio\",\"male\",23.0,0,0,\"349204\",7.8958,null],[755,1,\"Herman, Mrs. Samuel (Jane Laver)\",\"female\",48.0,1,2,\"220845\",65.0,null],[756,1,\"Hamalainen, Master. Viljo\",\"male\",0.67,1,1,\"250649\",14.5,null],[757,0,\"Carlsson, Mr. August Sigfrid\",\"male\",28.0,0,0,\"350042\",7.7958,null],[758,0,\"Bailey, Mr. Percy Andrew\",\"male\",18.0,0,0,\"29108\",11.5,null],[759,0,\"Theobald, Mr. Thomas Leonard\",\"male\",34.0,0,0,\"363294\",8.05,null],[760,1,\"Rothes, the Countess. of (Lucy Noel Martha Dyer-Edwards)\",\"female\",33.0,0,0,\"110152\",86.5,\"B77\"],[761,0,\"Garfirth, Mr. John\",\"male\",null,0,0,\"358585\",14.5,null],[762,0,\"Nirva, Mr. Iisakki Antino Aijo\",\"male\",41.0,0,0,\"SOTON/O2 3101272\",7.125,null],[763,1,\"Barah, Mr. Hanna Assi\",\"male\",20.0,0,0,\"2663\",7.2292,null],[764,1,\"Carter, Mrs. William Ernest (Lucile Polk)\",\"female\",36.0,1,2,\"113760\",120.0,\"B96 B98\"],[765,0,\"Eklund, Mr. Hans Linus\",\"male\",16.0,0,0,\"347074\",7.775,null],[766,1,\"Hogeboom, Mrs. John C (Anna Andrews)\",\"female\",51.0,1,0,\"13502\",77.9583,\"D11\"],[767,0,\"Brewe, Dr. Arthur Jackson\",\"male\",null,0,0,\"112379\",39.6,null],[768,0,\"Mangan, Miss. Mary\",\"female\",30.5,0,0,\"364850\",7.75,null],[769,0,\"Moran, Mr. Daniel J\",\"male\",null,1,0,\"371110\",24.15,null],[770,0,\"Gronnestad, Mr. Daniel Danielsen\",\"male\",32.0,0,0,\"8471\",8.3625,null],[771,0,\"Lievens, Mr. Rene Aime\",\"male\",24.0,0,0,\"345781\",9.5,null],[772,0,\"Jensen, Mr. Niels Peder\",\"male\",48.0,0,0,\"350047\",7.8542,null],[773,0,\"Mack, Mrs. (Mary)\",\"female\",57.0,0,0,\"S.O./P.P. 3\",10.5,\"E77\"],[774,0,\"Elias, Mr. Dibo\",\"male\",null,0,0,\"2674\",7.225,null],[775,1,\"Hocking, Mrs. Elizabeth (Eliza Needs)\",\"female\",54.0,1,3,\"29105\",23.0,null],[776,0,\"Myhrman, Mr. Pehr Fabian Oliver Malkolm\",\"male\",18.0,0,0,\"347078\",7.75,null],[777,0,\"Tobin, Mr. Roger\",\"male\",null,0,0,\"383121\",7.75,\"F38\"],[778,1,\"Emanuel, Miss. Virginia Ethel\",\"female\",5.0,0,0,\"364516\",12.475,null],[779,0,\"Kilgannon, Mr. Thomas J\",\"male\",null,0,0,\"36865\",7.7375,null],[780,1,\"Robert, Mrs. Edward Scott (Elisabeth Walton McMillan)\",\"female\",43.0,0,1,\"24160\",211.3375,\"B3\"],[781,1,\"Ayoub, Miss. Banoura\",\"female\",13.0,0,0,\"2687\",7.2292,null],[782,1,\"Dick, Mrs. Albert Adrian (Vera Gillespie)\",\"female\",17.0,1,0,\"17474\",57.0,\"B20\"],[783,0,\"Long, Mr. Milton Clyde\",\"male\",29.0,0,0,\"113501\",30.0,\"D6\"],[784,0,\"Johnston, Mr. Andrew G\",\"male\",null,1,2,\"W./C. 6607\",23.45,null],[785,0,\"Ali, Mr. William\",\"male\",25.0,0,0,\"SOTON/O.Q. 3101312\",7.05,null],[786,0,\"Harmer, Mr. Abraham (David Lishin)\",\"male\",25.0,0,0,\"374887\",7.25,null],[787,1,\"Sjoblom, Miss. Anna Sofia\",\"female\",18.0,0,0,\"3101265\",7.4958,null],[788,0,\"Rice, Master. George Hugh\",\"male\",8.0,4,1,\"382652\",29.125,null],[789,1,\"Dean, Master. Bertram Vere\",\"male\",1.0,1,2,\"C.A. 2315\",20.575,null],[790,0,\"Guggenheim, Mr. Benjamin\",\"male\",46.0,0,0,\"PC 17593\",79.2,\"B82 B84\"],[791,0,\"Keane, Mr. Andrew \\\"Andy\\\"\",\"male\",null,0,0,\"12460\",7.75,null],[792,0,\"Gaskell, Mr. Alfred\",\"male\",16.0,0,0,\"239865\",26.0,null],[793,0,\"Sage, Miss. Stella Anna\",\"female\",null,8,2,\"CA. 2343\",69.55,null],[794,0,\"Hoyt, Mr. William Fisher\",\"male\",null,0,0,\"PC 17600\",30.6958,null],[795,0,\"Dantcheff, Mr. Ristiu\",\"male\",25.0,0,0,\"349203\",7.8958,null],[796,0,\"Otter, Mr. Richard\",\"male\",39.0,0,0,\"28213\",13.0,null],[797,1,\"Leader, Dr. Alice (Farnham)\",\"female\",49.0,0,0,\"17465\",25.9292,\"D17\"],[798,1,\"Osman, Mrs. Mara\",\"female\",31.0,0,0,\"349244\",8.6833,null],[799,0,\"Ibrahim Shawah, Mr. Yousseff\",\"male\",30.0,0,0,\"2685\",7.2292,null],[800,0,\"Van Impe, Mrs. Jean Baptiste (Rosalie Paula Govaert)\",\"female\",30.0,1,1,\"345773\",24.15,null],[801,0,\"Ponesell, Mr. Martin\",\"male\",34.0,0,0,\"250647\",13.0,null],[802,1,\"Collyer, Mrs. Harvey (Charlotte Annie Tate)\",\"female\",31.0,1,1,\"C.A. 31921\",26.25,null],[803,1,\"Carter, Master. William Thornton II\",\"male\",11.0,1,2,\"113760\",120.0,\"B96 B98\"],[804,1,\"Thomas, Master. Assad Alexander\",\"male\",0.42,0,1,\"2625\",8.5167,null],[805,1,\"Hedman, Mr. Oskar Arvid\",\"male\",27.0,0,0,\"347089\",6.975,null],[806,0,\"Johansson, Mr. Karl Johan\",\"male\",31.0,0,0,\"347063\",7.775,null],[807,0,\"Andrews, Mr. Thomas Jr\",\"male\",39.0,0,0,\"112050\",0.0,\"A36\"],[808,0,\"Pettersson, Miss. Ellen Natalia\",\"female\",18.0,0,0,\"347087\",7.775,null],[809,0,\"Meyer, Mr. August\",\"male\",39.0,0,0,\"248723\",13.0,null],[810,1,\"Chambers, Mrs. Norman Campbell (Bertha Griggs)\",\"female\",33.0,1,0,\"113806\",53.1,\"E8\"],[811,0,\"Alexander, Mr. William\",\"male\",26.0,0,0,\"3474\",7.8875,null],[812,0,\"Lester, Mr. James\",\"male\",39.0,0,0,\"A/4 48871\",24.15,null],[813,0,\"Slemen, Mr. Richard James\",\"male\",35.0,0,0,\"28206\",10.5,null],[814,0,\"Andersson, Miss. Ebba Iris Alfrida\",\"female\",6.0,4,2,\"347082\",31.275,null],[815,0,\"Tomlin, Mr. Ernest Portage\",\"male\",30.5,0,0,\"364499\",8.05,null],[816,0,\"Fry, Mr. Richard\",\"male\",null,0,0,\"112058\",0.0,\"B102\"],[817,0,\"Heininen, Miss. Wendla Maria\",\"female\",23.0,0,0,\"STON/O2. 3101290\",7.925,null],[818,0,\"Mallet, Mr. Albert\",\"male\",31.0,1,1,\"S.C./PARIS 2079\",37.0042,null],[819,0,\"Holm, Mr. John Fredrik Alexander\",\"male\",43.0,0,0,\"C 7075\",6.45,null],[820,0,\"Skoog, Master. Karl Thorsten\",\"male\",10.0,3,2,\"347088\",27.9,null],[821,1,\"Hays, Mrs. Charles Melville (Clara Jennings Gregg)\",\"female\",52.0,1,1,\"12749\",93.5,\"B69\"],[822,1,\"Lulic, Mr. Nikola\",\"male\",27.0,0,0,\"315098\",8.6625,null],[823,0,\"Reuchlin, Jonkheer. John George\",\"male\",38.0,0,0,\"19972\",0.0,null],[824,1,\"Moor, Mrs. (Beila)\",\"female\",27.0,0,1,\"392096\",12.475,\"E121\"],[825,0,\"Panula, Master. Urho Abraham\",\"male\",2.0,4,1,\"3101295\",39.6875,null],[826,0,\"Flynn, Mr. John\",\"male\",null,0,0,\"368323\",6.95,null],[827,0,\"Lam, Mr. Len\",\"male\",null,0,0,\"1601\",56.4958,null],[828,1,\"Mallet, Master. Andre\",\"male\",1.0,0,2,\"S.C./PARIS 2079\",37.0042,null],[829,1,\"McCormack, Mr. Thomas Joseph\",\"male\",null,0,0,\"367228\",7.75,null],[830,1,\"Stone, Mrs. George Nelson (Martha Evelyn)\",\"female\",62.0,0,0,\"113572\",80.0,\"B28\"],[831,1,\"Yasbeck, Mrs. Antoni (Selini Alexander)\",\"female\",15.0,1,0,\"2659\",14.4542,null],[832,1,\"Richards, Master. George Sibley\",\"male\",0.83,1,1,\"29106\",18.75,null],[833,0,\"Saad, Mr. Amin\",\"male\",null,0,0,\"2671\",7.2292,null],[834,0,\"Augustsson, Mr. Albert\",\"male\",23.0,0,0,\"347468\",7.8542,null],[835,0,\"Allum, Mr. Owen George\",\"male\",18.0,0,0,\"2223\",8.3,null],[836,1,\"Compton, Miss. Sara Rebecca\",\"female\",39.0,1,1,\"PC 17756\",83.1583,\"E49\"],[837,0,\"Pasic, Mr. Jakob\",\"male\",21.0,0,0,\"315097\",8.6625,null],[838,0,\"Sirota, Mr. Maurice\",\"male\",null,0,0,\"392092\",8.05,null],[839,1,\"Chip, Mr. Chang\",\"male\",32.0,0,0,\"1601\",56.4958,null],[840,1,\"Marechal, Mr. Pierre\",\"male\",null,0,0,\"11774\",29.7,\"C47\"],[841,0,\"Alhomaki, Mr. Ilmari Rudolf\",\"male\",20.0,0,0,\"SOTON/O2 3101287\",7.925,null],[842,0,\"Mudd, Mr. Thomas Charles\",\"male\",16.0,0,0,\"S.O./P.P. 3\",10.5,null],[843,1,\"Serepeca, Miss. Augusta\",\"female\",30.0,0,0,\"113798\",31.0,null],[844,0,\"Lemberopolous, Mr. Peter L\",\"male\",34.5,0,0,\"2683\",6.4375,null],[845,0,\"Culumovic, Mr. Jeso\",\"male\",17.0,0,0,\"315090\",8.6625,null],[846,0,\"Abbing, Mr. Anthony\",\"male\",42.0,0,0,\"C.A. 5547\",7.55,null],[847,0,\"Sage, Mr. Douglas Bullen\",\"male\",null,8,2,\"CA. 2343\",69.55,null],[848,0,\"Markoff, Mr. Marin\",\"male\",35.0,0,0,\"349213\",7.8958,null],[849,0,\"Harper, Rev. John\",\"male\",28.0,0,1,\"248727\",33.0,null],[850,1,\"Goldenberg, Mrs. Samuel L (Edwiga Grabowska)\",\"female\",null,1,0,\"17453\",89.1042,\"C92\"],[851,0,\"Andersson, Master. Sigvard Harald Elias\",\"male\",4.0,4,2,\"347082\",31.275,null],[852,0,\"Svensson, Mr. Johan\",\"male\",74.0,0,0,\"347060\",7.775,null],[853,0,\"Boulos, Miss. Nourelain\",\"female\",9.0,1,1,\"2678\",15.2458,null],[854,1,\"Lines, Miss. Mary Conover\",\"female\",16.0,0,1,\"PC 17592\",39.4,\"D28\"],[855,0,\"Carter, Mrs. Ernest Courtenay (Lilian Hughes)\",\"female\",44.0,1,0,\"244252\",26.0,null],[856,1,\"Aks, Mrs. Sam (Leah Rosen)\",\"female\",18.0,0,1,\"392091\",9.35,null],[857,1,\"Wick, Mrs. George Dennick (Mary Hitchcock)\",\"female\",45.0,1,1,\"36928\",164.8667,null],[858,1,\"Daly, Mr. Peter Denis \",\"male\",51.0,0,0,\"113055\",26.55,\"E17\"],[859,1,\"Baclini, Mrs. Solomon (Latifa Qurban)\",\"female\",24.0,0,3,\"2666\",19.2583,null],[860,0,\"Razi, Mr. Raihed\",\"male\",null,0,0,\"2629\",7.2292,null],[861,0,\"Hansen, Mr. Claus Peter\",\"male\",41.0,2,0,\"350026\",14.1083,null],[862,0,\"Giles, Mr. Frederick Edward\",\"male\",21.0,1,0,\"28134\",11.5,null],[863,1,\"Swift, Mrs. Frederick Joel (Margaret Welles Barron)\",\"female\",48.0,0,0,\"17466\",25.9292,\"D17\"],[864,0,\"Sage, Miss. Dorothy Edith \\\"Dolly\\\"\",\"female\",null,8,2,\"CA. 2343\",69.55,null],[865,0,\"Gill, Mr. John William\",\"male\",24.0,0,0,\"233866\",13.0,null],[866,1,\"Bystrom, Mrs. (Karolina)\",\"female\",42.0,0,0,\"236852\",13.0,null],[867,1,\"Duran y More, Miss. Asuncion\",\"female\",27.0,1,0,\"SC/PARIS 2149\",13.8583,null],[868,0,\"Roebling, Mr. Washington Augustus II\",\"male\",31.0,0,0,\"PC 17590\",50.4958,\"A24\"],[869,0,\"van Melkebeke, Mr. Philemon\",\"male\",null,0,0,\"345777\",9.5,null],[870,1,\"Johnson, Master. Harold Theodor\",\"male\",4.0,1,1,\"347742\",11.1333,null],[871,0,\"Balkic, Mr. Cerin\",\"male\",26.0,0,0,\"349248\",7.8958,null],[872,1,\"Beckwith, Mrs. Richard Leonard (Sallie Monypeny)\",\"female\",47.0,1,1,\"11751\",52.5542,\"D35\"],[873,0,\"Carlsson, Mr. Frans Olof\",\"male\",33.0,0,0,\"695\",5.0,\"B51 B53 B55\"],[874,0,\"Vander Cruyssen, Mr. Victor\",\"male\",47.0,0,0,\"345765\",9.0,null],[875,1,\"Abelson, Mrs. Samuel (Hannah Wizosky)\",\"female\",28.0,1,0,\"P/PP 3381\",24.0,null],[876,1,\"Najib, Miss. Adele Kiamie \\\"Jane\\\"\",\"female\",15.0,0,0,\"2667\",7.225,null],[877,0,\"Gustafsson, Mr. Alfred Ossian\",\"male\",20.0,0,0,\"7534\",9.8458,null],[878,0,\"Petroff, Mr. Nedelio\",\"male\",19.0,0,0,\"349212\",7.8958,null],[879,0,\"Laleff, Mr. Kristo\",\"male\",null,0,0,\"349217\",7.8958,null],[880,1,\"Potter, Mrs. Thomas Jr (Lily Alexenia Wilson)\",\"female\",56.0,0,1,\"11767\",83.1583,\"C50\"],[881,1,\"Shelley, Mrs. William (Imanita Parrish Hall)\",\"female\",25.0,0,1,\"230433\",26.0,null],[882,0,\"Markun, Mr. Johann\",\"male\",33.0,0,0,\"349257\",7.8958,null],[883,0,\"Dahlberg, Miss. Gerda Ulrika\",\"female\",22.0,0,0,\"7552\",10.5167,null],[884,0,\"Banfield, Mr. Frederick James\",\"male\",28.0,0,0,\"C.A./SOTON 34068\",10.5,null],[885,0,\"Sutehall, Mr. Henry Jr\",\"male\",25.0,0,0,\"SOTON/OQ 392076\",7.05,null],[886,0,\"Rice, Mrs. William (Margaret Norton)\",\"female\",39.0,0,5,\"382652\",29.125,null],[887,0,\"Montvila, Rev. Juozas\",\"male\",27.0,0,0,\"211536\",13.0,null],[888,1,\"Graham, Miss. Margaret Edith\",\"female\",19.0,0,0,\"112053\",30.0,\"B42\"],[889,0,\"Johnston, Miss. Catherine Helen \\\"Carrie\\\"\",\"female\",null,1,2,\"W./C. 6607\",23.45,null],[890,1,\"Behr, Mr. Karl Howell\",\"male\",26.0,0,0,\"111369\",30.0,\"C148\"],[891,0,\"Dooley, Mr. Patrick\",\"male\",32.0,0,0,\"370376\",7.75,null]],\"hovertemplate\":\"Embarked=%{x}<br>Pclass=%{y}<br>PassengerId=%{customdata[0]}<br>Survived=%{customdata[1]}<br>Name=%{customdata[2]}<br>Sex=%{customdata[3]}<br>Age=%{customdata[4]}<br>SibSp=%{customdata[5]}<br>Parch=%{customdata[6]}<br>Ticket=%{customdata[7]}<br>Fare=%{customdata[8]}<br>Cabin=%{customdata[9]}<extra></extra>\",\"legendgroup\":\"\",\"marker\":{\"color\":\"#636efa\"},\"name\":\"\",\"offsetgroup\":\"\",\"orientation\":\"v\",\"scalegroup\":\"True\",\"showlegend\":false,\"x\":[\"S\",\"C\",\"S\",\"S\",\"S\",\"Q\",\"S\",\"S\",\"S\",\"C\",\"S\",\"S\",\"S\",\"S\",\"S\",\"S\",\"Q\",\"S\",\"S\",\"C\",\"S\",\"S\",\"Q\",\"S\",\"S\",\"S\",\"C\",\"S\",\"Q\",\"S\",\"C\",\"C\",\"Q\",\"S\",\"C\",\"S\",\"C\",\"S\",\"S\",\"C\",\"S\",\"S\",\"C\",\"C\",\"Q\",\"S\",\"Q\",\"Q\",\"C\",\"S\",\"S\",\"S\",\"C\",\"S\",\"C\",\"S\",\"S\",\"C\",\"S\",\"S\",\"C\",null,\"S\",\"S\",\"C\",\"C\",\"S\",\"S\",\"S\",\"S\",\"S\",\"S\",\"S\",\"C\",\"S\",\"S\",\"S\",\"S\",\"S\",\"S\",\"S\",\"S\",\"Q\",\"S\",\"S\",\"S\",\"S\",\"S\",\"S\",\"S\",\"S\",\"S\",\"S\",\"S\",\"S\",\"S\",\"C\",\"C\",\"S\",\"S\",\"S\",\"S\",\"S\",\"S\",\"S\",\"S\",\"S\",\"S\",\"S\",\"Q\",\"S\",\"C\",\"S\",\"S\",\"C\",\"S\",\"Q\",\"S\",\"C\",\"S\",\"S\",\"S\",\"C\",\"S\",\"S\",\"C\",\"Q\",\"S\",\"C\",\"S\",\"C\",\"S\",\"S\",\"S\",\"S\",\"C\",\"S\",\"S\",\"S\",\"C\",\"C\",\"S\",\"S\",\"Q\",\"S\",\"S\",\"S\",\"S\",\"S\",\"S\",\"S\",\"S\",\"S\",\"S\",\"S\",\"C\",\"Q\",\"S\",\"S\",\"S\",\"S\",\"S\",\"S\",\"S\",\"S\",\"S\",\"S\",\"S\",\"S\",\"S\",\"S\",\"Q\",\"S\",\"S\",\"C\",\"S\",\"S\",\"C\",\"S\",\"S\",\"S\",\"C\",\"S\",\"S\",\"S\",\"S\",\"Q\",\"S\",\"Q\",\"S\",\"S\",\"S\",\"S\",\"S\",\"C\",\"C\",\"Q\",\"S\",\"Q\",\"S\",\"S\",\"S\",\"S\",\"C\",\"S\",\"S\",\"S\",\"C\",\"Q\",\"C\",\"S\",\"S\",\"S\",\"S\",\"Q\",\"C\",\"S\",\"S\",\"C\",\"S\",\"S\",\"S\",\"S\",\"S\",\"S\",\"S\",\"S\",\"S\",\"S\",\"S\",\"S\",\"S\",\"S\",\"S\",\"S\",\"S\",\"S\",\"S\",\"S\",\"S\",\"C\",\"Q\",\"S\",\"S\",\"C\",\"Q\",\"S\",\"S\",\"S\",\"S\",\"S\",\"S\",\"S\",\"S\",\"S\",\"C\",\"C\",\"S\",\"C\",\"S\",\"Q\",\"S\",\"S\",\"S\",\"Q\",\"S\",\"S\",\"S\",\"S\",\"S\",\"S\",\"S\",\"S\",\"C\",\"Q\",\"S\",\"S\",\"S\",\"Q\",\"S\",\"Q\",\"S\",\"S\",\"S\",\"S\",\"C\",\"S\",\"S\",\"S\",\"Q\",\"S\",\"C\",\"C\",\"S\",\"S\",\"C\",\"C\",\"S\",\"S\",\"C\",\"Q\",\"Q\",\"S\",\"Q\",\"S\",\"S\",\"C\",\"C\",\"C\",\"C\",\"C\",\"C\",\"S\",\"S\",\"S\",\"S\",\"S\",\"S\",\"S\",\"C\",\"S\",\"S\",\"Q\",\"S\",\"S\",\"C\",\"S\",\"S\",\"S\",\"C\",\"Q\",\"S\",\"S\",\"S\",\"S\",\"S\",\"S\",\"C\",\"S\",\"S\",\"S\",\"S\",\"S\",\"S\",\"S\",\"S\",\"S\",\"S\",\"S\",\"S\",\"S\",\"S\",\"C\",\"S\",\"C\",\"S\",\"S\",\"S\",\"Q\",\"Q\",\"S\",\"C\",\"C\",\"S\",\"Q\",\"S\",\"C\",\"C\",\"Q\",\"C\",\"C\",\"S\",\"S\",\"C\",\"S\",\"C\",\"S\",\"C\",\"C\",\"S\",\"C\",\"C\",\"S\",\"S\",\"S\",\"S\",\"S\",\"S\",\"Q\",\"C\",\"S\",\"S\",\"S\",\"C\",\"S\",\"S\",\"S\",\"S\",\"S\",\"S\",\"S\",\"S\",\"S\",\"S\",\"S\",\"S\",\"S\",\"S\",\"S\",\"S\",\"S\",\"Q\",\"Q\",\"S\",\"S\",\"S\",\"S\",\"S\",\"S\",\"S\",\"C\",\"Q\",\"S\",\"S\",\"S\",\"S\",\"S\",\"S\",\"Q\",\"S\",\"S\",\"S\",\"S\",\"S\",\"S\",\"S\",\"S\",\"S\",\"S\",\"S\",\"S\",\"S\",\"S\",\"S\",\"S\",\"S\",\"S\",\"S\",\"C\",\"S\",\"S\",\"S\",\"C\",\"C\",\"S\",\"C\",\"S\",\"S\",\"S\",\"Q\",\"S\",\"S\",\"S\",\"S\",\"S\",\"S\",\"S\",\"S\",\"Q\",\"C\",\"S\",\"S\",\"S\",\"C\",\"S\",\"S\",\"S\",\"S\",\"S\",\"S\",\"S\",\"S\",\"S\",\"S\",\"C\",\"S\",\"S\",\"C\",\"S\",\"S\",\"S\",\"S\",\"S\",\"C\",\"S\",\"C\",\"C\",\"S\",\"S\",\"S\",\"S\",\"Q\",\"Q\",\"S\",\"S\",\"C\",\"S\",\"S\",\"S\",\"S\",\"Q\",\"S\",\"S\",\"C\",\"S\",\"S\",\"S\",\"Q\",\"S\",\"S\",\"S\",\"S\",\"C\",\"C\",\"C\",\"Q\",\"S\",\"S\",\"S\",\"S\",\"S\",\"C\",\"C\",\"C\",\"S\",\"S\",\"S\",\"C\",\"S\",\"C\",\"S\",\"S\",\"S\",\"S\",\"C\",\"S\",\"S\",\"C\",\"S\",\"S\",\"C\",\"S\",\"Q\",\"C\",\"S\",\"S\",\"C\",\"C\",\"S\",\"S\",\"Q\",\"S\",\"S\",\"S\",\"S\",\"S\",\"S\",\"S\",\"C\",\"S\",\"S\",\"S\",\"S\",\"Q\",\"S\",\"S\",\"S\",\"S\",\"C\",\"S\",\"S\",\"C\",\"S\",\"C\",\"C\",\"S\",\"S\",\"C\",\"S\",\"S\",\"S\",\"C\",\"S\",\"Q\",\"S\",\"S\",\"S\",\"S\",\"C\",\"C\",\"S\",\"S\",\"S\",\"S\",\"C\",\"S\",\"S\",\"S\",\"C\",\"S\",\"S\",\"S\",\"Q\",\"Q\",\"S\",\"S\",\"S\",\"S\",\"S\",\"S\",\"C\",\"S\",\"C\",\"S\",\"S\",\"S\",\"Q\",\"S\",\"S\",\"Q\",\"S\",\"S\",\"C\",\"S\",\"S\",\"S\",\"S\",\"S\",\"S\",\"S\",\"S\",\"C\",\"S\",\"S\",\"C\",\"C\",\"S\",\"C\",\"S\",\"S\",\"S\",\"S\",\"S\",\"Q\",\"Q\",\"S\",\"S\",\"Q\",\"S\",\"C\",\"S\",\"C\",\"S\",\"S\",\"S\",\"S\",\"S\",\"S\",\"S\",\"S\",\"S\",\"S\",\"S\",\"S\",\"S\",\"S\",\"S\",\"S\",\"S\",\"C\",\"Q\",\"C\",\"S\",\"S\",\"S\",\"C\",\"S\",\"S\",\"S\",\"S\",\"S\",\"C\",\"S\",\"C\",\"S\",\"S\",\"S\",\"Q\",\"C\",\"S\",\"C\",\"S\",\"C\",\"Q\",\"S\",\"S\",\"S\",\"S\",\"S\",\"C\",\"C\",\"S\",\"S\",\"S\",\"S\",\"S\",\"C\",\"S\",\"Q\",\"S\",\"S\",\"S\",\"S\",\"S\",\"S\",\"S\",\"S\",\"Q\",\"S\",\"S\",\"S\",\"C\",\"S\",\"S\",\"S\",\"S\",\"S\",\"C\",\"S\",\"S\",\"S\",\"S\",\"C\",\"S\",\"S\",\"S\",\"S\",\"S\",\"S\",\"Q\",\"S\",\"S\",\"S\",\"S\",\"S\",\"S\",\"S\",\"S\",\"S\",\"S\",\"S\",\"S\",\"C\",\"S\",\"S\",\"S\",\"C\",\"Q\",\"Q\",\"S\",\"S\",\"S\",\"S\",\"C\",\"S\",\"S\",\"Q\",\"S\",\"Q\",\"S\",\"C\",\"S\",\"S\",\"S\",\"S\",\"S\",\"S\",\"Q\",\"S\",\"C\",\"Q\",\"S\",\"S\",\"C\",\"S\",\"S\",\"S\",\"S\",\"C\",\"S\",\"S\",\"S\",\"S\",\"C\",\"S\",\"S\",\"S\",\"S\",\"S\",\"S\",\"S\",\"S\",\"S\",\"S\",\"S\",\"S\",\"S\",\"C\",\"S\",\"S\",\"S\",\"S\",\"S\",\"S\",\"S\",\"Q\",\"S\",\"C\",\"Q\",null,\"C\",\"S\",\"C\",\"S\",\"S\",\"C\",\"S\",\"S\",\"S\",\"C\",\"S\",\"S\",\"C\",\"C\",\"S\",\"S\",\"S\",\"C\",\"S\",\"C\",\"S\",\"S\",\"C\",\"S\",\"S\",\"S\",\"S\",\"S\",\"C\",\"C\",\"S\",\"S\",\"S\",\"S\",\"S\",\"S\",\"C\",\"S\",\"S\",\"S\",\"S\",\"S\",\"S\",\"S\",\"C\",\"C\",\"S\",\"S\",\"S\",\"C\",\"S\",\"S\",\"S\",\"S\",\"S\",\"Q\",\"S\",\"S\",\"S\",\"C\",\"Q\"],\"x0\":\" \",\"xaxis\":\"x\",\"y\":[3,1,3,1,3,3,1,3,3,2,3,1,3,3,3,2,3,2,3,3,2,2,3,1,3,3,3,1,3,3,1,1,3,2,1,1,3,3,3,3,3,2,3,2,3,3,3,3,3,3,3,3,1,2,1,1,2,3,2,3,3,1,1,3,1,3,2,3,3,3,2,3,2,3,3,3,3,3,2,3,3,3,3,1,2,3,3,3,1,3,3,3,1,3,3,3,1,1,2,2,3,3,1,3,3,3,3,3,3,3,1,3,3,3,3,3,3,2,1,3,2,3,2,2,1,3,3,3,3,3,3,3,3,2,2,2,1,1,3,1,3,3,3,3,2,2,3,3,2,2,2,1,3,3,3,1,3,3,3,3,3,2,3,3,3,3,1,3,1,3,1,3,3,3,1,3,3,1,2,3,3,2,3,2,3,1,3,1,3,3,2,2,3,2,1,1,3,3,3,2,3,3,3,3,3,3,3,3,3,1,3,2,3,2,3,1,3,2,1,2,3,2,3,3,1,3,2,3,2,3,1,3,2,3,2,3,2,2,2,2,3,3,2,3,3,1,3,2,1,2,3,3,1,3,3,3,1,1,1,2,3,3,1,1,3,2,3,3,1,1,1,3,2,1,3,1,3,2,3,3,3,3,3,3,1,3,3,3,2,3,1,1,2,3,3,1,3,1,1,1,3,3,3,2,3,1,1,1,2,1,1,1,2,3,2,3,2,2,1,1,3,3,2,2,3,1,3,2,3,1,3,1,1,3,1,3,1,1,3,1,2,1,2,2,2,2,2,3,3,3,3,1,3,3,3,3,1,2,3,3,3,2,3,3,3,3,1,3,3,1,1,3,3,1,3,1,3,1,3,3,1,3,3,1,3,2,3,2,3,2,1,3,3,1,3,3,3,2,2,2,3,3,3,3,3,2,3,2,3,3,3,3,1,2,3,3,2,2,2,3,3,3,3,3,3,3,2,2,3,3,1,3,2,3,1,1,3,2,1,2,2,3,3,2,3,1,2,1,3,1,2,3,1,1,3,3,1,1,2,3,1,3,1,2,3,3,2,1,3,3,3,3,2,2,3,1,2,3,3,3,3,2,3,3,1,3,1,1,3,3,3,3,1,1,3,3,1,3,1,3,3,3,3,3,1,1,2,1,3,3,3,3,1,1,3,1,2,3,2,3,1,3,3,1,3,3,2,1,3,2,2,3,3,3,3,2,1,1,3,1,1,3,3,2,1,1,2,2,3,2,1,2,3,3,3,1,1,1,1,3,3,3,2,3,3,3,3,3,3,3,2,1,1,3,3,3,2,1,3,3,2,1,2,1,3,1,2,1,3,3,3,1,3,3,2,3,2,3,3,1,2,3,1,3,1,3,3,1,2,1,3,3,3,3,3,2,3,3,2,2,3,1,3,3,3,1,2,1,3,3,1,3,1,1,3,2,3,2,3,3,3,1,3,3,3,1,3,1,3,3,3,2,3,3,3,2,3,3,2,1,1,3,1,3,3,2,2,3,3,1,2,1,2,2,2,3,3,3,3,1,3,1,3,3,2,2,3,3,3,1,1,3,3,3,1,2,3,3,1,3,1,1,3,3,3,2,2,1,1,3,1,1,1,3,2,3,1,2,3,3,2,3,2,2,1,3,2,3,2,3,1,3,2,2,2,3,3,1,3,3,1,1,1,3,3,1,3,2,1,3,2,3,3,3,2,2,3,2,3,1,3,3,3,1,3,1,1,3,3,3,3,3,2,3,2,3,3,3,3,1,3,1,1,3,3,3,3,3,3,1,3,2,3,1,3,2,1,3,3,3,2,2,1,3,3,3,1,3,2,1,3,3,2,3,3,1,3,2,3,3,1,3,1,3,3,3,3,2,3,1,3,2,3,3,3,1,3,3,3,1,3,2,1,3,3,3,3,3,2,1,3,3,3,1,2,3,1,1,3,3,3,2,1,3,2,2,2,1,3,3,3,1,1,3,2,3,3,3,3,1,2,3,3,2,3,3,2,1,3,1,3],\"y0\":\" \",\"yaxis\":\"y\",\"type\":\"violin\"}],                        {\"template\":{\"data\":{\"histogram2dcontour\":[{\"type\":\"histogram2dcontour\",\"colorbar\":{\"outlinewidth\":0,\"ticks\":\"\"},\"colorscale\":[[0.0,\"#0d0887\"],[0.1111111111111111,\"#46039f\"],[0.2222222222222222,\"#7201a8\"],[0.3333333333333333,\"#9c179e\"],[0.4444444444444444,\"#bd3786\"],[0.5555555555555556,\"#d8576b\"],[0.6666666666666666,\"#ed7953\"],[0.7777777777777778,\"#fb9f3a\"],[0.8888888888888888,\"#fdca26\"],[1.0,\"#f0f921\"]]}],\"choropleth\":[{\"type\":\"choropleth\",\"colorbar\":{\"outlinewidth\":0,\"ticks\":\"\"}}],\"histogram2d\":[{\"type\":\"histogram2d\",\"colorbar\":{\"outlinewidth\":0,\"ticks\":\"\"},\"colorscale\":[[0.0,\"#0d0887\"],[0.1111111111111111,\"#46039f\"],[0.2222222222222222,\"#7201a8\"],[0.3333333333333333,\"#9c179e\"],[0.4444444444444444,\"#bd3786\"],[0.5555555555555556,\"#d8576b\"],[0.6666666666666666,\"#ed7953\"],[0.7777777777777778,\"#fb9f3a\"],[0.8888888888888888,\"#fdca26\"],[1.0,\"#f0f921\"]]}],\"heatmap\":[{\"type\":\"heatmap\",\"colorbar\":{\"outlinewidth\":0,\"ticks\":\"\"},\"colorscale\":[[0.0,\"#0d0887\"],[0.1111111111111111,\"#46039f\"],[0.2222222222222222,\"#7201a8\"],[0.3333333333333333,\"#9c179e\"],[0.4444444444444444,\"#bd3786\"],[0.5555555555555556,\"#d8576b\"],[0.6666666666666666,\"#ed7953\"],[0.7777777777777778,\"#fb9f3a\"],[0.8888888888888888,\"#fdca26\"],[1.0,\"#f0f921\"]]}],\"heatmapgl\":[{\"type\":\"heatmapgl\",\"colorbar\":{\"outlinewidth\":0,\"ticks\":\"\"},\"colorscale\":[[0.0,\"#0d0887\"],[0.1111111111111111,\"#46039f\"],[0.2222222222222222,\"#7201a8\"],[0.3333333333333333,\"#9c179e\"],[0.4444444444444444,\"#bd3786\"],[0.5555555555555556,\"#d8576b\"],[0.6666666666666666,\"#ed7953\"],[0.7777777777777778,\"#fb9f3a\"],[0.8888888888888888,\"#fdca26\"],[1.0,\"#f0f921\"]]}],\"contourcarpet\":[{\"type\":\"contourcarpet\",\"colorbar\":{\"outlinewidth\":0,\"ticks\":\"\"}}],\"contour\":[{\"type\":\"contour\",\"colorbar\":{\"outlinewidth\":0,\"ticks\":\"\"},\"colorscale\":[[0.0,\"#0d0887\"],[0.1111111111111111,\"#46039f\"],[0.2222222222222222,\"#7201a8\"],[0.3333333333333333,\"#9c179e\"],[0.4444444444444444,\"#bd3786\"],[0.5555555555555556,\"#d8576b\"],[0.6666666666666666,\"#ed7953\"],[0.7777777777777778,\"#fb9f3a\"],[0.8888888888888888,\"#fdca26\"],[1.0,\"#f0f921\"]]}],\"surface\":[{\"type\":\"surface\",\"colorbar\":{\"outlinewidth\":0,\"ticks\":\"\"},\"colorscale\":[[0.0,\"#0d0887\"],[0.1111111111111111,\"#46039f\"],[0.2222222222222222,\"#7201a8\"],[0.3333333333333333,\"#9c179e\"],[0.4444444444444444,\"#bd3786\"],[0.5555555555555556,\"#d8576b\"],[0.6666666666666666,\"#ed7953\"],[0.7777777777777778,\"#fb9f3a\"],[0.8888888888888888,\"#fdca26\"],[1.0,\"#f0f921\"]]}],\"mesh3d\":[{\"type\":\"mesh3d\",\"colorbar\":{\"outlinewidth\":0,\"ticks\":\"\"}}],\"scatter\":[{\"fillpattern\":{\"fillmode\":\"overlay\",\"size\":10,\"solidity\":0.2},\"type\":\"scatter\"}],\"parcoords\":[{\"type\":\"parcoords\",\"line\":{\"colorbar\":{\"outlinewidth\":0,\"ticks\":\"\"}}}],\"scatterpolargl\":[{\"type\":\"scatterpolargl\",\"marker\":{\"colorbar\":{\"outlinewidth\":0,\"ticks\":\"\"}}}],\"bar\":[{\"error_x\":{\"color\":\"#2a3f5f\"},\"error_y\":{\"color\":\"#2a3f5f\"},\"marker\":{\"line\":{\"color\":\"#E5ECF6\",\"width\":0.5},\"pattern\":{\"fillmode\":\"overlay\",\"size\":10,\"solidity\":0.2}},\"type\":\"bar\"}],\"scattergeo\":[{\"type\":\"scattergeo\",\"marker\":{\"colorbar\":{\"outlinewidth\":0,\"ticks\":\"\"}}}],\"scatterpolar\":[{\"type\":\"scatterpolar\",\"marker\":{\"colorbar\":{\"outlinewidth\":0,\"ticks\":\"\"}}}],\"histogram\":[{\"marker\":{\"pattern\":{\"fillmode\":\"overlay\",\"size\":10,\"solidity\":0.2}},\"type\":\"histogram\"}],\"scattergl\":[{\"type\":\"scattergl\",\"marker\":{\"colorbar\":{\"outlinewidth\":0,\"ticks\":\"\"}}}],\"scatter3d\":[{\"type\":\"scatter3d\",\"line\":{\"colorbar\":{\"outlinewidth\":0,\"ticks\":\"\"}},\"marker\":{\"colorbar\":{\"outlinewidth\":0,\"ticks\":\"\"}}}],\"scattermapbox\":[{\"type\":\"scattermapbox\",\"marker\":{\"colorbar\":{\"outlinewidth\":0,\"ticks\":\"\"}}}],\"scatterternary\":[{\"type\":\"scatterternary\",\"marker\":{\"colorbar\":{\"outlinewidth\":0,\"ticks\":\"\"}}}],\"scattercarpet\":[{\"type\":\"scattercarpet\",\"marker\":{\"colorbar\":{\"outlinewidth\":0,\"ticks\":\"\"}}}],\"carpet\":[{\"aaxis\":{\"endlinecolor\":\"#2a3f5f\",\"gridcolor\":\"white\",\"linecolor\":\"white\",\"minorgridcolor\":\"white\",\"startlinecolor\":\"#2a3f5f\"},\"baxis\":{\"endlinecolor\":\"#2a3f5f\",\"gridcolor\":\"white\",\"linecolor\":\"white\",\"minorgridcolor\":\"white\",\"startlinecolor\":\"#2a3f5f\"},\"type\":\"carpet\"}],\"table\":[{\"cells\":{\"fill\":{\"color\":\"#EBF0F8\"},\"line\":{\"color\":\"white\"}},\"header\":{\"fill\":{\"color\":\"#C8D4E3\"},\"line\":{\"color\":\"white\"}},\"type\":\"table\"}],\"barpolar\":[{\"marker\":{\"line\":{\"color\":\"#E5ECF6\",\"width\":0.5},\"pattern\":{\"fillmode\":\"overlay\",\"size\":10,\"solidity\":0.2}},\"type\":\"barpolar\"}],\"pie\":[{\"automargin\":true,\"type\":\"pie\"}]},\"layout\":{\"autotypenumbers\":\"strict\",\"colorway\":[\"#636efa\",\"#EF553B\",\"#00cc96\",\"#ab63fa\",\"#FFA15A\",\"#19d3f3\",\"#FF6692\",\"#B6E880\",\"#FF97FF\",\"#FECB52\"],\"font\":{\"color\":\"#2a3f5f\"},\"hovermode\":\"closest\",\"hoverlabel\":{\"align\":\"left\"},\"paper_bgcolor\":\"white\",\"plot_bgcolor\":\"#E5ECF6\",\"polar\":{\"bgcolor\":\"#E5ECF6\",\"angularaxis\":{\"gridcolor\":\"white\",\"linecolor\":\"white\",\"ticks\":\"\"},\"radialaxis\":{\"gridcolor\":\"white\",\"linecolor\":\"white\",\"ticks\":\"\"}},\"ternary\":{\"bgcolor\":\"#E5ECF6\",\"aaxis\":{\"gridcolor\":\"white\",\"linecolor\":\"white\",\"ticks\":\"\"},\"baxis\":{\"gridcolor\":\"white\",\"linecolor\":\"white\",\"ticks\":\"\"},\"caxis\":{\"gridcolor\":\"white\",\"linecolor\":\"white\",\"ticks\":\"\"}},\"coloraxis\":{\"colorbar\":{\"outlinewidth\":0,\"ticks\":\"\"}},\"colorscale\":{\"sequential\":[[0.0,\"#0d0887\"],[0.1111111111111111,\"#46039f\"],[0.2222222222222222,\"#7201a8\"],[0.3333333333333333,\"#9c179e\"],[0.4444444444444444,\"#bd3786\"],[0.5555555555555556,\"#d8576b\"],[0.6666666666666666,\"#ed7953\"],[0.7777777777777778,\"#fb9f3a\"],[0.8888888888888888,\"#fdca26\"],[1.0,\"#f0f921\"]],\"sequentialminus\":[[0.0,\"#0d0887\"],[0.1111111111111111,\"#46039f\"],[0.2222222222222222,\"#7201a8\"],[0.3333333333333333,\"#9c179e\"],[0.4444444444444444,\"#bd3786\"],[0.5555555555555556,\"#d8576b\"],[0.6666666666666666,\"#ed7953\"],[0.7777777777777778,\"#fb9f3a\"],[0.8888888888888888,\"#fdca26\"],[1.0,\"#f0f921\"]],\"diverging\":[[0,\"#8e0152\"],[0.1,\"#c51b7d\"],[0.2,\"#de77ae\"],[0.3,\"#f1b6da\"],[0.4,\"#fde0ef\"],[0.5,\"#f7f7f7\"],[0.6,\"#e6f5d0\"],[0.7,\"#b8e186\"],[0.8,\"#7fbc41\"],[0.9,\"#4d9221\"],[1,\"#276419\"]]},\"xaxis\":{\"gridcolor\":\"white\",\"linecolor\":\"white\",\"ticks\":\"\",\"title\":{\"standoff\":15},\"zerolinecolor\":\"white\",\"automargin\":true,\"zerolinewidth\":2},\"yaxis\":{\"gridcolor\":\"white\",\"linecolor\":\"white\",\"ticks\":\"\",\"title\":{\"standoff\":15},\"zerolinecolor\":\"white\",\"automargin\":true,\"zerolinewidth\":2},\"scene\":{\"xaxis\":{\"backgroundcolor\":\"#E5ECF6\",\"gridcolor\":\"white\",\"linecolor\":\"white\",\"showbackground\":true,\"ticks\":\"\",\"zerolinecolor\":\"white\",\"gridwidth\":2},\"yaxis\":{\"backgroundcolor\":\"#E5ECF6\",\"gridcolor\":\"white\",\"linecolor\":\"white\",\"showbackground\":true,\"ticks\":\"\",\"zerolinecolor\":\"white\",\"gridwidth\":2},\"zaxis\":{\"backgroundcolor\":\"#E5ECF6\",\"gridcolor\":\"white\",\"linecolor\":\"white\",\"showbackground\":true,\"ticks\":\"\",\"zerolinecolor\":\"white\",\"gridwidth\":2}},\"shapedefaults\":{\"line\":{\"color\":\"#2a3f5f\"}},\"annotationdefaults\":{\"arrowcolor\":\"#2a3f5f\",\"arrowhead\":0,\"arrowwidth\":1},\"geo\":{\"bgcolor\":\"white\",\"landcolor\":\"#E5ECF6\",\"subunitcolor\":\"white\",\"showland\":true,\"showlakes\":true,\"lakecolor\":\"white\"},\"title\":{\"x\":0.05},\"mapbox\":{\"style\":\"light\"}}},\"xaxis\":{\"anchor\":\"y\",\"domain\":[0.0,1.0],\"title\":{\"text\":\"Embarked\"}},\"yaxis\":{\"anchor\":\"x\",\"domain\":[0.0,1.0],\"title\":{\"text\":\"Pclass\"}},\"legend\":{\"tracegroupgap\":0},\"title\":{\"text\":\"Pclass by port of Embarkation\"},\"violinmode\":\"group\",\"height\":300,\"width\":400},                        {\"responsive\": true}                    ).then(function(){\n",
       "                            \n",
       "var gd = document.getElementById('2199f22e-7c38-4e1d-8192-f25d77258cc4');\n",
       "var x = new MutationObserver(function (mutations, observer) {{\n",
       "        var display = window.getComputedStyle(gd).display;\n",
       "        if (!display || display === 'none') {{\n",
       "            console.log([gd, 'removed!']);\n",
       "            Plotly.purge(gd);\n",
       "            observer.disconnect();\n",
       "        }}\n",
       "}});\n",
       "\n",
       "// Listen for the removal of the full notebook cells\n",
       "var notebookContainer = gd.closest('#notebook-container');\n",
       "if (notebookContainer) {{\n",
       "    x.observe(notebookContainer, {childList: true});\n",
       "}}\n",
       "\n",
       "// Listen for the clearing of the current output cell\n",
       "var outputEl = gd.closest('.output');\n",
       "if (outputEl) {{\n",
       "    x.observe(outputEl, {childList: true});\n",
       "}}\n",
       "\n",
       "                        })                };                });            </script>        </div>"
      ]
     },
     "metadata": {},
     "output_type": "display_data"
    }
   ],
   "source": [
    "fig = px.violin(train_df, x='Embarked', y=\"Pclass\", box=True,\n",
    "                title = 'Pclass by port of Embarkation', width=400, height=300,\n",
    "                hover_data=train_df.columns)\n",
    "fig.show()"
   ]
  },
  {
   "cell_type": "markdown",
   "id": "b0c27863",
   "metadata": {
    "papermill": {
     "duration": 0.014219,
     "end_time": "2022-10-21T20:38:06.858985",
     "exception": false,
     "start_time": "2022-10-21T20:38:06.844766",
     "status": "completed"
    },
    "tags": []
   },
   "source": [
    "# Feature Engineering"
   ]
  },
  {
   "cell_type": "markdown",
   "id": "32dcf9a0",
   "metadata": {
    "papermill": {
     "duration": 0.01386,
     "end_time": "2022-10-21T20:38:06.886692",
     "exception": false,
     "start_time": "2022-10-21T20:38:06.872832",
     "status": "completed"
    },
    "tags": []
   },
   "source": [
    "## Feature Extraction"
   ]
  },
  {
   "cell_type": "code",
   "execution_count": 10,
   "id": "63db279e",
   "metadata": {
    "execution": {
     "iopub.execute_input": "2022-10-21T20:38:06.917712Z",
     "iopub.status.busy": "2022-10-21T20:38:06.917215Z",
     "iopub.status.idle": "2022-10-21T20:38:06.936920Z",
     "shell.execute_reply": "2022-10-21T20:38:06.935556Z"
    },
    "papermill": {
     "duration": 0.038278,
     "end_time": "2022-10-21T20:38:06.939607",
     "exception": false,
     "start_time": "2022-10-21T20:38:06.901329",
     "status": "completed"
    },
    "tags": []
   },
   "outputs": [],
   "source": [
    "def feature_extraction(df):\n",
    "    df['CabinLetter'] = df['Cabin'].apply(lambda x: \"None\" if pd.isna(x) else str(x)[0])\n",
    "    df['numCabins'] = df['Cabin'].apply(lambda x: 0 if pd.isna(x) else len(x.split(' ')))\n",
    "    df['Name_title'] = df['Name'].apply(lambda x: \"None\" if pd.isna(x) else x.split(',')[1].split('.')[0].strip())\n",
    "    return df\n",
    "\n",
    "train_df = feature_extraction(train_df)\n",
    "test_df = feature_extraction(test_df)"
   ]
  },
  {
   "cell_type": "code",
   "execution_count": 11,
   "id": "920f4e44",
   "metadata": {
    "execution": {
     "iopub.execute_input": "2022-10-21T20:38:06.969926Z",
     "iopub.status.busy": "2022-10-21T20:38:06.969453Z",
     "iopub.status.idle": "2022-10-21T20:38:07.010238Z",
     "shell.execute_reply": "2022-10-21T20:38:07.008546Z"
    },
    "papermill": {
     "duration": 0.060077,
     "end_time": "2022-10-21T20:38:07.013160",
     "exception": false,
     "start_time": "2022-10-21T20:38:06.953083",
     "status": "completed"
    },
    "tags": []
   },
   "outputs": [
    {
     "name": "stdout",
     "output_type": "stream",
     "text": [
      "---------Cabin Letter-----------\n",
      "CabinLetter    A     B     C     D     E    F    G   None    T\n",
      "Survived                                                      \n",
      "0            8.0  12.0  24.0   8.0   8.0  5.0  2.0  481.0  1.0\n",
      "1            7.0  35.0  35.0  25.0  24.0  8.0  2.0  206.0  NaN\n",
      "---------Number of Cabins-------\n",
      "numCabins      0      1    2    3    4\n",
      "Survived                              \n",
      "0          481.0   58.0  7.0  3.0  NaN\n",
      "1          206.0  122.0  9.0  3.0  2.0\n"
     ]
    }
   ],
   "source": [
    "print(\"---------Cabin Letter-----------\")\n",
    "print(pd.pivot_table(train_df, index='Survived', columns='CabinLetter', values='PassengerId', aggfunc='count'))\n",
    "\n",
    "print(\"---------Number of Cabins-------\")\n",
    "print(pd.pivot_table(train_df, index='Survived', columns='numCabins', values='PassengerId', aggfunc='count'))"
   ]
  },
  {
   "cell_type": "code",
   "execution_count": 12,
   "id": "385f2283",
   "metadata": {
    "execution": {
     "iopub.execute_input": "2022-10-21T20:38:07.043435Z",
     "iopub.status.busy": "2022-10-21T20:38:07.042979Z",
     "iopub.status.idle": "2022-10-21T20:38:07.052570Z",
     "shell.execute_reply": "2022-10-21T20:38:07.051207Z"
    },
    "papermill": {
     "duration": 0.027712,
     "end_time": "2022-10-21T20:38:07.055036",
     "exception": false,
     "start_time": "2022-10-21T20:38:07.027324",
     "status": "completed"
    },
    "tags": []
   },
   "outputs": [
    {
     "data": {
      "text/plain": [
       "array(['Mr', 'Mrs', 'Miss', 'Master', 'Don', 'Rev', 'Dr', 'Mme', 'Ms',\n",
       "       'Major', 'Lady', 'Sir', 'Mlle', 'Col', 'Capt', 'the Countess',\n",
       "       'Jonkheer'], dtype=object)"
      ]
     },
     "execution_count": 12,
     "metadata": {},
     "output_type": "execute_result"
    }
   ],
   "source": [
    "train_df['Name_title'].unique()"
   ]
  },
  {
   "cell_type": "code",
   "execution_count": 13,
   "id": "01fbf0d3",
   "metadata": {
    "execution": {
     "iopub.execute_input": "2022-10-21T20:38:07.085061Z",
     "iopub.status.busy": "2022-10-21T20:38:07.084648Z",
     "iopub.status.idle": "2022-10-21T20:38:07.115653Z",
     "shell.execute_reply": "2022-10-21T20:38:07.113872Z"
    },
    "papermill": {
     "duration": 0.049237,
     "end_time": "2022-10-21T20:38:07.118692",
     "exception": false,
     "start_time": "2022-10-21T20:38:07.069455",
     "status": "completed"
    },
    "tags": []
   },
   "outputs": [
    {
     "name": "stdout",
     "output_type": "stream",
     "text": [
      "Mr              517\n",
      "Miss            182\n",
      "Mrs             125\n",
      "Master           40\n",
      "Dr                7\n",
      "Rev               6\n",
      "Mlle              2\n",
      "Major             2\n",
      "Col               2\n",
      "the Countess      1\n",
      "Capt              1\n",
      "Ms                1\n",
      "Sir               1\n",
      "Lady              1\n",
      "Mme               1\n",
      "Don               1\n",
      "Jonkheer          1\n",
      "Name: Name_title, dtype: int64\n",
      "\n",
      "---------Number of Cabins-------\n",
      "Name_title  Capt  Col  Don   Dr  Jonkheer  Lady  Major  Master   Miss  Mlle  \\\n",
      "Survived                                                                      \n",
      "0            1.0  1.0  1.0  4.0       1.0   NaN    1.0    17.0   55.0   NaN   \n",
      "1            NaN  1.0  NaN  3.0       NaN   1.0    1.0    23.0  127.0   2.0   \n",
      "\n",
      "Name_title  Mme     Mr   Mrs   Ms  Rev  Sir  the Countess  \n",
      "Survived                                                   \n",
      "0           NaN  436.0  26.0  NaN  6.0  NaN           NaN  \n",
      "1           1.0   81.0  99.0  1.0  NaN  1.0           1.0  \n"
     ]
    }
   ],
   "source": [
    "print(train_df['Name_title'].value_counts())\n",
    "print(\"\\n---------Number of Cabins-------\")\n",
    "print(pd.pivot_table(train_df, index='Survived', columns='Name_title', values='PassengerId', aggfunc='count'))"
   ]
  },
  {
   "cell_type": "markdown",
   "id": "9f548cba",
   "metadata": {
    "papermill": {
     "duration": 0.013755,
     "end_time": "2022-10-21T20:38:07.146481",
     "exception": false,
     "start_time": "2022-10-21T20:38:07.132726",
     "status": "completed"
    },
    "tags": []
   },
   "source": [
    "Title extracted from Name represents pretty much same thing that Sex attribute represents"
   ]
  },
  {
   "cell_type": "markdown",
   "id": "187cd797",
   "metadata": {
    "papermill": {
     "duration": 0.013626,
     "end_time": "2022-10-21T20:38:07.173892",
     "exception": false,
     "start_time": "2022-10-21T20:38:07.160266",
     "status": "completed"
    },
    "tags": []
   },
   "source": [
    "## Handle Missing values\n",
    "Pclass -> Imputation - Replace with mode </br>\n",
    "Sex -> Imputation - Replace with mode </br>\n",
    "Age -> Imputation - Replace with mean </br>\n",
    "SibSp -> Imputation - Replace with 0 </br>\n",
    "Parch -> Imputation - Replace with 0 </br>\n",
    "Fare -> Imputation - Replace with median value based on Pclass </br>\n",
    "Cabin -> Imputation - Replace with 0 </br>\n",
    "Embarked -> Imputation - Replace with mode </br>"
   ]
  },
  {
   "cell_type": "code",
   "execution_count": 14,
   "id": "384cdb6f",
   "metadata": {
    "execution": {
     "iopub.execute_input": "2022-10-21T20:38:07.205313Z",
     "iopub.status.busy": "2022-10-21T20:38:07.204897Z",
     "iopub.status.idle": "2022-10-21T20:38:07.241404Z",
     "shell.execute_reply": "2022-10-21T20:38:07.239713Z"
    },
    "papermill": {
     "duration": 0.056254,
     "end_time": "2022-10-21T20:38:07.244590",
     "exception": false,
     "start_time": "2022-10-21T20:38:07.188336",
     "status": "completed"
    },
    "tags": []
   },
   "outputs": [
    {
     "name": "stdout",
     "output_type": "stream",
     "text": [
      "Train X columns = Test X columns : True\n",
      "Train X.........\n"
     ]
    },
    {
     "data": {
      "text/html": [
       "<div>\n",
       "<style scoped>\n",
       "    .dataframe tbody tr th:only-of-type {\n",
       "        vertical-align: middle;\n",
       "    }\n",
       "\n",
       "    .dataframe tbody tr th {\n",
       "        vertical-align: top;\n",
       "    }\n",
       "\n",
       "    .dataframe thead th {\n",
       "        text-align: right;\n",
       "    }\n",
       "</style>\n",
       "<table border=\"1\" class=\"dataframe\">\n",
       "  <thead>\n",
       "    <tr style=\"text-align: right;\">\n",
       "      <th></th>\n",
       "      <th>Pclass</th>\n",
       "      <th>Sex</th>\n",
       "      <th>Age</th>\n",
       "      <th>SibSp</th>\n",
       "      <th>Parch</th>\n",
       "      <th>Fare</th>\n",
       "      <th>Embarked</th>\n",
       "      <th>CabinLetter</th>\n",
       "      <th>numCabins</th>\n",
       "    </tr>\n",
       "  </thead>\n",
       "  <tbody>\n",
       "    <tr>\n",
       "      <th>0</th>\n",
       "      <td>3</td>\n",
       "      <td>male</td>\n",
       "      <td>22.0</td>\n",
       "      <td>1</td>\n",
       "      <td>0</td>\n",
       "      <td>7.2500</td>\n",
       "      <td>S</td>\n",
       "      <td>None</td>\n",
       "      <td>0</td>\n",
       "    </tr>\n",
       "    <tr>\n",
       "      <th>1</th>\n",
       "      <td>1</td>\n",
       "      <td>female</td>\n",
       "      <td>38.0</td>\n",
       "      <td>1</td>\n",
       "      <td>0</td>\n",
       "      <td>71.2833</td>\n",
       "      <td>C</td>\n",
       "      <td>C</td>\n",
       "      <td>1</td>\n",
       "    </tr>\n",
       "    <tr>\n",
       "      <th>2</th>\n",
       "      <td>3</td>\n",
       "      <td>female</td>\n",
       "      <td>26.0</td>\n",
       "      <td>0</td>\n",
       "      <td>0</td>\n",
       "      <td>7.9250</td>\n",
       "      <td>S</td>\n",
       "      <td>None</td>\n",
       "      <td>0</td>\n",
       "    </tr>\n",
       "    <tr>\n",
       "      <th>3</th>\n",
       "      <td>1</td>\n",
       "      <td>female</td>\n",
       "      <td>35.0</td>\n",
       "      <td>1</td>\n",
       "      <td>0</td>\n",
       "      <td>53.1000</td>\n",
       "      <td>S</td>\n",
       "      <td>C</td>\n",
       "      <td>1</td>\n",
       "    </tr>\n",
       "    <tr>\n",
       "      <th>4</th>\n",
       "      <td>3</td>\n",
       "      <td>male</td>\n",
       "      <td>35.0</td>\n",
       "      <td>0</td>\n",
       "      <td>0</td>\n",
       "      <td>8.0500</td>\n",
       "      <td>S</td>\n",
       "      <td>None</td>\n",
       "      <td>0</td>\n",
       "    </tr>\n",
       "  </tbody>\n",
       "</table>\n",
       "</div>"
      ],
      "text/plain": [
       "   Pclass     Sex   Age  SibSp  Parch     Fare Embarked CabinLetter  numCabins\n",
       "0       3    male  22.0      1      0   7.2500        S        None          0\n",
       "1       1  female  38.0      1      0  71.2833        C           C          1\n",
       "2       3  female  26.0      0      0   7.9250        S        None          0\n",
       "3       1  female  35.0      1      0  53.1000        S           C          1\n",
       "4       3    male  35.0      0      0   8.0500        S        None          0"
      ]
     },
     "metadata": {},
     "output_type": "display_data"
    },
    {
     "name": "stdout",
     "output_type": "stream",
     "text": [
      "Test X..........\n"
     ]
    },
    {
     "data": {
      "text/html": [
       "<div>\n",
       "<style scoped>\n",
       "    .dataframe tbody tr th:only-of-type {\n",
       "        vertical-align: middle;\n",
       "    }\n",
       "\n",
       "    .dataframe tbody tr th {\n",
       "        vertical-align: top;\n",
       "    }\n",
       "\n",
       "    .dataframe thead th {\n",
       "        text-align: right;\n",
       "    }\n",
       "</style>\n",
       "<table border=\"1\" class=\"dataframe\">\n",
       "  <thead>\n",
       "    <tr style=\"text-align: right;\">\n",
       "      <th></th>\n",
       "      <th>Pclass</th>\n",
       "      <th>Sex</th>\n",
       "      <th>Age</th>\n",
       "      <th>SibSp</th>\n",
       "      <th>Parch</th>\n",
       "      <th>Fare</th>\n",
       "      <th>Embarked</th>\n",
       "      <th>CabinLetter</th>\n",
       "      <th>numCabins</th>\n",
       "    </tr>\n",
       "  </thead>\n",
       "  <tbody>\n",
       "    <tr>\n",
       "      <th>0</th>\n",
       "      <td>3</td>\n",
       "      <td>male</td>\n",
       "      <td>34.5</td>\n",
       "      <td>0</td>\n",
       "      <td>0</td>\n",
       "      <td>7.8292</td>\n",
       "      <td>Q</td>\n",
       "      <td>None</td>\n",
       "      <td>0</td>\n",
       "    </tr>\n",
       "    <tr>\n",
       "      <th>1</th>\n",
       "      <td>3</td>\n",
       "      <td>female</td>\n",
       "      <td>47.0</td>\n",
       "      <td>1</td>\n",
       "      <td>0</td>\n",
       "      <td>7.0000</td>\n",
       "      <td>S</td>\n",
       "      <td>None</td>\n",
       "      <td>0</td>\n",
       "    </tr>\n",
       "    <tr>\n",
       "      <th>2</th>\n",
       "      <td>2</td>\n",
       "      <td>male</td>\n",
       "      <td>62.0</td>\n",
       "      <td>0</td>\n",
       "      <td>0</td>\n",
       "      <td>9.6875</td>\n",
       "      <td>Q</td>\n",
       "      <td>None</td>\n",
       "      <td>0</td>\n",
       "    </tr>\n",
       "    <tr>\n",
       "      <th>3</th>\n",
       "      <td>3</td>\n",
       "      <td>male</td>\n",
       "      <td>27.0</td>\n",
       "      <td>0</td>\n",
       "      <td>0</td>\n",
       "      <td>8.6625</td>\n",
       "      <td>S</td>\n",
       "      <td>None</td>\n",
       "      <td>0</td>\n",
       "    </tr>\n",
       "    <tr>\n",
       "      <th>4</th>\n",
       "      <td>3</td>\n",
       "      <td>female</td>\n",
       "      <td>22.0</td>\n",
       "      <td>1</td>\n",
       "      <td>1</td>\n",
       "      <td>12.2875</td>\n",
       "      <td>S</td>\n",
       "      <td>None</td>\n",
       "      <td>0</td>\n",
       "    </tr>\n",
       "  </tbody>\n",
       "</table>\n",
       "</div>"
      ],
      "text/plain": [
       "   Pclass     Sex   Age  SibSp  Parch     Fare Embarked CabinLetter  numCabins\n",
       "0       3    male  34.5      0      0   7.8292        Q        None          0\n",
       "1       3  female  47.0      1      0   7.0000        S        None          0\n",
       "2       2    male  62.0      0      0   9.6875        Q        None          0\n",
       "3       3    male  27.0      0      0   8.6625        S        None          0\n",
       "4       3  female  22.0      1      1  12.2875        S        None          0"
      ]
     },
     "metadata": {},
     "output_type": "display_data"
    }
   ],
   "source": [
    "train_y = train_df['Survived']\n",
    "train_id = train_df['PassengerId']\n",
    "test_id = test_df['PassengerId']\n",
    "\n",
    "train_x = train_df.drop(['PassengerId', 'Survived', 'Name', 'Name_title', 'Ticket', 'Cabin'], axis=1)\n",
    "test_x = test_df.drop(['PassengerId', 'Name', 'Name_title', 'Ticket', 'Cabin'], axis=1)\n",
    "\n",
    "print(f\"Train X columns = Test X columns : {list(train_x.columns) == list(test_x.columns)}\")\n",
    "print(\"Train X.........\")\n",
    "display(train_x.head())\n",
    "print(\"Test X..........\")\n",
    "display(test_x.head())"
   ]
  },
  {
   "cell_type": "code",
   "execution_count": 15,
   "id": "16004166",
   "metadata": {
    "execution": {
     "iopub.execute_input": "2022-10-21T20:38:07.277039Z",
     "iopub.status.busy": "2022-10-21T20:38:07.276601Z",
     "iopub.status.idle": "2022-10-21T20:38:08.537120Z",
     "shell.execute_reply": "2022-10-21T20:38:08.535798Z"
    },
    "papermill": {
     "duration": 1.280531,
     "end_time": "2022-10-21T20:38:08.540174",
     "exception": false,
     "start_time": "2022-10-21T20:38:07.259643",
     "status": "completed"
    },
    "tags": []
   },
   "outputs": [],
   "source": [
    "from sklearn.impute import SimpleImputer\n",
    "\n",
    "def impute(df, imputers=None, fareDict=None, isTrain=True):\n",
    "    if isTrain:\n",
    "        # Impute using SimpleImputer\n",
    "        imputers = dict()\n",
    "        imputers['Pclass'] = SimpleImputer(strategy='most_frequent')\n",
    "        imputers['Sex'] = SimpleImputer(strategy='most_frequent')\n",
    "        imputers['Age'] = SimpleImputer(strategy='mean')\n",
    "        imputers['SibSp'] = SimpleImputer(strategy='most_frequent')\n",
    "        imputers['Parch'] = SimpleImputer(strategy='most_frequent')\n",
    "        imputers['Embarked'] = SimpleImputer(strategy='most_frequent')\n",
    "        for col in imputers.keys():\n",
    "            df[col] = imputers[col].fit_transform(df[col].values.reshape(-1,1))\n",
    "        \n",
    "        # Impute Fare Column by using Median values for each Pclass\n",
    "        fareDict = round(df.groupby('Pclass')['Fare'].median(), 0)\n",
    "        for key in fareDict.keys():\n",
    "            rows_Pclass = df['Pclass'] == key\n",
    "            df.loc[rows_Pclass,'Fare'] = df.loc[rows_Pclass,'Fare'].fillna(fareDict[key])\n",
    "\n",
    "    else:\n",
    "        for col in imputers.keys():\n",
    "            df[col] = imputers[col].transform(df[col].values.reshape(-1,1))\n",
    "        for key in fareDict.keys():\n",
    "            rows_Pclass = df['Pclass'] == key\n",
    "            df.loc[rows_Pclass,'Fare'] = df.loc[rows_Pclass,'Fare'].fillna(fareDict[key])\n",
    "    df['Age'] = df['Age'].round(0)\n",
    "    \n",
    "    return df, imputers, fareDict"
   ]
  },
  {
   "cell_type": "code",
   "execution_count": 16,
   "id": "6f5cd54f",
   "metadata": {
    "execution": {
     "iopub.execute_input": "2022-10-21T20:38:08.572836Z",
     "iopub.status.busy": "2022-10-21T20:38:08.572336Z",
     "iopub.status.idle": "2022-10-21T20:38:08.586149Z",
     "shell.execute_reply": "2022-10-21T20:38:08.584742Z"
    },
    "papermill": {
     "duration": 0.034226,
     "end_time": "2022-10-21T20:38:08.589467",
     "exception": false,
     "start_time": "2022-10-21T20:38:08.555241",
     "status": "completed"
    },
    "tags": []
   },
   "outputs": [
    {
     "name": "stdout",
     "output_type": "stream",
     "text": [
      "Train X check before Impute\n",
      "Pclass         False\n",
      "Sex            False\n",
      "Age             True\n",
      "SibSp          False\n",
      "Parch          False\n",
      "Fare           False\n",
      "Embarked        True\n",
      "CabinLetter    False\n",
      "numCabins      False\n",
      "dtype: bool\n",
      "\n",
      "Test X check before Impute\n",
      "Pclass         False\n",
      "Sex            False\n",
      "Age             True\n",
      "SibSp          False\n",
      "Parch          False\n",
      "Fare            True\n",
      "Embarked       False\n",
      "CabinLetter    False\n",
      "numCabins      False\n",
      "dtype: bool\n"
     ]
    }
   ],
   "source": [
    "print(\"Train X check before Impute\")\n",
    "print(train_x.isnull().any())\n",
    "print(\"\\nTest X check before Impute\")\n",
    "print(test_x.isnull().any())"
   ]
  },
  {
   "cell_type": "markdown",
   "id": "e3911f1b",
   "metadata": {
    "papermill": {
     "duration": 0.015267,
     "end_time": "2022-10-21T20:38:08.619667",
     "exception": false,
     "start_time": "2022-10-21T20:38:08.604400",
     "status": "completed"
    },
    "tags": []
   },
   "source": [
    "Train data have some NaN values in columns of 'Age', 'Cabin', and 'Embarked'. </br>\n",
    "Test data have some NaN values in columns of 'Age', 'Fare', and 'Cabin'."
   ]
  },
  {
   "cell_type": "code",
   "execution_count": 17,
   "id": "46d52971",
   "metadata": {
    "execution": {
     "iopub.execute_input": "2022-10-21T20:38:08.654337Z",
     "iopub.status.busy": "2022-10-21T20:38:08.653187Z",
     "iopub.status.idle": "2022-10-21T20:38:08.682030Z",
     "shell.execute_reply": "2022-10-21T20:38:08.680710Z"
    },
    "papermill": {
     "duration": 0.049664,
     "end_time": "2022-10-21T20:38:08.685307",
     "exception": false,
     "start_time": "2022-10-21T20:38:08.635643",
     "status": "completed"
    },
    "tags": []
   },
   "outputs": [],
   "source": [
    "train_x_imputed, imputers, fareDict = impute(train_x, imputers=None, fareDict=None, isTrain=True)\n",
    "test_x_imputed, imputers, fareDict = impute(test_x, imputers, fareDict, False)"
   ]
  },
  {
   "cell_type": "code",
   "execution_count": 18,
   "id": "1f21db8f",
   "metadata": {
    "execution": {
     "iopub.execute_input": "2022-10-21T20:38:08.720983Z",
     "iopub.status.busy": "2022-10-21T20:38:08.719601Z",
     "iopub.status.idle": "2022-10-21T20:38:08.732086Z",
     "shell.execute_reply": "2022-10-21T20:38:08.730706Z"
    },
    "papermill": {
     "duration": 0.033402,
     "end_time": "2022-10-21T20:38:08.735200",
     "exception": false,
     "start_time": "2022-10-21T20:38:08.701798",
     "status": "completed"
    },
    "tags": []
   },
   "outputs": [
    {
     "name": "stdout",
     "output_type": "stream",
     "text": [
      "Train X check\n",
      "Pclass         False\n",
      "Sex            False\n",
      "Age            False\n",
      "SibSp          False\n",
      "Parch          False\n",
      "Fare           False\n",
      "Embarked       False\n",
      "CabinLetter    False\n",
      "numCabins      False\n",
      "dtype: bool\n",
      "\n",
      "Test X check\n",
      "Pclass         False\n",
      "Sex            False\n",
      "Age            False\n",
      "SibSp          False\n",
      "Parch          False\n",
      "Fare           False\n",
      "Embarked       False\n",
      "CabinLetter    False\n",
      "numCabins      False\n",
      "dtype: bool\n"
     ]
    }
   ],
   "source": [
    "print(\"Train X check\")\n",
    "print(train_x_imputed.isnull().any())\n",
    "print(\"\\nTest X check\")\n",
    "print(test_x_imputed.isnull().any())"
   ]
  },
  {
   "cell_type": "markdown",
   "id": "0288c52f",
   "metadata": {
    "papermill": {
     "duration": 0.014693,
     "end_time": "2022-10-21T20:38:08.765850",
     "exception": false,
     "start_time": "2022-10-21T20:38:08.751157",
     "status": "completed"
    },
    "tags": []
   },
   "source": [
    "## Label Encode"
   ]
  },
  {
   "cell_type": "code",
   "execution_count": 19,
   "id": "5744355b",
   "metadata": {
    "execution": {
     "iopub.execute_input": "2022-10-21T20:38:08.797267Z",
     "iopub.status.busy": "2022-10-21T20:38:08.796842Z",
     "iopub.status.idle": "2022-10-21T20:38:08.808304Z",
     "shell.execute_reply": "2022-10-21T20:38:08.806888Z"
    },
    "papermill": {
     "duration": 0.03018,
     "end_time": "2022-10-21T20:38:08.810813",
     "exception": false,
     "start_time": "2022-10-21T20:38:08.780633",
     "status": "completed"
    },
    "tags": []
   },
   "outputs": [],
   "source": [
    "from sklearn import preprocessing\n",
    "label_enc = dict()\n",
    "col_labels = [\"Sex\", \"Embarked\", \"CabinLetter\"]\n",
    "for col in col_labels:\n",
    "    le = preprocessing.LabelEncoder()\n",
    "    train_x_imputed[col] = le.fit_transform(train_x_imputed[col])\n",
    "    test_x_imputed[col] = le.transform(test_x_imputed[col])\n",
    "    label_enc[col] = le"
   ]
  },
  {
   "cell_type": "code",
   "execution_count": 20,
   "id": "f98e750a",
   "metadata": {
    "execution": {
     "iopub.execute_input": "2022-10-21T20:38:08.843015Z",
     "iopub.status.busy": "2022-10-21T20:38:08.842599Z",
     "iopub.status.idle": "2022-10-21T20:38:08.870115Z",
     "shell.execute_reply": "2022-10-21T20:38:08.868438Z"
    },
    "papermill": {
     "duration": 0.046904,
     "end_time": "2022-10-21T20:38:08.872813",
     "exception": false,
     "start_time": "2022-10-21T20:38:08.825909",
     "status": "completed"
    },
    "tags": []
   },
   "outputs": [
    {
     "data": {
      "text/html": [
       "<div>\n",
       "<style scoped>\n",
       "    .dataframe tbody tr th:only-of-type {\n",
       "        vertical-align: middle;\n",
       "    }\n",
       "\n",
       "    .dataframe tbody tr th {\n",
       "        vertical-align: top;\n",
       "    }\n",
       "\n",
       "    .dataframe thead th {\n",
       "        text-align: right;\n",
       "    }\n",
       "</style>\n",
       "<table border=\"1\" class=\"dataframe\">\n",
       "  <thead>\n",
       "    <tr style=\"text-align: right;\">\n",
       "      <th></th>\n",
       "      <th>Pclass</th>\n",
       "      <th>Sex</th>\n",
       "      <th>Age</th>\n",
       "      <th>SibSp</th>\n",
       "      <th>Parch</th>\n",
       "      <th>Fare</th>\n",
       "      <th>Embarked</th>\n",
       "      <th>CabinLetter</th>\n",
       "      <th>numCabins</th>\n",
       "    </tr>\n",
       "  </thead>\n",
       "  <tbody>\n",
       "    <tr>\n",
       "      <th>0</th>\n",
       "      <td>3</td>\n",
       "      <td>1</td>\n",
       "      <td>22.0</td>\n",
       "      <td>1</td>\n",
       "      <td>0</td>\n",
       "      <td>7.2500</td>\n",
       "      <td>2</td>\n",
       "      <td>7</td>\n",
       "      <td>0</td>\n",
       "    </tr>\n",
       "    <tr>\n",
       "      <th>1</th>\n",
       "      <td>1</td>\n",
       "      <td>0</td>\n",
       "      <td>38.0</td>\n",
       "      <td>1</td>\n",
       "      <td>0</td>\n",
       "      <td>71.2833</td>\n",
       "      <td>0</td>\n",
       "      <td>2</td>\n",
       "      <td>1</td>\n",
       "    </tr>\n",
       "    <tr>\n",
       "      <th>2</th>\n",
       "      <td>3</td>\n",
       "      <td>0</td>\n",
       "      <td>26.0</td>\n",
       "      <td>0</td>\n",
       "      <td>0</td>\n",
       "      <td>7.9250</td>\n",
       "      <td>2</td>\n",
       "      <td>7</td>\n",
       "      <td>0</td>\n",
       "    </tr>\n",
       "    <tr>\n",
       "      <th>3</th>\n",
       "      <td>1</td>\n",
       "      <td>0</td>\n",
       "      <td>35.0</td>\n",
       "      <td>1</td>\n",
       "      <td>0</td>\n",
       "      <td>53.1000</td>\n",
       "      <td>2</td>\n",
       "      <td>2</td>\n",
       "      <td>1</td>\n",
       "    </tr>\n",
       "    <tr>\n",
       "      <th>4</th>\n",
       "      <td>3</td>\n",
       "      <td>1</td>\n",
       "      <td>35.0</td>\n",
       "      <td>0</td>\n",
       "      <td>0</td>\n",
       "      <td>8.0500</td>\n",
       "      <td>2</td>\n",
       "      <td>7</td>\n",
       "      <td>0</td>\n",
       "    </tr>\n",
       "  </tbody>\n",
       "</table>\n",
       "</div>"
      ],
      "text/plain": [
       "   Pclass  Sex   Age  SibSp  Parch     Fare  Embarked  CabinLetter  numCabins\n",
       "0       3    1  22.0      1      0   7.2500         2            7          0\n",
       "1       1    0  38.0      1      0  71.2833         0            2          1\n",
       "2       3    0  26.0      0      0   7.9250         2            7          0\n",
       "3       1    0  35.0      1      0  53.1000         2            2          1\n",
       "4       3    1  35.0      0      0   8.0500         2            7          0"
      ]
     },
     "metadata": {},
     "output_type": "display_data"
    },
    {
     "data": {
      "text/html": [
       "<div>\n",
       "<style scoped>\n",
       "    .dataframe tbody tr th:only-of-type {\n",
       "        vertical-align: middle;\n",
       "    }\n",
       "\n",
       "    .dataframe tbody tr th {\n",
       "        vertical-align: top;\n",
       "    }\n",
       "\n",
       "    .dataframe thead th {\n",
       "        text-align: right;\n",
       "    }\n",
       "</style>\n",
       "<table border=\"1\" class=\"dataframe\">\n",
       "  <thead>\n",
       "    <tr style=\"text-align: right;\">\n",
       "      <th></th>\n",
       "      <th>Pclass</th>\n",
       "      <th>Sex</th>\n",
       "      <th>Age</th>\n",
       "      <th>SibSp</th>\n",
       "      <th>Parch</th>\n",
       "      <th>Fare</th>\n",
       "      <th>Embarked</th>\n",
       "      <th>CabinLetter</th>\n",
       "      <th>numCabins</th>\n",
       "    </tr>\n",
       "  </thead>\n",
       "  <tbody>\n",
       "    <tr>\n",
       "      <th>0</th>\n",
       "      <td>3</td>\n",
       "      <td>1</td>\n",
       "      <td>34.0</td>\n",
       "      <td>0</td>\n",
       "      <td>0</td>\n",
       "      <td>7.8292</td>\n",
       "      <td>1</td>\n",
       "      <td>7</td>\n",
       "      <td>0</td>\n",
       "    </tr>\n",
       "    <tr>\n",
       "      <th>1</th>\n",
       "      <td>3</td>\n",
       "      <td>0</td>\n",
       "      <td>47.0</td>\n",
       "      <td>1</td>\n",
       "      <td>0</td>\n",
       "      <td>7.0000</td>\n",
       "      <td>2</td>\n",
       "      <td>7</td>\n",
       "      <td>0</td>\n",
       "    </tr>\n",
       "    <tr>\n",
       "      <th>2</th>\n",
       "      <td>2</td>\n",
       "      <td>1</td>\n",
       "      <td>62.0</td>\n",
       "      <td>0</td>\n",
       "      <td>0</td>\n",
       "      <td>9.6875</td>\n",
       "      <td>1</td>\n",
       "      <td>7</td>\n",
       "      <td>0</td>\n",
       "    </tr>\n",
       "    <tr>\n",
       "      <th>3</th>\n",
       "      <td>3</td>\n",
       "      <td>1</td>\n",
       "      <td>27.0</td>\n",
       "      <td>0</td>\n",
       "      <td>0</td>\n",
       "      <td>8.6625</td>\n",
       "      <td>2</td>\n",
       "      <td>7</td>\n",
       "      <td>0</td>\n",
       "    </tr>\n",
       "    <tr>\n",
       "      <th>4</th>\n",
       "      <td>3</td>\n",
       "      <td>0</td>\n",
       "      <td>22.0</td>\n",
       "      <td>1</td>\n",
       "      <td>1</td>\n",
       "      <td>12.2875</td>\n",
       "      <td>2</td>\n",
       "      <td>7</td>\n",
       "      <td>0</td>\n",
       "    </tr>\n",
       "  </tbody>\n",
       "</table>\n",
       "</div>"
      ],
      "text/plain": [
       "   Pclass  Sex   Age  SibSp  Parch     Fare  Embarked  CabinLetter  numCabins\n",
       "0       3    1  34.0      0      0   7.8292         1            7          0\n",
       "1       3    0  47.0      1      0   7.0000         2            7          0\n",
       "2       2    1  62.0      0      0   9.6875         1            7          0\n",
       "3       3    1  27.0      0      0   8.6625         2            7          0\n",
       "4       3    0  22.0      1      1  12.2875         2            7          0"
      ]
     },
     "metadata": {},
     "output_type": "display_data"
    }
   ],
   "source": [
    "display(train_x_imputed.head())\n",
    "display(test_x_imputed.head())"
   ]
  },
  {
   "cell_type": "markdown",
   "id": "2d7ac733",
   "metadata": {
    "papermill": {
     "duration": 0.015518,
     "end_time": "2022-10-21T20:38:08.903684",
     "exception": false,
     "start_time": "2022-10-21T20:38:08.888166",
     "status": "completed"
    },
    "tags": []
   },
   "source": [
    "# Model Deployment"
   ]
  },
  {
   "cell_type": "markdown",
   "id": "f9438191",
   "metadata": {
    "papermill": {
     "duration": 0.017195,
     "end_time": "2022-10-21T20:38:08.936787",
     "exception": false,
     "start_time": "2022-10-21T20:38:08.919592",
     "status": "completed"
    },
    "tags": []
   },
   "source": [
    "## Model Selection\n",
    "Below 6 classifiers were tested\n",
    "1. Random Forest\n",
    "2. Gradient Boosting\n",
    "3. Logistic Regression\n",
    "4. Naive Bayes \n",
    "5. KNN\n",
    "6. Support Vector Machine\n"
   ]
  },
  {
   "cell_type": "code",
   "execution_count": 21,
   "id": "0b156d96",
   "metadata": {
    "execution": {
     "iopub.execute_input": "2022-10-21T20:38:08.970853Z",
     "iopub.status.busy": "2022-10-21T20:38:08.970405Z",
     "iopub.status.idle": "2022-10-21T20:38:09.406309Z",
     "shell.execute_reply": "2022-10-21T20:38:09.405121Z"
    },
    "papermill": {
     "duration": 0.456165,
     "end_time": "2022-10-21T20:38:09.409210",
     "exception": false,
     "start_time": "2022-10-21T20:38:08.953045",
     "status": "completed"
    },
    "tags": []
   },
   "outputs": [
    {
     "data": {
      "text/html": [
       "<style type='text/css'>\n",
       ".datatable table.frame { margin-bottom: 0; }\n",
       ".datatable table.frame thead { border-bottom: none; }\n",
       ".datatable table.frame tr.coltypes td {  color: #FFFFFF;  line-height: 6px;  padding: 0 0.5em;}\n",
       ".datatable .bool    { background: #DDDD99; }\n",
       ".datatable .object  { background: #565656; }\n",
       ".datatable .int     { background: #5D9E5D; }\n",
       ".datatable .float   { background: #4040CC; }\n",
       ".datatable .str     { background: #CC4040; }\n",
       ".datatable .time    { background: #40CC40; }\n",
       ".datatable .row_index {  background: var(--jp-border-color3);  border-right: 1px solid var(--jp-border-color0);  color: var(--jp-ui-font-color3);  font-size: 9px;}\n",
       ".datatable .frame tbody td { text-align: left; }\n",
       ".datatable .frame tr.coltypes .row_index {  background: var(--jp-border-color0);}\n",
       ".datatable th:nth-child(2) { padding-left: 12px; }\n",
       ".datatable .hellipsis {  color: var(--jp-cell-editor-border-color);}\n",
       ".datatable .vellipsis {  background: var(--jp-layout-color0);  color: var(--jp-cell-editor-border-color);}\n",
       ".datatable .na {  color: var(--jp-cell-editor-border-color);  font-size: 80%;}\n",
       ".datatable .sp {  opacity: 0.25;}\n",
       ".datatable .footer { font-size: 9px; }\n",
       ".datatable .frame_dimensions {  background: var(--jp-border-color3);  border-top: 1px solid var(--jp-border-color0);  color: var(--jp-ui-font-color3);  display: inline-block;  opacity: 0.6;  padding: 1px 10px 1px 5px;}\n",
       "</style>\n"
      ],
      "text/plain": [
       "<IPython.core.display.HTML object>"
      ]
     },
     "metadata": {},
     "output_type": "display_data"
    }
   ],
   "source": [
    "from sklearn.ensemble import RandomForestClassifier\n",
    "import lightgbm as lgb\n",
    "from lightgbm import LGBMClassifier\n",
    "from sklearn.linear_model import LogisticRegression\n",
    "from sklearn.naive_bayes import GaussianNB\n",
    "from sklearn.neighbors import KNeighborsClassifier\n",
    "from sklearn.svm import SVC\n",
    "from sklearn.model_selection import cross_val_score\n",
    "import statistics"
   ]
  },
  {
   "cell_type": "code",
   "execution_count": 22,
   "id": "629d041b",
   "metadata": {
    "execution": {
     "iopub.execute_input": "2022-10-21T20:38:09.443050Z",
     "iopub.status.busy": "2022-10-21T20:38:09.442614Z",
     "iopub.status.idle": "2022-10-21T20:38:11.538471Z",
     "shell.execute_reply": "2022-10-21T20:38:11.537134Z"
    },
    "papermill": {
     "duration": 2.116534,
     "end_time": "2022-10-21T20:38:11.541594",
     "exception": false,
     "start_time": "2022-10-21T20:38:09.425060",
     "status": "completed"
    },
    "tags": []
   },
   "outputs": [
    {
     "name": "stderr",
     "output_type": "stream",
     "text": [
      "/opt/conda/lib/python3.7/site-packages/sklearn/linear_model/_logistic.py:818: ConvergenceWarning:\n",
      "\n",
      "lbfgs failed to converge (status=1):\n",
      "STOP: TOTAL NO. of ITERATIONS REACHED LIMIT.\n",
      "\n",
      "Increase the number of iterations (max_iter) or scale the data as shown in:\n",
      "    https://scikit-learn.org/stable/modules/preprocessing.html\n",
      "Please also refer to the documentation for alternative solver options:\n",
      "    https://scikit-learn.org/stable/modules/linear_model.html#logistic-regression\n",
      "\n",
      "/opt/conda/lib/python3.7/site-packages/sklearn/linear_model/_logistic.py:818: ConvergenceWarning:\n",
      "\n",
      "lbfgs failed to converge (status=1):\n",
      "STOP: TOTAL NO. of ITERATIONS REACHED LIMIT.\n",
      "\n",
      "Increase the number of iterations (max_iter) or scale the data as shown in:\n",
      "    https://scikit-learn.org/stable/modules/preprocessing.html\n",
      "Please also refer to the documentation for alternative solver options:\n",
      "    https://scikit-learn.org/stable/modules/linear_model.html#logistic-regression\n",
      "\n",
      "/opt/conda/lib/python3.7/site-packages/sklearn/linear_model/_logistic.py:818: ConvergenceWarning:\n",
      "\n",
      "lbfgs failed to converge (status=1):\n",
      "STOP: TOTAL NO. of ITERATIONS REACHED LIMIT.\n",
      "\n",
      "Increase the number of iterations (max_iter) or scale the data as shown in:\n",
      "    https://scikit-learn.org/stable/modules/preprocessing.html\n",
      "Please also refer to the documentation for alternative solver options:\n",
      "    https://scikit-learn.org/stable/modules/linear_model.html#logistic-regression\n",
      "\n",
      "/opt/conda/lib/python3.7/site-packages/sklearn/linear_model/_logistic.py:818: ConvergenceWarning:\n",
      "\n",
      "lbfgs failed to converge (status=1):\n",
      "STOP: TOTAL NO. of ITERATIONS REACHED LIMIT.\n",
      "\n",
      "Increase the number of iterations (max_iter) or scale the data as shown in:\n",
      "    https://scikit-learn.org/stable/modules/preprocessing.html\n",
      "Please also refer to the documentation for alternative solver options:\n",
      "    https://scikit-learn.org/stable/modules/linear_model.html#logistic-regression\n",
      "\n",
      "/opt/conda/lib/python3.7/site-packages/sklearn/linear_model/_logistic.py:818: ConvergenceWarning:\n",
      "\n",
      "lbfgs failed to converge (status=1):\n",
      "STOP: TOTAL NO. of ITERATIONS REACHED LIMIT.\n",
      "\n",
      "Increase the number of iterations (max_iter) or scale the data as shown in:\n",
      "    https://scikit-learn.org/stable/modules/preprocessing.html\n",
      "Please also refer to the documentation for alternative solver options:\n",
      "    https://scikit-learn.org/stable/modules/linear_model.html#logistic-regression\n",
      "\n"
     ]
    }
   ],
   "source": [
    "cv_scores = dict()\n",
    "model = RandomForestClassifier()\n",
    "cv_scores['Random_Forest'] = statistics.mean(cross_val_score(model, train_x_imputed, train_y, cv=5))\n",
    "model = LGBMClassifier()\n",
    "cv_scores['Gradient_Boosting'] = statistics.mean(cross_val_score(model, train_x_imputed, train_y, cv=5))\n",
    "model = LogisticRegression()\n",
    "cv_scores['Logistic_Regression'] = statistics.mean(cross_val_score(model, train_x_imputed, train_y, cv=5))\n",
    "model = GaussianNB()\n",
    "cv_scores['Naive_Bayes'] = statistics.mean(cross_val_score(model, train_x_imputed, train_y, cv=5))\n",
    "model = KNeighborsClassifier()\n",
    "cv_scores['KNN'] = statistics.mean(cross_val_score(model, train_x_imputed, train_y, cv=5))\n",
    "model = SVC()\n",
    "cv_scores['Support_Vector_Machine'] = statistics.mean(cross_val_score(model, train_x_imputed, train_y, cv=5))"
   ]
  },
  {
   "cell_type": "code",
   "execution_count": 23,
   "id": "dcaa137c",
   "metadata": {
    "execution": {
     "iopub.execute_input": "2022-10-21T20:38:11.576576Z",
     "iopub.status.busy": "2022-10-21T20:38:11.575830Z",
     "iopub.status.idle": "2022-10-21T20:38:11.591774Z",
     "shell.execute_reply": "2022-10-21T20:38:11.590437Z"
    },
    "papermill": {
     "duration": 0.036592,
     "end_time": "2022-10-21T20:38:11.594294",
     "exception": false,
     "start_time": "2022-10-21T20:38:11.557702",
     "status": "completed"
    },
    "tags": []
   },
   "outputs": [
    {
     "data": {
      "text/html": [
       "<div>\n",
       "<style scoped>\n",
       "    .dataframe tbody tr th:only-of-type {\n",
       "        vertical-align: middle;\n",
       "    }\n",
       "\n",
       "    .dataframe tbody tr th {\n",
       "        vertical-align: top;\n",
       "    }\n",
       "\n",
       "    .dataframe thead th {\n",
       "        text-align: right;\n",
       "    }\n",
       "</style>\n",
       "<table border=\"1\" class=\"dataframe\">\n",
       "  <thead>\n",
       "    <tr style=\"text-align: right;\">\n",
       "      <th></th>\n",
       "      <th>classifier</th>\n",
       "      <th>score</th>\n",
       "    </tr>\n",
       "  </thead>\n",
       "  <tbody>\n",
       "    <tr>\n",
       "      <th>0</th>\n",
       "      <td>Gradient_Boosting</td>\n",
       "      <td>0.820451</td>\n",
       "    </tr>\n",
       "    <tr>\n",
       "      <th>1</th>\n",
       "      <td>Random_Forest</td>\n",
       "      <td>0.810363</td>\n",
       "    </tr>\n",
       "    <tr>\n",
       "      <th>2</th>\n",
       "      <td>Logistic_Regression</td>\n",
       "      <td>0.793484</td>\n",
       "    </tr>\n",
       "    <tr>\n",
       "      <th>3</th>\n",
       "      <td>Naive_Bayes</td>\n",
       "      <td>0.737468</td>\n",
       "    </tr>\n",
       "    <tr>\n",
       "      <th>4</th>\n",
       "      <td>KNN</td>\n",
       "      <td>0.708236</td>\n",
       "    </tr>\n",
       "    <tr>\n",
       "      <th>5</th>\n",
       "      <td>Support_Vector_Machine</td>\n",
       "      <td>0.671245</td>\n",
       "    </tr>\n",
       "  </tbody>\n",
       "</table>\n",
       "</div>"
      ],
      "text/plain": [
       "               classifier     score\n",
       "0       Gradient_Boosting  0.820451\n",
       "1           Random_Forest  0.810363\n",
       "2     Logistic_Regression  0.793484\n",
       "3             Naive_Bayes  0.737468\n",
       "4                     KNN  0.708236\n",
       "5  Support_Vector_Machine  0.671245"
      ]
     },
     "execution_count": 23,
     "metadata": {},
     "output_type": "execute_result"
    }
   ],
   "source": [
    "from operator import itemgetter\n",
    "#sorted(cv_scores.items(), key=itemgetter(1), reverse=True)\n",
    "\n",
    "cv_scores_list = []\n",
    "for key in cv_scores.keys():\n",
    "    cv_scores_list.append({\"classifier\": key, \"score\": cv_scores[key]})\n",
    "cv_scores_df = pd.DataFrame(cv_scores_list)\n",
    "cv_scores_df.sort_values(by='score', ascending=False, ignore_index=True)"
   ]
  },
  {
   "cell_type": "markdown",
   "id": "9b7f574b",
   "metadata": {
    "papermill": {
     "duration": 0.015479,
     "end_time": "2022-10-21T20:38:11.625550",
     "exception": false,
     "start_time": "2022-10-21T20:38:11.610071",
     "status": "completed"
    },
    "tags": []
   },
   "source": [
    "The result shows that Gradient Boosting outperformed the others and we will deploy the model with Gradient Boosting"
   ]
  },
  {
   "cell_type": "markdown",
   "id": "4caf86b2",
   "metadata": {
    "papermill": {
     "duration": 0.015956,
     "end_time": "2022-10-21T20:38:11.657403",
     "exception": false,
     "start_time": "2022-10-21T20:38:11.641447",
     "status": "completed"
    },
    "tags": []
   },
   "source": [
    "## Find the best hyperparameters for Gradient Boosting(Light) model"
   ]
  },
  {
   "cell_type": "code",
   "execution_count": 24,
   "id": "ed29fbe1",
   "metadata": {
    "execution": {
     "iopub.execute_input": "2022-10-21T20:38:11.694748Z",
     "iopub.status.busy": "2022-10-21T20:38:11.693948Z",
     "iopub.status.idle": "2022-10-21T20:38:11.702294Z",
     "shell.execute_reply": "2022-10-21T20:38:11.701238Z"
    },
    "papermill": {
     "duration": 0.030436,
     "end_time": "2022-10-21T20:38:11.704971",
     "exception": false,
     "start_time": "2022-10-21T20:38:11.674535",
     "status": "completed"
    },
    "tags": []
   },
   "outputs": [],
   "source": [
    "from sklearn.model_selection import GridSearchCV\n",
    "\n",
    "gridParams = {\n",
    "    'boosting_type': ['gbdt'],\n",
    "    'learning_rate': [0.5, 0.1, 0.05],\n",
    "    'n_estimators': [50, 100, 500, 1000],\n",
    "    'max_depth': [3, 5, 10],\n",
    "    'objective' :['binary'],\n",
    "    'colsample_bytree' : [0.5, 0.75, 1.0],\n",
    "    'subsample' : [0.75, 1.0],\n",
    "    'reg_alpha' : [0, 1, 1.2],\n",
    "    'reg_lambda' : [0, 1,1.2,1.4],  \n",
    "    'random_state' : [42]\n",
    "}"
   ]
  },
  {
   "cell_type": "code",
   "execution_count": 25,
   "id": "8c6aecda",
   "metadata": {
    "execution": {
     "iopub.execute_input": "2022-10-21T20:38:11.739183Z",
     "iopub.status.busy": "2022-10-21T20:38:11.738470Z",
     "iopub.status.idle": "2022-10-21T20:58:58.027773Z",
     "shell.execute_reply": "2022-10-21T20:58:58.025514Z"
    },
    "papermill": {
     "duration": 1246.329067,
     "end_time": "2022-10-21T20:58:58.049661",
     "exception": false,
     "start_time": "2022-10-21T20:38:11.720594",
     "status": "completed"
    },
    "tags": []
   },
   "outputs": [
    {
     "name": "stdout",
     "output_type": "stream",
     "text": [
      "Fitting 10 folds for each of 2592 candidates, totalling 25920 fits\n",
      "{'boosting_type': 'gbdt', 'colsample_bytree': 0.75, 'learning_rate': 0.5, 'max_depth': 10, 'n_estimators': 50, 'objective': 'binary', 'random_state': 42, 'reg_alpha': 1.2, 'reg_lambda': 1.2, 'subsample': 0.75}\n",
      "0.8462671660424469\n"
     ]
    }
   ],
   "source": [
    "model = LGBMClassifier()\n",
    "lgvmclf_cv = GridSearchCV(model, gridParams, verbose=1, cv=10, n_jobs=-1)\n",
    "# Run the grid\n",
    "lgvmclf_cv_model = lgvmclf_cv.fit(train_x_imputed, train_y)\n",
    "\n",
    "# Print the best parameters found\n",
    "print(lgvmclf_cv.best_params_)\n",
    "print(lgvmclf_cv.best_score_)"
   ]
  },
  {
   "cell_type": "markdown",
   "id": "f35ea87d",
   "metadata": {
    "papermill": {
     "duration": 0.016024,
     "end_time": "2022-10-21T20:58:58.082709",
     "exception": false,
     "start_time": "2022-10-21T20:58:58.066685",
     "status": "completed"
    },
    "tags": []
   },
   "source": [
    "## Train and Predict with hyper-parameters searched"
   ]
  },
  {
   "cell_type": "code",
   "execution_count": 26,
   "id": "cb746226",
   "metadata": {
    "execution": {
     "iopub.execute_input": "2022-10-21T20:58:58.119474Z",
     "iopub.status.busy": "2022-10-21T20:58:58.118915Z",
     "iopub.status.idle": "2022-10-21T20:58:58.128060Z",
     "shell.execute_reply": "2022-10-21T20:58:58.126632Z"
    },
    "papermill": {
     "duration": 0.031839,
     "end_time": "2022-10-21T20:58:58.131384",
     "exception": false,
     "start_time": "2022-10-21T20:58:58.099545",
     "status": "completed"
    },
    "tags": []
   },
   "outputs": [],
   "source": [
    "best_lgbmClf_params = {'boosting_type': 'gbdt', \n",
    "                       'colsample_bytree': 0.5, \n",
    "                       'learning_rate': 0.1, \n",
    "                       'n_estimators': 500, \n",
    "                       'objective': 'binary', \n",
    "                       'random_state': 42, \n",
    "                       'reg_alpha': 1, \n",
    "                       'reg_lambda': 0, \n",
    "                       'subsample': 0.75}\n",
    "#model = LGBMClassifier(**best_lgbmClf_params)\n",
    "#model.fit(train_x_imputed, train_y)"
   ]
  },
  {
   "cell_type": "markdown",
   "id": "108ca599",
   "metadata": {
    "papermill": {
     "duration": 0.016435,
     "end_time": "2022-10-21T20:58:58.164216",
     "exception": false,
     "start_time": "2022-10-21T20:58:58.147781",
     "status": "completed"
    },
    "tags": []
   },
   "source": [
    "Fitting 5 folds for each of 216 candidates, totalling 1080 fits </br>\n",
    "{'boosting_type': 'gbdt', 'colsample_bytree': 0.64, 'learning_rate': 0.1, 'n_estimators': 500, 'objective': 'binary', 'reg_alpha': 1, 'reg_lambda': 1.4, 'subsample': 0.7}\n",
    "0.8406628585776159"
   ]
  },
  {
   "cell_type": "code",
   "execution_count": 27,
   "id": "ddbd397a",
   "metadata": {
    "execution": {
     "iopub.execute_input": "2022-10-21T20:58:58.199135Z",
     "iopub.status.busy": "2022-10-21T20:58:58.198711Z",
     "iopub.status.idle": "2022-10-21T20:58:58.217965Z",
     "shell.execute_reply": "2022-10-21T20:58:58.216730Z"
    },
    "papermill": {
     "duration": 0.040361,
     "end_time": "2022-10-21T20:58:58.221084",
     "exception": false,
     "start_time": "2022-10-21T20:58:58.180723",
     "status": "completed"
    },
    "tags": []
   },
   "outputs": [],
   "source": [
    "best_lgbm_model = lgvmclf_cv_model.best_estimator_\n",
    "y_pred = best_lgbm_model.predict(test_x_imputed)"
   ]
  },
  {
   "cell_type": "code",
   "execution_count": 28,
   "id": "f3b8c974",
   "metadata": {
    "execution": {
     "iopub.execute_input": "2022-10-21T20:58:58.255662Z",
     "iopub.status.busy": "2022-10-21T20:58:58.255140Z",
     "iopub.status.idle": "2022-10-21T20:58:58.269004Z",
     "shell.execute_reply": "2022-10-21T20:58:58.267902Z"
    },
    "papermill": {
     "duration": 0.03342,
     "end_time": "2022-10-21T20:58:58.271515",
     "exception": false,
     "start_time": "2022-10-21T20:58:58.238095",
     "status": "completed"
    },
    "tags": []
   },
   "outputs": [],
   "source": [
    "submission = pd.DataFrame({\n",
    "        \"PassengerId\": test_df[\"PassengerId\"],\n",
    "        \"Survived\": y_pred\n",
    "    })\n",
    "submission.to_csv('./submission.csv', index=False)"
   ]
  },
  {
   "cell_type": "code",
   "execution_count": 29,
   "id": "571b13c6",
   "metadata": {
    "execution": {
     "iopub.execute_input": "2022-10-21T20:58:58.305667Z",
     "iopub.status.busy": "2022-10-21T20:58:58.304228Z",
     "iopub.status.idle": "2022-10-21T20:58:58.326093Z",
     "shell.execute_reply": "2022-10-21T20:58:58.324418Z"
    },
    "papermill": {
     "duration": 0.042298,
     "end_time": "2022-10-21T20:58:58.329458",
     "exception": false,
     "start_time": "2022-10-21T20:58:58.287160",
     "status": "completed"
    },
    "tags": []
   },
   "outputs": [
    {
     "data": {
      "text/html": [
       "<div>\n",
       "<style scoped>\n",
       "    .dataframe tbody tr th:only-of-type {\n",
       "        vertical-align: middle;\n",
       "    }\n",
       "\n",
       "    .dataframe tbody tr th {\n",
       "        vertical-align: top;\n",
       "    }\n",
       "\n",
       "    .dataframe thead th {\n",
       "        text-align: right;\n",
       "    }\n",
       "</style>\n",
       "<table border=\"1\" class=\"dataframe\">\n",
       "  <thead>\n",
       "    <tr style=\"text-align: right;\">\n",
       "      <th></th>\n",
       "      <th>PassengerId</th>\n",
       "      <th>Survived</th>\n",
       "    </tr>\n",
       "  </thead>\n",
       "  <tbody>\n",
       "    <tr>\n",
       "      <th>0</th>\n",
       "      <td>892</td>\n",
       "      <td>0</td>\n",
       "    </tr>\n",
       "    <tr>\n",
       "      <th>1</th>\n",
       "      <td>893</td>\n",
       "      <td>0</td>\n",
       "    </tr>\n",
       "    <tr>\n",
       "      <th>2</th>\n",
       "      <td>894</td>\n",
       "      <td>0</td>\n",
       "    </tr>\n",
       "    <tr>\n",
       "      <th>3</th>\n",
       "      <td>895</td>\n",
       "      <td>0</td>\n",
       "    </tr>\n",
       "    <tr>\n",
       "      <th>4</th>\n",
       "      <td>896</td>\n",
       "      <td>0</td>\n",
       "    </tr>\n",
       "    <tr>\n",
       "      <th>...</th>\n",
       "      <td>...</td>\n",
       "      <td>...</td>\n",
       "    </tr>\n",
       "    <tr>\n",
       "      <th>413</th>\n",
       "      <td>1305</td>\n",
       "      <td>0</td>\n",
       "    </tr>\n",
       "    <tr>\n",
       "      <th>414</th>\n",
       "      <td>1306</td>\n",
       "      <td>1</td>\n",
       "    </tr>\n",
       "    <tr>\n",
       "      <th>415</th>\n",
       "      <td>1307</td>\n",
       "      <td>0</td>\n",
       "    </tr>\n",
       "    <tr>\n",
       "      <th>416</th>\n",
       "      <td>1308</td>\n",
       "      <td>0</td>\n",
       "    </tr>\n",
       "    <tr>\n",
       "      <th>417</th>\n",
       "      <td>1309</td>\n",
       "      <td>0</td>\n",
       "    </tr>\n",
       "  </tbody>\n",
       "</table>\n",
       "<p>418 rows × 2 columns</p>\n",
       "</div>"
      ],
      "text/plain": [
       "     PassengerId  Survived\n",
       "0            892         0\n",
       "1            893         0\n",
       "2            894         0\n",
       "3            895         0\n",
       "4            896         0\n",
       "..           ...       ...\n",
       "413         1305         0\n",
       "414         1306         1\n",
       "415         1307         0\n",
       "416         1308         0\n",
       "417         1309         0\n",
       "\n",
       "[418 rows x 2 columns]"
      ]
     },
     "execution_count": 29,
     "metadata": {},
     "output_type": "execute_result"
    }
   ],
   "source": [
    "submission"
   ]
  },
  {
   "cell_type": "code",
   "execution_count": null,
   "id": "663a8e85",
   "metadata": {
    "papermill": {
     "duration": 0.015945,
     "end_time": "2022-10-21T20:58:58.363215",
     "exception": false,
     "start_time": "2022-10-21T20:58:58.347270",
     "status": "completed"
    },
    "tags": []
   },
   "outputs": [],
   "source": []
  }
 ],
 "metadata": {
  "kernelspec": {
   "display_name": "Python 3",
   "language": "python",
   "name": "python3"
  },
  "language_info": {
   "codemirror_mode": {
    "name": "ipython",
    "version": 3
   },
   "file_extension": ".py",
   "mimetype": "text/x-python",
   "name": "python",
   "nbconvert_exporter": "python",
   "pygments_lexer": "ipython3",
   "version": "3.7.12"
  },
  "papermill": {
   "default_parameters": {},
   "duration": 1269.12518,
   "end_time": "2022-10-21T20:59:01.005439",
   "environment_variables": {},
   "exception": null,
   "input_path": "__notebook__.ipynb",
   "output_path": "__notebook__.ipynb",
   "parameters": {},
   "start_time": "2022-10-21T20:37:51.880259",
   "version": "2.3.4"
  }
 },
 "nbformat": 4,
 "nbformat_minor": 5
}
