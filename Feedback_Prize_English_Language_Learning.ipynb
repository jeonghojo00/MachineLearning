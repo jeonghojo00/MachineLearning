{
  "nbformat": 4,
  "nbformat_minor": 0,
  "metadata": {
    "colab": {
      "provenance": [],
      "collapsed_sections": [
        "-nSyel0We1SR",
        "vacSTZaprWlc"
      ],
      "machine_shape": "hm",
      "mount_file_id": "1j7lx11VuauGRAVW0flNmZLrh-t2Zq4Tc",
      "authorship_tag": "ABX9TyMhj59cdPRjsU3mXsvbpGTR",
      "include_colab_link": true
    },
    "kernelspec": {
      "name": "python3",
      "display_name": "Python 3"
    },
    "language_info": {
      "name": "python"
    },
    "gpuClass": "standard",
    "widgets": {
      "application/vnd.jupyter.widget-state+json": {
        "33bbcc9df90e4a8db7e5669e4019a449": {
          "model_module": "@jupyter-widgets/controls",
          "model_name": "HBoxModel",
          "model_module_version": "1.5.0",
          "state": {
            "_dom_classes": [],
            "_model_module": "@jupyter-widgets/controls",
            "_model_module_version": "1.5.0",
            "_model_name": "HBoxModel",
            "_view_count": null,
            "_view_module": "@jupyter-widgets/controls",
            "_view_module_version": "1.5.0",
            "_view_name": "HBoxView",
            "box_style": "",
            "children": [
              "IPY_MODEL_b027db12fb4f4aedbcafa28afef30b98",
              "IPY_MODEL_bdac043accd94c3887d4f7a8d75b4db6",
              "IPY_MODEL_c783617525604f70b5046e51bb6fcbe8"
            ],
            "layout": "IPY_MODEL_dd2175decc2849b99dce4c4b523aa856"
          }
        },
        "b027db12fb4f4aedbcafa28afef30b98": {
          "model_module": "@jupyter-widgets/controls",
          "model_name": "HTMLModel",
          "model_module_version": "1.5.0",
          "state": {
            "_dom_classes": [],
            "_model_module": "@jupyter-widgets/controls",
            "_model_module_version": "1.5.0",
            "_model_name": "HTMLModel",
            "_view_count": null,
            "_view_module": "@jupyter-widgets/controls",
            "_view_module_version": "1.5.0",
            "_view_name": "HTMLView",
            "description": "",
            "description_tooltip": null,
            "layout": "IPY_MODEL_e77275b4e5d248ddb14a33eb45b80230",
            "placeholder": "​",
            "style": "IPY_MODEL_260552aef9534820815ab8ce9cad584c",
            "value": ""
          }
        },
        "bdac043accd94c3887d4f7a8d75b4db6": {
          "model_module": "@jupyter-widgets/controls",
          "model_name": "FloatProgressModel",
          "model_module_version": "1.5.0",
          "state": {
            "_dom_classes": [],
            "_model_module": "@jupyter-widgets/controls",
            "_model_module_version": "1.5.0",
            "_model_name": "FloatProgressModel",
            "_view_count": null,
            "_view_module": "@jupyter-widgets/controls",
            "_view_module_version": "1.5.0",
            "_view_name": "ProgressView",
            "bar_style": "success",
            "description": "",
            "description_tooltip": null,
            "layout": "IPY_MODEL_b4e9d77c61014470b3543403bab2acbf",
            "max": 1,
            "min": 0,
            "orientation": "horizontal",
            "style": "IPY_MODEL_a2d38448fe4a44a3932ea9c97edead74",
            "value": 0
          }
        },
        "c783617525604f70b5046e51bb6fcbe8": {
          "model_module": "@jupyter-widgets/controls",
          "model_name": "HTMLModel",
          "model_module_version": "1.5.0",
          "state": {
            "_dom_classes": [],
            "_model_module": "@jupyter-widgets/controls",
            "_model_module_version": "1.5.0",
            "_model_name": "HTMLModel",
            "_view_count": null,
            "_view_module": "@jupyter-widgets/controls",
            "_view_module_version": "1.5.0",
            "_view_name": "HTMLView",
            "description": "",
            "description_tooltip": null,
            "layout": "IPY_MODEL_c4e1934683fd46acab0834c458802d66",
            "placeholder": "​",
            "style": "IPY_MODEL_a412e4f81b8e4f87a23f3baae6943242",
            "value": " 0/0 [00:00&lt;?, ?it/s]"
          }
        },
        "dd2175decc2849b99dce4c4b523aa856": {
          "model_module": "@jupyter-widgets/base",
          "model_name": "LayoutModel",
          "model_module_version": "1.2.0",
          "state": {
            "_model_module": "@jupyter-widgets/base",
            "_model_module_version": "1.2.0",
            "_model_name": "LayoutModel",
            "_view_count": null,
            "_view_module": "@jupyter-widgets/base",
            "_view_module_version": "1.2.0",
            "_view_name": "LayoutView",
            "align_content": null,
            "align_items": null,
            "align_self": null,
            "border": null,
            "bottom": null,
            "display": null,
            "flex": null,
            "flex_flow": null,
            "grid_area": null,
            "grid_auto_columns": null,
            "grid_auto_flow": null,
            "grid_auto_rows": null,
            "grid_column": null,
            "grid_gap": null,
            "grid_row": null,
            "grid_template_areas": null,
            "grid_template_columns": null,
            "grid_template_rows": null,
            "height": null,
            "justify_content": null,
            "justify_items": null,
            "left": null,
            "margin": null,
            "max_height": null,
            "max_width": null,
            "min_height": null,
            "min_width": null,
            "object_fit": null,
            "object_position": null,
            "order": null,
            "overflow": null,
            "overflow_x": null,
            "overflow_y": null,
            "padding": null,
            "right": null,
            "top": null,
            "visibility": null,
            "width": null
          }
        },
        "e77275b4e5d248ddb14a33eb45b80230": {
          "model_module": "@jupyter-widgets/base",
          "model_name": "LayoutModel",
          "model_module_version": "1.2.0",
          "state": {
            "_model_module": "@jupyter-widgets/base",
            "_model_module_version": "1.2.0",
            "_model_name": "LayoutModel",
            "_view_count": null,
            "_view_module": "@jupyter-widgets/base",
            "_view_module_version": "1.2.0",
            "_view_name": "LayoutView",
            "align_content": null,
            "align_items": null,
            "align_self": null,
            "border": null,
            "bottom": null,
            "display": null,
            "flex": null,
            "flex_flow": null,
            "grid_area": null,
            "grid_auto_columns": null,
            "grid_auto_flow": null,
            "grid_auto_rows": null,
            "grid_column": null,
            "grid_gap": null,
            "grid_row": null,
            "grid_template_areas": null,
            "grid_template_columns": null,
            "grid_template_rows": null,
            "height": null,
            "justify_content": null,
            "justify_items": null,
            "left": null,
            "margin": null,
            "max_height": null,
            "max_width": null,
            "min_height": null,
            "min_width": null,
            "object_fit": null,
            "object_position": null,
            "order": null,
            "overflow": null,
            "overflow_x": null,
            "overflow_y": null,
            "padding": null,
            "right": null,
            "top": null,
            "visibility": null,
            "width": null
          }
        },
        "260552aef9534820815ab8ce9cad584c": {
          "model_module": "@jupyter-widgets/controls",
          "model_name": "DescriptionStyleModel",
          "model_module_version": "1.5.0",
          "state": {
            "_model_module": "@jupyter-widgets/controls",
            "_model_module_version": "1.5.0",
            "_model_name": "DescriptionStyleModel",
            "_view_count": null,
            "_view_module": "@jupyter-widgets/base",
            "_view_module_version": "1.2.0",
            "_view_name": "StyleView",
            "description_width": ""
          }
        },
        "b4e9d77c61014470b3543403bab2acbf": {
          "model_module": "@jupyter-widgets/base",
          "model_name": "LayoutModel",
          "model_module_version": "1.2.0",
          "state": {
            "_model_module": "@jupyter-widgets/base",
            "_model_module_version": "1.2.0",
            "_model_name": "LayoutModel",
            "_view_count": null,
            "_view_module": "@jupyter-widgets/base",
            "_view_module_version": "1.2.0",
            "_view_name": "LayoutView",
            "align_content": null,
            "align_items": null,
            "align_self": null,
            "border": null,
            "bottom": null,
            "display": null,
            "flex": null,
            "flex_flow": null,
            "grid_area": null,
            "grid_auto_columns": null,
            "grid_auto_flow": null,
            "grid_auto_rows": null,
            "grid_column": null,
            "grid_gap": null,
            "grid_row": null,
            "grid_template_areas": null,
            "grid_template_columns": null,
            "grid_template_rows": null,
            "height": null,
            "justify_content": null,
            "justify_items": null,
            "left": null,
            "margin": null,
            "max_height": null,
            "max_width": null,
            "min_height": null,
            "min_width": null,
            "object_fit": null,
            "object_position": null,
            "order": null,
            "overflow": null,
            "overflow_x": null,
            "overflow_y": null,
            "padding": null,
            "right": null,
            "top": null,
            "visibility": null,
            "width": "20px"
          }
        },
        "a2d38448fe4a44a3932ea9c97edead74": {
          "model_module": "@jupyter-widgets/controls",
          "model_name": "ProgressStyleModel",
          "model_module_version": "1.5.0",
          "state": {
            "_model_module": "@jupyter-widgets/controls",
            "_model_module_version": "1.5.0",
            "_model_name": "ProgressStyleModel",
            "_view_count": null,
            "_view_module": "@jupyter-widgets/base",
            "_view_module_version": "1.2.0",
            "_view_name": "StyleView",
            "bar_color": null,
            "description_width": ""
          }
        },
        "c4e1934683fd46acab0834c458802d66": {
          "model_module": "@jupyter-widgets/base",
          "model_name": "LayoutModel",
          "model_module_version": "1.2.0",
          "state": {
            "_model_module": "@jupyter-widgets/base",
            "_model_module_version": "1.2.0",
            "_model_name": "LayoutModel",
            "_view_count": null,
            "_view_module": "@jupyter-widgets/base",
            "_view_module_version": "1.2.0",
            "_view_name": "LayoutView",
            "align_content": null,
            "align_items": null,
            "align_self": null,
            "border": null,
            "bottom": null,
            "display": null,
            "flex": null,
            "flex_flow": null,
            "grid_area": null,
            "grid_auto_columns": null,
            "grid_auto_flow": null,
            "grid_auto_rows": null,
            "grid_column": null,
            "grid_gap": null,
            "grid_row": null,
            "grid_template_areas": null,
            "grid_template_columns": null,
            "grid_template_rows": null,
            "height": null,
            "justify_content": null,
            "justify_items": null,
            "left": null,
            "margin": null,
            "max_height": null,
            "max_width": null,
            "min_height": null,
            "min_width": null,
            "object_fit": null,
            "object_position": null,
            "order": null,
            "overflow": null,
            "overflow_x": null,
            "overflow_y": null,
            "padding": null,
            "right": null,
            "top": null,
            "visibility": null,
            "width": null
          }
        },
        "a412e4f81b8e4f87a23f3baae6943242": {
          "model_module": "@jupyter-widgets/controls",
          "model_name": "DescriptionStyleModel",
          "model_module_version": "1.5.0",
          "state": {
            "_model_module": "@jupyter-widgets/controls",
            "_model_module_version": "1.5.0",
            "_model_name": "DescriptionStyleModel",
            "_view_count": null,
            "_view_module": "@jupyter-widgets/base",
            "_view_module_version": "1.2.0",
            "_view_name": "StyleView",
            "description_width": ""
          }
        }
      }
    }
  },
  "cells": [
    {
      "cell_type": "markdown",
      "metadata": {
        "id": "view-in-github",
        "colab_type": "text"
      },
      "source": [
        "<a href=\"https://colab.research.google.com/github/jeonghojo00/MachineLearning/blob/main/Feedback_Prize_English_Language_Learning.ipynb\" target=\"_parent\"><img src=\"https://colab.research.google.com/assets/colab-badge.svg\" alt=\"Open In Colab\"/></a>"
      ]
    },
    {
      "cell_type": "markdown",
      "source": [
        "#0. Problem Definition"
      ],
      "metadata": {
        "id": "l8DN__8baufG"
      }
    },
    {
      "cell_type": "markdown",
      "source": [
        "1. Source:\n",
        "    - Kaggle Competition: Feedback Prize - Englilsh Language Learning\n",
        "2. Goal:\n",
        "    - To analyze\n",
        "3. Files\n",
        "    - 1) sample_submission.csv, \n",
        "    - 2) train.csv, \n",
        "    - 3) test.csv\n",
        "\n",
        "2. Source"
      ],
      "metadata": {
        "id": "lb_7uAQTXv-N"
      }
    },
    {
      "cell_type": "markdown",
      "source": [
        "#1. Data Exploration"
      ],
      "metadata": {
        "id": "bcHVUst4bg39"
      }
    },
    {
      "cell_type": "markdown",
      "source": [
        "## 1_1. Initial Setup"
      ],
      "metadata": {
        "id": "E2tulpZphdY0"
      }
    },
    {
      "cell_type": "code",
      "source": [
        "# Mount google drive\n",
        "from google.colab import drive\n",
        "drive.mount('/content/drive')"
      ],
      "metadata": {
        "id": "edSn0edRbkcY",
        "colab": {
          "base_uri": "https://localhost:8080/"
        },
        "outputId": "bdeacaec-6e7f-47af-a473-71fcb789cbcf"
      },
      "execution_count": 1,
      "outputs": [
        {
          "output_type": "stream",
          "name": "stdout",
          "text": [
            "Mounted at /content/drive\n"
          ]
        }
      ]
    },
    {
      "cell_type": "code",
      "source": [
        "mount='/content/drive'\n",
        "drive_root = mount + \"/MyDrive/Colab Notebooks/NLP/feedback-prize-english-language-learning\"\n",
        "%cd $drive_root"
      ],
      "metadata": {
        "colab": {
          "base_uri": "https://localhost:8080/"
        },
        "id": "xC4jxzNKjTcA",
        "outputId": "7a6cff4e-19ea-4630-aefa-fbe878755221"
      },
      "execution_count": 2,
      "outputs": [
        {
          "output_type": "stream",
          "name": "stdout",
          "text": [
            "/content/drive/MyDrive/Colab Notebooks/NLP/feedback-prize-english-language-learning\n"
          ]
        }
      ]
    },
    {
      "cell_type": "code",
      "source": [
        "import sys\n",
        "import subprocess\n",
        "import pkg_resources\n",
        "\n",
        "required = {'transformers', 'datasets', 'torchmetrics', 'contractions', 'evaluate', 'gensim', 'optuna', 'ray[tune]', 'pyspellchecker', 'imbalanced-learn'}\n",
        "installed = {pkg.key for pkg in pkg_resources.working_set}\n",
        "missing = required - installed\n",
        "\n",
        "if missing:\n",
        "    python = sys.executable\n",
        "    subprocess.check_call([python, '-m', 'pip', 'install', *missing], stdout=subprocess.DEVNULL)"
      ],
      "metadata": {
        "id": "SH9KcDEOkCm-"
      },
      "execution_count": 3,
      "outputs": []
    },
    {
      "cell_type": "code",
      "source": [
        "import glob\n",
        "import pandas as pd\n",
        "import numpy as np\n",
        "from tqdm import tqdm\n",
        "tqdm.pandas()\n",
        "import seaborn as sns\n",
        "import matplotlib.pyplot as plt\n",
        "from wordcloud import WordCloud\n",
        "from collections import Counter\n",
        "from sklearn.model_selection import train_test_split, GridSearchCV, KFold, StratifiedKFold\n",
        "from sklearn.preprocessing import OneHotEncoder, LabelEncoder\n",
        "from sklearn.metrics import classification_report, f1_score\n",
        "from xgboost.sklearn import XGBRegressor\n",
        "from lightgbm import LGBMRegressor\n",
        "import imblearn\n",
        "\n",
        "from torch.utils.data import DataLoader\n",
        "from transformers import AutoTokenizer, AutoModelForSequenceClassification\n",
        "from transformers import BertTokenizerFast, BertForSequenceClassification, DistilBertForSequenceClassification\n",
        "from transformers import ConvBertTokenizer, ConvBertForSequenceClassification\n",
        "from transformers import LongformerTokenizer, LongformerForSequenceClassification, LongformerConfig, LongformerModel\n",
        "from transformers import AdamW, get_scheduler\n",
        "import re, string, unicodedata\n",
        "import contractions\n",
        "import inflect\n",
        "import nltk\n",
        "from nltk import word_tokenize, sent_tokenize\n",
        "from nltk.corpus import stopwords\n",
        "from nltk.stem import LancasterStemmer, WordNetLemmatizer\n",
        "from gensim.parsing.preprocessing import remove_stopwords\n",
        "from spellchecker import SpellChecker\n",
        "import string\n",
        "import re\n",
        "\n",
        "nltk.download('stopwords')"
      ],
      "metadata": {
        "id": "RkNPdcANve2h",
        "colab": {
          "base_uri": "https://localhost:8080/",
          "height": 158,
          "referenced_widgets": [
            "33bbcc9df90e4a8db7e5669e4019a449",
            "b027db12fb4f4aedbcafa28afef30b98",
            "bdac043accd94c3887d4f7a8d75b4db6",
            "c783617525604f70b5046e51bb6fcbe8",
            "dd2175decc2849b99dce4c4b523aa856",
            "e77275b4e5d248ddb14a33eb45b80230",
            "260552aef9534820815ab8ce9cad584c",
            "b4e9d77c61014470b3543403bab2acbf",
            "a2d38448fe4a44a3932ea9c97edead74",
            "c4e1934683fd46acab0834c458802d66",
            "a412e4f81b8e4f87a23f3baae6943242"
          ]
        },
        "outputId": "27f74e2a-e479-4975-952e-88873bebb273"
      },
      "execution_count": 4,
      "outputs": [
        {
          "output_type": "stream",
          "name": "stderr",
          "text": [
            "The cache for model files in Transformers v4.22.0 has been updated. Migrating your old cache. This is a one-time only operation. You can interrupt this and resume the migration later on by calling `transformers.utils.move_cache()`.\n"
          ]
        },
        {
          "output_type": "stream",
          "name": "stdout",
          "text": [
            "Moving 0 files to the new cache system\n"
          ]
        },
        {
          "output_type": "display_data",
          "data": {
            "text/plain": [
              "0it [00:00, ?it/s]"
            ],
            "application/vnd.jupyter.widget-view+json": {
              "version_major": 2,
              "version_minor": 0,
              "model_id": "33bbcc9df90e4a8db7e5669e4019a449"
            }
          },
          "metadata": {}
        },
        {
          "output_type": "stream",
          "name": "stderr",
          "text": [
            "[nltk_data] Downloading package stopwords to /root/nltk_data...\n",
            "[nltk_data]   Unzipping corpora/stopwords.zip.\n"
          ]
        },
        {
          "output_type": "execute_result",
          "data": {
            "text/plain": [
              "True"
            ]
          },
          "metadata": {},
          "execution_count": 4
        }
      ]
    },
    {
      "cell_type": "markdown",
      "source": [
        "## 1_2. Load Dataset"
      ],
      "metadata": {
        "id": "vqOEaqjNhiuj"
      }
    },
    {
      "cell_type": "code",
      "source": [
        "txtfiles = []\n",
        "for file in glob.glob(\"./data/*.csv\"):\n",
        "    txtfiles.append(file)\n",
        "for i, filename in enumerate(txtfiles):\n",
        "    print(f\"index: {i}, filename: {filename}\")"
      ],
      "metadata": {
        "id": "kNE9AXGAcFBf",
        "colab": {
          "base_uri": "https://localhost:8080/"
        },
        "outputId": "5501e147-623c-4694-aaf2-36533a35481f"
      },
      "execution_count": 5,
      "outputs": [
        {
          "output_type": "stream",
          "name": "stdout",
          "text": [
            "index: 0, filename: ./data/sample_submission.csv\n",
            "index: 1, filename: ./data/train.csv\n",
            "index: 2, filename: ./data/test.csv\n"
          ]
        }
      ]
    },
    {
      "cell_type": "code",
      "source": [
        "# Sample submission file\n",
        "sample_df = pd.read_csv(txtfiles[0])\n",
        "print(\"...Displaying Sample Submission\")\n",
        "display(sample_df)\n",
        "\n",
        "# Train file\n",
        "train_df = pd.read_csv(txtfiles[1])\n",
        "print(\"\\n...Displaying Train\")\n",
        "display(train_df)\n",
        "\n",
        "# Test file\n",
        "test_df = pd.read_csv(txtfiles[2])\n",
        "print(\"\\n...Displaying Test\")\n",
        "display(test_df)\n"
      ],
      "metadata": {
        "colab": {
          "base_uri": "https://localhost:8080/",
          "height": 766
        },
        "id": "t4fLemqupBz8",
        "outputId": "bb6e9e96-36c7-4d40-d299-4e42d88d540c"
      },
      "execution_count": 6,
      "outputs": [
        {
          "output_type": "stream",
          "name": "stdout",
          "text": [
            "...Displaying Sample Submission\n"
          ]
        },
        {
          "output_type": "display_data",
          "data": {
            "text/plain": [
              "        text_id  cohesion  syntax  vocabulary  phraseology  grammar  \\\n",
              "0  0000C359D63E       3.0     3.0         3.0          3.0      3.0   \n",
              "1  000BAD50D026       3.0     3.0         3.0          3.0      3.0   \n",
              "2  00367BB2546B       3.0     3.0         3.0          3.0      3.0   \n",
              "\n",
              "   conventions  \n",
              "0          3.0  \n",
              "1          3.0  \n",
              "2          3.0  "
            ],
            "text/html": [
              "\n",
              "  <div id=\"df-9956dc04-bc4b-4ca3-9ce5-bff94070781d\">\n",
              "    <div class=\"colab-df-container\">\n",
              "      <div>\n",
              "<style scoped>\n",
              "    .dataframe tbody tr th:only-of-type {\n",
              "        vertical-align: middle;\n",
              "    }\n",
              "\n",
              "    .dataframe tbody tr th {\n",
              "        vertical-align: top;\n",
              "    }\n",
              "\n",
              "    .dataframe thead th {\n",
              "        text-align: right;\n",
              "    }\n",
              "</style>\n",
              "<table border=\"1\" class=\"dataframe\">\n",
              "  <thead>\n",
              "    <tr style=\"text-align: right;\">\n",
              "      <th></th>\n",
              "      <th>text_id</th>\n",
              "      <th>cohesion</th>\n",
              "      <th>syntax</th>\n",
              "      <th>vocabulary</th>\n",
              "      <th>phraseology</th>\n",
              "      <th>grammar</th>\n",
              "      <th>conventions</th>\n",
              "    </tr>\n",
              "  </thead>\n",
              "  <tbody>\n",
              "    <tr>\n",
              "      <th>0</th>\n",
              "      <td>0000C359D63E</td>\n",
              "      <td>3.0</td>\n",
              "      <td>3.0</td>\n",
              "      <td>3.0</td>\n",
              "      <td>3.0</td>\n",
              "      <td>3.0</td>\n",
              "      <td>3.0</td>\n",
              "    </tr>\n",
              "    <tr>\n",
              "      <th>1</th>\n",
              "      <td>000BAD50D026</td>\n",
              "      <td>3.0</td>\n",
              "      <td>3.0</td>\n",
              "      <td>3.0</td>\n",
              "      <td>3.0</td>\n",
              "      <td>3.0</td>\n",
              "      <td>3.0</td>\n",
              "    </tr>\n",
              "    <tr>\n",
              "      <th>2</th>\n",
              "      <td>00367BB2546B</td>\n",
              "      <td>3.0</td>\n",
              "      <td>3.0</td>\n",
              "      <td>3.0</td>\n",
              "      <td>3.0</td>\n",
              "      <td>3.0</td>\n",
              "      <td>3.0</td>\n",
              "    </tr>\n",
              "  </tbody>\n",
              "</table>\n",
              "</div>\n",
              "      <button class=\"colab-df-convert\" onclick=\"convertToInteractive('df-9956dc04-bc4b-4ca3-9ce5-bff94070781d')\"\n",
              "              title=\"Convert this dataframe to an interactive table.\"\n",
              "              style=\"display:none;\">\n",
              "        \n",
              "  <svg xmlns=\"http://www.w3.org/2000/svg\" height=\"24px\"viewBox=\"0 0 24 24\"\n",
              "       width=\"24px\">\n",
              "    <path d=\"M0 0h24v24H0V0z\" fill=\"none\"/>\n",
              "    <path d=\"M18.56 5.44l.94 2.06.94-2.06 2.06-.94-2.06-.94-.94-2.06-.94 2.06-2.06.94zm-11 1L8.5 8.5l.94-2.06 2.06-.94-2.06-.94L8.5 2.5l-.94 2.06-2.06.94zm10 10l.94 2.06.94-2.06 2.06-.94-2.06-.94-.94-2.06-.94 2.06-2.06.94z\"/><path d=\"M17.41 7.96l-1.37-1.37c-.4-.4-.92-.59-1.43-.59-.52 0-1.04.2-1.43.59L10.3 9.45l-7.72 7.72c-.78.78-.78 2.05 0 2.83L4 21.41c.39.39.9.59 1.41.59.51 0 1.02-.2 1.41-.59l7.78-7.78 2.81-2.81c.8-.78.8-2.07 0-2.86zM5.41 20L4 18.59l7.72-7.72 1.47 1.35L5.41 20z\"/>\n",
              "  </svg>\n",
              "      </button>\n",
              "      \n",
              "  <style>\n",
              "    .colab-df-container {\n",
              "      display:flex;\n",
              "      flex-wrap:wrap;\n",
              "      gap: 12px;\n",
              "    }\n",
              "\n",
              "    .colab-df-convert {\n",
              "      background-color: #E8F0FE;\n",
              "      border: none;\n",
              "      border-radius: 50%;\n",
              "      cursor: pointer;\n",
              "      display: none;\n",
              "      fill: #1967D2;\n",
              "      height: 32px;\n",
              "      padding: 0 0 0 0;\n",
              "      width: 32px;\n",
              "    }\n",
              "\n",
              "    .colab-df-convert:hover {\n",
              "      background-color: #E2EBFA;\n",
              "      box-shadow: 0px 1px 2px rgba(60, 64, 67, 0.3), 0px 1px 3px 1px rgba(60, 64, 67, 0.15);\n",
              "      fill: #174EA6;\n",
              "    }\n",
              "\n",
              "    [theme=dark] .colab-df-convert {\n",
              "      background-color: #3B4455;\n",
              "      fill: #D2E3FC;\n",
              "    }\n",
              "\n",
              "    [theme=dark] .colab-df-convert:hover {\n",
              "      background-color: #434B5C;\n",
              "      box-shadow: 0px 1px 3px 1px rgba(0, 0, 0, 0.15);\n",
              "      filter: drop-shadow(0px 1px 2px rgba(0, 0, 0, 0.3));\n",
              "      fill: #FFFFFF;\n",
              "    }\n",
              "  </style>\n",
              "\n",
              "      <script>\n",
              "        const buttonEl =\n",
              "          document.querySelector('#df-9956dc04-bc4b-4ca3-9ce5-bff94070781d button.colab-df-convert');\n",
              "        buttonEl.style.display =\n",
              "          google.colab.kernel.accessAllowed ? 'block' : 'none';\n",
              "\n",
              "        async function convertToInteractive(key) {\n",
              "          const element = document.querySelector('#df-9956dc04-bc4b-4ca3-9ce5-bff94070781d');\n",
              "          const dataTable =\n",
              "            await google.colab.kernel.invokeFunction('convertToInteractive',\n",
              "                                                     [key], {});\n",
              "          if (!dataTable) return;\n",
              "\n",
              "          const docLinkHtml = 'Like what you see? Visit the ' +\n",
              "            '<a target=\"_blank\" href=https://colab.research.google.com/notebooks/data_table.ipynb>data table notebook</a>'\n",
              "            + ' to learn more about interactive tables.';\n",
              "          element.innerHTML = '';\n",
              "          dataTable['output_type'] = 'display_data';\n",
              "          await google.colab.output.renderOutput(dataTable, element);\n",
              "          const docLink = document.createElement('div');\n",
              "          docLink.innerHTML = docLinkHtml;\n",
              "          element.appendChild(docLink);\n",
              "        }\n",
              "      </script>\n",
              "    </div>\n",
              "  </div>\n",
              "  "
            ]
          },
          "metadata": {}
        },
        {
          "output_type": "stream",
          "name": "stdout",
          "text": [
            "\n",
            "...Displaying Train\n"
          ]
        },
        {
          "output_type": "display_data",
          "data": {
            "text/plain": [
              "           text_id                                          full_text  \\\n",
              "0     0016926B079C  I think that students would benefit from learn...   \n",
              "1     0022683E9EA5  When a problem is a change you have to let it ...   \n",
              "2     00299B378633  Dear, Principal\\n\\nIf u change the school poli...   \n",
              "3     003885A45F42  The best time in life is when you become yours...   \n",
              "4     0049B1DF5CCC  Small act of kindness can impact in other peop...   \n",
              "...            ...                                                ...   \n",
              "3906  FFD29828A873  I believe using cellphones in class for educat...   \n",
              "3907  FFD9A83B0849  Working alone, students do not have to argue w...   \n",
              "3908  FFDC4011AC9C  \"A problem is a chance for you to do your best...   \n",
              "3909  FFE16D704B16  Many people disagree with Albert Schweitzer's ...   \n",
              "3910  FFED00D6E0BD  Do you think that failure is the main thing fo...   \n",
              "\n",
              "      cohesion  syntax  vocabulary  phraseology  grammar  conventions  \n",
              "0          3.5     3.5         3.0          3.0      4.0          3.0  \n",
              "1          2.5     2.5         3.0          2.0      2.0          2.5  \n",
              "2          3.0     3.5         3.0          3.0      3.0          2.5  \n",
              "3          4.5     4.5         4.5          4.5      4.0          5.0  \n",
              "4          2.5     3.0         3.0          3.0      2.5          2.5  \n",
              "...        ...     ...         ...          ...      ...          ...  \n",
              "3906       2.5     3.0         3.0          3.5      2.5          2.5  \n",
              "3907       4.0     4.0         4.0          4.0      3.5          3.0  \n",
              "3908       2.5     3.0         3.0          3.0      3.5          3.0  \n",
              "3909       4.0     4.5         4.5          4.0      4.5          4.5  \n",
              "3910       3.5     2.5         3.5          3.0      3.0          3.5  \n",
              "\n",
              "[3911 rows x 8 columns]"
            ],
            "text/html": [
              "\n",
              "  <div id=\"df-2e2ebf70-ef93-4753-bccb-f6ae7f38004f\">\n",
              "    <div class=\"colab-df-container\">\n",
              "      <div>\n",
              "<style scoped>\n",
              "    .dataframe tbody tr th:only-of-type {\n",
              "        vertical-align: middle;\n",
              "    }\n",
              "\n",
              "    .dataframe tbody tr th {\n",
              "        vertical-align: top;\n",
              "    }\n",
              "\n",
              "    .dataframe thead th {\n",
              "        text-align: right;\n",
              "    }\n",
              "</style>\n",
              "<table border=\"1\" class=\"dataframe\">\n",
              "  <thead>\n",
              "    <tr style=\"text-align: right;\">\n",
              "      <th></th>\n",
              "      <th>text_id</th>\n",
              "      <th>full_text</th>\n",
              "      <th>cohesion</th>\n",
              "      <th>syntax</th>\n",
              "      <th>vocabulary</th>\n",
              "      <th>phraseology</th>\n",
              "      <th>grammar</th>\n",
              "      <th>conventions</th>\n",
              "    </tr>\n",
              "  </thead>\n",
              "  <tbody>\n",
              "    <tr>\n",
              "      <th>0</th>\n",
              "      <td>0016926B079C</td>\n",
              "      <td>I think that students would benefit from learn...</td>\n",
              "      <td>3.5</td>\n",
              "      <td>3.5</td>\n",
              "      <td>3.0</td>\n",
              "      <td>3.0</td>\n",
              "      <td>4.0</td>\n",
              "      <td>3.0</td>\n",
              "    </tr>\n",
              "    <tr>\n",
              "      <th>1</th>\n",
              "      <td>0022683E9EA5</td>\n",
              "      <td>When a problem is a change you have to let it ...</td>\n",
              "      <td>2.5</td>\n",
              "      <td>2.5</td>\n",
              "      <td>3.0</td>\n",
              "      <td>2.0</td>\n",
              "      <td>2.0</td>\n",
              "      <td>2.5</td>\n",
              "    </tr>\n",
              "    <tr>\n",
              "      <th>2</th>\n",
              "      <td>00299B378633</td>\n",
              "      <td>Dear, Principal\\n\\nIf u change the school poli...</td>\n",
              "      <td>3.0</td>\n",
              "      <td>3.5</td>\n",
              "      <td>3.0</td>\n",
              "      <td>3.0</td>\n",
              "      <td>3.0</td>\n",
              "      <td>2.5</td>\n",
              "    </tr>\n",
              "    <tr>\n",
              "      <th>3</th>\n",
              "      <td>003885A45F42</td>\n",
              "      <td>The best time in life is when you become yours...</td>\n",
              "      <td>4.5</td>\n",
              "      <td>4.5</td>\n",
              "      <td>4.5</td>\n",
              "      <td>4.5</td>\n",
              "      <td>4.0</td>\n",
              "      <td>5.0</td>\n",
              "    </tr>\n",
              "    <tr>\n",
              "      <th>4</th>\n",
              "      <td>0049B1DF5CCC</td>\n",
              "      <td>Small act of kindness can impact in other peop...</td>\n",
              "      <td>2.5</td>\n",
              "      <td>3.0</td>\n",
              "      <td>3.0</td>\n",
              "      <td>3.0</td>\n",
              "      <td>2.5</td>\n",
              "      <td>2.5</td>\n",
              "    </tr>\n",
              "    <tr>\n",
              "      <th>...</th>\n",
              "      <td>...</td>\n",
              "      <td>...</td>\n",
              "      <td>...</td>\n",
              "      <td>...</td>\n",
              "      <td>...</td>\n",
              "      <td>...</td>\n",
              "      <td>...</td>\n",
              "      <td>...</td>\n",
              "    </tr>\n",
              "    <tr>\n",
              "      <th>3906</th>\n",
              "      <td>FFD29828A873</td>\n",
              "      <td>I believe using cellphones in class for educat...</td>\n",
              "      <td>2.5</td>\n",
              "      <td>3.0</td>\n",
              "      <td>3.0</td>\n",
              "      <td>3.5</td>\n",
              "      <td>2.5</td>\n",
              "      <td>2.5</td>\n",
              "    </tr>\n",
              "    <tr>\n",
              "      <th>3907</th>\n",
              "      <td>FFD9A83B0849</td>\n",
              "      <td>Working alone, students do not have to argue w...</td>\n",
              "      <td>4.0</td>\n",
              "      <td>4.0</td>\n",
              "      <td>4.0</td>\n",
              "      <td>4.0</td>\n",
              "      <td>3.5</td>\n",
              "      <td>3.0</td>\n",
              "    </tr>\n",
              "    <tr>\n",
              "      <th>3908</th>\n",
              "      <td>FFDC4011AC9C</td>\n",
              "      <td>\"A problem is a chance for you to do your best...</td>\n",
              "      <td>2.5</td>\n",
              "      <td>3.0</td>\n",
              "      <td>3.0</td>\n",
              "      <td>3.0</td>\n",
              "      <td>3.5</td>\n",
              "      <td>3.0</td>\n",
              "    </tr>\n",
              "    <tr>\n",
              "      <th>3909</th>\n",
              "      <td>FFE16D704B16</td>\n",
              "      <td>Many people disagree with Albert Schweitzer's ...</td>\n",
              "      <td>4.0</td>\n",
              "      <td>4.5</td>\n",
              "      <td>4.5</td>\n",
              "      <td>4.0</td>\n",
              "      <td>4.5</td>\n",
              "      <td>4.5</td>\n",
              "    </tr>\n",
              "    <tr>\n",
              "      <th>3910</th>\n",
              "      <td>FFED00D6E0BD</td>\n",
              "      <td>Do you think that failure is the main thing fo...</td>\n",
              "      <td>3.5</td>\n",
              "      <td>2.5</td>\n",
              "      <td>3.5</td>\n",
              "      <td>3.0</td>\n",
              "      <td>3.0</td>\n",
              "      <td>3.5</td>\n",
              "    </tr>\n",
              "  </tbody>\n",
              "</table>\n",
              "<p>3911 rows × 8 columns</p>\n",
              "</div>\n",
              "      <button class=\"colab-df-convert\" onclick=\"convertToInteractive('df-2e2ebf70-ef93-4753-bccb-f6ae7f38004f')\"\n",
              "              title=\"Convert this dataframe to an interactive table.\"\n",
              "              style=\"display:none;\">\n",
              "        \n",
              "  <svg xmlns=\"http://www.w3.org/2000/svg\" height=\"24px\"viewBox=\"0 0 24 24\"\n",
              "       width=\"24px\">\n",
              "    <path d=\"M0 0h24v24H0V0z\" fill=\"none\"/>\n",
              "    <path d=\"M18.56 5.44l.94 2.06.94-2.06 2.06-.94-2.06-.94-.94-2.06-.94 2.06-2.06.94zm-11 1L8.5 8.5l.94-2.06 2.06-.94-2.06-.94L8.5 2.5l-.94 2.06-2.06.94zm10 10l.94 2.06.94-2.06 2.06-.94-2.06-.94-.94-2.06-.94 2.06-2.06.94z\"/><path d=\"M17.41 7.96l-1.37-1.37c-.4-.4-.92-.59-1.43-.59-.52 0-1.04.2-1.43.59L10.3 9.45l-7.72 7.72c-.78.78-.78 2.05 0 2.83L4 21.41c.39.39.9.59 1.41.59.51 0 1.02-.2 1.41-.59l7.78-7.78 2.81-2.81c.8-.78.8-2.07 0-2.86zM5.41 20L4 18.59l7.72-7.72 1.47 1.35L5.41 20z\"/>\n",
              "  </svg>\n",
              "      </button>\n",
              "      \n",
              "  <style>\n",
              "    .colab-df-container {\n",
              "      display:flex;\n",
              "      flex-wrap:wrap;\n",
              "      gap: 12px;\n",
              "    }\n",
              "\n",
              "    .colab-df-convert {\n",
              "      background-color: #E8F0FE;\n",
              "      border: none;\n",
              "      border-radius: 50%;\n",
              "      cursor: pointer;\n",
              "      display: none;\n",
              "      fill: #1967D2;\n",
              "      height: 32px;\n",
              "      padding: 0 0 0 0;\n",
              "      width: 32px;\n",
              "    }\n",
              "\n",
              "    .colab-df-convert:hover {\n",
              "      background-color: #E2EBFA;\n",
              "      box-shadow: 0px 1px 2px rgba(60, 64, 67, 0.3), 0px 1px 3px 1px rgba(60, 64, 67, 0.15);\n",
              "      fill: #174EA6;\n",
              "    }\n",
              "\n",
              "    [theme=dark] .colab-df-convert {\n",
              "      background-color: #3B4455;\n",
              "      fill: #D2E3FC;\n",
              "    }\n",
              "\n",
              "    [theme=dark] .colab-df-convert:hover {\n",
              "      background-color: #434B5C;\n",
              "      box-shadow: 0px 1px 3px 1px rgba(0, 0, 0, 0.15);\n",
              "      filter: drop-shadow(0px 1px 2px rgba(0, 0, 0, 0.3));\n",
              "      fill: #FFFFFF;\n",
              "    }\n",
              "  </style>\n",
              "\n",
              "      <script>\n",
              "        const buttonEl =\n",
              "          document.querySelector('#df-2e2ebf70-ef93-4753-bccb-f6ae7f38004f button.colab-df-convert');\n",
              "        buttonEl.style.display =\n",
              "          google.colab.kernel.accessAllowed ? 'block' : 'none';\n",
              "\n",
              "        async function convertToInteractive(key) {\n",
              "          const element = document.querySelector('#df-2e2ebf70-ef93-4753-bccb-f6ae7f38004f');\n",
              "          const dataTable =\n",
              "            await google.colab.kernel.invokeFunction('convertToInteractive',\n",
              "                                                     [key], {});\n",
              "          if (!dataTable) return;\n",
              "\n",
              "          const docLinkHtml = 'Like what you see? Visit the ' +\n",
              "            '<a target=\"_blank\" href=https://colab.research.google.com/notebooks/data_table.ipynb>data table notebook</a>'\n",
              "            + ' to learn more about interactive tables.';\n",
              "          element.innerHTML = '';\n",
              "          dataTable['output_type'] = 'display_data';\n",
              "          await google.colab.output.renderOutput(dataTable, element);\n",
              "          const docLink = document.createElement('div');\n",
              "          docLink.innerHTML = docLinkHtml;\n",
              "          element.appendChild(docLink);\n",
              "        }\n",
              "      </script>\n",
              "    </div>\n",
              "  </div>\n",
              "  "
            ]
          },
          "metadata": {}
        },
        {
          "output_type": "stream",
          "name": "stdout",
          "text": [
            "\n",
            "...Displaying Test\n"
          ]
        },
        {
          "output_type": "display_data",
          "data": {
            "text/plain": [
              "        text_id                                          full_text\n",
              "0  0000C359D63E  when a person has no experience on a job their...\n",
              "1  000BAD50D026  Do you think students would benefit from being...\n",
              "2  00367BB2546B  Thomas Jefferson once states that \"it is wonde..."
            ],
            "text/html": [
              "\n",
              "  <div id=\"df-12097ed6-273b-4491-8664-e39dcc7ed73f\">\n",
              "    <div class=\"colab-df-container\">\n",
              "      <div>\n",
              "<style scoped>\n",
              "    .dataframe tbody tr th:only-of-type {\n",
              "        vertical-align: middle;\n",
              "    }\n",
              "\n",
              "    .dataframe tbody tr th {\n",
              "        vertical-align: top;\n",
              "    }\n",
              "\n",
              "    .dataframe thead th {\n",
              "        text-align: right;\n",
              "    }\n",
              "</style>\n",
              "<table border=\"1\" class=\"dataframe\">\n",
              "  <thead>\n",
              "    <tr style=\"text-align: right;\">\n",
              "      <th></th>\n",
              "      <th>text_id</th>\n",
              "      <th>full_text</th>\n",
              "    </tr>\n",
              "  </thead>\n",
              "  <tbody>\n",
              "    <tr>\n",
              "      <th>0</th>\n",
              "      <td>0000C359D63E</td>\n",
              "      <td>when a person has no experience on a job their...</td>\n",
              "    </tr>\n",
              "    <tr>\n",
              "      <th>1</th>\n",
              "      <td>000BAD50D026</td>\n",
              "      <td>Do you think students would benefit from being...</td>\n",
              "    </tr>\n",
              "    <tr>\n",
              "      <th>2</th>\n",
              "      <td>00367BB2546B</td>\n",
              "      <td>Thomas Jefferson once states that \"it is wonde...</td>\n",
              "    </tr>\n",
              "  </tbody>\n",
              "</table>\n",
              "</div>\n",
              "      <button class=\"colab-df-convert\" onclick=\"convertToInteractive('df-12097ed6-273b-4491-8664-e39dcc7ed73f')\"\n",
              "              title=\"Convert this dataframe to an interactive table.\"\n",
              "              style=\"display:none;\">\n",
              "        \n",
              "  <svg xmlns=\"http://www.w3.org/2000/svg\" height=\"24px\"viewBox=\"0 0 24 24\"\n",
              "       width=\"24px\">\n",
              "    <path d=\"M0 0h24v24H0V0z\" fill=\"none\"/>\n",
              "    <path d=\"M18.56 5.44l.94 2.06.94-2.06 2.06-.94-2.06-.94-.94-2.06-.94 2.06-2.06.94zm-11 1L8.5 8.5l.94-2.06 2.06-.94-2.06-.94L8.5 2.5l-.94 2.06-2.06.94zm10 10l.94 2.06.94-2.06 2.06-.94-2.06-.94-.94-2.06-.94 2.06-2.06.94z\"/><path d=\"M17.41 7.96l-1.37-1.37c-.4-.4-.92-.59-1.43-.59-.52 0-1.04.2-1.43.59L10.3 9.45l-7.72 7.72c-.78.78-.78 2.05 0 2.83L4 21.41c.39.39.9.59 1.41.59.51 0 1.02-.2 1.41-.59l7.78-7.78 2.81-2.81c.8-.78.8-2.07 0-2.86zM5.41 20L4 18.59l7.72-7.72 1.47 1.35L5.41 20z\"/>\n",
              "  </svg>\n",
              "      </button>\n",
              "      \n",
              "  <style>\n",
              "    .colab-df-container {\n",
              "      display:flex;\n",
              "      flex-wrap:wrap;\n",
              "      gap: 12px;\n",
              "    }\n",
              "\n",
              "    .colab-df-convert {\n",
              "      background-color: #E8F0FE;\n",
              "      border: none;\n",
              "      border-radius: 50%;\n",
              "      cursor: pointer;\n",
              "      display: none;\n",
              "      fill: #1967D2;\n",
              "      height: 32px;\n",
              "      padding: 0 0 0 0;\n",
              "      width: 32px;\n",
              "    }\n",
              "\n",
              "    .colab-df-convert:hover {\n",
              "      background-color: #E2EBFA;\n",
              "      box-shadow: 0px 1px 2px rgba(60, 64, 67, 0.3), 0px 1px 3px 1px rgba(60, 64, 67, 0.15);\n",
              "      fill: #174EA6;\n",
              "    }\n",
              "\n",
              "    [theme=dark] .colab-df-convert {\n",
              "      background-color: #3B4455;\n",
              "      fill: #D2E3FC;\n",
              "    }\n",
              "\n",
              "    [theme=dark] .colab-df-convert:hover {\n",
              "      background-color: #434B5C;\n",
              "      box-shadow: 0px 1px 3px 1px rgba(0, 0, 0, 0.15);\n",
              "      filter: drop-shadow(0px 1px 2px rgba(0, 0, 0, 0.3));\n",
              "      fill: #FFFFFF;\n",
              "    }\n",
              "  </style>\n",
              "\n",
              "      <script>\n",
              "        const buttonEl =\n",
              "          document.querySelector('#df-12097ed6-273b-4491-8664-e39dcc7ed73f button.colab-df-convert');\n",
              "        buttonEl.style.display =\n",
              "          google.colab.kernel.accessAllowed ? 'block' : 'none';\n",
              "\n",
              "        async function convertToInteractive(key) {\n",
              "          const element = document.querySelector('#df-12097ed6-273b-4491-8664-e39dcc7ed73f');\n",
              "          const dataTable =\n",
              "            await google.colab.kernel.invokeFunction('convertToInteractive',\n",
              "                                                     [key], {});\n",
              "          if (!dataTable) return;\n",
              "\n",
              "          const docLinkHtml = 'Like what you see? Visit the ' +\n",
              "            '<a target=\"_blank\" href=https://colab.research.google.com/notebooks/data_table.ipynb>data table notebook</a>'\n",
              "            + ' to learn more about interactive tables.';\n",
              "          element.innerHTML = '';\n",
              "          dataTable['output_type'] = 'display_data';\n",
              "          await google.colab.output.renderOutput(dataTable, element);\n",
              "          const docLink = document.createElement('div');\n",
              "          docLink.innerHTML = docLinkHtml;\n",
              "          element.appendChild(docLink);\n",
              "        }\n",
              "      </script>\n",
              "    </div>\n",
              "  </div>\n",
              "  "
            ]
          },
          "metadata": {}
        }
      ]
    },
    {
      "cell_type": "markdown",
      "source": [
        "cohesion\t\n",
        "syntax\t\n",
        "vocabulary\t\n",
        "phraseology\t\n",
        "grammar\t\n",
        "conventions"
      ],
      "metadata": {
        "id": "TNGI4xfjWqo0"
      }
    },
    {
      "cell_type": "markdown",
      "source": [
        "## 1_3. Data Analysis"
      ],
      "metadata": {
        "id": "8Z-GuEYthmcG"
      }
    },
    {
      "cell_type": "markdown",
      "source": [
        "### 1_3_1. Distributions"
      ],
      "metadata": {
        "id": "4Kd2Ful9kZlc"
      }
    },
    {
      "cell_type": "code",
      "source": [
        "print(train_df['cohesion'].value_counts().sort_index())"
      ],
      "metadata": {
        "colab": {
          "base_uri": "https://localhost:8080/"
        },
        "id": "ScX29pWEo8tM",
        "outputId": "eda62e14-1fa5-4371-c61b-3259e9b36125"
      },
      "execution_count": 7,
      "outputs": [
        {
          "output_type": "stream",
          "name": "stdout",
          "text": [
            "1.0      10\n",
            "1.5      27\n",
            "2.0     315\n",
            "2.5     790\n",
            "3.0    1096\n",
            "3.5     988\n",
            "4.0     534\n",
            "4.5     125\n",
            "5.0      26\n",
            "Name: cohesion, dtype: int64\n"
          ]
        }
      ]
    },
    {
      "cell_type": "code",
      "source": [
        "# Cohesionn Score distribution\n",
        "from collections import OrderedDict\n",
        "\n",
        "def showDistributions(score_type='cohsion'):\n",
        "    counts = dict(Counter(train_df[score_type]))\n",
        "    print(f\"{score_type} : {OrderedDict(sorted(counts.items()))}\")\n",
        "    plt.figure(figsize = (5,2))\n",
        "    sns.countplot(x = train_df[score_type], palette = 'Set1', alpha = 0.8)\n",
        "    plt.title(f'Distribution of {score_type} scores')\n",
        "    plt.show()"
      ],
      "metadata": {
        "id": "ydE9mFuHt_dl"
      },
      "execution_count": 8,
      "outputs": []
    },
    {
      "cell_type": "code",
      "source": [
        "score_types = list(sample_df.columns)[1:]\n",
        "for score_type in score_types:\n",
        "    showDistributions(score_type)"
      ],
      "metadata": {
        "colab": {
          "base_uri": "https://localhost:8080/",
          "height": 1000
        },
        "id": "vAFyXTCR1zmB",
        "outputId": "5abed35a-9fbc-4c32-e29d-09378dc1620f"
      },
      "execution_count": 9,
      "outputs": [
        {
          "output_type": "stream",
          "name": "stdout",
          "text": [
            "cohesion : OrderedDict([(1.0, 10), (1.5, 27), (2.0, 315), (2.5, 790), (3.0, 1096), (3.5, 988), (4.0, 534), (4.5, 125), (5.0, 26)])\n"
          ]
        },
        {
          "output_type": "display_data",
          "data": {
            "text/plain": [
              "<Figure size 360x144 with 1 Axes>"
            ],
            "image/png": "[encoded data removed]"
          },
          "metadata": {
            "needs_background": "light"
          }
        },
        {
          "output_type": "stream",
          "name": "stdout",
          "text": [
            "syntax : OrderedDict([(1.0, 11), (1.5, 29), (2.0, 410), (2.5, 839), (3.0, 1250), (3.5, 867), (4.0, 388), (4.5, 100), (5.0, 17)])\n"
          ]
        },
        {
          "output_type": "display_data",
          "data": {
            "text/plain": [
              "<Figure size 360x144 with 1 Axes>"
            ],
            "image/png": "[encoded data removed]"
          },
          "metadata": {
            "needs_background": "light"
          }
        },
        {
          "output_type": "stream",
          "name": "stdout",
          "text": [
            "vocabulary : OrderedDict([(1.0, 2), (1.5, 14), (2.0, 124), (2.5, 528), (3.0, 1503), (3.5, 1007), (4.0, 577), (4.5, 115), (5.0, 41)])\n"
          ]
        },
        {
          "output_type": "display_data",
          "data": {
            "text/plain": [
              "<Figure size 360x144 with 1 Axes>"
            ],
            "image/png": "[encoded data removed]"
          },
          "metadata": {
            "needs_background": "light"
          }
        },
        {
          "output_type": "stream",
          "name": "stdout",
          "text": [
            "phraseology : OrderedDict([(1.0, 10), (1.5, 11), (2.0, 350), (2.5, 772), (3.0, 1153), (3.5, 929), (4.0, 553), (4.5, 108), (5.0, 25)])\n"
          ]
        },
        {
          "output_type": "display_data",
          "data": {
            "text/plain": [
              "<Figure size 360x144 with 1 Axes>"
            ],
            "image/png": "[encoded data removed]"
          },
          "metadata": {
            "needs_background": "light"
          }
        },
        {
          "output_type": "stream",
          "name": "stdout",
          "text": [
            "grammar : OrderedDict([(1.0, 8), (1.5, 20), (2.0, 544), (2.5, 855), (3.0, 994), (3.5, 880), (4.0, 447), (4.5, 134), (5.0, 29)])\n"
          ]
        },
        {
          "output_type": "display_data",
          "data": {
            "text/plain": [
              "<Figure size 360x144 with 1 Axes>"
            ],
            "image/png": "[encoded data removed]"
          },
          "metadata": {
            "needs_background": "light"
          }
        },
        {
          "output_type": "stream",
          "name": "stdout",
          "text": [
            "conventions : OrderedDict([(1.0, 15), (1.5, 20), (2.0, 402), (2.5, 784), (3.0, 1151), (3.5, 908), (4.0, 484), (4.5, 122), (5.0, 25)])\n"
          ]
        },
        {
          "output_type": "display_data",
          "data": {
            "text/plain": [
              "<Figure size 360x144 with 1 Axes>"
            ],
            "image/png": "[encoded data removed]"
          },
          "metadata": {
            "needs_background": "light"
          }
        }
      ]
    },
    {
      "cell_type": "markdown",
      "source": [
        "### 1_3_2. Correlation"
      ],
      "metadata": {
        "id": "Zyxc72SrkeIS"
      }
    },
    {
      "cell_type": "code",
      "source": [
        "score_types"
      ],
      "metadata": {
        "colab": {
          "base_uri": "https://localhost:8080/"
        },
        "id": "Ulab8ON9k6xD",
        "outputId": "e6e2e886-b337-40d7-b295-a7587371fde7"
      },
      "execution_count": 10,
      "outputs": [
        {
          "output_type": "execute_result",
          "data": {
            "text/plain": [
              "['cohesion', 'syntax', 'vocabulary', 'phraseology', 'grammar', 'conventions']"
            ]
          },
          "metadata": {},
          "execution_count": 10
        }
      ]
    },
    {
      "cell_type": "code",
      "source": [
        "# Defining how required variables correlate to our target variable\n",
        "corr = train_df[score_types].corr()\n",
        "colormap = sns.color_palette('Blues')\n",
        "sns.heatmap(corr, annot=True, cmap=colormap)"
      ],
      "metadata": {
        "colab": {
          "base_uri": "https://localhost:8080/",
          "height": 339
        },
        "id": "jBexW7kGkhHx",
        "outputId": "63ff2094-db0b-4981-cb60-fad78f10b2b0"
      },
      "execution_count": 11,
      "outputs": [
        {
          "output_type": "execute_result",
          "data": {
            "text/plain": [
              "<matplotlib.axes._subplots.AxesSubplot at 0x7fba7ade0990>"
            ]
          },
          "metadata": {},
          "execution_count": 11
        },
        {
          "output_type": "display_data",
          "data": {
            "text/plain": [
              "<Figure size 432x288 with 2 Axes>"
            ],
            "image/png": "[encoded data removed]"
          },
          "metadata": {
            "needs_background": "light"
          }
        }
      ]
    },
    {
      "cell_type": "markdown",
      "source": [
        "### Check misspell"
      ],
      "metadata": {
        "id": "-nSyel0We1SR"
      }
    },
    {
      "cell_type": "code",
      "source": [
        "import re\n",
        "\n",
        "def remove_punctuations(text):\n",
        "    text = re.sub(r\"[,.;@#?!&$]+\\ *\", \" \", text)\n",
        "    return text"
      ],
      "metadata": {
        "id": "B3YK7uV2cTmc"
      },
      "execution_count": null,
      "outputs": []
    },
    {
      "cell_type": "code",
      "source": [
        "misspelled_words[2]"
      ],
      "metadata": {
        "colab": {
          "base_uri": "https://localhost:8080/",
          "height": 169
        },
        "id": "Dwjl5SafnSYB",
        "outputId": "5c3fb30f-bafb-439d-92be-ef0c26330dca"
      },
      "execution_count": null,
      "outputs": [
        {
          "output_type": "error",
          "ename": "NameError",
          "evalue": "ignored",
          "traceback": [
            "\u001b[0;31m---------------------------------------------------------------------------\u001b[0m",
            "\u001b[0;31mNameError\u001b[0m                                 Traceback (most recent call last)",
            "\u001b[0;32m<ipython-input-38-41f67652c106>\u001b[0m in \u001b[0;36m<module>\u001b[0;34m\u001b[0m\n\u001b[0;32m----> 1\u001b[0;31m \u001b[0mmisspelled_words\u001b[0m\u001b[0;34m[\u001b[0m\u001b[0;36m2\u001b[0m\u001b[0;34m]\u001b[0m\u001b[0;34m\u001b[0m\u001b[0;34m\u001b[0m\u001b[0m\n\u001b[0m",
            "\u001b[0;31mNameError\u001b[0m: name 'misspelled_words' is not defined"
          ]
        }
      ]
    },
    {
      "cell_type": "code",
      "source": [
        "exceptions = ['a', 'b', 'c', 'd', 'f']\n",
        "spell = SpellChecker()\n",
        "misspelled_words = list()\n",
        "for i in range(len(example_texts)):\n",
        "    a_text = example_texts[i].lower()\n",
        "    a_text = remove_punctuations(a_text)\n",
        "    misspelled = spell.unknown(a_text.split())\n",
        "    if len(misspelled) > 0 and :\n",
        "        print(f\"i: {i}\")\n",
        "        print(a_text)\n",
        "        misspelled_words.append(misspelled)\n",
        "\n",
        "print(misspelled_words)"
      ],
      "metadata": {
        "id": "4ZlpbWL8bxp4",
        "colab": {
          "base_uri": "https://localhost:8080/",
          "height": 133
        },
        "outputId": "dad2b52d-2112-4f1f-bc2f-0cb9e2400505"
      },
      "execution_count": null,
      "outputs": [
        {
          "output_type": "error",
          "ename": "SyntaxError",
          "evalue": "ignored",
          "traceback": [
            "\u001b[0;36m  File \u001b[0;32m\"<ipython-input-39-be8071681eca>\"\u001b[0;36m, line \u001b[0;32m8\u001b[0m\n\u001b[0;31m    if len(misspelled) > 0 and :\u001b[0m\n\u001b[0m                               ^\u001b[0m\n\u001b[0;31mSyntaxError\u001b[0m\u001b[0;31m:\u001b[0m invalid syntax\n"
          ]
        }
      ]
    },
    {
      "cell_type": "code",
      "source": [
        "\n",
        "\n",
        "# find those words that may be misspelled\n",
        "misspelled = spell.unknown(['something', 'is', 'hapenning', 'here'])\n",
        "\n",
        "for word in misspelled:\n",
        "    # Get the one `most likely` answer\n",
        "    print(spell.correction(word))\n",
        "\n",
        "    # Get a list of `likely` options\n",
        "    print(spell.candidates(word))"
      ],
      "metadata": {
        "colab": {
          "base_uri": "https://localhost:8080/",
          "height": 240
        },
        "id": "BMWpOmVOYnE6",
        "outputId": "5b4451b9-178c-42db-96d2-ddaf2df947fa"
      },
      "execution_count": null,
      "outputs": [
        {
          "output_type": "error",
          "ename": "NameError",
          "evalue": "ignored",
          "traceback": [
            "\u001b[0;31m---------------------------------------------------------------------------\u001b[0m",
            "\u001b[0;31mNameError\u001b[0m                                 Traceback (most recent call last)",
            "\u001b[0;32m<ipython-input-40-0e3d873ff73b>\u001b[0m in \u001b[0;36m<module>\u001b[0;34m\u001b[0m\n\u001b[1;32m      1\u001b[0m \u001b[0;31m# find those words that may be misspelled\u001b[0m\u001b[0;34m\u001b[0m\u001b[0;34m\u001b[0m\u001b[0;34m\u001b[0m\u001b[0m\n\u001b[0;32m----> 2\u001b[0;31m \u001b[0mmisspelled\u001b[0m \u001b[0;34m=\u001b[0m \u001b[0mspell\u001b[0m\u001b[0;34m.\u001b[0m\u001b[0munknown\u001b[0m\u001b[0;34m(\u001b[0m\u001b[0;34m[\u001b[0m\u001b[0;34m'something'\u001b[0m\u001b[0;34m,\u001b[0m \u001b[0;34m'is'\u001b[0m\u001b[0;34m,\u001b[0m \u001b[0;34m'hapenning'\u001b[0m\u001b[0;34m,\u001b[0m \u001b[0;34m'here'\u001b[0m\u001b[0;34m]\u001b[0m\u001b[0;34m)\u001b[0m\u001b[0;34m\u001b[0m\u001b[0;34m\u001b[0m\u001b[0m\n\u001b[0m\u001b[1;32m      3\u001b[0m \u001b[0;34m\u001b[0m\u001b[0m\n\u001b[1;32m      4\u001b[0m \u001b[0;32mfor\u001b[0m \u001b[0mword\u001b[0m \u001b[0;32min\u001b[0m \u001b[0mmisspelled\u001b[0m\u001b[0;34m:\u001b[0m\u001b[0;34m\u001b[0m\u001b[0;34m\u001b[0m\u001b[0m\n\u001b[1;32m      5\u001b[0m     \u001b[0;31m# Get the one `most likely` answer\u001b[0m\u001b[0;34m\u001b[0m\u001b[0;34m\u001b[0m\u001b[0;34m\u001b[0m\u001b[0m\n",
            "\u001b[0;31mNameError\u001b[0m: name 'spell' is not defined"
          ]
        }
      ]
    },
    {
      "cell_type": "code",
      "source": [
        "train_texts = train_df['full_text']\n",
        "for text in train_texts:\n",
        "    words = text.split()\n",
        "    for word in words:\n",
        "        print(spell.correction(word))"
      ],
      "metadata": {
        "id": "UKb26hC5ZDYb",
        "colab": {
          "base_uri": "https://localhost:8080/",
          "height": 204
        },
        "outputId": "a0a2d416-c320-4dae-fe12-8fa20388b66a"
      },
      "execution_count": null,
      "outputs": [
        {
          "output_type": "error",
          "ename": "NameError",
          "evalue": "ignored",
          "traceback": [
            "\u001b[0;31m---------------------------------------------------------------------------\u001b[0m",
            "\u001b[0;31mNameError\u001b[0m                                 Traceback (most recent call last)",
            "\u001b[0;32m<ipython-input-41-9a24896a1a32>\u001b[0m in \u001b[0;36m<module>\u001b[0;34m\u001b[0m\n\u001b[1;32m      3\u001b[0m     \u001b[0mwords\u001b[0m \u001b[0;34m=\u001b[0m \u001b[0mtext\u001b[0m\u001b[0;34m.\u001b[0m\u001b[0msplit\u001b[0m\u001b[0;34m(\u001b[0m\u001b[0;34m)\u001b[0m\u001b[0;34m\u001b[0m\u001b[0;34m\u001b[0m\u001b[0m\n\u001b[1;32m      4\u001b[0m     \u001b[0;32mfor\u001b[0m \u001b[0mword\u001b[0m \u001b[0;32min\u001b[0m \u001b[0mwords\u001b[0m\u001b[0;34m:\u001b[0m\u001b[0;34m\u001b[0m\u001b[0;34m\u001b[0m\u001b[0m\n\u001b[0;32m----> 5\u001b[0;31m         \u001b[0mprint\u001b[0m\u001b[0;34m(\u001b[0m\u001b[0mspell\u001b[0m\u001b[0;34m.\u001b[0m\u001b[0mcorrection\u001b[0m\u001b[0;34m(\u001b[0m\u001b[0mword\u001b[0m\u001b[0;34m)\u001b[0m\u001b[0;34m)\u001b[0m\u001b[0;34m\u001b[0m\u001b[0;34m\u001b[0m\u001b[0m\n\u001b[0m",
            "\u001b[0;31mNameError\u001b[0m: name 'spell' is not defined"
          ]
        }
      ]
    },
    {
      "cell_type": "code",
      "source": [
        "train_df['full_text'][2]"
      ],
      "metadata": {
        "colab": {
          "base_uri": "https://localhost:8080/",
          "height": 161
        },
        "id": "3uSQfjsZWpjx",
        "outputId": "ca77aa7e-a485-407c-8cdc-5fa71ad6eb9f"
      },
      "execution_count": null,
      "outputs": [
        {
          "output_type": "execute_result",
          "data": {
            "text/plain": [
              "\"Dear, Principal\\n\\nIf u change the school policy of having a grade b average that unfair. Because many students have a C average. So that means that they cant go out for sports or other activities they want to do bad. That's like taking everything they have. What if kids want to become good at something, but now they cant because of that school policy. If they have a C average they should still be able to go out for sports or activities. A C average isn't that bad, its higher then a D average. If the school police was if you have a D average of lower they shouldn't do sports or activities. If they have a D average in school for not working hard, that's means that they in ain't going to try hard. If they have a C average and there trying hard they should be able to out for sports or activities. What if all the good people in sports have a C average in school, that means that they cant play and were going to lose every game we have. That's a good policy to get grade's up but don't take away something they care about. Everyone should be able to go out for sports if they want to. If the school policy happens, schools going to be boarding now, because now students cant go out for sports or other activities. The students that are doing good in school should feel good about themselves but we shouldn't take the other students away from the others ones. If we do this policy student will try to raised their grade but if they cant what happens they them. Should they just be out of it and think that schools boarding. If they do this its like taking away their video games. All I'm saying is that they have the right to go out for sports or activities.\""
            ],
            "application/vnd.google.colaboratory.intrinsic+json": {
              "type": "string"
            }
          },
          "metadata": {},
          "execution_count": 31
        }
      ]
    },
    {
      "cell_type": "markdown",
      "source": [],
      "metadata": {
        "id": "A1Fml3uofBQS"
      }
    },
    {
      "cell_type": "markdown",
      "source": [],
      "metadata": {
        "id": "Ascth_PsfBVv"
      }
    },
    {
      "cell_type": "markdown",
      "source": [
        "#2. Feature Engineering"
      ],
      "metadata": {
        "id": "bIcntRmG4PU7"
      }
    },
    {
      "cell_type": "markdown",
      "source": [
        "## 2_1. Text Cleaning"
      ],
      "metadata": {
        "id": "vacSTZaprWlc"
      }
    },
    {
      "cell_type": "code",
      "source": [
        "def replace_contractions(text):\n",
        "    \"\"\"Replace contractions in string of text\"\"\"\n",
        "    return contractions.fix(text)\n",
        "\n",
        "# Text cleaning\n",
        "def cleanText(df):\n",
        "    df.full_text= df.full_text.apply(lambda x:x.lower() )\n",
        "    #removing square brackets\n",
        "    df.full_text= df.full_text.apply(lambda x:re.sub('\\[.*?\\]', '', x) )\n",
        "    df.full_text= df.full_text.apply(lambda x:re.sub('<.*?>+', '', x) )\n",
        "    \n",
        "    #removing hyperlink\n",
        "    #df.text= df.text.apply(lambda x:re.sub('http[s]?://\\S+|www\\.\\S+', '', x) )\n",
        "    #df.text= df.text.apply(lambda x:replace_contractions(x))\n",
        "    \n",
        "    #removing puncuation\n",
        "    df.full_text = df.full_text.apply(lambda x:re.sub(r\"[,.;@#?!&$]+\\ *\", \" \", x) )\n",
        "    #df.text= df.text.apply(lambda x:re.sub('[%s]' % re.escape(string.punctuation), '', x) )\n",
        "    #df.text= df.text.apply(lambda x:re.sub('\\n' , '', x) )\n",
        "    \n",
        "    #remove words containing numbers\n",
        "    #df.text= df.text.apply(lambda x:re.sub('\\w*\\d\\w*' , '', x) )\n",
        "    \n",
        "    #remove stopwords\n",
        "    df.full_text= df.full_text.apply(lambda x: remove_stopwords(x))\n",
        "\n",
        "    return df"
      ],
      "metadata": {
        "id": "-ORRgLnW6DJL"
      },
      "execution_count": null,
      "outputs": []
    },
    {
      "cell_type": "code",
      "source": [
        "print(\"Before Cleaning: \", train_df.full_text[0][:100])\n",
        "print(train_df['full_text'].apply(lambda x: len(x.split(' '))).sum())\n",
        "train_df = cleanText(train_df)\n",
        "print(train_df['full_text'].apply(lambda x: len(x.split(' '))).sum())\n",
        "print(\"After  Cleaning: \", train_df.full_text[0][:100])\n",
        "test_df = cleanText(test_df)"
      ],
      "metadata": {
        "colab": {
          "base_uri": "https://localhost:8080/"
        },
        "id": "WpNisRvq6Unx",
        "outputId": "0e62f82c-1d50-4cea-d2c2-1224e25428d8"
      },
      "execution_count": null,
      "outputs": [
        {
          "output_type": "stream",
          "name": "stdout",
          "text": [
            "Before Cleaning:  I think that students would benefit from learning at home,because they wont have to change and get u\n",
            "1803481\n",
            "655407\n",
            "After  Cleaning:  think students benefit learning home wont change early morning shower hair taking classes helps hous\n"
          ]
        }
      ]
    },
    {
      "cell_type": "markdown",
      "source": [
        "## 2_2. Creating Features"
      ],
      "metadata": {
        "id": "INhO60Ugrq6Z"
      }
    },
    {
      "cell_type": "code",
      "source": [
        "train_df.head()"
      ],
      "metadata": {
        "colab": {
          "base_uri": "https://localhost:8080/",
          "height": 206
        },
        "id": "dAJaMFGKo58n",
        "outputId": "37f5243e-30b3-432b-843b-bb69804c6d31"
      },
      "execution_count": 12,
      "outputs": [
        {
          "output_type": "execute_result",
          "data": {
            "text/plain": [
              "        text_id                                          full_text  cohesion  \\\n",
              "0  0016926B079C  I think that students would benefit from learn...       3.5   \n",
              "1  0022683E9EA5  When a problem is a change you have to let it ...       2.5   \n",
              "2  00299B378633  Dear, Principal\\n\\nIf u change the school poli...       3.0   \n",
              "3  003885A45F42  The best time in life is when you become yours...       4.5   \n",
              "4  0049B1DF5CCC  Small act of kindness can impact in other peop...       2.5   \n",
              "\n",
              "   syntax  vocabulary  phraseology  grammar  conventions  \n",
              "0     3.5         3.0          3.0      4.0          3.0  \n",
              "1     2.5         3.0          2.0      2.0          2.5  \n",
              "2     3.5         3.0          3.0      3.0          2.5  \n",
              "3     4.5         4.5          4.5      4.0          5.0  \n",
              "4     3.0         3.0          3.0      2.5          2.5  "
            ],
            "text/html": [
              "\n",
              "  <div id=\"df-f859f03e-3d88-403b-aaff-0d17ab3cb1e4\">\n",
              "    <div class=\"colab-df-container\">\n",
              "      <div>\n",
              "<style scoped>\n",
              "    .dataframe tbody tr th:only-of-type {\n",
              "        vertical-align: middle;\n",
              "    }\n",
              "\n",
              "    .dataframe tbody tr th {\n",
              "        vertical-align: top;\n",
              "    }\n",
              "\n",
              "    .dataframe thead th {\n",
              "        text-align: right;\n",
              "    }\n",
              "</style>\n",
              "<table border=\"1\" class=\"dataframe\">\n",
              "  <thead>\n",
              "    <tr style=\"text-align: right;\">\n",
              "      <th></th>\n",
              "      <th>text_id</th>\n",
              "      <th>full_text</th>\n",
              "      <th>cohesion</th>\n",
              "      <th>syntax</th>\n",
              "      <th>vocabulary</th>\n",
              "      <th>phraseology</th>\n",
              "      <th>grammar</th>\n",
              "      <th>conventions</th>\n",
              "    </tr>\n",
              "  </thead>\n",
              "  <tbody>\n",
              "    <tr>\n",
              "      <th>0</th>\n",
              "      <td>0016926B079C</td>\n",
              "      <td>I think that students would benefit from learn...</td>\n",
              "      <td>3.5</td>\n",
              "      <td>3.5</td>\n",
              "      <td>3.0</td>\n",
              "      <td>3.0</td>\n",
              "      <td>4.0</td>\n",
              "      <td>3.0</td>\n",
              "    </tr>\n",
              "    <tr>\n",
              "      <th>1</th>\n",
              "      <td>0022683E9EA5</td>\n",
              "      <td>When a problem is a change you have to let it ...</td>\n",
              "      <td>2.5</td>\n",
              "      <td>2.5</td>\n",
              "      <td>3.0</td>\n",
              "      <td>2.0</td>\n",
              "      <td>2.0</td>\n",
              "      <td>2.5</td>\n",
              "    </tr>\n",
              "    <tr>\n",
              "      <th>2</th>\n",
              "      <td>00299B378633</td>\n",
              "      <td>Dear, Principal\\n\\nIf u change the school poli...</td>\n",
              "      <td>3.0</td>\n",
              "      <td>3.5</td>\n",
              "      <td>3.0</td>\n",
              "      <td>3.0</td>\n",
              "      <td>3.0</td>\n",
              "      <td>2.5</td>\n",
              "    </tr>\n",
              "    <tr>\n",
              "      <th>3</th>\n",
              "      <td>003885A45F42</td>\n",
              "      <td>The best time in life is when you become yours...</td>\n",
              "      <td>4.5</td>\n",
              "      <td>4.5</td>\n",
              "      <td>4.5</td>\n",
              "      <td>4.5</td>\n",
              "      <td>4.0</td>\n",
              "      <td>5.0</td>\n",
              "    </tr>\n",
              "    <tr>\n",
              "      <th>4</th>\n",
              "      <td>0049B1DF5CCC</td>\n",
              "      <td>Small act of kindness can impact in other peop...</td>\n",
              "      <td>2.5</td>\n",
              "      <td>3.0</td>\n",
              "      <td>3.0</td>\n",
              "      <td>3.0</td>\n",
              "      <td>2.5</td>\n",
              "      <td>2.5</td>\n",
              "    </tr>\n",
              "  </tbody>\n",
              "</table>\n",
              "</div>\n",
              "      <button class=\"colab-df-convert\" onclick=\"convertToInteractive('df-f859f03e-3d88-403b-aaff-0d17ab3cb1e4')\"\n",
              "              title=\"Convert this dataframe to an interactive table.\"\n",
              "              style=\"display:none;\">\n",
              "        \n",
              "  <svg xmlns=\"http://www.w3.org/2000/svg\" height=\"24px\"viewBox=\"0 0 24 24\"\n",
              "       width=\"24px\">\n",
              "    <path d=\"M0 0h24v24H0V0z\" fill=\"none\"/>\n",
              "    <path d=\"M18.56 5.44l.94 2.06.94-2.06 2.06-.94-2.06-.94-.94-2.06-.94 2.06-2.06.94zm-11 1L8.5 8.5l.94-2.06 2.06-.94-2.06-.94L8.5 2.5l-.94 2.06-2.06.94zm10 10l.94 2.06.94-2.06 2.06-.94-2.06-.94-.94-2.06-.94 2.06-2.06.94z\"/><path d=\"M17.41 7.96l-1.37-1.37c-.4-.4-.92-.59-1.43-.59-.52 0-1.04.2-1.43.59L10.3 9.45l-7.72 7.72c-.78.78-.78 2.05 0 2.83L4 21.41c.39.39.9.59 1.41.59.51 0 1.02-.2 1.41-.59l7.78-7.78 2.81-2.81c.8-.78.8-2.07 0-2.86zM5.41 20L4 18.59l7.72-7.72 1.47 1.35L5.41 20z\"/>\n",
              "  </svg>\n",
              "      </button>\n",
              "      \n",
              "  <style>\n",
              "    .colab-df-container {\n",
              "      display:flex;\n",
              "      flex-wrap:wrap;\n",
              "      gap: 12px;\n",
              "    }\n",
              "\n",
              "    .colab-df-convert {\n",
              "      background-color: #E8F0FE;\n",
              "      border: none;\n",
              "      border-radius: 50%;\n",
              "      cursor: pointer;\n",
              "      display: none;\n",
              "      fill: #1967D2;\n",
              "      height: 32px;\n",
              "      padding: 0 0 0 0;\n",
              "      width: 32px;\n",
              "    }\n",
              "\n",
              "    .colab-df-convert:hover {\n",
              "      background-color: #E2EBFA;\n",
              "      box-shadow: 0px 1px 2px rgba(60, 64, 67, 0.3), 0px 1px 3px 1px rgba(60, 64, 67, 0.15);\n",
              "      fill: #174EA6;\n",
              "    }\n",
              "\n",
              "    [theme=dark] .colab-df-convert {\n",
              "      background-color: #3B4455;\n",
              "      fill: #D2E3FC;\n",
              "    }\n",
              "\n",
              "    [theme=dark] .colab-df-convert:hover {\n",
              "      background-color: #434B5C;\n",
              "      box-shadow: 0px 1px 3px 1px rgba(0, 0, 0, 0.15);\n",
              "      filter: drop-shadow(0px 1px 2px rgba(0, 0, 0, 0.3));\n",
              "      fill: #FFFFFF;\n",
              "    }\n",
              "  </style>\n",
              "\n",
              "      <script>\n",
              "        const buttonEl =\n",
              "          document.querySelector('#df-f859f03e-3d88-403b-aaff-0d17ab3cb1e4 button.colab-df-convert');\n",
              "        buttonEl.style.display =\n",
              "          google.colab.kernel.accessAllowed ? 'block' : 'none';\n",
              "\n",
              "        async function convertToInteractive(key) {\n",
              "          const element = document.querySelector('#df-f859f03e-3d88-403b-aaff-0d17ab3cb1e4');\n",
              "          const dataTable =\n",
              "            await google.colab.kernel.invokeFunction('convertToInteractive',\n",
              "                                                     [key], {});\n",
              "          if (!dataTable) return;\n",
              "\n",
              "          const docLinkHtml = 'Like what you see? Visit the ' +\n",
              "            '<a target=\"_blank\" href=https://colab.research.google.com/notebooks/data_table.ipynb>data table notebook</a>'\n",
              "            + ' to learn more about interactive tables.';\n",
              "          element.innerHTML = '';\n",
              "          dataTable['output_type'] = 'display_data';\n",
              "          await google.colab.output.renderOutput(dataTable, element);\n",
              "          const docLink = document.createElement('div');\n",
              "          docLink.innerHTML = docLinkHtml;\n",
              "          element.appendChild(docLink);\n",
              "        }\n",
              "      </script>\n",
              "    </div>\n",
              "  </div>\n",
              "  "
            ]
          },
          "metadata": {},
          "execution_count": 12
        }
      ]
    },
    {
      "cell_type": "markdown",
      "source": [
        "Use TF-IDF Vectorizer to vectorize words in a sentence"
      ],
      "metadata": {
        "id": "ZtXXWWe7AWnT"
      }
    },
    {
      "cell_type": "code",
      "source": [
        "from sklearn.feature_extraction.text import TfidfVectorizer\n",
        "'''TF-IDF Vectorizer enables to reduce imporance of the most common words\n",
        "so that model can penalize words by frequency so that it treats less frequent words more importantly.\n",
        "Most frequent word -> Most common word -> Most meaningless word like stopwords\n",
        "'''\n",
        "\n",
        "vectorizer = TfidfVectorizer(smooth_idf=True, sublinear_tf = True)\n",
        "vectorizer.fit(raw_documents=train_df.full_text)"
      ],
      "metadata": {
        "colab": {
          "base_uri": "https://localhost:8080/"
        },
        "id": "CWlpJodNo7fp",
        "outputId": "05f756d8-e4e7-4430-cc66-b14ddb372cec"
      },
      "execution_count": 13,
      "outputs": [
        {
          "output_type": "execute_result",
          "data": {
            "text/plain": [
              "TfidfVectorizer(sublinear_tf=True)"
            ]
          },
          "metadata": {},
          "execution_count": 13
        }
      ]
    },
    {
      "cell_type": "code",
      "source": [
        "def extract_vectors(x):\n",
        "    vecs = vectorizer.transform(x)\n",
        "    return vecs.toarray().flatten()\n",
        "\n",
        "# extract_vectors([train.iloc[0].full_text])\n",
        "train_df['vecs'] = train_df.full_text.progress_apply(lambda x: extract_vectors([x]))\n",
        "test_df['vecs'] = test_df.full_text.progress_apply(lambda x: extract_vectors([x]))"
      ],
      "metadata": {
        "id": "yHkyzaOnpAYY",
        "colab": {
          "base_uri": "https://localhost:8080/"
        },
        "outputId": "6dd73aee-f2cc-48e8-d5d2-4585d839dd70"
      },
      "execution_count": 14,
      "outputs": [
        {
          "output_type": "stream",
          "name": "stderr",
          "text": [
            "100%|██████████| 3911/3911 [00:04<00:00, 922.41it/s]\n",
            "100%|██████████| 3/3 [00:00<00:00, 585.31it/s]\n"
          ]
        }
      ]
    },
    {
      "cell_type": "code",
      "source": [
        "def syllable_count(word):\n",
        "    word = word.lower()\n",
        "    count = 0\n",
        "    vowels = \"aeiouy\"\n",
        "    if word[0] in vowels:\n",
        "        count += 1\n",
        "    for index in range(1, len(word)):\n",
        "        if word[index] in vowels and word[index - 1] not in vowels:\n",
        "            count += 1\n",
        "    if word.endswith(\"e\"):\n",
        "        count -= 1\n",
        "    if count == 0:\n",
        "        count += 1\n",
        "    return count\n",
        "\n",
        "\n",
        "def flesch_kincaid_score(x):\n",
        "    '206.835 - 1.015 × (total words ÷ total sentences) - 84.6 × (total syllables ÷ total words).'\n",
        "    total_words = len(x.split())\n",
        "    total_sentences = (len(x.split('.')))\n",
        "    syllables = sum([syllable_count(w) for w in x.split()])\n",
        "    return 206.835 - 1.015 * (total_words / total_sentences) - 84.6 * (syllables / total_words)"
      ],
      "metadata": {
        "id": "93x0KyaY-bCh"
      },
      "execution_count": 15,
      "outputs": []
    },
    {
      "cell_type": "markdown",
      "source": [
        "Flesch–Kincaid readability tests\n",
        "- indicates how difficult a passage in English is to understand.\n",
        "- 206.835 - 1.015 * (total words / total sentences) - 84.6 * (total syllables / total words)\n",
        "- lower the harder to understand"
      ],
      "metadata": {
        "id": "ZdaA8uN6Obod"
      }
    },
    {
      "cell_type": "code",
      "source": [
        "# extract features from text\n",
        "stop_words = stopwords.words('english')\n",
        "\n",
        "def feature_creations(df):\n",
        "    df['char_count'] = df['full_text'].progress_apply(len)\n",
        "    df['word_count'] = df['full_text'].progress_apply(lambda x: len(x.split()))\n",
        "    df['word_density'] = df['char_count'] / (df['word_count'] + 1)\n",
        "    df['punctuation_count'] = df['full_text'].progress_apply(lambda x: len(\"\".join(_ for _ in x if _ in string.punctuation))) \n",
        "    df['title_word_count'] = df['full_text'].progress_apply(lambda x: len([wrd for wrd in x.split() if wrd.istitle()]))\n",
        "    df['upper_case_word_count'] = df['full_text'].progress_apply(lambda x: len([wrd for wrd in x.split() if wrd.isupper()]))\n",
        "    df['stopword_count'] = df['full_text'].progress_apply(lambda x: len([wrd for wrd in x.split() if wrd.lower() in stop_words]))\n",
        "    df['flesch_kincaid_score'] = df['full_text'].progress_apply(lambda x: flesch_kincaid_score(x))\n",
        "    return df\n",
        "\n",
        "train_df['char_count'] = train_df['full_text'].progress_apply(len)\n",
        "train_df['word_count'] = train_df['full_text'].progress_apply(lambda x: len(x.split()))\n",
        "train_df['word_density'] = train_df['char_count'] / (train_df['word_count'] + 1)\n",
        "train_df['punctuation_count'] = train_df['full_text'].progress_apply(lambda x: len(\"\".join(_ for _ in x if _ in string.punctuation))) \n",
        "train_df['title_word_count'] = train_df['full_text'].progress_apply(lambda x: len([wrd for wrd in x.split() if wrd.istitle()]))\n",
        "train_df['upper_case_word_count'] = train_df['full_text'].progress_apply(lambda x: len([wrd for wrd in x.split() if wrd.isupper()]))\n",
        "train_df['stopword_count'] = train_df['full_text'].progress_apply(lambda x: len([wrd for wrd in x.split() if wrd.lower() in stop_words]))\n",
        "train_df['flesch_kincaid_score'] = train_df['full_text'].progress_apply(lambda x: flesch_kincaid_score(x))"
      ],
      "metadata": {
        "colab": {
          "base_uri": "https://localhost:8080/"
        },
        "id": "C46AJPmO-pdG",
        "outputId": "579958da-7a62-4604-8686-4ba287183d22"
      },
      "execution_count": 16,
      "outputs": [
        {
          "output_type": "stream",
          "name": "stderr",
          "text": [
            "100%|██████████| 3911/3911 [00:00<00:00, 456666.66it/s]\n",
            "100%|██████████| 3911/3911 [00:00<00:00, 40837.88it/s]\n",
            "100%|██████████| 3911/3911 [00:00<00:00, 4134.53it/s]\n",
            "100%|██████████| 3911/3911 [00:00<00:00, 15394.35it/s]\n",
            "100%|██████████| 3911/3911 [00:00<00:00, 20571.63it/s]\n",
            "100%|██████████| 3911/3911 [00:03<00:00, 1228.38it/s]\n",
            "100%|██████████| 3911/3911 [00:02<00:00, 1495.94it/s]\n"
          ]
        }
      ]
    },
    {
      "cell_type": "code",
      "source": [
        "test_df = feature_creations(test_df)"
      ],
      "metadata": {
        "colab": {
          "base_uri": "https://localhost:8080/"
        },
        "id": "Z5FakOOu3P9U",
        "outputId": "d3fc342b-bb38-404e-bf0b-4547381bc6fe"
      },
      "execution_count": 17,
      "outputs": [
        {
          "output_type": "stream",
          "name": "stderr",
          "text": [
            "100%|██████████| 3/3 [00:00<00:00, 4875.21it/s]\n",
            "100%|██████████| 3/3 [00:00<00:00, 3161.54it/s]\n",
            "100%|██████████| 3/3 [00:00<00:00, 844.77it/s]\n",
            "100%|██████████| 3/3 [00:00<00:00, 1353.00it/s]\n",
            "100%|██████████| 3/3 [00:00<00:00, 4335.94it/s]\n",
            "100%|██████████| 3/3 [00:00<00:00, 1082.40it/s]\n",
            "100%|██████████| 3/3 [00:00<00:00, 953.97it/s]\n"
          ]
        }
      ]
    },
    {
      "cell_type": "code",
      "source": [
        "eng_features = train_df.drop(['text_id', 'full_text', 'cohesion','syntax', 'vocabulary', 'phraseology', 'grammar', 'conventions', 'vecs'], axis=1).columns"
      ],
      "metadata": {
        "id": "MxTvrPQ2PGnF"
      },
      "execution_count": 18,
      "outputs": []
    },
    {
      "cell_type": "code",
      "source": [
        "# Normalize X\n",
        "from sklearn.preprocessing import StandardScaler\n",
        "scaled_train_df = train_df.copy()\n",
        "scaled_test_df = test_df.copy()\n",
        "\n",
        "scaler = StandardScaler()\n",
        "scaled_train_df[list(eng_features)] = scaler.fit_transform(scaled_train_df[list(eng_features)])\n",
        "scaled_test_df[list(eng_features)] = scaler.transform(scaled_test_df[list(eng_features)])"
      ],
      "metadata": {
        "id": "cuCUDROR_-vy"
      },
      "execution_count": 19,
      "outputs": []
    },
    {
      "cell_type": "code",
      "source": [
        "# Flatten Each Row\n",
        "def flattenRows(df):\n",
        "    '''\n",
        "    Make a X dataset combining a list of word vectors and other infomrative features such as \n",
        "    char counts, word counts, ..., and flesch_kincaid_score.\n",
        "    '''\n",
        "    features_set = []\n",
        "\n",
        "    for index, row in tqdm(df.iterrows(), total=len(df)):\n",
        "        text_vecs = row['vecs']\n",
        "        other_features = row[eng_features].values.astype(float)\n",
        "        features_set.append(np.append(text_vecs, other_features))\n",
        "\n",
        "    X = np.array(features_set)   \n",
        "    return X"
      ],
      "metadata": {
        "id": "rHsa1QVPy2hb"
      },
      "execution_count": 20,
      "outputs": []
    },
    {
      "cell_type": "code",
      "source": [
        "scaled_X = flattenRows(scaled_train_df)\n",
        "X = flattenRows(train_df)\n",
        "scaled_test_X = flattenRows(scaled_test_df)"
      ],
      "metadata": {
        "colab": {
          "base_uri": "https://localhost:8080/"
        },
        "id": "V-ctelWSzL_l",
        "outputId": "d3afd86a-47a3-42bb-c47f-57705363e2f1"
      },
      "execution_count": 21,
      "outputs": [
        {
          "output_type": "stream",
          "name": "stderr",
          "text": [
            "100%|██████████| 3911/3911 [00:01<00:00, 2312.41it/s]\n",
            "100%|██████████| 3911/3911 [00:01<00:00, 3048.84it/s]\n",
            "100%|██████████| 3/3 [00:00<00:00, 1308.95it/s]\n"
          ]
        }
      ]
    },
    {
      "cell_type": "code",
      "source": [
        "scores = {}\n",
        "for score_type in score_types:\n",
        "    scores[score_type] = train_df[score_type].values"
      ],
      "metadata": {
        "id": "EsyqUVxyS6fB"
      },
      "execution_count": 22,
      "outputs": []
    },
    {
      "cell_type": "code",
      "source": [
        "scores"
      ],
      "metadata": {
        "colab": {
          "base_uri": "https://localhost:8080/"
        },
        "id": "xDBe3ZIVTPMh",
        "outputId": "300b08b2-d762-45b0-fba3-84e0a417d605"
      },
      "execution_count": 23,
      "outputs": [
        {
          "output_type": "execute_result",
          "data": {
            "text/plain": [
              "{'cohesion': array([3.5, 2.5, 3. , ..., 2.5, 4. , 3.5]),\n",
              " 'syntax': array([3.5, 2.5, 3.5, ..., 3. , 4.5, 2.5]),\n",
              " 'vocabulary': array([3. , 3. , 3. , ..., 3. , 4.5, 3.5]),\n",
              " 'phraseology': array([3., 2., 3., ..., 3., 4., 3.]),\n",
              " 'grammar': array([4. , 2. , 3. , ..., 3.5, 4.5, 3. ]),\n",
              " 'conventions': array([3. , 2.5, 2.5, ..., 3. , 4.5, 3.5])}"
            ]
          },
          "metadata": {},
          "execution_count": 23
        }
      ]
    },
    {
      "cell_type": "markdown",
      "source": [
        "#3. Modeling\n",
        "- The problem is the predict appropraite scores from 1.0 to 5.5 with 0.5 increment for score types\n",
        "- Classification and regression will be considered\n",
        "- For each classification and regression, multioutput or single outputx6 will be experimented"
      ],
      "metadata": {
        "id": "wq_Pa-_4no1c"
      }
    },
    {
      "cell_type": "code",
      "source": [
        "def showDisributions(data, title=None):\n",
        "    counts = dict(Counter(data))\n",
        "    print(f\"Data counts : {OrderedDict(sorted(counts.items()))}\")\n",
        "    plt.figure(figsize = (5,2))\n",
        "    sns.countplot(x = data, palette = 'Set1', alpha = 0.8)\n",
        "    plt.title(f'{title} Distributions')\n",
        "    plt.show()    "
      ],
      "metadata": {
        "id": "p_1syC2IntxU"
      },
      "execution_count": 24,
      "outputs": []
    },
    {
      "cell_type": "markdown",
      "source": [
        "## 3_1. Regressions"
      ],
      "metadata": {
        "id": "ateP9l7zsAbh"
      }
    },
    {
      "cell_type": "markdown",
      "source": [
        "### 3_1_1. Find Optimal Parameters for LGBM Regressor"
      ],
      "metadata": {
        "id": "6igbT6Tj879l"
      }
    },
    {
      "cell_type": "code",
      "source": [
        "from lightgbm import LGBMRegressor, LGBMClassifier\n",
        "from scipy.stats import randint as sp_randInt\n",
        "from scipy.stats import uniform as sp_randFloat\n",
        "from sklearn.metrics import f1_score, make_scorer, mean_squared_error\n",
        "from sklearn.model_selection import cross_val_score, RepeatedStratifiedKFold, RandomizedSearchCV\n",
        "from statistics import mean\n",
        "import pickle\n",
        "\n",
        "rmse_scorer = make_scorer(mean_squared_error , squared=False)\n",
        "\n",
        "test_params ={'boosting_type': ['gbdt', 'dart'],\n",
        "             'num_leaves': [30, 100, 200], \n",
        "             'max_depth' : [5, 7, 10, 15],\n",
        "             'learning_rate' : [0.1, 0.05, 0.01],\n",
        "             'n_estimators': [1000, 5000],\n",
        "             'subsample': [0.5, 0.7, 1.0], \n",
        "             'colsample_bytree': [0.5, 0.7, 1.0],\n",
        "             'reg_alpha': [0, 1e-1, 5e-1, 1, 10],\n",
        "             'reg_lambda': [0, 1e-1, 5e-1, 1, 10]}\n",
        "\n",
        "\n",
        "#This parameter defines the number of HP points to be tested\n",
        "n_HP_points_to_test = 100"
      ],
      "metadata": {
        "id": "HP5XOpmk82jE"
      },
      "execution_count": 25,
      "outputs": []
    },
    {
      "cell_type": "code",
      "source": [],
      "metadata": {
        "id": "MtiTdaJlvWk2"
      },
      "execution_count": 26,
      "outputs": []
    },
    {
      "cell_type": "code",
      "source": [
        "new_dict"
      ],
      "metadata": {
        "colab": {
          "base_uri": "https://localhost:8080/"
        },
        "id": "7HYkZ-eVvlnn",
        "outputId": "9c1f3a8a-46fc-44f3-cc94-1fc3b2970636"
      },
      "execution_count": 27,
      "outputs": [
        {
          "output_type": "execute_result",
          "data": {
            "text/plain": [
              "{'cohesion': {'subsample': 0.5,\n",
              "  'reg_lambda': 10,\n",
              "  'reg_alpha': 1,\n",
              "  'num_leaves': 30,\n",
              "  'n_estimators': 5000,\n",
              "  'max_depth': 15,\n",
              "  'learning_rate': 0.05,\n",
              "  'colsample_bytree': 1.0,\n",
              "  'boosting_type': 'dart'},\n",
              " 'syntax': {'subsample': 0.7,\n",
              "  'reg_lambda': 0.5,\n",
              "  'reg_alpha': 10,\n",
              "  'num_leaves': 100,\n",
              "  'n_estimators': 5000,\n",
              "  'max_depth': 15,\n",
              "  'learning_rate': 0.1,\n",
              "  'colsample_bytree': 0.5,\n",
              "  'boosting_type': 'dart'},\n",
              " 'vocabulary': {'subsample': 0.7,\n",
              "  'reg_lambda': 0.1,\n",
              "  'reg_alpha': 10,\n",
              "  'num_leaves': 30,\n",
              "  'n_estimators': 5000,\n",
              "  'max_depth': 10,\n",
              "  'learning_rate': 0.1,\n",
              "  'colsample_bytree': 0.7,\n",
              "  'boosting_type': 'dart'}}"
            ]
          },
          "metadata": {},
          "execution_count": 27
        }
      ]
    },
    {
      "cell_type": "code",
      "source": [
        "lgbmReg_optim = dict()\n",
        "rmse_scores = list()\n",
        "file2save = 'rmse_'+str(np.mean(rmse_scores).item())+'_LGBMRegressor_optim_params.pkl'\n",
        "\n",
        "for score_type in tqdm(score_types):\n",
        "    model = LGBMRegressor(random_state=42, n_jobs=-1)\n",
        "    cv= KFold(n_splits=5, shuffle=True, random_state=42)\n",
        "    gs = RandomizedSearchCV(\n",
        "        estimator=model, \n",
        "        param_distributions=test_params, \n",
        "        n_iter=n_HP_points_to_test,\n",
        "        scoring=rmse_scorer,\n",
        "        cv=cv,\n",
        "        refit=True,\n",
        "        verbose=1)\n",
        "\n",
        "    gs.fit(scaled_X, scores[score_type])\n",
        "    print('{}: Best score reached: {} with params: {} '.format(score_type, gs.best_score_, gs.best_params_))\n",
        "    lgbmReg_optim[score_type] = gs.best_params_\n",
        "    rmse_scores.append(gs.best_score_)\n",
        "\n",
        "    # create a binary pickle file \n",
        "    f = open(file2save,\"wb\")\n",
        "    pickle.dump(lgbmReg_optim,f)\n",
        "    print(f'{file2save} saved')\n",
        "    f.close()"
      ],
      "metadata": {
        "colab": {
          "base_uri": "https://localhost:8080/"
        },
        "id": "0SW4yK7jvfdR",
        "outputId": "79e03f1a-b71e-4284-c676-f6d8b9f9a88d"
      },
      "execution_count": null,
      "outputs": [
        {
          "output_type": "stream",
          "name": "stderr",
          "text": [
            "/usr/local/lib/python3.7/dist-packages/numpy/core/fromnumeric.py:3441: RuntimeWarning: Mean of empty slice.\n",
            "  out=out, **kwargs)\n",
            "/usr/local/lib/python3.7/dist-packages/numpy/core/_methods.py:189: RuntimeWarning: invalid value encountered in double_scalars\n",
            "  ret = ret.dtype.type(ret / rcount)\n",
            "  0%|          | 0/6 [00:00<?, ?it/s]"
          ]
        },
        {
          "output_type": "stream",
          "name": "stdout",
          "text": [
            "Fitting 5 folds for each of 100 candidates, totalling 500 fits\n"
          ]
        },
        {
          "output_type": "stream",
          "name": "stderr",
          "text": [
            "\r 17%|█▋        | 1/6 [6:25:51<32:09:17, 23151.43s/it]"
          ]
        },
        {
          "output_type": "stream",
          "name": "stdout",
          "text": [
            "cohesion: Best score reached: 3.2937436929293553 with params: {'subsample': 0.5, 'reg_lambda': 10, 'reg_alpha': 1, 'num_leaves': 30, 'n_estimators': 5000, 'max_depth': 15, 'learning_rate': 0.05, 'colsample_bytree': 1.0, 'boosting_type': 'dart'} \n",
            "rmse_nan_LGBMRegressor_optim_params.pkl saved\n",
            "Fitting 5 folds for each of 100 candidates, totalling 500 fits\n"
          ]
        },
        {
          "output_type": "stream",
          "name": "stderr",
          "text": [
            "\r 33%|███▎      | 2/6 [11:50:15<23:18:49, 20982.31s/it]"
          ]
        },
        {
          "output_type": "stream",
          "name": "stdout",
          "text": [
            "syntax: Best score reached: 3.080429522324505 with params: {'subsample': 0.7, 'reg_lambda': 0.5, 'reg_alpha': 10, 'num_leaves': 100, 'n_estimators': 5000, 'max_depth': 15, 'learning_rate': 0.1, 'colsample_bytree': 0.5, 'boosting_type': 'dart'} \n",
            "rmse_nan_LGBMRegressor_optim_params.pkl saved\n",
            "Fitting 5 folds for each of 100 candidates, totalling 500 fits\n"
          ]
        },
        {
          "output_type": "stream",
          "name": "stderr",
          "text": [
            "\r 50%|█████     | 3/6 [16:41:39<16:09:14, 19384.78s/it]"
          ]
        },
        {
          "output_type": "stream",
          "name": "stdout",
          "text": [
            "vocabulary: Best score reached: 3.415112626453886 with params: {'subsample': 0.7, 'reg_lambda': 0.1, 'reg_alpha': 10, 'num_leaves': 30, 'n_estimators': 5000, 'max_depth': 10, 'learning_rate': 0.1, 'colsample_bytree': 0.7, 'boosting_type': 'dart'} \n",
            "rmse_nan_LGBMRegressor_optim_params.pkl saved\n",
            "Fitting 5 folds for each of 100 candidates, totalling 500 fits\n"
          ]
        }
      ]
    },
    {
      "cell_type": "markdown",
      "source": [
        "### 3_1_2. Train and predict"
      ],
      "metadata": {
        "id": "ou6ELnWh5P4L"
      }
    },
    {
      "cell_type": "code",
      "source": [
        "filename = 'rmse_nan_LGBMRegressor_optim_params.pkl'\n",
        "infile = open(filename,'rb')\n",
        "lgbmReg_params = pickle.load(infile)\n",
        "infile.close()"
      ],
      "metadata": {
        "id": "tW7-67IR4YhI"
      },
      "execution_count": 33,
      "outputs": []
    },
    {
      "cell_type": "code",
      "source": [
        "def evaluate_model(model, X, y, cv, flag='regression'):\n",
        "    results = dict()    \n",
        "    if flag == 'regression':\n",
        "        mae = cross_val_score(model, X, y, cv = cv, scoring='neg_mean_absolute_error')\n",
        "        mse = cross_val_score(model, X, y, cv = cv, scoring='neg_mean_squared_error')\n",
        "        rmse = cross_val_score(model, X, y, cv = cv, scoring='neg_root_mean_squared_error')\n",
        "        r2 = cross_val_score(model, X, y, cv = cv, scoring='r2')\n",
        "        results['MAE'] = abs(np.mean(mae))\n",
        "        results['MSE'] = abs(np.mean(mse))\n",
        "        results['RMSE'] = abs(np.mean(rmse))\n",
        "        results['R2'] = abs(np.mean(r2))\n",
        "    else:\n",
        "        f1 = cross_val_score(model, X, y, cv = cv, scoring='f1_weighted')\n",
        "        roc_auc = cross_val_score(model, X, y, cv = cv, scoring='roc_auc_ovo_weighted')\n",
        "        results['f1'] = abs(np.mean(f1))\n",
        "        results['ROC_AUC'] = abs(np.mean(roc_auc))\n",
        "    return results"
      ],
      "metadata": {
        "id": "iz3YbbdguYZq"
      },
      "execution_count": 28,
      "outputs": []
    },
    {
      "cell_type": "code",
      "source": [
        "score_type = 'cohesion'\n",
        "optim_param = lgbmReg_params[score_type]\n",
        "model = LGBMRegressor(**optim_param)\n",
        "cv= KFold(n_splits=5, shuffle=True)\n",
        "eval_results = evaluate_model(model, scaled_X, scores[score_type], cv, flag='regression')\n",
        "display(eval_results)"
      ],
      "metadata": {
        "colab": {
          "base_uri": "https://localhost:8080/",
          "height": 88
        },
        "id": "qjNIbqsT7pfq",
        "outputId": "5e24a8b1-96e0-42ac-aa4c-533c4b1e5618"
      },
      "execution_count": 34,
      "outputs": [
        {
          "output_type": "display_data",
          "data": {
            "text/plain": [
              "{'MAE': 3.462863367944462,\n",
              " 'MSE': 11.441278628585891,\n",
              " 'RMSE': 3.264097760437277,\n",
              " 'R2': 28.10810283383409}"
            ]
          },
          "metadata": {}
        }
      ]
    },
    {
      "cell_type": "code",
      "source": [
        "score_type = 'cohesion'\n",
        "model = LGBMRegressor()\n",
        "cv= KFold(n_splits=5, shuffle=True)\n",
        "eval_results = evaluate_model(model, scaled_X, scores[score_type], cv, flag='regression')\n",
        "display(eval_results)"
      ],
      "metadata": {
        "colab": {
          "base_uri": "https://localhost:8080/",
          "height": 88
        },
        "id": "akoXkf4T9g73",
        "outputId": "45c3033a-2ccb-4584-bc58-c79597d61071"
      },
      "execution_count": null,
      "outputs": [
        {
          "output_type": "display_data",
          "data": {
            "text/plain": [
              "{'MAE': 0.4504556952342148,\n",
              " 'MSE': 0.3060366702769185,\n",
              " 'RMSE': 0.5480434278172966,\n",
              " 'R2': 0.3030241128201774}"
            ]
          },
          "metadata": {}
        }
      ]
    },
    {
      "cell_type": "code",
      "source": [
        "score_type = 'cohesion'\n",
        "model = LGBMRegressor()\n",
        "cv= KFold(n_splits=5, shuffle=True)\n",
        "eval_results = evaluate_model(model, X, scores[score_type], cv, flag='regression')\n",
        "display(eval_results)"
      ],
      "metadata": {
        "colab": {
          "base_uri": "https://localhost:8080/",
          "height": 88
        },
        "id": "MfK5dNwe0AfQ",
        "outputId": "a474752e-a1be-409e-9493-d4717cbf2086"
      },
      "execution_count": null,
      "outputs": [
        {
          "output_type": "display_data",
          "data": {
            "text/plain": [
              "{'MAE': 0.4455762179590995,\n",
              " 'MSE': 0.3045563447311723,\n",
              " 'RMSE': 0.5549702606347953,\n",
              " 'R2': 0.30146783006933536}"
            ]
          },
          "metadata": {}
        }
      ]
    },
    {
      "cell_type": "code",
      "source": [
        "LGBM_results = dict()\n",
        "LGBM_results['regression'] = dict()"
      ],
      "metadata": {
        "id": "aoOIFN3pTcA3"
      },
      "execution_count": null,
      "outputs": []
    },
    {
      "cell_type": "code",
      "source": [
        "# LGBM Regression\n",
        "for score_type in score_types:\n",
        "    model = LGBMRegressor()\n",
        "    cv= KFold(n_splits=5, shuffle=True)\n",
        "    LGBM_results['regression'][score_type] = evaluate_model(model, X, scores[score_type], cv, 'regression')\n",
        "\n",
        "display(LGBM_results)"
      ],
      "metadata": {
        "id": "74E1CTcaLuA2"
      },
      "execution_count": null,
      "outputs": []
    },
    {
      "cell_type": "code",
      "source": [
        "# Train and Test split\n",
        "X_train, X_test, y_train, y_test = train_test_split(X, scores['cohesion'], test_size=0.2, random_state=42)\n",
        "lgbmReg = LGBMRegressor()\n",
        "lgbmReg.fit(X_train, y_train)\n",
        "y_pred = lgbmReg.predict(X_test)"
      ],
      "metadata": {
        "id": "22_IBo353IXK"
      },
      "execution_count": null,
      "outputs": []
    },
    {
      "cell_type": "code",
      "source": [
        "def round_to_scale(predictions):\n",
        "    rounded = list()\n",
        "    for val in predictions:\n",
        "        if val < 1.25:\n",
        "            rounded.append(1.0)\n",
        "        elif val < 1.75:\n",
        "            rounded.append(1.5)\n",
        "        elif val < 2.25:\n",
        "            rounded.append(2.0)\n",
        "        elif val < 2.75:\n",
        "            rounded.append(2.5)\n",
        "        elif val < 3.25:\n",
        "            rounded.append(3.0)\n",
        "        elif val < 3.75:\n",
        "            rounded.append(3.5)\n",
        "        elif val < 4.25:\n",
        "            rounded.append(4.0)\n",
        "        elif val < 4.75:\n",
        "            rounded.append(4.5)\n",
        "        else:\n",
        "            rounded.append(5.0)\n",
        "    return np.array(rounded)\n"
      ],
      "metadata": {
        "id": "j_ikWzo23z3V"
      },
      "execution_count": null,
      "outputs": []
    },
    {
      "cell_type": "code",
      "source": [
        "rounded_y = round_to_scale(y_pred)"
      ],
      "metadata": {
        "id": "sTTo4jLN5KmM"
      },
      "execution_count": null,
      "outputs": []
    },
    {
      "cell_type": "code",
      "source": [
        "mean_squared_error(y_test, y_pred, squared=False)"
      ],
      "metadata": {
        "id": "nb0hAsnw5VCY",
        "colab": {
          "base_uri": "https://localhost:8080/"
        },
        "outputId": "523c4e4a-3a96-4e2a-ad69-bac7835d03cd"
      },
      "execution_count": null,
      "outputs": [
        {
          "output_type": "execute_result",
          "data": {
            "text/plain": [
              "0.5440929703972038"
            ]
          },
          "metadata": {},
          "execution_count": 57
        }
      ]
    },
    {
      "cell_type": "markdown",
      "source": [
        "cohesion\t\n",
        "syntax\t\n",
        "vocabulary\t\n",
        "phraseology\t\n",
        "grammar\t\n",
        "conventions"
      ],
      "metadata": {
        "id": "K9T32k5yrRk_"
      }
    },
    {
      "cell_type": "code",
      "source": [
        "test_df"
      ],
      "metadata": {
        "colab": {
          "base_uri": "https://localhost:8080/",
          "height": 676
        },
        "id": "g0zZOzQt49kZ",
        "outputId": "b75c2e56-b33b-471a-8d88-d0dfc73e0483"
      },
      "execution_count": 31,
      "outputs": [
        {
          "output_type": "execute_result",
          "data": {
            "text/plain": [
              "        text_id                                          full_text  \\\n",
              "0  0000C359D63E  when a person has no experience on a job their...   \n",
              "1  000BAD50D026  Do you think students would benefit from being...   \n",
              "2  00367BB2546B  Thomas Jefferson once states that \"it is wonde...   \n",
              "\n",
              "                                                vecs  char_count  word_count  \\\n",
              "0  [0.0, 0.0, 0.0, 0.0, 0.0, 0.0, 0.0, 0.0, 0.0, ...        4224         835   \n",
              "1  [0.0, 0.0, 0.0, 0.0, 0.0, 0.0, 0.0, 0.0, 0.0, ...        2167         386   \n",
              "2  [0.0, 0.0, 0.0, 0.0, 0.0, 0.0, 0.0, 0.0, 0.0, ...        2361         442   \n",
              "\n",
              "   word_density  punctuation_count  title_word_count  upper_case_word_count  \\\n",
              "0      5.052632                 37                25                      1   \n",
              "1      5.599483                 36                11                      1   \n",
              "2      5.329571                 33                11                      1   \n",
              "\n",
              "   stopword_count  flesch_kincaid_score  \n",
              "0             454             67.346130  \n",
              "1             207             67.940871  \n",
              "2             244             62.349525  "
            ],
            "text/html": [
              "\n",
              "  <div id=\"df-cb429a80-8dc7-4e59-8a3e-1a4198970cc3\">\n",
              "    <div class=\"colab-df-container\">\n",
              "      <div>\n",
              "<style scoped>\n",
              "    .dataframe tbody tr th:only-of-type {\n",
              "        vertical-align: middle;\n",
              "    }\n",
              "\n",
              "    .dataframe tbody tr th {\n",
              "        vertical-align: top;\n",
              "    }\n",
              "\n",
              "    .dataframe thead th {\n",
              "        text-align: right;\n",
              "    }\n",
              "</style>\n",
              "<table border=\"1\" class=\"dataframe\">\n",
              "  <thead>\n",
              "    <tr style=\"text-align: right;\">\n",
              "      <th></th>\n",
              "      <th>text_id</th>\n",
              "      <th>full_text</th>\n",
              "      <th>vecs</th>\n",
              "      <th>char_count</th>\n",
              "      <th>word_count</th>\n",
              "      <th>word_density</th>\n",
              "      <th>punctuation_count</th>\n",
              "      <th>title_word_count</th>\n",
              "      <th>upper_case_word_count</th>\n",
              "      <th>stopword_count</th>\n",
              "      <th>flesch_kincaid_score</th>\n",
              "    </tr>\n",
              "  </thead>\n",
              "  <tbody>\n",
              "    <tr>\n",
              "      <th>0</th>\n",
              "      <td>0000C359D63E</td>\n",
              "      <td>when a person has no experience on a job their...</td>\n",
              "      <td>[0.0, 0.0, 0.0, 0.0, 0.0, 0.0, 0.0, 0.0, 0.0, ...</td>\n",
              "      <td>4224</td>\n",
              "      <td>835</td>\n",
              "      <td>5.052632</td>\n",
              "      <td>37</td>\n",
              "      <td>25</td>\n",
              "      <td>1</td>\n",
              "      <td>454</td>\n",
              "      <td>67.346130</td>\n",
              "    </tr>\n",
              "    <tr>\n",
              "      <th>1</th>\n",
              "      <td>000BAD50D026</td>\n",
              "      <td>Do you think students would benefit from being...</td>\n",
              "      <td>[0.0, 0.0, 0.0, 0.0, 0.0, 0.0, 0.0, 0.0, 0.0, ...</td>\n",
              "      <td>2167</td>\n",
              "      <td>386</td>\n",
              "      <td>5.599483</td>\n",
              "      <td>36</td>\n",
              "      <td>11</td>\n",
              "      <td>1</td>\n",
              "      <td>207</td>\n",
              "      <td>67.940871</td>\n",
              "    </tr>\n",
              "    <tr>\n",
              "      <th>2</th>\n",
              "      <td>00367BB2546B</td>\n",
              "      <td>Thomas Jefferson once states that \"it is wonde...</td>\n",
              "      <td>[0.0, 0.0, 0.0, 0.0, 0.0, 0.0, 0.0, 0.0, 0.0, ...</td>\n",
              "      <td>2361</td>\n",
              "      <td>442</td>\n",
              "      <td>5.329571</td>\n",
              "      <td>33</td>\n",
              "      <td>11</td>\n",
              "      <td>1</td>\n",
              "      <td>244</td>\n",
              "      <td>62.349525</td>\n",
              "    </tr>\n",
              "  </tbody>\n",
              "</table>\n",
              "</div>\n",
              "      <button class=\"colab-df-convert\" onclick=\"convertToInteractive('df-cb429a80-8dc7-4e59-8a3e-1a4198970cc3')\"\n",
              "              title=\"Convert this dataframe to an interactive table.\"\n",
              "              style=\"display:none;\">\n",
              "        \n",
              "  <svg xmlns=\"http://www.w3.org/2000/svg\" height=\"24px\"viewBox=\"0 0 24 24\"\n",
              "       width=\"24px\">\n",
              "    <path d=\"M0 0h24v24H0V0z\" fill=\"none\"/>\n",
              "    <path d=\"M18.56 5.44l.94 2.06.94-2.06 2.06-.94-2.06-.94-.94-2.06-.94 2.06-2.06.94zm-11 1L8.5 8.5l.94-2.06 2.06-.94-2.06-.94L8.5 2.5l-.94 2.06-2.06.94zm10 10l.94 2.06.94-2.06 2.06-.94-2.06-.94-.94-2.06-.94 2.06-2.06.94z\"/><path d=\"M17.41 7.96l-1.37-1.37c-.4-.4-.92-.59-1.43-.59-.52 0-1.04.2-1.43.59L10.3 9.45l-7.72 7.72c-.78.78-.78 2.05 0 2.83L4 21.41c.39.39.9.59 1.41.59.51 0 1.02-.2 1.41-.59l7.78-7.78 2.81-2.81c.8-.78.8-2.07 0-2.86zM5.41 20L4 18.59l7.72-7.72 1.47 1.35L5.41 20z\"/>\n",
              "  </svg>\n",
              "      </button>\n",
              "      \n",
              "  <style>\n",
              "    .colab-df-container {\n",
              "      display:flex;\n",
              "      flex-wrap:wrap;\n",
              "      gap: 12px;\n",
              "    }\n",
              "\n",
              "    .colab-df-convert {\n",
              "      background-color: #E8F0FE;\n",
              "      border: none;\n",
              "      border-radius: 50%;\n",
              "      cursor: pointer;\n",
              "      display: none;\n",
              "      fill: #1967D2;\n",
              "      height: 32px;\n",
              "      padding: 0 0 0 0;\n",
              "      width: 32px;\n",
              "    }\n",
              "\n",
              "    .colab-df-convert:hover {\n",
              "      background-color: #E2EBFA;\n",
              "      box-shadow: 0px 1px 2px rgba(60, 64, 67, 0.3), 0px 1px 3px 1px rgba(60, 64, 67, 0.15);\n",
              "      fill: #174EA6;\n",
              "    }\n",
              "\n",
              "    [theme=dark] .colab-df-convert {\n",
              "      background-color: #3B4455;\n",
              "      fill: #D2E3FC;\n",
              "    }\n",
              "\n",
              "    [theme=dark] .colab-df-convert:hover {\n",
              "      background-color: #434B5C;\n",
              "      box-shadow: 0px 1px 3px 1px rgba(0, 0, 0, 0.15);\n",
              "      filter: drop-shadow(0px 1px 2px rgba(0, 0, 0, 0.3));\n",
              "      fill: #FFFFFF;\n",
              "    }\n",
              "  </style>\n",
              "\n",
              "      <script>\n",
              "        const buttonEl =\n",
              "          document.querySelector('#df-cb429a80-8dc7-4e59-8a3e-1a4198970cc3 button.colab-df-convert');\n",
              "        buttonEl.style.display =\n",
              "          google.colab.kernel.accessAllowed ? 'block' : 'none';\n",
              "\n",
              "        async function convertToInteractive(key) {\n",
              "          const element = document.querySelector('#df-cb429a80-8dc7-4e59-8a3e-1a4198970cc3');\n",
              "          const dataTable =\n",
              "            await google.colab.kernel.invokeFunction('convertToInteractive',\n",
              "                                                     [key], {});\n",
              "          if (!dataTable) return;\n",
              "\n",
              "          const docLinkHtml = 'Like what you see? Visit the ' +\n",
              "            '<a target=\"_blank\" href=https://colab.research.google.com/notebooks/data_table.ipynb>data table notebook</a>'\n",
              "            + ' to learn more about interactive tables.';\n",
              "          element.innerHTML = '';\n",
              "          dataTable['output_type'] = 'display_data';\n",
              "          await google.colab.output.renderOutput(dataTable, element);\n",
              "          const docLink = document.createElement('div');\n",
              "          docLink.innerHTML = docLinkHtml;\n",
              "          element.appendChild(docLink);\n",
              "        }\n",
              "      </script>\n",
              "    </div>\n",
              "  </div>\n",
              "  "
            ]
          },
          "metadata": {},
          "execution_count": 31
        }
      ]
    },
    {
      "cell_type": "code",
      "source": [
        "for score_type in score_types:\n",
        "    model = LGBMRegressor()\n",
        "    model.fit(scaled_X, scores[score_type])\n",
        "    test_df[score_type] = model.predict(scaled_test_X)"
      ],
      "metadata": {
        "id": "ZJm5Hoqi5FUr"
      },
      "execution_count": 35,
      "outputs": []
    },
    {
      "cell_type": "code",
      "source": [
        "test_df"
      ],
      "metadata": {
        "colab": {
          "base_uri": "https://localhost:8080/",
          "height": 676
        },
        "id": "3iXhWA3I46xk",
        "outputId": "fd0969d8-4eb0-4c68-f27a-ece14bc79939"
      },
      "execution_count": 36,
      "outputs": [
        {
          "output_type": "execute_result",
          "data": {
            "text/plain": [
              "        text_id                                          full_text  \\\n",
              "0  0000C359D63E  when a person has no experience on a job their...   \n",
              "1  000BAD50D026  Do you think students would benefit from being...   \n",
              "2  00367BB2546B  Thomas Jefferson once states that \"it is wonde...   \n",
              "\n",
              "                                                vecs  char_count  word_count  \\\n",
              "0  [0.0, 0.0, 0.0, 0.0, 0.0, 0.0, 0.0, 0.0, 0.0, ...        4224         835   \n",
              "1  [0.0, 0.0, 0.0, 0.0, 0.0, 0.0, 0.0, 0.0, 0.0, ...        2167         386   \n",
              "2  [0.0, 0.0, 0.0, 0.0, 0.0, 0.0, 0.0, 0.0, 0.0, ...        2361         442   \n",
              "\n",
              "   word_density  punctuation_count  title_word_count  upper_case_word_count  \\\n",
              "0      5.052632                 37                25                      1   \n",
              "1      5.599483                 36                11                      1   \n",
              "2      5.329571                 33                11                      1   \n",
              "\n",
              "   stopword_count  flesch_kincaid_score  cohesion    syntax  vocabulary  \\\n",
              "0             454             67.346130  3.257816  3.053141    3.416932   \n",
              "1             207             67.940871  2.946341  3.039620    2.993347   \n",
              "2             244             62.349525  3.577981  3.268005    3.358719   \n",
              "\n",
              "   phraseology   grammar  conventions  \n",
              "0     3.264194  2.924972     2.966888  \n",
              "1     2.734318  2.746865     3.140122  \n",
              "2     3.285543  3.405709     3.122653  "
            ],
            "text/html": [
              "\n",
              "  <div id=\"df-06fefcce-3bab-42fa-876b-6e9a32353266\">\n",
              "    <div class=\"colab-df-container\">\n",
              "      <div>\n",
              "<style scoped>\n",
              "    .dataframe tbody tr th:only-of-type {\n",
              "        vertical-align: middle;\n",
              "    }\n",
              "\n",
              "    .dataframe tbody tr th {\n",
              "        vertical-align: top;\n",
              "    }\n",
              "\n",
              "    .dataframe thead th {\n",
              "        text-align: right;\n",
              "    }\n",
              "</style>\n",
              "<table border=\"1\" class=\"dataframe\">\n",
              "  <thead>\n",
              "    <tr style=\"text-align: right;\">\n",
              "      <th></th>\n",
              "      <th>text_id</th>\n",
              "      <th>full_text</th>\n",
              "      <th>vecs</th>\n",
              "      <th>char_count</th>\n",
              "      <th>word_count</th>\n",
              "      <th>word_density</th>\n",
              "      <th>punctuation_count</th>\n",
              "      <th>title_word_count</th>\n",
              "      <th>upper_case_word_count</th>\n",
              "      <th>stopword_count</th>\n",
              "      <th>flesch_kincaid_score</th>\n",
              "      <th>cohesion</th>\n",
              "      <th>syntax</th>\n",
              "      <th>vocabulary</th>\n",
              "      <th>phraseology</th>\n",
              "      <th>grammar</th>\n",
              "      <th>conventions</th>\n",
              "    </tr>\n",
              "  </thead>\n",
              "  <tbody>\n",
              "    <tr>\n",
              "      <th>0</th>\n",
              "      <td>0000C359D63E</td>\n",
              "      <td>when a person has no experience on a job their...</td>\n",
              "      <td>[0.0, 0.0, 0.0, 0.0, 0.0, 0.0, 0.0, 0.0, 0.0, ...</td>\n",
              "      <td>4224</td>\n",
              "      <td>835</td>\n",
              "      <td>5.052632</td>\n",
              "      <td>37</td>\n",
              "      <td>25</td>\n",
              "      <td>1</td>\n",
              "      <td>454</td>\n",
              "      <td>67.346130</td>\n",
              "      <td>3.257816</td>\n",
              "      <td>3.053141</td>\n",
              "      <td>3.416932</td>\n",
              "      <td>3.264194</td>\n",
              "      <td>2.924972</td>\n",
              "      <td>2.966888</td>\n",
              "    </tr>\n",
              "    <tr>\n",
              "      <th>1</th>\n",
              "      <td>000BAD50D026</td>\n",
              "      <td>Do you think students would benefit from being...</td>\n",
              "      <td>[0.0, 0.0, 0.0, 0.0, 0.0, 0.0, 0.0, 0.0, 0.0, ...</td>\n",
              "      <td>2167</td>\n",
              "      <td>386</td>\n",
              "      <td>5.599483</td>\n",
              "      <td>36</td>\n",
              "      <td>11</td>\n",
              "      <td>1</td>\n",
              "      <td>207</td>\n",
              "      <td>67.940871</td>\n",
              "      <td>2.946341</td>\n",
              "      <td>3.039620</td>\n",
              "      <td>2.993347</td>\n",
              "      <td>2.734318</td>\n",
              "      <td>2.746865</td>\n",
              "      <td>3.140122</td>\n",
              "    </tr>\n",
              "    <tr>\n",
              "      <th>2</th>\n",
              "      <td>00367BB2546B</td>\n",
              "      <td>Thomas Jefferson once states that \"it is wonde...</td>\n",
              "      <td>[0.0, 0.0, 0.0, 0.0, 0.0, 0.0, 0.0, 0.0, 0.0, ...</td>\n",
              "      <td>2361</td>\n",
              "      <td>442</td>\n",
              "      <td>5.329571</td>\n",
              "      <td>33</td>\n",
              "      <td>11</td>\n",
              "      <td>1</td>\n",
              "      <td>244</td>\n",
              "      <td>62.349525</td>\n",
              "      <td>3.577981</td>\n",
              "      <td>3.268005</td>\n",
              "      <td>3.358719</td>\n",
              "      <td>3.285543</td>\n",
              "      <td>3.405709</td>\n",
              "      <td>3.122653</td>\n",
              "    </tr>\n",
              "  </tbody>\n",
              "</table>\n",
              "</div>\n",
              "      <button class=\"colab-df-convert\" onclick=\"convertToInteractive('df-06fefcce-3bab-42fa-876b-6e9a32353266')\"\n",
              "              title=\"Convert this dataframe to an interactive table.\"\n",
              "              style=\"display:none;\">\n",
              "        \n",
              "  <svg xmlns=\"http://www.w3.org/2000/svg\" height=\"24px\"viewBox=\"0 0 24 24\"\n",
              "       width=\"24px\">\n",
              "    <path d=\"M0 0h24v24H0V0z\" fill=\"none\"/>\n",
              "    <path d=\"M18.56 5.44l.94 2.06.94-2.06 2.06-.94-2.06-.94-.94-2.06-.94 2.06-2.06.94zm-11 1L8.5 8.5l.94-2.06 2.06-.94-2.06-.94L8.5 2.5l-.94 2.06-2.06.94zm10 10l.94 2.06.94-2.06 2.06-.94-2.06-.94-.94-2.06-.94 2.06-2.06.94z\"/><path d=\"M17.41 7.96l-1.37-1.37c-.4-.4-.92-.59-1.43-.59-.52 0-1.04.2-1.43.59L10.3 9.45l-7.72 7.72c-.78.78-.78 2.05 0 2.83L4 21.41c.39.39.9.59 1.41.59.51 0 1.02-.2 1.41-.59l7.78-7.78 2.81-2.81c.8-.78.8-2.07 0-2.86zM5.41 20L4 18.59l7.72-7.72 1.47 1.35L5.41 20z\"/>\n",
              "  </svg>\n",
              "      </button>\n",
              "      \n",
              "  <style>\n",
              "    .colab-df-container {\n",
              "      display:flex;\n",
              "      flex-wrap:wrap;\n",
              "      gap: 12px;\n",
              "    }\n",
              "\n",
              "    .colab-df-convert {\n",
              "      background-color: #E8F0FE;\n",
              "      border: none;\n",
              "      border-radius: 50%;\n",
              "      cursor: pointer;\n",
              "      display: none;\n",
              "      fill: #1967D2;\n",
              "      height: 32px;\n",
              "      padding: 0 0 0 0;\n",
              "      width: 32px;\n",
              "    }\n",
              "\n",
              "    .colab-df-convert:hover {\n",
              "      background-color: #E2EBFA;\n",
              "      box-shadow: 0px 1px 2px rgba(60, 64, 67, 0.3), 0px 1px 3px 1px rgba(60, 64, 67, 0.15);\n",
              "      fill: #174EA6;\n",
              "    }\n",
              "\n",
              "    [theme=dark] .colab-df-convert {\n",
              "      background-color: #3B4455;\n",
              "      fill: #D2E3FC;\n",
              "    }\n",
              "\n",
              "    [theme=dark] .colab-df-convert:hover {\n",
              "      background-color: #434B5C;\n",
              "      box-shadow: 0px 1px 3px 1px rgba(0, 0, 0, 0.15);\n",
              "      filter: drop-shadow(0px 1px 2px rgba(0, 0, 0, 0.3));\n",
              "      fill: #FFFFFF;\n",
              "    }\n",
              "  </style>\n",
              "\n",
              "      <script>\n",
              "        const buttonEl =\n",
              "          document.querySelector('#df-06fefcce-3bab-42fa-876b-6e9a32353266 button.colab-df-convert');\n",
              "        buttonEl.style.display =\n",
              "          google.colab.kernel.accessAllowed ? 'block' : 'none';\n",
              "\n",
              "        async function convertToInteractive(key) {\n",
              "          const element = document.querySelector('#df-06fefcce-3bab-42fa-876b-6e9a32353266');\n",
              "          const dataTable =\n",
              "            await google.colab.kernel.invokeFunction('convertToInteractive',\n",
              "                                                     [key], {});\n",
              "          if (!dataTable) return;\n",
              "\n",
              "          const docLinkHtml = 'Like what you see? Visit the ' +\n",
              "            '<a target=\"_blank\" href=https://colab.research.google.com/notebooks/data_table.ipynb>data table notebook</a>'\n",
              "            + ' to learn more about interactive tables.';\n",
              "          element.innerHTML = '';\n",
              "          dataTable['output_type'] = 'display_data';\n",
              "          await google.colab.output.renderOutput(dataTable, element);\n",
              "          const docLink = document.createElement('div');\n",
              "          docLink.innerHTML = docLinkHtml;\n",
              "          element.appendChild(docLink);\n",
              "        }\n",
              "      </script>\n",
              "    </div>\n",
              "  </div>\n",
              "  "
            ]
          },
          "metadata": {},
          "execution_count": 36
        }
      ]
    },
    {
      "cell_type": "code",
      "source": [
        "submission_cols = ['text_id'] + score_types\n",
        "submission = test_df[submission_cols]\n",
        "submission"
      ],
      "metadata": {
        "colab": {
          "base_uri": "https://localhost:8080/",
          "height": 143
        },
        "id": "EJSRe_HzGgBF",
        "outputId": "bb1ec9f2-9416-4490-a0bb-63a7d1503b0d"
      },
      "execution_count": 40,
      "outputs": [
        {
          "output_type": "execute_result",
          "data": {
            "text/plain": [
              "        text_id  cohesion    syntax  vocabulary  phraseology   grammar  \\\n",
              "0  0000C359D63E  3.257816  3.053141    3.416932     3.264194  2.924972   \n",
              "1  000BAD50D026  2.946341  3.039620    2.993347     2.734318  2.746865   \n",
              "2  00367BB2546B  3.577981  3.268005    3.358719     3.285543  3.405709   \n",
              "\n",
              "   conventions  \n",
              "0     2.966888  \n",
              "1     3.140122  \n",
              "2     3.122653  "
            ],
            "text/html": [
              "\n",
              "  <div id=\"df-c9b2c85e-936d-4723-959b-e21aacb48961\">\n",
              "    <div class=\"colab-df-container\">\n",
              "      <div>\n",
              "<style scoped>\n",
              "    .dataframe tbody tr th:only-of-type {\n",
              "        vertical-align: middle;\n",
              "    }\n",
              "\n",
              "    .dataframe tbody tr th {\n",
              "        vertical-align: top;\n",
              "    }\n",
              "\n",
              "    .dataframe thead th {\n",
              "        text-align: right;\n",
              "    }\n",
              "</style>\n",
              "<table border=\"1\" class=\"dataframe\">\n",
              "  <thead>\n",
              "    <tr style=\"text-align: right;\">\n",
              "      <th></th>\n",
              "      <th>text_id</th>\n",
              "      <th>cohesion</th>\n",
              "      <th>syntax</th>\n",
              "      <th>vocabulary</th>\n",
              "      <th>phraseology</th>\n",
              "      <th>grammar</th>\n",
              "      <th>conventions</th>\n",
              "    </tr>\n",
              "  </thead>\n",
              "  <tbody>\n",
              "    <tr>\n",
              "      <th>0</th>\n",
              "      <td>0000C359D63E</td>\n",
              "      <td>3.257816</td>\n",
              "      <td>3.053141</td>\n",
              "      <td>3.416932</td>\n",
              "      <td>3.264194</td>\n",
              "      <td>2.924972</td>\n",
              "      <td>2.966888</td>\n",
              "    </tr>\n",
              "    <tr>\n",
              "      <th>1</th>\n",
              "      <td>000BAD50D026</td>\n",
              "      <td>2.946341</td>\n",
              "      <td>3.039620</td>\n",
              "      <td>2.993347</td>\n",
              "      <td>2.734318</td>\n",
              "      <td>2.746865</td>\n",
              "      <td>3.140122</td>\n",
              "    </tr>\n",
              "    <tr>\n",
              "      <th>2</th>\n",
              "      <td>00367BB2546B</td>\n",
              "      <td>3.577981</td>\n",
              "      <td>3.268005</td>\n",
              "      <td>3.358719</td>\n",
              "      <td>3.285543</td>\n",
              "      <td>3.405709</td>\n",
              "      <td>3.122653</td>\n",
              "    </tr>\n",
              "  </tbody>\n",
              "</table>\n",
              "</div>\n",
              "      <button class=\"colab-df-convert\" onclick=\"convertToInteractive('df-c9b2c85e-936d-4723-959b-e21aacb48961')\"\n",
              "              title=\"Convert this dataframe to an interactive table.\"\n",
              "              style=\"display:none;\">\n",
              "        \n",
              "  <svg xmlns=\"http://www.w3.org/2000/svg\" height=\"24px\"viewBox=\"0 0 24 24\"\n",
              "       width=\"24px\">\n",
              "    <path d=\"M0 0h24v24H0V0z\" fill=\"none\"/>\n",
              "    <path d=\"M18.56 5.44l.94 2.06.94-2.06 2.06-.94-2.06-.94-.94-2.06-.94 2.06-2.06.94zm-11 1L8.5 8.5l.94-2.06 2.06-.94-2.06-.94L8.5 2.5l-.94 2.06-2.06.94zm10 10l.94 2.06.94-2.06 2.06-.94-2.06-.94-.94-2.06-.94 2.06-2.06.94z\"/><path d=\"M17.41 7.96l-1.37-1.37c-.4-.4-.92-.59-1.43-.59-.52 0-1.04.2-1.43.59L10.3 9.45l-7.72 7.72c-.78.78-.78 2.05 0 2.83L4 21.41c.39.39.9.59 1.41.59.51 0 1.02-.2 1.41-.59l7.78-7.78 2.81-2.81c.8-.78.8-2.07 0-2.86zM5.41 20L4 18.59l7.72-7.72 1.47 1.35L5.41 20z\"/>\n",
              "  </svg>\n",
              "      </button>\n",
              "      \n",
              "  <style>\n",
              "    .colab-df-container {\n",
              "      display:flex;\n",
              "      flex-wrap:wrap;\n",
              "      gap: 12px;\n",
              "    }\n",
              "\n",
              "    .colab-df-convert {\n",
              "      background-color: #E8F0FE;\n",
              "      border: none;\n",
              "      border-radius: 50%;\n",
              "      cursor: pointer;\n",
              "      display: none;\n",
              "      fill: #1967D2;\n",
              "      height: 32px;\n",
              "      padding: 0 0 0 0;\n",
              "      width: 32px;\n",
              "    }\n",
              "\n",
              "    .colab-df-convert:hover {\n",
              "      background-color: #E2EBFA;\n",
              "      box-shadow: 0px 1px 2px rgba(60, 64, 67, 0.3), 0px 1px 3px 1px rgba(60, 64, 67, 0.15);\n",
              "      fill: #174EA6;\n",
              "    }\n",
              "\n",
              "    [theme=dark] .colab-df-convert {\n",
              "      background-color: #3B4455;\n",
              "      fill: #D2E3FC;\n",
              "    }\n",
              "\n",
              "    [theme=dark] .colab-df-convert:hover {\n",
              "      background-color: #434B5C;\n",
              "      box-shadow: 0px 1px 3px 1px rgba(0, 0, 0, 0.15);\n",
              "      filter: drop-shadow(0px 1px 2px rgba(0, 0, 0, 0.3));\n",
              "      fill: #FFFFFF;\n",
              "    }\n",
              "  </style>\n",
              "\n",
              "      <script>\n",
              "        const buttonEl =\n",
              "          document.querySelector('#df-c9b2c85e-936d-4723-959b-e21aacb48961 button.colab-df-convert');\n",
              "        buttonEl.style.display =\n",
              "          google.colab.kernel.accessAllowed ? 'block' : 'none';\n",
              "\n",
              "        async function convertToInteractive(key) {\n",
              "          const element = document.querySelector('#df-c9b2c85e-936d-4723-959b-e21aacb48961');\n",
              "          const dataTable =\n",
              "            await google.colab.kernel.invokeFunction('convertToInteractive',\n",
              "                                                     [key], {});\n",
              "          if (!dataTable) return;\n",
              "\n",
              "          const docLinkHtml = 'Like what you see? Visit the ' +\n",
              "            '<a target=\"_blank\" href=https://colab.research.google.com/notebooks/data_table.ipynb>data table notebook</a>'\n",
              "            + ' to learn more about interactive tables.';\n",
              "          element.innerHTML = '';\n",
              "          dataTable['output_type'] = 'display_data';\n",
              "          await google.colab.output.renderOutput(dataTable, element);\n",
              "          const docLink = document.createElement('div');\n",
              "          docLink.innerHTML = docLinkHtml;\n",
              "          element.appendChild(docLink);\n",
              "        }\n",
              "      </script>\n",
              "    </div>\n",
              "  </div>\n",
              "  "
            ]
          },
          "metadata": {},
          "execution_count": 40
        }
      ]
    },
    {
      "cell_type": "code",
      "source": [
        "sample_df"
      ],
      "metadata": {
        "colab": {
          "base_uri": "https://localhost:8080/",
          "height": 143
        },
        "id": "StPvdkypGec1",
        "outputId": "d2cf4008-70cf-4e87-fff1-41d7e0ae330f"
      },
      "execution_count": 37,
      "outputs": [
        {
          "output_type": "execute_result",
          "data": {
            "text/plain": [
              "        text_id  cohesion  syntax  vocabulary  phraseology  grammar  \\\n",
              "0  0000C359D63E       3.0     3.0         3.0          3.0      3.0   \n",
              "1  000BAD50D026       3.0     3.0         3.0          3.0      3.0   \n",
              "2  00367BB2546B       3.0     3.0         3.0          3.0      3.0   \n",
              "\n",
              "   conventions  \n",
              "0          3.0  \n",
              "1          3.0  \n",
              "2          3.0  "
            ],
            "text/html": [
              "\n",
              "  <div id=\"df-c8938e2d-6957-4257-a289-e6b89650c9ac\">\n",
              "    <div class=\"colab-df-container\">\n",
              "      <div>\n",
              "<style scoped>\n",
              "    .dataframe tbody tr th:only-of-type {\n",
              "        vertical-align: middle;\n",
              "    }\n",
              "\n",
              "    .dataframe tbody tr th {\n",
              "        vertical-align: top;\n",
              "    }\n",
              "\n",
              "    .dataframe thead th {\n",
              "        text-align: right;\n",
              "    }\n",
              "</style>\n",
              "<table border=\"1\" class=\"dataframe\">\n",
              "  <thead>\n",
              "    <tr style=\"text-align: right;\">\n",
              "      <th></th>\n",
              "      <th>text_id</th>\n",
              "      <th>cohesion</th>\n",
              "      <th>syntax</th>\n",
              "      <th>vocabulary</th>\n",
              "      <th>phraseology</th>\n",
              "      <th>grammar</th>\n",
              "      <th>conventions</th>\n",
              "    </tr>\n",
              "  </thead>\n",
              "  <tbody>\n",
              "    <tr>\n",
              "      <th>0</th>\n",
              "      <td>0000C359D63E</td>\n",
              "      <td>3.0</td>\n",
              "      <td>3.0</td>\n",
              "      <td>3.0</td>\n",
              "      <td>3.0</td>\n",
              "      <td>3.0</td>\n",
              "      <td>3.0</td>\n",
              "    </tr>\n",
              "    <tr>\n",
              "      <th>1</th>\n",
              "      <td>000BAD50D026</td>\n",
              "      <td>3.0</td>\n",
              "      <td>3.0</td>\n",
              "      <td>3.0</td>\n",
              "      <td>3.0</td>\n",
              "      <td>3.0</td>\n",
              "      <td>3.0</td>\n",
              "    </tr>\n",
              "    <tr>\n",
              "      <th>2</th>\n",
              "      <td>00367BB2546B</td>\n",
              "      <td>3.0</td>\n",
              "      <td>3.0</td>\n",
              "      <td>3.0</td>\n",
              "      <td>3.0</td>\n",
              "      <td>3.0</td>\n",
              "      <td>3.0</td>\n",
              "    </tr>\n",
              "  </tbody>\n",
              "</table>\n",
              "</div>\n",
              "      <button class=\"colab-df-convert\" onclick=\"convertToInteractive('df-c8938e2d-6957-4257-a289-e6b89650c9ac')\"\n",
              "              title=\"Convert this dataframe to an interactive table.\"\n",
              "              style=\"display:none;\">\n",
              "        \n",
              "  <svg xmlns=\"http://www.w3.org/2000/svg\" height=\"24px\"viewBox=\"0 0 24 24\"\n",
              "       width=\"24px\">\n",
              "    <path d=\"M0 0h24v24H0V0z\" fill=\"none\"/>\n",
              "    <path d=\"M18.56 5.44l.94 2.06.94-2.06 2.06-.94-2.06-.94-.94-2.06-.94 2.06-2.06.94zm-11 1L8.5 8.5l.94-2.06 2.06-.94-2.06-.94L8.5 2.5l-.94 2.06-2.06.94zm10 10l.94 2.06.94-2.06 2.06-.94-2.06-.94-.94-2.06-.94 2.06-2.06.94z\"/><path d=\"M17.41 7.96l-1.37-1.37c-.4-.4-.92-.59-1.43-.59-.52 0-1.04.2-1.43.59L10.3 9.45l-7.72 7.72c-.78.78-.78 2.05 0 2.83L4 21.41c.39.39.9.59 1.41.59.51 0 1.02-.2 1.41-.59l7.78-7.78 2.81-2.81c.8-.78.8-2.07 0-2.86zM5.41 20L4 18.59l7.72-7.72 1.47 1.35L5.41 20z\"/>\n",
              "  </svg>\n",
              "      </button>\n",
              "      \n",
              "  <style>\n",
              "    .colab-df-container {\n",
              "      display:flex;\n",
              "      flex-wrap:wrap;\n",
              "      gap: 12px;\n",
              "    }\n",
              "\n",
              "    .colab-df-convert {\n",
              "      background-color: #E8F0FE;\n",
              "      border: none;\n",
              "      border-radius: 50%;\n",
              "      cursor: pointer;\n",
              "      display: none;\n",
              "      fill: #1967D2;\n",
              "      height: 32px;\n",
              "      padding: 0 0 0 0;\n",
              "      width: 32px;\n",
              "    }\n",
              "\n",
              "    .colab-df-convert:hover {\n",
              "      background-color: #E2EBFA;\n",
              "      box-shadow: 0px 1px 2px rgba(60, 64, 67, 0.3), 0px 1px 3px 1px rgba(60, 64, 67, 0.15);\n",
              "      fill: #174EA6;\n",
              "    }\n",
              "\n",
              "    [theme=dark] .colab-df-convert {\n",
              "      background-color: #3B4455;\n",
              "      fill: #D2E3FC;\n",
              "    }\n",
              "\n",
              "    [theme=dark] .colab-df-convert:hover {\n",
              "      background-color: #434B5C;\n",
              "      box-shadow: 0px 1px 3px 1px rgba(0, 0, 0, 0.15);\n",
              "      filter: drop-shadow(0px 1px 2px rgba(0, 0, 0, 0.3));\n",
              "      fill: #FFFFFF;\n",
              "    }\n",
              "  </style>\n",
              "\n",
              "      <script>\n",
              "        const buttonEl =\n",
              "          document.querySelector('#df-c8938e2d-6957-4257-a289-e6b89650c9ac button.colab-df-convert');\n",
              "        buttonEl.style.display =\n",
              "          google.colab.kernel.accessAllowed ? 'block' : 'none';\n",
              "\n",
              "        async function convertToInteractive(key) {\n",
              "          const element = document.querySelector('#df-c8938e2d-6957-4257-a289-e6b89650c9ac');\n",
              "          const dataTable =\n",
              "            await google.colab.kernel.invokeFunction('convertToInteractive',\n",
              "                                                     [key], {});\n",
              "          if (!dataTable) return;\n",
              "\n",
              "          const docLinkHtml = 'Like what you see? Visit the ' +\n",
              "            '<a target=\"_blank\" href=https://colab.research.google.com/notebooks/data_table.ipynb>data table notebook</a>'\n",
              "            + ' to learn more about interactive tables.';\n",
              "          element.innerHTML = '';\n",
              "          dataTable['output_type'] = 'display_data';\n",
              "          await google.colab.output.renderOutput(dataTable, element);\n",
              "          const docLink = document.createElement('div');\n",
              "          docLink.innerHTML = docLinkHtml;\n",
              "          element.appendChild(docLink);\n",
              "        }\n",
              "      </script>\n",
              "    </div>\n",
              "  </div>\n",
              "  "
            ]
          },
          "metadata": {},
          "execution_count": 37
        }
      ]
    },
    {
      "cell_type": "code",
      "source": [
        "submission.to_csv(\"submission.csv\", index=False)"
      ],
      "metadata": {
        "id": "y5QVHakyHSGM"
      },
      "execution_count": 41,
      "outputs": []
    },
    {
      "cell_type": "markdown",
      "source": [
        "## 3_2. Classification"
      ],
      "metadata": {
        "id": "SEj4NWimu9pR"
      }
    },
    {
      "cell_type": "code",
      "source": [
        "# Apply Label encoder for scores for Classification\n",
        "label_encoders = dict()\n",
        "scores4clf = dict()\n",
        "for score_type in score_types:\n",
        "    label_encoders[score_type] = LabelEncoder()\n",
        "    train_df[score_type+'_le'] = label_encoders['cohesion'].fit_transform(train_df[score_type])\n",
        "    scores4clf[score_type] = train_df[score_type+'_le']"
      ],
      "metadata": {
        "id": "x2qLZoPXw8wH"
      },
      "execution_count": null,
      "outputs": []
    },
    {
      "cell_type": "code",
      "source": [
        "from imblearn.over_sampling import RandomOverSampler \n",
        "# Train and Test split\n",
        "X_train, X_test, y_train, y_test = train_test_split(X, scores4clf['cohesion'], test_size=0.2, random_state=42)\n",
        "\n",
        "# Oversample for train data for imbalanced status\n",
        "oversample = RandomOverSampler()\n",
        "X_train_ros, y_train_ros = oversample.fit_resample(X_train, y_train)\n",
        "\n",
        "y_train_counts = dict(Counter(y_train))\n",
        "print(y_train_counts)"
      ],
      "metadata": {
        "id": "FG8r1lJrxdf4",
        "colab": {
          "base_uri": "https://localhost:8080/"
        },
        "outputId": "170a4e73-220a-4452-83dc-01361880961c"
      },
      "execution_count": null,
      "outputs": [
        {
          "output_type": "stream",
          "name": "stdout",
          "text": [
            "{6: 431, 5: 769, 2: 253, 4: 881, 3: 639, 7: 106, 8: 21, 1: 20, 0: 8}\n"
          ]
        }
      ]
    },
    {
      "cell_type": "code",
      "source": [
        "showDisributions(y_train, title='Before OverSampling: Cohesion')\n",
        "showDisributions(y_train_ros, title='After OverSampling: Cohesion')"
      ],
      "metadata": {
        "colab": {
          "base_uri": "https://localhost:8080/",
          "height": 394
        },
        "id": "AyDof47dz_bF",
        "outputId": "c5d23325-f739-4bee-b06f-4d4ae0d675aa"
      },
      "execution_count": null,
      "outputs": [
        {
          "output_type": "stream",
          "name": "stdout",
          "text": [
            "Data counts : OrderedDict([(0, 8), (1, 20), (2, 253), (3, 639), (4, 881), (5, 769), (6, 431), (7, 106), (8, 21)])\n"
          ]
        },
        {
          "output_type": "display_data",
          "data": {
            "text/plain": [
              "<Figure size 360x144 with 1 Axes>"
            ],
            "image/png": "[encoded data removed]"
          },
          "metadata": {
            "needs_background": "light"
          }
        },
        {
          "output_type": "stream",
          "name": "stdout",
          "text": [
            "Data counts : OrderedDict([(0, 881), (1, 881), (2, 881), (3, 881), (4, 881), (5, 881), (6, 881), (7, 881), (8, 881)])\n"
          ]
        },
        {
          "output_type": "display_data",
          "data": {
            "text/plain": [
              "<Figure size 360x144 with 1 Axes>"
            ],
            "image/png": "[encoded data removed]"
          },
          "metadata": {
            "needs_background": "light"
          }
        }
      ]
    },
    {
      "cell_type": "markdown",
      "source": [
        "## 3_2_1. Find Optimal Parameters for LGBM classifier"
      ],
      "metadata": {
        "id": "fIC26EVcwQHH"
      }
    },
    {
      "cell_type": "code",
      "source": [
        "model = LGBMClassifier()\n",
        "model.fit(X_train_ros, y_train_ros)\n",
        "y_pred = model.predict(X_test)\n",
        "#y_pred = label_encoders['cohesion'].inverse_transform(y_pred)\n",
        "\n",
        "showDisributions(y_test, title='Cohesion actual')\n",
        "showDisributions(y_pred, title='Cohesion predictions')\n",
        "f1 = f1_score(y_test, y_pred, average='weighted')\n",
        "print(f1)"
      ],
      "metadata": {
        "id": "Rv41l-sI2TyT",
        "colab": {
          "base_uri": "https://localhost:8080/",
          "height": 396
        },
        "outputId": "280ef790-fccd-4b48-88fd-1715ffbe3c04"
      },
      "execution_count": null,
      "outputs": [
        {
          "output_type": "stream",
          "name": "stdout",
          "text": [
            "Data counts : OrderedDict([(0, 2), (1, 7), (2, 62), (3, 151), (4, 215), (5, 219), (6, 103), (7, 19), (8, 5)])\n"
          ]
        },
        {
          "output_type": "display_data",
          "data": {
            "text/plain": [
              "<Figure size 360x144 with 1 Axes>"
            ],
            "image/png": "[encoded data removed]"
          },
          "metadata": {
            "needs_background": "light"
          }
        },
        {
          "output_type": "stream",
          "name": "stdout",
          "text": [
            "Data counts : OrderedDict([(0, 1), (1, 8), (2, 25), (3, 143), (4, 269), (5, 241), (6, 86), (7, 6), (8, 4)])\n"
          ]
        },
        {
          "output_type": "display_data",
          "data": {
            "text/plain": [
              "<Figure size 360x144 with 1 Axes>"
            ],
            "image/png": "[encoded data removed]"
          },
          "metadata": {
            "needs_background": "light"
          }
        },
        {
          "output_type": "stream",
          "name": "stdout",
          "text": [
            "0.2614478446427929\n"
          ]
        }
      ]
    },
    {
      "cell_type": "code",
      "source": [
        "from scipy.stats import randint as sp_randInt\n",
        "from scipy.stats import uniform as sp_randFloat\n",
        "from sklearn.metrics import f1_score, make_scorer\n",
        "\n",
        "def evaluate_weightedF1_lgb(truth, predictions):\n",
        "    pred_labels = predictions.reshape(len(np.unique(truth)),-1).argmax(axis=0)\n",
        "    f1 = f1_score(truth, pred_labels, average='weighted')\n",
        "    return \"weightedF1\", f1, True\n",
        "\n",
        "f1_scorer = make_scorer(f1_score , average='weighted')\n",
        "\n",
        "param_test ={'boosting_type': ['gbdt', 'rf'],\n",
        "             'num_leaves': sp_randInt(6, 50), \n",
        "             'max_depth' : [-1],\n",
        "             'learning_rate' : sp_randFloat(),\n",
        "             'n_estimators': [1000, 5000],\n",
        "             'objective': ['multiclass'], #'multiclass for multi-class classificaiton\n",
        "             'min_child_samples': sp_randInt(100, 500), \n",
        "             'min_child_weight': [1e-5, 1e-3, 1e-2, 1e-1, 1, 1e1, 1e2, 1e3, 1e4],\n",
        "             'subsample': sp_randFloat(), \n",
        "             'colsample_bytree': sp_randFloat(),\n",
        "             'reg_alpha': [0, 1e-1, 1, 2, 5, 7, 10, 50, 100],\n",
        "             'reg_lambda': [0, 1e-1, 1, 5, 10, 20, 50, 100]}\n",
        "\n",
        "\n",
        "#This parameter defines the number of HP points to be tested\n",
        "n_HP_points_to_test = 100"
      ],
      "metadata": {
        "id": "vDYLLqIfmC70"
      },
      "execution_count": null,
      "outputs": []
    },
    {
      "cell_type": "code",
      "source": [
        "from sklearn.model_selection import RandomizedSearchCV\n",
        "from sklearn.metrics import f1_score\n",
        "\n",
        "clf = LGBMClassifier(class_weight = y_train_counts,\n",
        "                     random_state=42, \n",
        "                     n_jobs=-1)\n",
        "cv= KFold(n_splits=5, shuffle=True, random_state=42)\n",
        "gs = RandomizedSearchCV(\n",
        "    estimator=clf, \n",
        "    param_distributions=param_test, \n",
        "    n_iter=n_HP_points_to_test,\n",
        "    scoring=f1_scorer,\n",
        "    cv=cv,\n",
        "    refit=True,\n",
        "    random_state=42,\n",
        "    verbose=True)"
      ],
      "metadata": {
        "id": "PQskfjKVmGAo"
      },
      "execution_count": null,
      "outputs": []
    },
    {
      "cell_type": "code",
      "source": [
        "gs.fit(X_train, y_train)\n",
        "print('Best score reached: {} with params: {} '.format(gs.best_score_, gs.best_params_))"
      ],
      "metadata": {
        "colab": {
          "base_uri": "https://localhost:8080/"
        },
        "id": "CGGEp6zZnCbO",
        "outputId": "2e4dad89-3373-4fed-98d6-eb39503ae881"
      },
      "execution_count": null,
      "outputs": [
        {
          "metadata": {
            "tags": null
          },
          "name": "stdout",
          "output_type": "stream",
          "text": [
            "Fitting 5 folds for each of 100 candidates, totalling 500 fits\n"
          ]
        },
        {
          "output_type": "stream",
          "name": "stderr",
          "text": [
            "/usr/local/lib/python3.7/dist-packages/sklearn/model_selection/_validation.py:372: FitFailedWarning: \n",
            "220 fits failed out of a total of 500.\n",
            "The score on these train-test partitions for these parameters will be set to nan.\n",
            "If these failures are not expected, you can try to debug them by setting error_score='raise'.\n",
            "\n",
            "Below are more details about the failures:\n",
            "--------------------------------------------------------------------------------\n",
            "220 fits failed with the following error:\n",
            "Traceback (most recent call last):\n",
            "  File \"/usr/local/lib/python3.7/dist-packages/sklearn/model_selection/_validation.py\", line 680, in _fit_and_score\n",
            "    estimator.fit(X_train, y_train, **fit_params)\n",
            "  File \"/usr/local/lib/python3.7/dist-packages/lightgbm/sklearn.py\", line 744, in fit\n",
            "    callbacks=callbacks)\n",
            "  File \"/usr/local/lib/python3.7/dist-packages/lightgbm/sklearn.py\", line 544, in fit\n",
            "    callbacks=callbacks)\n",
            "  File \"/usr/local/lib/python3.7/dist-packages/lightgbm/engine.py\", line 197, in train\n",
            "    booster = Booster(params=params, train_set=train_set)\n",
            "  File \"/usr/local/lib/python3.7/dist-packages/lightgbm/basic.py\", line 1554, in __init__\n",
            "    ctypes.byref(self.handle)))\n",
            "  File \"/usr/local/lib/python3.7/dist-packages/lightgbm/basic.py\", line 46, in _safe_call\n",
            "    raise LightGBMError(decode_string(_LIB.LGBM_GetLastError()))\n",
            "lightgbm.basic.LightGBMError: Check failed: config->bagging_freq > 0 && config->bagging_fraction < 1.0f && config->bagging_fraction > 0.0f at /__w/1/s/python-package/compile/src/boosting/rf.hpp, line 28 .\n",
            "\n",
            "\n",
            "  warnings.warn(some_fits_failed_message, FitFailedWarning)\n",
            "/usr/local/lib/python3.7/dist-packages/sklearn/model_selection/_search.py:972: UserWarning: One or more of the test scores are non-finite: [0.28670832 0.29553112 0.22052708        nan        nan 0.2735705\n",
            "        nan 0.27856924 0.16335484        nan 0.28723943        nan\n",
            " 0.27624172        nan        nan        nan 0.28153339        nan\n",
            " 0.27473159 0.28698177        nan        nan        nan 0.28686237\n",
            "        nan 0.28181314        nan        nan 0.28925278        nan\n",
            " 0.28410743 0.29658998        nan 0.27487507 0.27472646        nan\n",
            " 0.26957046 0.28025432 0.28192083 0.29084389 0.28683226 0.29573433\n",
            "        nan        nan        nan        nan 0.2902056  0.27771998\n",
            " 0.27667522 0.24181355 0.28686599 0.28507175 0.27615341        nan\n",
            "        nan 0.27287885        nan 0.2019266  0.28720206        nan\n",
            " 0.29184673        nan        nan        nan 0.28810635 0.28050144\n",
            " 0.28272327 0.28251552        nan 0.29032934        nan        nan\n",
            " 0.28903674 0.28891272 0.27432248 0.28088851        nan        nan\n",
            " 0.28573252 0.29120692 0.28981471 0.28140859 0.28868531        nan\n",
            "        nan        nan        nan        nan 0.17204213        nan\n",
            " 0.28331026        nan 0.26963948        nan        nan 0.17680605\n",
            " 0.28766259 0.2773329  0.2800445         nan]\n",
            "  category=UserWarning,\n"
          ]
        },
        {
          "output_type": "stream",
          "name": "stdout",
          "text": [
            "Best score reached: 0.29658998049052604 with params: {'boosting_type': 'gbdt', 'colsample_bytree': 0.5527649668354899, 'learning_rate': 0.5722924691708383, 'max_depth': -1, 'min_child_samples': 287, 'min_child_weight': 1e-05, 'n_estimators': 5000, 'num_leaves': 26, 'objective': 'multiclass', 'reg_alpha': 10, 'reg_lambda': 0, 'subsample': 0.31692200515627766} \n"
          ]
        }
      ]
    },
    {
      "cell_type": "code",
      "source": [
        "lgbmClf_params = dict()\n",
        "lgbmClf_params['cohesion'] = {'boosting_type': 'gbdt', \n",
        "                              'colsample_bytree': 0.5527649668354899, \n",
        "                              'learning_rate': 0.5722924691708383, \n",
        "                              'max_depth': -1, 'min_child_samples': 287, \n",
        "                              'min_child_weight': 1e-05, \n",
        "                              'n_estimators': 5000, \n",
        "                              'num_leaves': 26, \n",
        "                              'objective': 'multiclass', \n",
        "                              'reg_alpha': 10, \n",
        "                              'reg_lambda': 0, \n",
        "                              'subsample': 0.31692200515627766}"
      ],
      "metadata": {
        "id": "jC3V3lp81GwX"
      },
      "execution_count": null,
      "outputs": []
    },
    {
      "cell_type": "code",
      "source": [
        "model = LGBMClassifier(**lgbmClf_params['cohesion'])\n",
        "model.fit(X_train_ros, y_train_ros)\n",
        "y_pred = model.predict(X_test)\n",
        "#y_pred = label_encoders['cohesion'].inverse_transform(y_pred)\n",
        "\n",
        "showDisributions(y_test, title='Cohesion actual')\n",
        "showDisributions(y_pred, title='Cohesion predictions')\n",
        "\n",
        "from sklearn.metrics import f1_score\n",
        "f1 = f1_score(y_test, y_pred, average='weighted')\n",
        "print(f\"Cohesion f1 score: \", f1)"
      ],
      "metadata": {
        "colab": {
          "base_uri": "https://localhost:8080/",
          "height": 396
        },
        "id": "1nHD3y0GuKY6",
        "outputId": "e4e0c7d2-518f-4b6b-f842-64f5830d79a4"
      },
      "execution_count": null,
      "outputs": [
        {
          "output_type": "stream",
          "name": "stdout",
          "text": [
            "Data counts : OrderedDict([(0, 2), (1, 7), (2, 62), (3, 151), (4, 215), (5, 219), (6, 103), (7, 19), (8, 5)])\n"
          ]
        },
        {
          "output_type": "display_data",
          "data": {
            "text/plain": [
              "<Figure size 360x144 with 1 Axes>"
            ],
            "image/png": "[encoded data removed]"
          },
          "metadata": {
            "needs_background": "light"
          }
        },
        {
          "output_type": "stream",
          "name": "stdout",
          "text": [
            "Data counts : OrderedDict([(1, 1), (2, 35), (3, 161), (4, 257), (5, 234), (6, 88), (7, 7)])\n"
          ]
        },
        {
          "output_type": "display_data",
          "data": {
            "text/plain": [
              "<Figure size 360x144 with 1 Axes>"
            ],
            "image/png": "[encoded data removed]"
          },
          "metadata": {
            "needs_background": "light"
          }
        },
        {
          "output_type": "stream",
          "name": "stdout",
          "text": [
            "Cohesion f1 score:  0.2631418493209135\n"
          ]
        }
      ]
    },
    {
      "cell_type": "code",
      "source": [],
      "metadata": {
        "id": "s3hR13KfxIdc"
      },
      "execution_count": null,
      "outputs": []
    }
  ]
}